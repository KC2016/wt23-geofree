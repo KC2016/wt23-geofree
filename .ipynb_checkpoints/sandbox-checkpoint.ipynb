{
 "cells": [
  {
   "cell_type": "markdown",
   "id": "b2447bce",
   "metadata": {},
   "source": [
    "berlin\n",
    "\n",
    "lat hor\n",
    "long vert\n",
    "\n",
    "extreme W: 52°25'23.8\"N 13°05'57.3\"E      \"extreme\" E: 52°27'43.9\"N 13°38'44.9\"E\n",
    "\n",
    "\"extreme\" N: 52°38'42.2\"N 13°23'55.0\"E\n",
    "\"extreme\" S: 52°22'51.4\"N 13°24'54.3\"E\n",
    "\n",
    "N \n",
    "52.645883, 13.395869\n",
    "\n",
    "s\n",
    "52.381789, 13.405482\n",
    "\n",
    "W\n",
    "52.484773, 13.136317\n",
    "\n",
    "E\n",
    "52.526568, 13.645808\n",
    "\n",
    "A quick trick to create random lat/long coordinates in python (within a defined polygon)\n",
    "https://medium.com/the-data-journal/a-quick-trick-to-create-random-lat-long-coordinates-in-python-within-a-defined-polygon-e8997f05123a\n"
   ]
  },
  {
   "cell_type": "code",
   "execution_count": 11,
   "id": "a5c6be68",
   "metadata": {},
   "outputs": [],
   "source": [
    "# Importing Modules\n",
    "import numpy as np\n",
    "import random\n",
    "# Use 'conda install shapely' to import the shapely library.\n",
    "from shapely.geometry import Polygon, Point"
   ]
  },
  {
   "cell_type": "code",
   "execution_count": 12,
   "id": "d9ec17e5",
   "metadata": {},
   "outputs": [],
   "source": [
    "# Define the desired polygon \n",
    "\n",
    "poly = Polygon([(52.645883, 13.395869), \n",
    "                (52.526568, 13.645808),\n",
    "                (52.381789, 13.405482),\n",
    "                (52.484773, 13.136317)])"
   ]
  },
  {
   "cell_type": "code",
   "execution_count": null,
   "id": "c1a11b44",
   "metadata": {},
   "outputs": [],
   "source": [
    "# # Define the desired polygon \n",
    "\n",
    "# poly = Polygon([(37.75850848099701, -122.50833008408812), \n",
    "#                 (37.75911919711413, -122.49648544907835),\n",
    "#                 (37.751620611284935, -122.4937388670471),\n",
    "#                 (37.74863453749236, -122.50742886185911)])"
   ]
  },
  {
   "cell_type": "code",
   "execution_count": 18,
   "id": "3c3252c8",
   "metadata": {},
   "outputs": [
    {
     "name": "stdout",
     "output_type": "stream",
     "text": [
      "52.57631820529885 , 13.325035183840662\n",
      "52.5012181252677 , 13.555885797909365\n",
      "52.43984210725149 , 13.451718711809498\n",
      "52.41938857929137 , 13.370262286659443\n",
      "52.55702663355198 , 13.557213879635318\n",
      "52.54388941372202 , 13.317622540679887\n",
      "52.58600783691442 , 13.457999490471327\n",
      "52.472972842225026 , 13.543304755464321\n",
      "52.465236738660415 , 13.29826247844728\n",
      "52.551260565419554 , 13.366046455360696\n",
      "52.586183461844506 , 13.358242546216106\n",
      "52.559501102048316 , 13.52249256768086\n",
      "52.53635524847427 , 13.520539610655357\n",
      "52.41260076140106 , 13.364251398497483\n",
      "52.50121108037677 , 13.439693467297102\n",
      "52.39897542127931 , 13.429452848660688\n",
      "52.562920675793954 , 13.286380070783371\n",
      "52.46026249075352 , 13.4601747440232\n",
      "52.56823282188165 , 13.552662837628372\n",
      "52.601997967482056 , 13.343838414139416\n"
     ]
    }
   ],
   "source": [
    "num_points = 10\n",
    "min_x = 52.381789\n",
    "max_x = 52.645883\n",
    "min_y = 13.136317\n",
    "max_y = 13.645808\n",
    "\n",
    "# Defining the randomization generator\n",
    "def polygon_random_points (poly, num_points):\n",
    "    min_x, min_y, max_x, max_y = poly.bounds\n",
    "    points = []\n",
    "    while len(points) < num_points:\n",
    "        random_point = Point([random.uniform(min_x, max_x), random.uniform(min_y, max_y)])\n",
    "        if (random_point.within(poly)):\n",
    "            points.append(random_point)\n",
    "    return points\n",
    "# Choose the number of points desired. This example uses 20 points. \n",
    "points = polygon_random_points(poly,20)\n",
    "# Printing the results.\n",
    "for p in points:\n",
    "    print(p.x,\",\",p.y)"
   ]
  },
  {
   "cell_type": "code",
   "execution_count": null,
   "id": "101d2c40",
   "metadata": {},
   "outputs": [],
   "source": []
  },
  {
   "cell_type": "code",
   "execution_count": 19,
   "id": "a1270ab0",
   "metadata": {},
   "outputs": [],
   "source": [
    "from faker import Faker\n",
    "fake = Faker()\n",
    "from faker.providers import BaseProvider"
   ]
  },
  {
   "cell_type": "code",
   "execution_count": 23,
   "id": "cc13132e",
   "metadata": {},
   "outputs": [],
   "source": [
    "mylist = ['bar', 'card']\n",
    "class MyProvider(BaseProvider):\n",
    "    def foo(self) -> str:\n",
    "#         return 'bar'\n",
    "        return mylist"
   ]
  },
  {
   "cell_type": "code",
   "execution_count": 24,
   "id": "c50db1a8",
   "metadata": {},
   "outputs": [],
   "source": [
    "fake.add_provider(MyProvider)"
   ]
  },
  {
   "cell_type": "code",
   "execution_count": 25,
   "id": "d3f79528",
   "metadata": {},
   "outputs": [
    {
     "data": {
      "text/plain": [
       "['bar', 'card']"
      ]
     },
     "execution_count": 25,
     "metadata": {},
     "output_type": "execute_result"
    }
   ],
   "source": [
    "fake.foo()"
   ]
  },
  {
   "cell_type": "code",
   "execution_count": null,
   "id": "7e048f3b",
   "metadata": {},
   "outputs": [],
   "source": []
  },
  {
   "cell_type": "code",
   "execution_count": 1,
   "id": "04eff7cc",
   "metadata": {},
   "outputs": [
    {
     "ename": "SyntaxError",
     "evalue": "invalid syntax (3356242676.py, line 1)",
     "output_type": "error",
     "traceback": [
      "\u001b[0;36m  File \u001b[0;32m\"/var/folders/xs/pmxwbppj14b4v76l4llp17n80000gp/T/ipykernel_60157/3356242676.py\"\u001b[0;36m, line \u001b[0;32m1\u001b[0m\n\u001b[0;31m    startDate = Carbon::createFromTimeStamp($faker->dateTimeBetween('-30 days', '+30 days')->getTimestamp());\u001b[0m\n\u001b[0m                      ^\u001b[0m\n\u001b[0;31mSyntaxError\u001b[0m\u001b[0;31m:\u001b[0m invalid syntax\n"
     ]
    }
   ],
   "source": [
    "startDate = Carbon::createFromTimeStamp($faker->dateTimeBetween('-30 days', '+30 days')->getTimestamp());\n",
    "endDate = Carbon::createFromFormat('Y-m-d H:i:s', $startDate)->addHour();"
   ]
  },
  {
   "cell_type": "code",
   "execution_count": null,
   "id": "dba522dd",
   "metadata": {},
   "outputs": [],
   "source": []
  },
  {
   "cell_type": "code",
   "execution_count": null,
   "id": "20880beb",
   "metadata": {},
   "outputs": [],
   "source": []
  }
 ],
 "metadata": {
  "kernelspec": {
   "display_name": "Python 3 (ipykernel)",
   "language": "python",
   "name": "python3"
  },
  "language_info": {
   "codemirror_mode": {
    "name": "ipython",
    "version": 3
   },
   "file_extension": ".py",
   "mimetype": "text/x-python",
   "name": "python",
   "nbconvert_exporter": "python",
   "pygments_lexer": "ipython3",
   "version": "3.10.4"
  }
 },
 "nbformat": 4,
 "nbformat_minor": 5
}
