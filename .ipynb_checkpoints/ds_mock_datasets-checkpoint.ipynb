{
 "cells": [
  {
   "cell_type": "code",
   "execution_count": 12,
   "id": "7483627b",
   "metadata": {},
   "outputs": [
    {
     "name": "stdout",
     "output_type": "stream",
     "text": [
      "\n"
     ]
    }
   ],
   "source": [
    "\n"
   ]
  },
  {
   "cell_type": "code",
   "execution_count": 5,
   "id": "10760793",
   "metadata": {},
   "outputs": [
    {
     "name": "stderr",
     "output_type": "stream",
     "text": [
      "/var/folders/xs/pmxwbppj14b4v76l4llp17n80000gp/T/ipykernel_27819/3383315515.py:6: FutureWarning: DataFrame.set_axis 'inplace' keyword is deprecated and will be removed in a future version. Use `obj = obj.set_axis(..., copy=False)` instead\n",
      "  df.set_axis([\"postcodes_berlin\"], axis=1,inplace=True)\n"
     ]
    }
   ],
   "source": [
    "import pandas as pd\n",
    "\n",
    "# postcodes from Berlin\n",
    "postcodes_de = pd.read_excel(r'ds_mock_datasets/data/original/German-Zip-Codes.xlsx', sheet_name='Berlin')\n",
    "df = pd.DataFrame(postcodes_de)\n",
    "df.set_axis([\"postcodes_berlin\"], axis=1,inplace=True)\n",
    "df = (df[\"postcodes_berlin\"].str[8:-11])\n",
    "df.to_csv('ds_mock_datasets/data/postcodes_berlin.csv', index=False)"
   ]
  },
  {
   "cell_type": "code",
   "execution_count": 1,
   "id": "5e28fed0",
   "metadata": {},
   "outputs": [],
   "source": [
    "# !conda install -c conda-forge fake"
   ]
  },
  {
   "cell_type": "code",
   "execution_count": 6,
   "id": "5066ea82",
   "metadata": {},
   "outputs": [],
   "source": [
    "from faker import Faker, providers\n",
    "from faker.providers.address.de_DE import Provider as DeDeAddressProvider\n",
    "import random"
   ]
  },
  {
   "cell_type": "code",
   "execution_count": 8,
   "id": "d855d5a7",
   "metadata": {},
   "outputs": [],
   "source": [
    "postcodes_berlin = pd.read_csv('ds_mock_datasets/data/postcodes_berlin.csv')\n",
    "postcodes_berlin_series = postcodes_berlin[:][1:].squeeze()\n",
    "user_type = ['giver', 'looker']\n",
    "status = ['avaliable', 'not_available']\n",
    "items = ['furniture_sofa',\n",
    "        'furniture_armchair',\n",
    "        'furniture_chair',\n",
    "        'furniture_table',\n",
    "        'furniture_bed',\n",
    "        'furniture_bookcase',\n",
    "        'furniture_bedsidetable',\n",
    "        'furniture_cabinet',\n",
    "        'furniture_rollcontainers',\n",
    "        'furniture_shoerack',\n",
    "        'furniture_mirror',\n",
    "        'furniture_cot',\n",
    "        'appliance_washingmachine',\n",
    "        'appliance_dishwasher',\n",
    "        'appliance_dryingrack',\n",
    "        'appliance_refrigerator',\n",
    "        'appliance_blender',\n",
    "        'appliance_extractorhood',\n",
    "        'appliance_clothesiron',\n",
    "        'appliance_vacuumcleaner',\n",
    "        'appliance_sandwichmaker',\n",
    "        'appliance_kettle',\n",
    "        'appliance_airconditioner',\n",
    "        'appliance_vacuumcleaner',\n",
    "        'appliance_heater',\n",
    "        'appliance_pan',\n",
    "        'appliance_popcornmaker',\n",
    "        'appliance_coffeemachine',\n",
    "        'appliance_stove',\n",
    "        'lighting_lighting',\n",
    "        'lighting_chandelier',\n",
    "        'lighting_lightbulb',\n",
    "        'musicalequipment_guitar',\n",
    "        'musicalequipment_soundamplifier',\n",
    "        'musicalequipment_contrabass',\n",
    "        'musicalequipment_battery',\n",
    "        'musicalequipment_piano',\n",
    "        'tech_desktop',\n",
    "        'tech_desktop',\n",
    "        'tech_laptop',\n",
    "        'tech_phone',\n",
    "        'tech_keyboard',\n",
    "        'clothes_womanjacket',\n",
    "        'clothes_manjacket',\n",
    "        'clothes_childjacket',\n",
    "        'clothes_womanclothes',\n",
    "        'clothes_manclothes',\n",
    "        'clothes_childclothes',\n",
    "        'shoes_womanshoes',\n",
    "        'shoes_manshoes',\n",
    "        'shoes_childshoes',\n",
    "        'miscelaneaous_ironingboard',\n",
    "        'miscelaneaous_babycarriage',\n",
    "        'miscelaneaous_pictureframe',\n",
    "        'miscelaneaous_bicycle',\n",
    "        'miscelaneaous_plant',\n",
    "        'miscelaneaous_carpet',\n",
    "        'miscelaneaous_rollerskates',\n",
    "        'miscelaneaous_ski skates']\n"
   ]
  },
  {
   "cell_type": "code",
   "execution_count": 9,
   "id": "da673647",
   "metadata": {},
   "outputs": [],
   "source": [
    "# multi_locale_generator = Faker(['it_IT', 'en_US', 'de-DE', 'pt_BR', 'es-ES', 'fr-FR', 'ru-RU', 'tr-TR'])\n",
    "german_locale_generator = Faker(['de_DE'])"
   ]
  },
  {
   "cell_type": "code",
   "execution_count": 10,
   "id": "6f9e15b0",
   "metadata": {},
   "outputs": [],
   "source": [
    "num_records = 10\n",
    "user_mock_df = pd.DataFrame({'user_name': [german_locale_generator.name() for i in range(num_records)],\n",
    "                   'user_address': [german_locale_generator.address() for i in range(num_records)],\n",
    "                   'lat': [german_locale_generator.latitude() for i in range(num_records)],  # option fake.latlng()\n",
    "                   'lng': [german_locale_generator.longitude() for i in range(num_records)],\n",
    "                   'user_type': [random.choices(user_type, k=1) for i in range(num_records)]\n",
    "                   })\n",
    "\n",
    "\n",
    "item_mock_df = pd.DataFrame({'item_name':[random.choices(items, k=1) for i in range(num_records)],\n",
    "                            'lat': [german_locale_generator.latitude() for i in range(num_records)],  # option fake.latlng()\n",
    "                            'lng': [german_locale_generator.longitude() for i in range(num_records)],\n",
    "                            'postcodes': [random.choices(postcodes_berlin_series, k=1) for i in range(num_records)],\n",
    "                            'status': [random.choices(status, k=1) for i in range(num_records)]\n",
    "                            })\n"
   ]
  },
  {
   "cell_type": "code",
   "execution_count": 11,
   "id": "5a30f194",
   "metadata": {},
   "outputs": [
    {
     "name": "stdout",
     "output_type": "stream",
     "text": [
      "                              user_name  \\\n",
      "0                    Aleksandra Reising   \n",
      "1                        Wigbert Pölitz   \n",
      "2                       Reingard Knappe   \n",
      "3                       Dr. Gretl Preiß   \n",
      "4                           Rene Aumann   \n",
      "5  Dipl.-Ing. Gretl Freudenberger B.Sc.   \n",
      "6                         Gerhart Krein   \n",
      "7                       Birgitt Scheibe   \n",
      "8                     Selim Austermühle   \n",
      "9          Prof. Henrik Niemeier B.Eng.   \n",
      "\n",
      "                                    user_address          lat          lng  \\\n",
      "0              Ante-Ebert-Allee 1\\n35449 Schleiz  -50.8430755    61.612615   \n",
      "1         Slavko-Caspar-Ring 49\\n80737 Saarlouis   17.3822535   -81.853461   \n",
      "2                     Andersweg 888\\n08828 Eutin  -27.5017235    60.627237   \n",
      "3          Achim-Thies-Allee 8\\n53912 Reutlingen  -43.1195685     7.695651   \n",
      "4    Marian-Rudolph-Straße 807\\n45651 Vilsbiburg    -9.402079    92.354606   \n",
      "5        Zdenka-Drubin-Gasse 964\\n61905 Bernburg    81.422062   -10.898258   \n",
      "6                   Jacoballee 4/2\\n55843 Amberg  -43.7957495  -167.105483   \n",
      "7           Süleyman-Gutknecht-Weg 0\\n32224 Jena  -69.5946155  -158.792374   \n",
      "8     Friedemann-Pieper-Straße 22\\n38034 Koblenz   -59.198944   -85.233194   \n",
      "9  Muzaffer-Neureuther-Ring 8/2\\n54905 Havelberg   -51.820637   149.787649   \n",
      "\n",
      "  user_type  \n",
      "0  [looker]  \n",
      "1  [looker]  \n",
      "2   [giver]  \n",
      "3  [looker]  \n",
      "4  [looker]  \n",
      "5   [giver]  \n",
      "6   [giver]  \n",
      "7   [giver]  \n",
      "8   [giver]  \n",
      "9   [giver]  \n"
     ]
    }
   ],
   "source": [
    "print(user_mock_df)"
   ]
  },
  {
   "cell_type": "code",
   "execution_count": 12,
   "id": "98e77c5a",
   "metadata": {},
   "outputs": [
    {
     "name": "stdout",
     "output_type": "stream",
     "text": [
      "                      item_name          lat          lng postcodes  \\\n",
      "0             [furniture_table]    67.197766   -83.719299   [10315]   \n",
      "1            [appliance_kettle]  -11.0201005   166.124615   [10711]   \n",
      "2  [miscelaneaous_ironingboard]  -59.6814985  -113.785259   [12527]   \n",
      "3                 [tech_laptop]    83.302022  -158.060641   [10365]   \n",
      "4             [furniture_table]   -32.268146   170.263046   [13403]   \n",
      "5                [tech_desktop]    83.313248   -11.562383   [12249]   \n",
      "6     [musicalequipment_guitar]   32.1648535  -158.799315   [12051]   \n",
      "7        [clothes_childclothes]   -44.402263   -53.719808   [12557]   \n",
      "8         [lighting_chandelier]   -41.852395    30.678466   [13591]   \n",
      "9            [shoes_childshoes]  -41.1904625  -135.171599   [14167]   \n",
      "\n",
      "            status  \n",
      "0      [avaliable]  \n",
      "1  [not_available]  \n",
      "2      [avaliable]  \n",
      "3      [avaliable]  \n",
      "4  [not_available]  \n",
      "5  [not_available]  \n",
      "6  [not_available]  \n",
      "7      [avaliable]  \n",
      "8      [avaliable]  \n",
      "9      [avaliable]  \n"
     ]
    }
   ],
   "source": [
    "print(item_mock_df)"
   ]
  },
  {
   "cell_type": "code",
   "execution_count": 13,
   "id": "90a1cd3f",
   "metadata": {},
   "outputs": [],
   "source": [
    "strings_users = ['user_name', 'user_type']\n",
    "strings_items = ['item_name', 'postcodes', 'status']"
   ]
  },
  {
   "cell_type": "code",
   "execution_count": 14,
   "id": "d841e26e",
   "metadata": {},
   "outputs": [],
   "source": [
    "for i in strings_users:\n",
    "    user_mock_df[i] =  user_mock_df[i].astype(str)"
   ]
  },
  {
   "cell_type": "code",
   "execution_count": 15,
   "id": "ce252448",
   "metadata": {},
   "outputs": [
    {
     "name": "stdout",
     "output_type": "stream",
     "text": [
      "<class 'pandas.core.frame.DataFrame'>\n",
      "RangeIndex: 10 entries, 0 to 9\n",
      "Data columns (total 5 columns):\n",
      " #   Column        Non-Null Count  Dtype \n",
      "---  ------        --------------  ----- \n",
      " 0   user_name     10 non-null     object\n",
      " 1   user_address  10 non-null     object\n",
      " 2   lat           10 non-null     object\n",
      " 3   lng           10 non-null     object\n",
      " 4   user_type     10 non-null     object\n",
      "dtypes: object(5)\n",
      "memory usage: 528.0+ bytes\n"
     ]
    }
   ],
   "source": [
    "user_mock_df.info()"
   ]
  },
  {
   "cell_type": "code",
   "execution_count": 17,
   "id": "945a3612",
   "metadata": {},
   "outputs": [],
   "source": [
    "for i in strings_items:\n",
    "    user_mock_df[i] =  item_mock_df[i].astype(str)"
   ]
  },
  {
   "cell_type": "code",
   "execution_count": 18,
   "id": "83a8e3a4",
   "metadata": {},
   "outputs": [
    {
     "name": "stdout",
     "output_type": "stream",
     "text": [
      "<class 'pandas.core.frame.DataFrame'>\n",
      "RangeIndex: 10 entries, 0 to 9\n",
      "Data columns (total 5 columns):\n",
      " #   Column     Non-Null Count  Dtype \n",
      "---  ------     --------------  ----- \n",
      " 0   item_name  10 non-null     object\n",
      " 1   lat        10 non-null     object\n",
      " 2   lng        10 non-null     object\n",
      " 3   postcodes  10 non-null     object\n",
      " 4   status     10 non-null     object\n",
      "dtypes: object(5)\n",
      "memory usage: 528.0+ bytes\n"
     ]
    }
   ],
   "source": [
    "item_mock_df.info()"
   ]
  },
  {
   "cell_type": "code",
   "execution_count": null,
   "id": "c6bcd30f",
   "metadata": {},
   "outputs": [],
   "source": []
  },
  {
   "cell_type": "code",
   "execution_count": null,
   "id": "dbd86dcd",
   "metadata": {},
   "outputs": [],
   "source": []
  }
 ],
 "metadata": {
  "kernelspec": {
   "display_name": "Python 3 (ipykernel)",
   "language": "python",
   "name": "python3"
  },
  "language_info": {
   "codemirror_mode": {
    "name": "ipython",
    "version": 3
   },
   "file_extension": ".py",
   "mimetype": "text/x-python",
   "name": "python",
   "nbconvert_exporter": "python",
   "pygments_lexer": "ipython3",
   "version": "3.10.4"
  }
 },
 "nbformat": 4,
 "nbformat_minor": 5
}
