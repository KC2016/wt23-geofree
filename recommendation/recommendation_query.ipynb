{
 "cells": [
  {
   "cell_type": "code",
   "execution_count": 458,
   "id": "7f17baa1",
   "metadata": {},
   "outputs": [],
   "source": [
    "import sqlite3\n",
    "import pandas as pd\n",
    "import urllib.parse\n",
    "\n",
    "import urllib.parse\n",
    "import requests\n",
    "\n",
    "from urllib.parse import urlparse\n",
    "\n",
    "import json\n",
    "import datetime"
   ]
  },
  {
   "cell_type": "code",
   "execution_count": 459,
   "id": "86e07127",
   "metadata": {},
   "outputs": [],
   "source": [
    "conn = sqlite3.connect('data/db.sqlite3')"
   ]
  },
  {
   "cell_type": "code",
   "execution_count": 460,
   "id": "a156e761",
   "metadata": {},
   "outputs": [],
   "source": [
    "cursor = conn.cursor()"
   ]
  },
  {
   "cell_type": "code",
   "execution_count": 461,
   "id": "789125f7",
   "metadata": {},
   "outputs": [],
   "source": [
    "# # Select data from a table\n",
    "# cursor.execute(\"SELECT * FROM geofree_api_item;\")"
   ]
  },
  {
   "cell_type": "code",
   "execution_count": 462,
   "id": "80436f21",
   "metadata": {},
   "outputs": [
    {
     "data": {
      "text/plain": [
       "<sqlite3.Cursor at 0x7f989560de40>"
      ]
     },
     "execution_count": 462,
     "metadata": {},
     "output_type": "execute_result"
    }
   ],
   "source": [
    "cursor.execute(\"SELECT id FROM geofree_api_item;\")"
   ]
  },
  {
   "cell_type": "code",
   "execution_count": 463,
   "id": "1b75c09a",
   "metadata": {},
   "outputs": [
    {
     "ename": "SyntaxError",
     "evalue": "unterminated string literal (detected at line 4) (2122022502.py, line 4)",
     "output_type": "error",
     "traceback": [
      "\u001b[0;36m  Cell \u001b[0;32mIn[463], line 4\u001b[0;36m\u001b[0m\n\u001b[0;31m    WHERE categories IN my_vars.var1 AND available = 1  LIMIT 3;\", conn)\u001b[0m\n\u001b[0m                                                                ^\u001b[0m\n\u001b[0;31mSyntaxError\u001b[0m\u001b[0;31m:\u001b[0m unterminated string literal (detected at line 4)\n"
     ]
    }
   ],
   "source": [
    "WITH my_vars(var1) AS (VALUES ('furniture')) \n",
    "SELECT id, RANK() OVER (ORDER BY creation_date DESC, condition ASC, views ASC, likes ASC) ranking\n",
    "FROM ranking_df, my_vars \n",
    "WHERE categories IN my_vars.var1 AND available = 1  LIMIT 3;\", conn)"
   ]
  },
  {
   "cell_type": "code",
   "execution_count": null,
   "id": "1a21cacb",
   "metadata": {},
   "outputs": [],
   "source": [
    "rows = cursor.fetchall()"
   ]
  },
  {
   "cell_type": "code",
   "execution_count": null,
   "id": "1d0a8b04",
   "metadata": {},
   "outputs": [],
   "source": []
  },
  {
   "cell_type": "code",
   "execution_count": null,
   "id": "3e175ada",
   "metadata": {},
   "outputs": [],
   "source": [
    "df_original = pd.read_sql_query(\"SELECT * from geofree_api_item\", conn)\n"
   ]
  },
  {
   "cell_type": "code",
   "execution_count": null,
   "id": "953e16d8",
   "metadata": {},
   "outputs": [],
   "source": [
    "df = df_original.copy()\n",
    "df.head()\n",
    "# df.shape\n",
    "# df.columns"
   ]
  },
  {
   "cell_type": "code",
   "execution_count": null,
   "id": "c506b0af",
   "metadata": {},
   "outputs": [],
   "source": [
    "\n"
   ]
  },
  {
   "cell_type": "code",
   "execution_count": null,
   "id": "2d936776",
   "metadata": {},
   "outputs": [],
   "source": [
    "df.info()"
   ]
  },
  {
   "cell_type": "code",
   "execution_count": null,
   "id": "8682a7ee",
   "metadata": {},
   "outputs": [],
   "source": [
    "\n",
    "\n",
    "\n"
   ]
  },
  {
   "cell_type": "code",
   "execution_count": null,
   "id": "cebfccb4",
   "metadata": {},
   "outputs": [],
   "source": [
    "df.head()"
   ]
  },
  {
   "cell_type": "code",
   "execution_count": null,
   "id": "2ee806f3",
   "metadata": {},
   "outputs": [],
   "source": [
    "\n",
    "\n"
   ]
  },
  {
   "cell_type": "code",
   "execution_count": null,
   "id": "f4a9bebb",
   "metadata": {},
   "outputs": [],
   "source": [
    "ranking_df = pd.read_sql_query(\"SELECT * from geofree_api_item\", conn)\n",
    "ranking_df = ranking_df.drop('point', axis=1)\n"
   ]
  },
  {
   "cell_type": "code",
   "execution_count": null,
   "id": "6e5e2a57",
   "metadata": {},
   "outputs": [],
   "source": [
    "ranking_df['condition'] = ranking_df['condition'].replace('like_new', 1).replace('good', 2).replace('acceptable', 3).replace('poor', 4)\n",
    "\n",
    "ranking_df['creation_date'] = pd.to_datetime(ranking_df['creation_date'])\n",
    "ranking_df['age'] = round((pd.Timestamp.now() - ranking_df['creation_date']) / pd.Timedelta(hours=1), 1)\n"
   ]
  },
  {
   "cell_type": "code",
   "execution_count": null,
   "id": "417455ae",
   "metadata": {},
   "outputs": [],
   "source": [
    "# ranking_df"
   ]
  },
  {
   "cell_type": "code",
   "execution_count": null,
   "id": "e5e78fd3",
   "metadata": {},
   "outputs": [],
   "source": [
    "# url = 'https://geofree.pythonanywhere.com/api/item-user-distance/?user_latitude=52.4480155&user_longitude=13.3832992'\n"
   ]
  },
  {
   "cell_type": "code",
   "execution_count": null,
   "id": "18cb3ee9",
   "metadata": {},
   "outputs": [],
   "source": [
    "# response = requests.get(url)"
   ]
  },
  {
   "cell_type": "code",
   "execution_count": null,
   "id": "c64da901",
   "metadata": {},
   "outputs": [],
   "source": [
    "# parsed_url = urlparse(url)\n",
    "# path = parsed_url.path"
   ]
  },
  {
   "cell_type": "code",
   "execution_count": null,
   "id": "cb2213ad",
   "metadata": {},
   "outputs": [],
   "source": [
    "# distance_km = response.json()\n",
    "# distance_km"
   ]
  },
  {
   "cell_type": "code",
   "execution_count": null,
   "id": "1b569681",
   "metadata": {},
   "outputs": [],
   "source": [
    "# json_str = json.dumps({'distance_km': distance_km})"
   ]
  },
  {
   "cell_type": "code",
   "execution_count": null,
   "id": "4cd66287",
   "metadata": {},
   "outputs": [],
   "source": [
    "# # Parse the JSON string into a Python object\n",
    "# data = json.loads(json_str)"
   ]
  },
  {
   "cell_type": "code",
   "execution_count": null,
   "id": "08dfc4ae",
   "metadata": {},
   "outputs": [],
   "source": [
    "# print(data)"
   ]
  },
  {
   "cell_type": "code",
   "execution_count": null,
   "id": "02b904c2",
   "metadata": {},
   "outputs": [],
   "source": [
    "# distances = data['distance_km']['distances']"
   ]
  },
  {
   "cell_type": "code",
   "execution_count": null,
   "id": "23ee4244",
   "metadata": {},
   "outputs": [],
   "source": [
    "# distances_df = pd.DataFrame(distances, columns=['item_id', 'distance_kms'])\n",
    "# distances_df"
   ]
  },
  {
   "cell_type": "code",
   "execution_count": null,
   "id": "e5440d3e",
   "metadata": {},
   "outputs": [],
   "source": [
    "# distances_df = distances_df.rename(columns={'item_id': 'id'})"
   ]
  },
  {
   "cell_type": "code",
   "execution_count": null,
   "id": "e4492d1d",
   "metadata": {},
   "outputs": [],
   "source": [
    "# url_search = 'https://geofree.pythonanywhere.com/api/get-categories/'\n",
    "# response2 = requests.get(url_search)\n",
    "\n",
    "# parsed_url = urlparse(url_search)\n",
    "# path = parsed_url.path\n",
    "\n",
    "# get_categories = response2.json()\n",
    "# get_categories\n",
    "\n",
    "# chosen_category = get_categories[0]['name']\n",
    "# chosen_category"
   ]
  },
  {
   "cell_type": "code",
   "execution_count": null,
   "id": "ba7fe0a9",
   "metadata": {},
   "outputs": [],
   "source": [
    "url_search = 'https://geofree.pythonanywhere.com/api/get-categories/'\n",
    "\n"
   ]
  },
  {
   "cell_type": "code",
   "execution_count": null,
   "id": "727eefde",
   "metadata": {},
   "outputs": [],
   "source": [
    "response2 = requests.get(url_search)"
   ]
  },
  {
   "cell_type": "code",
   "execution_count": null,
   "id": "55b08dda",
   "metadata": {},
   "outputs": [],
   "source": [
    "parsed_url = urlparse(url_search)\n",
    "path = parsed_url.path"
   ]
  },
  {
   "cell_type": "code",
   "execution_count": null,
   "id": "05a1cb97",
   "metadata": {},
   "outputs": [],
   "source": [
    "get_categories = response2.json()\n",
    "get_categories"
   ]
  },
  {
   "cell_type": "code",
   "execution_count": null,
   "id": "40d52a97",
   "metadata": {},
   "outputs": [],
   "source": [
    "# chosen_category=get_categories[0]\n",
    "# chosen_category\n",
    "\n",
    "chosen_category = get_categories[1]['name']\n",
    "chosen_category"
   ]
  },
  {
   "cell_type": "code",
   "execution_count": null,
   "id": "850e8e07",
   "metadata": {},
   "outputs": [],
   "source": [
    "# ranking_df_clean = ranking_df.copy()"
   ]
  },
  {
   "cell_type": "code",
   "execution_count": null,
   "id": "a082338d",
   "metadata": {},
   "outputs": [],
   "source": [
    "# ranking_df_clean = ranking_df_clean[ranking_df_clean['categories'] == chosen_category]\n",
    "\n",
    "# ranking_df_clean['creation_date_rank'] = ranking_df_clean['creation_date'].rank(method='min', ascending=True)\n",
    "# ranking_df_clean['condition_rank'] = ranking_df_clean['condition'].rank(method='min', ascending=True)\n",
    "# ranking_df_clean['views_rank'] = ranking_df_clean['views'].rank(method='min', ascending=False)\n",
    "# ranking_df_clean['likes_rank'] = ranking_df_clean['likes'].rank(method='min', ascending=False)\n",
    "# ranking_df_clean['age_rank'] = ranking_df_clean['age'].rank(method='min', ascending=True)\n",
    "\n",
    "# calculate overall rank based on the average of Salary_Rank and Age_Rank\n",
    "# ranking_df_clean['overall_rank'] = (ranking_df_clean['creation_date_rank'] + ranking_df_clean['condition_rank'] + ranking_df_clean['views_rank'] + ranking_df_clean['likes_rank']) / 5\n",
    "\n",
    "# ranking_df_clean\n",
    "\n"
   ]
  },
  {
   "cell_type": "code",
   "execution_count": null,
   "id": "c8a9d193",
   "metadata": {},
   "outputs": [],
   "source": [
    " # create a new copy of the df\n",
    "ranking_df_filtered = ranking_df.copy()"
   ]
  },
  {
   "cell_type": "code",
   "execution_count": null,
   "id": "5866fa39",
   "metadata": {},
   "outputs": [],
   "source": [
    "\n"
   ]
  },
  {
   "cell_type": "code",
   "execution_count": null,
   "id": "e690f1df",
   "metadata": {},
   "outputs": [],
   "source": [
    "# filter by categories\n",
    "ranking_df_filtered = ranking_df_filtered[(ranking_df_filtered['categories'] == chosen_category) & (ranking_df_filtered['available'] == True)]   #|(ranking_df_clean['categories'] in chosen_category)]\n",
    "\n",
    "# rank these columns \n",
    "ranking_df_filtered['creation_date_rank'] = ranking_df_filtered['creation_date'].rank(method='min', ascending=True)\n",
    "ranking_df_filtered['condition_rank'] = ranking_df_filtered['condition'].rank(method='min', ascending=True)\n",
    "ranking_df_filtered['views_rank'] = ranking_df_filtered['views'].rank(method='min', ascending=False)\n",
    "ranking_df_filtered['likes_rank'] = ranking_df_filtered['likes'].rank(method='min', ascending=False)\n",
    "ranking_df_filtered['age_rank'] = ranking_df_filtered['age'].rank(method='min', ascending=True)\n",
    "ranking_df_filtered['overall_rank'] = (ranking_df_filtered['creation_date_rank'] + ranking_df_filtered['condition_rank'] + ranking_df_filtered['views_rank'] + ranking_df_filtered['likes_rank']) / 5\n",
    "ranking_sorted = ranking_df_filtered.sort_values(by='overall_rank', ascending = False)\n"
   ]
  },
  {
   "cell_type": "code",
   "execution_count": null,
   "id": "366845af",
   "metadata": {},
   "outputs": [],
   "source": [
    "ranking_sorted = ranking_df_filtered.sort_values(by='overall_rank', ascending = False)\n",
    "ranking_sorted"
   ]
  },
  {
   "cell_type": "code",
   "execution_count": null,
   "id": "b594aadf",
   "metadata": {},
   "outputs": [],
   "source": [
    "ranked_id = ranking_sorted['id']\n",
    "ranked_id"
   ]
  },
  {
   "cell_type": "code",
   "execution_count": null,
   "id": "43d8b0b1",
   "metadata": {},
   "outputs": [],
   "source": []
  },
  {
   "cell_type": "code",
   "execution_count": null,
   "id": "33350a3e",
   "metadata": {},
   "outputs": [],
   "source": [
    "# def recommend(chosen_category):\n",
    "#     conn = sqlite3.connect('data/db.sqlite3')\n",
    "#     cursor = conn.cursor()\n",
    "#     cursor.execute(\"SELECT * FROM geofree_api_item;\")\n",
    "#     rows = cursor.fetchall()\n",
    "#     df_original = pd.read_sql_query(\"SELECT * from geofree_api_item\", conn)\n",
    "#     df = df_original.copy()\n",
    "#     ranking_df = pd.read_sql_query(\"SELECT * from geofree_api_item\", conn)\n",
    "#     ranking_df = ranking_df.drop('point', axis=1)\n",
    "#     ranking_df['condition'] = ranking_df['condition'].replace('like_new', 1).replace('good', 2).replace('acceptable', 3).replace('poor', 4)\n",
    "#     url_search = 'https://geofree.pythonanywhere.com/api/get-categories/'\n",
    "#     response2 = requests.get(url_search)\n",
    "#     parsed_url = urlparse(url_search)\n",
    "#     path = parsed_url.path\n",
    "#     get_categories = response2.json()\n",
    "#     chosen_category = get_categories[0]['name']\n",
    "#     ranking_df_clean = ranking_df.copy()\n",
    "#     ranking_df_clean = ranking_df_clean[ranking_df_clean['categories'] == chosen_category]\n",
    "#     ranking_df_clean['creation_date_rank'] = ranking_df_clean['creation_date'].rank(method='max', ascending=False)\n",
    "#     ranking_df_clean['condition_rank'] = ranking_df_clean['condition'].rank(method='min', ascending=False)\n",
    "#     ranking_df_clean['views_rank'] = ranking_df_clean['views'].rank(method='min', ascending=False)\n",
    "#     ranking_df_clean['likes_rank'] = ranking_df_clean['likes'].rank(method='max', ascending=False)\n",
    "#     ranking_df_clean['overall_rank'] = (ranking_df_clean['creation_date_rank'] + ranking_df_clean['condition_rank'] + ranking_df_clean['views_rank'] + ranking_df_clean['likes_rank']) / 4\n",
    "#     ranking_sorted = ranking_df_clean.sort_values(by='overall_rank', ascending = False)\n",
    "#     ranked_id = ranking_sorted['id']\n",
    "\n",
    "\n",
    "# chosen_category = 'Clothes'\n",
    "# chosen_category = chosen_category.lower()\n",
    "# recommend(chosen_category)"
   ]
  }
 ],
 "metadata": {
  "kernelspec": {
   "display_name": "Python 3 (ipykernel)",
   "language": "python",
   "name": "python3"
  },
  "language_info": {
   "codemirror_mode": {
    "name": "ipython",
    "version": 3
   },
   "file_extension": ".py",
   "mimetype": "text/x-python",
   "name": "python",
   "nbconvert_exporter": "python",
   "pygments_lexer": "ipython3",
   "version": "3.10.4"
  }
 },
 "nbformat": 4,
 "nbformat_minor": 5
}
