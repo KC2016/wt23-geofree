{
 "cells": [
  {
   "cell_type": "markdown",
   "id": "3fb08e51",
   "metadata": {},
   "source": [
    "## Data Collection for the Recommendation system based on rankings\n",
    "\n",
    "Author: Karina Condeixa"
   ]
  },
  {
   "cell_type": "code",
   "execution_count": 1,
   "id": "7f17baa1",
   "metadata": {},
   "outputs": [],
   "source": [
    "import sqlite3\n",
    "import pandas as pd\n",
    "import urllib.parse\n",
    "import requests\n",
    "from urllib.parse import urlparse\n",
    "\n",
    "import json\n",
    "import datetime"
   ]
  },
  {
   "cell_type": "code",
   "execution_count": 8,
   "id": "86e07127",
   "metadata": {},
   "outputs": [],
   "source": [
    "conn = sqlite3.connect('db.sqlite3')"
   ]
  },
  {
   "cell_type": "code",
   "execution_count": 9,
   "id": "a156e761",
   "metadata": {},
   "outputs": [],
   "source": [
    "cursor = conn.cursor()"
   ]
  },
  {
   "cell_type": "code",
   "execution_count": 10,
   "id": "789125f7",
   "metadata": {},
   "outputs": [
    {
     "data": {
      "text/plain": [
       "<sqlite3.Cursor at 0x7fde548161c0>"
      ]
     },
     "execution_count": 10,
     "metadata": {},
     "output_type": "execute_result"
    }
   ],
   "source": [
    "# Select data from a table\n",
    "cursor.execute(\"SELECT * FROM geofree_api_item;\")"
   ]
  },
  {
   "cell_type": "code",
   "execution_count": 11,
   "id": "1a21cacb",
   "metadata": {},
   "outputs": [],
   "source": [
    "rows = cursor.fetchall()"
   ]
  },
  {
   "cell_type": "code",
   "execution_count": 12,
   "id": "3e175ada",
   "metadata": {},
   "outputs": [],
   "source": [
    "df_original = pd.read_sql_query(\"SELECT * from geofree_api_item\", conn)\n"
   ]
  },
  {
   "cell_type": "code",
   "execution_count": 13,
   "id": "953e16d8",
   "metadata": {},
   "outputs": [
    {
     "data": {
      "text/html": [
       "<div>\n",
       "<style scoped>\n",
       "    .dataframe tbody tr th:only-of-type {\n",
       "        vertical-align: middle;\n",
       "    }\n",
       "\n",
       "    .dataframe tbody tr th {\n",
       "        vertical-align: top;\n",
       "    }\n",
       "\n",
       "    .dataframe thead th {\n",
       "        text-align: right;\n",
       "    }\n",
       "</style>\n",
       "<table border=\"1\" class=\"dataframe\">\n",
       "  <thead>\n",
       "    <tr style=\"text-align: right;\">\n",
       "      <th></th>\n",
       "      <th>id</th>\n",
       "      <th>title</th>\n",
       "      <th>description</th>\n",
       "      <th>available</th>\n",
       "      <th>timedate_creation</th>\n",
       "      <th>latitude</th>\n",
       "      <th>longitude</th>\n",
       "      <th>condition</th>\n",
       "      <th>categories</th>\n",
       "      <th>category_ml</th>\n",
       "      <th>views</th>\n",
       "      <th>likes</th>\n",
       "      <th>point</th>\n",
       "    </tr>\n",
       "  </thead>\n",
       "  <tbody>\n",
       "    <tr>\n",
       "      <th>0</th>\n",
       "      <td>1</td>\n",
       "      <td>test1</td>\n",
       "      <td>wewerwr</td>\n",
       "      <td>1</td>\n",
       "      <td>2023-04-03 17:01:03.428861</td>\n",
       "      <td>52.448102</td>\n",
       "      <td>13.384797</td>\n",
       "      <td>good</td>\n",
       "      <td>Clothes,Plants,Kitchen</td>\n",
       "      <td>Clothes</td>\n",
       "      <td>0</td>\n",
       "      <td>0</td>\n",
       "      <td>b'\\x00\\x01\\xe6\\x10\\x00\\x00Q4j\\x19\\x04\\xc5*@\\x0...</td>\n",
       "    </tr>\n",
       "    <tr>\n",
       "      <th>1</th>\n",
       "      <td>2</td>\n",
       "      <td>test1</td>\n",
       "      <td>wewerwr</td>\n",
       "      <td>1</td>\n",
       "      <td>2023-04-03 17:01:21.380176</td>\n",
       "      <td>52.448102</td>\n",
       "      <td>13.384797</td>\n",
       "      <td>good</td>\n",
       "      <td>Clothes,Kitchen,Plants</td>\n",
       "      <td>Clothes</td>\n",
       "      <td>0</td>\n",
       "      <td>0</td>\n",
       "      <td>b'\\x00\\x01\\xe6\\x10\\x00\\x00Q4j\\x19\\x04\\xc5*@\\x0...</td>\n",
       "    </tr>\n",
       "    <tr>\n",
       "      <th>2</th>\n",
       "      <td>3</td>\n",
       "      <td>test2</td>\n",
       "      <td>wewerwr</td>\n",
       "      <td>1</td>\n",
       "      <td>2023-04-03 17:01:32.759260</td>\n",
       "      <td>52.448102</td>\n",
       "      <td>13.384797</td>\n",
       "      <td>good</td>\n",
       "      <td>Kitchen,Plants</td>\n",
       "      <td>Kitchen</td>\n",
       "      <td>0</td>\n",
       "      <td>0</td>\n",
       "      <td>b'\\x00\\x01\\xe6\\x10\\x00\\x00Q4j\\x19\\x04\\xc5*@\\x0...</td>\n",
       "    </tr>\n",
       "    <tr>\n",
       "      <th>3</th>\n",
       "      <td>4</td>\n",
       "      <td>test4</td>\n",
       "      <td>wewerwr</td>\n",
       "      <td>1</td>\n",
       "      <td>2023-04-03 17:01:41.241430</td>\n",
       "      <td>52.448102</td>\n",
       "      <td>13.384797</td>\n",
       "      <td>good</td>\n",
       "      <td>Kitchen,Plants,Kids toys</td>\n",
       "      <td>Kitchen</td>\n",
       "      <td>0</td>\n",
       "      <td>0</td>\n",
       "      <td>b'\\x00\\x01\\xe6\\x10\\x00\\x00Q4j\\x19\\x04\\xc5*@\\x0...</td>\n",
       "    </tr>\n",
       "  </tbody>\n",
       "</table>\n",
       "</div>"
      ],
      "text/plain": [
       "   id  title description  available           timedate_creation   latitude  \\\n",
       "0   1  test1     wewerwr          1  2023-04-03 17:01:03.428861  52.448102   \n",
       "1   2  test1     wewerwr          1  2023-04-03 17:01:21.380176  52.448102   \n",
       "2   3  test2     wewerwr          1  2023-04-03 17:01:32.759260  52.448102   \n",
       "3   4  test4     wewerwr          1  2023-04-03 17:01:41.241430  52.448102   \n",
       "\n",
       "   longitude condition                categories category_ml  views  likes  \\\n",
       "0  13.384797      good    Clothes,Plants,Kitchen     Clothes      0      0   \n",
       "1  13.384797      good    Clothes,Kitchen,Plants     Clothes      0      0   \n",
       "2  13.384797      good            Kitchen,Plants     Kitchen      0      0   \n",
       "3  13.384797      good  Kitchen,Plants,Kids toys     Kitchen      0      0   \n",
       "\n",
       "                                               point  \n",
       "0  b'\\x00\\x01\\xe6\\x10\\x00\\x00Q4j\\x19\\x04\\xc5*@\\x0...  \n",
       "1  b'\\x00\\x01\\xe6\\x10\\x00\\x00Q4j\\x19\\x04\\xc5*@\\x0...  \n",
       "2  b'\\x00\\x01\\xe6\\x10\\x00\\x00Q4j\\x19\\x04\\xc5*@\\x0...  \n",
       "3  b'\\x00\\x01\\xe6\\x10\\x00\\x00Q4j\\x19\\x04\\xc5*@\\x0...  "
      ]
     },
     "execution_count": 13,
     "metadata": {},
     "output_type": "execute_result"
    }
   ],
   "source": [
    "df = df_original.copy()\n",
    "df.head()\n",
    "# df.shape\n",
    "# df.columns"
   ]
  },
  {
   "cell_type": "code",
   "execution_count": 14,
   "id": "2d936776",
   "metadata": {},
   "outputs": [
    {
     "name": "stdout",
     "output_type": "stream",
     "text": [
      "<class 'pandas.core.frame.DataFrame'>\n",
      "RangeIndex: 4 entries, 0 to 3\n",
      "Data columns (total 13 columns):\n",
      " #   Column             Non-Null Count  Dtype  \n",
      "---  ------             --------------  -----  \n",
      " 0   id                 4 non-null      int64  \n",
      " 1   title              4 non-null      object \n",
      " 2   description        4 non-null      object \n",
      " 3   available          4 non-null      int64  \n",
      " 4   timedate_creation  4 non-null      object \n",
      " 5   latitude           4 non-null      float64\n",
      " 6   longitude          4 non-null      float64\n",
      " 7   condition          4 non-null      object \n",
      " 8   categories         4 non-null      object \n",
      " 9   category_ml        4 non-null      object \n",
      " 10  views              4 non-null      int64  \n",
      " 11  likes              4 non-null      int64  \n",
      " 12  point              4 non-null      object \n",
      "dtypes: float64(2), int64(4), object(7)\n",
      "memory usage: 544.0+ bytes\n"
     ]
    }
   ],
   "source": [
    "df.info()"
   ]
  },
  {
   "cell_type": "code",
   "execution_count": 15,
   "id": "cebfccb4",
   "metadata": {},
   "outputs": [
    {
     "data": {
      "text/html": [
       "<div>\n",
       "<style scoped>\n",
       "    .dataframe tbody tr th:only-of-type {\n",
       "        vertical-align: middle;\n",
       "    }\n",
       "\n",
       "    .dataframe tbody tr th {\n",
       "        vertical-align: top;\n",
       "    }\n",
       "\n",
       "    .dataframe thead th {\n",
       "        text-align: right;\n",
       "    }\n",
       "</style>\n",
       "<table border=\"1\" class=\"dataframe\">\n",
       "  <thead>\n",
       "    <tr style=\"text-align: right;\">\n",
       "      <th></th>\n",
       "      <th>id</th>\n",
       "      <th>title</th>\n",
       "      <th>description</th>\n",
       "      <th>available</th>\n",
       "      <th>timedate_creation</th>\n",
       "      <th>latitude</th>\n",
       "      <th>longitude</th>\n",
       "      <th>condition</th>\n",
       "      <th>categories</th>\n",
       "      <th>category_ml</th>\n",
       "      <th>views</th>\n",
       "      <th>likes</th>\n",
       "      <th>point</th>\n",
       "    </tr>\n",
       "  </thead>\n",
       "  <tbody>\n",
       "    <tr>\n",
       "      <th>0</th>\n",
       "      <td>1</td>\n",
       "      <td>test1</td>\n",
       "      <td>wewerwr</td>\n",
       "      <td>1</td>\n",
       "      <td>2023-04-03 17:01:03.428861</td>\n",
       "      <td>52.448102</td>\n",
       "      <td>13.384797</td>\n",
       "      <td>good</td>\n",
       "      <td>Clothes,Plants,Kitchen</td>\n",
       "      <td>Clothes</td>\n",
       "      <td>0</td>\n",
       "      <td>0</td>\n",
       "      <td>b'\\x00\\x01\\xe6\\x10\\x00\\x00Q4j\\x19\\x04\\xc5*@\\x0...</td>\n",
       "    </tr>\n",
       "    <tr>\n",
       "      <th>1</th>\n",
       "      <td>2</td>\n",
       "      <td>test1</td>\n",
       "      <td>wewerwr</td>\n",
       "      <td>1</td>\n",
       "      <td>2023-04-03 17:01:21.380176</td>\n",
       "      <td>52.448102</td>\n",
       "      <td>13.384797</td>\n",
       "      <td>good</td>\n",
       "      <td>Clothes,Kitchen,Plants</td>\n",
       "      <td>Clothes</td>\n",
       "      <td>0</td>\n",
       "      <td>0</td>\n",
       "      <td>b'\\x00\\x01\\xe6\\x10\\x00\\x00Q4j\\x19\\x04\\xc5*@\\x0...</td>\n",
       "    </tr>\n",
       "    <tr>\n",
       "      <th>2</th>\n",
       "      <td>3</td>\n",
       "      <td>test2</td>\n",
       "      <td>wewerwr</td>\n",
       "      <td>1</td>\n",
       "      <td>2023-04-03 17:01:32.759260</td>\n",
       "      <td>52.448102</td>\n",
       "      <td>13.384797</td>\n",
       "      <td>good</td>\n",
       "      <td>Kitchen,Plants</td>\n",
       "      <td>Kitchen</td>\n",
       "      <td>0</td>\n",
       "      <td>0</td>\n",
       "      <td>b'\\x00\\x01\\xe6\\x10\\x00\\x00Q4j\\x19\\x04\\xc5*@\\x0...</td>\n",
       "    </tr>\n",
       "    <tr>\n",
       "      <th>3</th>\n",
       "      <td>4</td>\n",
       "      <td>test4</td>\n",
       "      <td>wewerwr</td>\n",
       "      <td>1</td>\n",
       "      <td>2023-04-03 17:01:41.241430</td>\n",
       "      <td>52.448102</td>\n",
       "      <td>13.384797</td>\n",
       "      <td>good</td>\n",
       "      <td>Kitchen,Plants,Kids toys</td>\n",
       "      <td>Kitchen</td>\n",
       "      <td>0</td>\n",
       "      <td>0</td>\n",
       "      <td>b'\\x00\\x01\\xe6\\x10\\x00\\x00Q4j\\x19\\x04\\xc5*@\\x0...</td>\n",
       "    </tr>\n",
       "  </tbody>\n",
       "</table>\n",
       "</div>"
      ],
      "text/plain": [
       "   id  title description  available           timedate_creation   latitude  \\\n",
       "0   1  test1     wewerwr          1  2023-04-03 17:01:03.428861  52.448102   \n",
       "1   2  test1     wewerwr          1  2023-04-03 17:01:21.380176  52.448102   \n",
       "2   3  test2     wewerwr          1  2023-04-03 17:01:32.759260  52.448102   \n",
       "3   4  test4     wewerwr          1  2023-04-03 17:01:41.241430  52.448102   \n",
       "\n",
       "   longitude condition                categories category_ml  views  likes  \\\n",
       "0  13.384797      good    Clothes,Plants,Kitchen     Clothes      0      0   \n",
       "1  13.384797      good    Clothes,Kitchen,Plants     Clothes      0      0   \n",
       "2  13.384797      good            Kitchen,Plants     Kitchen      0      0   \n",
       "3  13.384797      good  Kitchen,Plants,Kids toys     Kitchen      0      0   \n",
       "\n",
       "                                               point  \n",
       "0  b'\\x00\\x01\\xe6\\x10\\x00\\x00Q4j\\x19\\x04\\xc5*@\\x0...  \n",
       "1  b'\\x00\\x01\\xe6\\x10\\x00\\x00Q4j\\x19\\x04\\xc5*@\\x0...  \n",
       "2  b'\\x00\\x01\\xe6\\x10\\x00\\x00Q4j\\x19\\x04\\xc5*@\\x0...  \n",
       "3  b'\\x00\\x01\\xe6\\x10\\x00\\x00Q4j\\x19\\x04\\xc5*@\\x0...  "
      ]
     },
     "execution_count": 15,
     "metadata": {},
     "output_type": "execute_result"
    }
   ],
   "source": [
    "df.tail(20)"
   ]
  },
  {
   "cell_type": "code",
   "execution_count": 16,
   "id": "2ee806f3",
   "metadata": {},
   "outputs": [
    {
     "data": {
      "text/plain": [
       "Index(['id', 'title', 'description', 'available', 'timedate_creation',\n",
       "       'latitude', 'longitude', 'condition', 'categories', 'category_ml',\n",
       "       'views', 'likes', 'point'],\n",
       "      dtype='object')"
      ]
     },
     "execution_count": 16,
     "metadata": {},
     "output_type": "execute_result"
    }
   ],
   "source": [
    "df.columns"
   ]
  },
  {
   "cell_type": "code",
   "execution_count": 74,
   "id": "d614f1ef",
   "metadata": {},
   "outputs": [],
   "source": [
    "df.to_csv('data/db_data.csv', index=False)"
   ]
  },
  {
   "cell_type": "code",
   "execution_count": null,
   "id": "f634f20c",
   "metadata": {},
   "outputs": [],
   "source": []
  },
  {
   "cell_type": "code",
   "execution_count": null,
   "id": "42e439fd",
   "metadata": {},
   "outputs": [],
   "source": []
  },
  {
   "cell_type": "code",
   "execution_count": null,
   "id": "26e41722",
   "metadata": {},
   "outputs": [],
   "source": []
  },
  {
   "cell_type": "code",
   "execution_count": 17,
   "id": "f4a9bebb",
   "metadata": {},
   "outputs": [],
   "source": [
    "ranking_df_original = pd.read_sql_query(\"SELECT * from geofree_api_item\", conn)\n",
    "ranking_df = ranking_df_original.copy()\n",
    "ranking_df = ranking_df.drop('point', axis=1)\n"
   ]
  },
  {
   "cell_type": "code",
   "execution_count": 18,
   "id": "6e5e2a57",
   "metadata": {},
   "outputs": [],
   "source": [
    "ranking_df['condition'] = ranking_df['condition'].replace('like_new', 1).replace('good', 2).replace('acceptable', 3).replace('poor', 4)\n",
    "\n",
    "ranking_df['timedate_creation'] = pd.to_datetime(ranking_df['timedate_creation'])\n",
    "ranking_df['age'] = round((pd.Timestamp.now() - ranking_df['timedate_creation']) / pd.Timedelta(hours=1), 1)\n"
   ]
  },
  {
   "cell_type": "code",
   "execution_count": 19,
   "id": "d001926f",
   "metadata": {},
   "outputs": [
    {
     "data": {
      "text/html": [
       "<div>\n",
       "<style scoped>\n",
       "    .dataframe tbody tr th:only-of-type {\n",
       "        vertical-align: middle;\n",
       "    }\n",
       "\n",
       "    .dataframe tbody tr th {\n",
       "        vertical-align: top;\n",
       "    }\n",
       "\n",
       "    .dataframe thead th {\n",
       "        text-align: right;\n",
       "    }\n",
       "</style>\n",
       "<table border=\"1\" class=\"dataframe\">\n",
       "  <thead>\n",
       "    <tr style=\"text-align: right;\">\n",
       "      <th></th>\n",
       "      <th>id</th>\n",
       "      <th>title</th>\n",
       "      <th>description</th>\n",
       "      <th>available</th>\n",
       "      <th>timedate_creation</th>\n",
       "      <th>latitude</th>\n",
       "      <th>longitude</th>\n",
       "      <th>condition</th>\n",
       "      <th>categories</th>\n",
       "      <th>category_ml</th>\n",
       "      <th>views</th>\n",
       "      <th>likes</th>\n",
       "      <th>age</th>\n",
       "    </tr>\n",
       "  </thead>\n",
       "  <tbody>\n",
       "    <tr>\n",
       "      <th>0</th>\n",
       "      <td>1</td>\n",
       "      <td>test1</td>\n",
       "      <td>wewerwr</td>\n",
       "      <td>1</td>\n",
       "      <td>2023-04-03 17:01:03.428861</td>\n",
       "      <td>52.448102</td>\n",
       "      <td>13.384797</td>\n",
       "      <td>2</td>\n",
       "      <td>Clothes,Plants,Kitchen</td>\n",
       "      <td>Clothes</td>\n",
       "      <td>0</td>\n",
       "      <td>0</td>\n",
       "      <td>116.0</td>\n",
       "    </tr>\n",
       "    <tr>\n",
       "      <th>1</th>\n",
       "      <td>2</td>\n",
       "      <td>test1</td>\n",
       "      <td>wewerwr</td>\n",
       "      <td>1</td>\n",
       "      <td>2023-04-03 17:01:21.380176</td>\n",
       "      <td>52.448102</td>\n",
       "      <td>13.384797</td>\n",
       "      <td>2</td>\n",
       "      <td>Clothes,Kitchen,Plants</td>\n",
       "      <td>Clothes</td>\n",
       "      <td>0</td>\n",
       "      <td>0</td>\n",
       "      <td>116.0</td>\n",
       "    </tr>\n",
       "    <tr>\n",
       "      <th>2</th>\n",
       "      <td>3</td>\n",
       "      <td>test2</td>\n",
       "      <td>wewerwr</td>\n",
       "      <td>1</td>\n",
       "      <td>2023-04-03 17:01:32.759260</td>\n",
       "      <td>52.448102</td>\n",
       "      <td>13.384797</td>\n",
       "      <td>2</td>\n",
       "      <td>Kitchen,Plants</td>\n",
       "      <td>Kitchen</td>\n",
       "      <td>0</td>\n",
       "      <td>0</td>\n",
       "      <td>116.0</td>\n",
       "    </tr>\n",
       "    <tr>\n",
       "      <th>3</th>\n",
       "      <td>4</td>\n",
       "      <td>test4</td>\n",
       "      <td>wewerwr</td>\n",
       "      <td>1</td>\n",
       "      <td>2023-04-03 17:01:41.241430</td>\n",
       "      <td>52.448102</td>\n",
       "      <td>13.384797</td>\n",
       "      <td>2</td>\n",
       "      <td>Kitchen,Plants,Kids toys</td>\n",
       "      <td>Kitchen</td>\n",
       "      <td>0</td>\n",
       "      <td>0</td>\n",
       "      <td>116.0</td>\n",
       "    </tr>\n",
       "  </tbody>\n",
       "</table>\n",
       "</div>"
      ],
      "text/plain": [
       "   id  title description  available          timedate_creation   latitude  \\\n",
       "0   1  test1     wewerwr          1 2023-04-03 17:01:03.428861  52.448102   \n",
       "1   2  test1     wewerwr          1 2023-04-03 17:01:21.380176  52.448102   \n",
       "2   3  test2     wewerwr          1 2023-04-03 17:01:32.759260  52.448102   \n",
       "3   4  test4     wewerwr          1 2023-04-03 17:01:41.241430  52.448102   \n",
       "\n",
       "   longitude  condition                categories category_ml  views  likes  \\\n",
       "0  13.384797          2    Clothes,Plants,Kitchen     Clothes      0      0   \n",
       "1  13.384797          2    Clothes,Kitchen,Plants     Clothes      0      0   \n",
       "2  13.384797          2            Kitchen,Plants     Kitchen      0      0   \n",
       "3  13.384797          2  Kitchen,Plants,Kids toys     Kitchen      0      0   \n",
       "\n",
       "     age  \n",
       "0  116.0  \n",
       "1  116.0  \n",
       "2  116.0  \n",
       "3  116.0  "
      ]
     },
     "execution_count": 19,
     "metadata": {},
     "output_type": "execute_result"
    }
   ],
   "source": [
    "ranking_df"
   ]
  },
  {
   "cell_type": "code",
   "execution_count": 20,
   "id": "417455ae",
   "metadata": {},
   "outputs": [],
   "source": [
    "# ranking_df.head()"
   ]
  },
  {
   "cell_type": "code",
   "execution_count": 21,
   "id": "e5e78fd3",
   "metadata": {},
   "outputs": [],
   "source": [
    "url = 'https://geofree.pythonanywhere.com/api/item-user-distance/?user_latitude=52.4480155&user_longitude=13.3832992'\n"
   ]
  },
  {
   "cell_type": "code",
   "execution_count": 22,
   "id": "18cb3ee9",
   "metadata": {},
   "outputs": [],
   "source": [
    "response = requests.get(url)"
   ]
  },
  {
   "cell_type": "code",
   "execution_count": 23,
   "id": "c64da901",
   "metadata": {},
   "outputs": [],
   "source": [
    "parsed_url = urlparse(url)\n",
    "path = parsed_url.path"
   ]
  },
  {
   "cell_type": "code",
   "execution_count": 24,
   "id": "cb2213ad",
   "metadata": {},
   "outputs": [
    {
     "data": {
      "text/plain": [
       "{'distances': [{'item_id': 1, 'distance_kms': 13.363937847487513},\n",
       "  {'item_id': 2, 'distance_kms': 0.09577709902078836},\n",
       "  {'item_id': 3, 'distance_kms': 21.533512674086413},\n",
       "  {'item_id': 16, 'distance_kms': 4.455127381115968},\n",
       "  {'item_id': 17, 'distance_kms': 0.10268162264337133}]}"
      ]
     },
     "execution_count": 24,
     "metadata": {},
     "output_type": "execute_result"
    }
   ],
   "source": [
    "distance_km = response.json()\n",
    "distance_km"
   ]
  },
  {
   "cell_type": "code",
   "execution_count": 25,
   "id": "1b569681",
   "metadata": {},
   "outputs": [],
   "source": [
    "json_str = json.dumps({'distance_km': distance_km})"
   ]
  },
  {
   "cell_type": "code",
   "execution_count": 26,
   "id": "4cd66287",
   "metadata": {},
   "outputs": [],
   "source": [
    "# Parse the JSON string into a Python object\n",
    "data = json.loads(json_str)"
   ]
  },
  {
   "cell_type": "code",
   "execution_count": 27,
   "id": "08dfc4ae",
   "metadata": {},
   "outputs": [
    {
     "name": "stdout",
     "output_type": "stream",
     "text": [
      "{'distance_km': {'distances': [{'item_id': 1, 'distance_kms': 13.363937847487513}, {'item_id': 2, 'distance_kms': 0.09577709902078836}, {'item_id': 3, 'distance_kms': 21.533512674086413}, {'item_id': 16, 'distance_kms': 4.455127381115968}, {'item_id': 17, 'distance_kms': 0.10268162264337133}]}}\n"
     ]
    }
   ],
   "source": [
    "print(data)"
   ]
  },
  {
   "cell_type": "code",
   "execution_count": 28,
   "id": "02b904c2",
   "metadata": {},
   "outputs": [],
   "source": [
    "distances = data['distance_km']['distances']"
   ]
  },
  {
   "cell_type": "code",
   "execution_count": 29,
   "id": "23ee4244",
   "metadata": {},
   "outputs": [
    {
     "data": {
      "text/html": [
       "<div>\n",
       "<style scoped>\n",
       "    .dataframe tbody tr th:only-of-type {\n",
       "        vertical-align: middle;\n",
       "    }\n",
       "\n",
       "    .dataframe tbody tr th {\n",
       "        vertical-align: top;\n",
       "    }\n",
       "\n",
       "    .dataframe thead th {\n",
       "        text-align: right;\n",
       "    }\n",
       "</style>\n",
       "<table border=\"1\" class=\"dataframe\">\n",
       "  <thead>\n",
       "    <tr style=\"text-align: right;\">\n",
       "      <th></th>\n",
       "      <th>item_id</th>\n",
       "      <th>distance_kms</th>\n",
       "    </tr>\n",
       "  </thead>\n",
       "  <tbody>\n",
       "    <tr>\n",
       "      <th>0</th>\n",
       "      <td>1</td>\n",
       "      <td>13.363938</td>\n",
       "    </tr>\n",
       "    <tr>\n",
       "      <th>1</th>\n",
       "      <td>2</td>\n",
       "      <td>0.095777</td>\n",
       "    </tr>\n",
       "    <tr>\n",
       "      <th>2</th>\n",
       "      <td>3</td>\n",
       "      <td>21.533513</td>\n",
       "    </tr>\n",
       "    <tr>\n",
       "      <th>3</th>\n",
       "      <td>16</td>\n",
       "      <td>4.455127</td>\n",
       "    </tr>\n",
       "    <tr>\n",
       "      <th>4</th>\n",
       "      <td>17</td>\n",
       "      <td>0.102682</td>\n",
       "    </tr>\n",
       "  </tbody>\n",
       "</table>\n",
       "</div>"
      ],
      "text/plain": [
       "   item_id  distance_kms\n",
       "0        1     13.363938\n",
       "1        2      0.095777\n",
       "2        3     21.533513\n",
       "3       16      4.455127\n",
       "4       17      0.102682"
      ]
     },
     "execution_count": 29,
     "metadata": {},
     "output_type": "execute_result"
    }
   ],
   "source": [
    "distances_df = pd.DataFrame(distances, columns=['item_id', 'distance_kms'])\n",
    "distances_df"
   ]
  },
  {
   "cell_type": "code",
   "execution_count": 30,
   "id": "e5440d3e",
   "metadata": {},
   "outputs": [],
   "source": [
    "distances_df = distances_df.rename(columns={'item_id': 'id'})"
   ]
  },
  {
   "cell_type": "code",
   "execution_count": 31,
   "id": "e4492d1d",
   "metadata": {},
   "outputs": [
    {
     "data": {
      "text/plain": [
       "'All'"
      ]
     },
     "execution_count": 31,
     "metadata": {},
     "output_type": "execute_result"
    }
   ],
   "source": [
    "# added to a python file: get-category.py\n",
    "\n",
    "url_search = 'https://geofree.pythonanywhere.com/api/get-categories/'\n",
    "response2 = requests.get(url_search)\n",
    "\n",
    "parsed_url = urlparse(url_search)\n",
    "path = parsed_url.path\n",
    "\n",
    "get_categories = response2.json()\n",
    "get_categories\n",
    "\n",
    "chosen_category = get_categories[0]['name']\n",
    "chosen_category"
   ]
  },
  {
   "cell_type": "code",
   "execution_count": 32,
   "id": "ba7fe0a9",
   "metadata": {},
   "outputs": [],
   "source": [
    "url_search = 'https://geofree.pythonanywhere.com/api/get-categories/'\n",
    "\n"
   ]
  },
  {
   "cell_type": "code",
   "execution_count": 33,
   "id": "727eefde",
   "metadata": {},
   "outputs": [],
   "source": [
    "response2 = requests.get(url_search)"
   ]
  },
  {
   "cell_type": "code",
   "execution_count": 34,
   "id": "55b08dda",
   "metadata": {},
   "outputs": [],
   "source": [
    "parsed_url = urlparse(url_search)\n",
    "path = parsed_url.path"
   ]
  },
  {
   "cell_type": "code",
   "execution_count": 62,
   "id": "05a1cb97",
   "metadata": {},
   "outputs": [
    {
     "data": {
      "text/plain": [
       "[{'name': 'All'},\n",
       " {'name': 'Furniture'},\n",
       " {'name': 'Clothes'},\n",
       " {'name': 'Kitchen'},\n",
       " {'name': 'Kids toys'},\n",
       " {'name': 'Plants'}]"
      ]
     },
     "execution_count": 62,
     "metadata": {},
     "output_type": "execute_result"
    }
   ],
   "source": [
    "get_categories = response2.json()\n",
    "\n",
    "get_categories\n",
    "# get_categories = get_categories.lower()"
   ]
  },
  {
   "cell_type": "code",
   "execution_count": 64,
   "id": "b6d715cb",
   "metadata": {},
   "outputs": [
    {
     "name": "stdout",
     "output_type": "stream",
     "text": [
      "[{'name': 'all'}, {'name': 'furniture'}, {'name': 'clothes'}, {'name': 'kitchen'}, {'name': 'kids toys'}, {'name': 'plants'}]\n"
     ]
    }
   ],
   "source": [
    "# create a new dictionary to store the modified values\n",
    "modified_get_categories = []\n",
    "\n",
    "# loop through the original dictionary\n",
    "for item in get_categories:\n",
    "    # create a new dictionary to store the modified value\n",
    "    modified_item = {}\n",
    "    # loop through each key-value pair in the original dictionary\n",
    "    for key, value in item.items():\n",
    "        # apply the lower method to the value and store it in the modified dictionary\n",
    "        modified_item[key] = value.lower()\n",
    "    # add the modified dictionary to the modified dictionary list\n",
    "    modified_get_categories.append(modified_item)\n",
    "\n",
    "print(modified_get_categories)"
   ]
  },
  {
   "cell_type": "markdown",
   "id": "a788c62b",
   "metadata": {},
   "source": [
    "### Testing"
   ]
  },
  {
   "cell_type": "code",
   "execution_count": 67,
   "id": "de7b1bd0",
   "metadata": {},
   "outputs": [],
   "source": [
    "new_data = pd.read_csv('../machine_learning/data/new_data.csv')\n",
    "new_data"
   ]
  },
  {
   "cell_type": "code",
   "execution_count": 68,
   "id": "b77a1513",
   "metadata": {},
   "outputs": [
    {
     "data": {
      "text/html": [
       "<div>\n",
       "<style scoped>\n",
       "    .dataframe tbody tr th:only-of-type {\n",
       "        vertical-align: middle;\n",
       "    }\n",
       "\n",
       "    .dataframe tbody tr th {\n",
       "        vertical-align: top;\n",
       "    }\n",
       "\n",
       "    .dataframe thead th {\n",
       "        text-align: right;\n",
       "    }\n",
       "</style>\n",
       "<table border=\"1\" class=\"dataframe\">\n",
       "  <thead>\n",
       "    <tr style=\"text-align: right;\">\n",
       "      <th></th>\n",
       "      <th>item_category</th>\n",
       "      <th>item_condition</th>\n",
       "      <th>item_available_timer</th>\n",
       "      <th>distance</th>\n",
       "      <th>n_views</th>\n",
       "      <th>n_likes</th>\n",
       "      <th>item_available</th>\n",
       "    </tr>\n",
       "  </thead>\n",
       "  <tbody>\n",
       "    <tr>\n",
       "      <th>0</th>\n",
       "      <td>kids</td>\n",
       "      <td>poor</td>\n",
       "      <td>7</td>\n",
       "      <td>1222</td>\n",
       "      <td>1813</td>\n",
       "      <td>90</td>\n",
       "      <td>0</td>\n",
       "    </tr>\n",
       "    <tr>\n",
       "      <th>1</th>\n",
       "      <td>other</td>\n",
       "      <td>acceptable</td>\n",
       "      <td>50</td>\n",
       "      <td>13107</td>\n",
       "      <td>871</td>\n",
       "      <td>26</td>\n",
       "      <td>1</td>\n",
       "    </tr>\n",
       "    <tr>\n",
       "      <th>2</th>\n",
       "      <td>other</td>\n",
       "      <td>acceptable</td>\n",
       "      <td>73</td>\n",
       "      <td>20555</td>\n",
       "      <td>1379</td>\n",
       "      <td>41</td>\n",
       "      <td>1</td>\n",
       "    </tr>\n",
       "    <tr>\n",
       "      <th>3</th>\n",
       "      <td>other</td>\n",
       "      <td>like_new</td>\n",
       "      <td>9</td>\n",
       "      <td>5168</td>\n",
       "      <td>825</td>\n",
       "      <td>107</td>\n",
       "      <td>0</td>\n",
       "    </tr>\n",
       "    <tr>\n",
       "      <th>4</th>\n",
       "      <td>clothes</td>\n",
       "      <td>like_new</td>\n",
       "      <td>22</td>\n",
       "      <td>15637</td>\n",
       "      <td>1606</td>\n",
       "      <td>96</td>\n",
       "      <td>0</td>\n",
       "    </tr>\n",
       "    <tr>\n",
       "      <th>5</th>\n",
       "      <td>other</td>\n",
       "      <td>like_new</td>\n",
       "      <td>62</td>\n",
       "      <td>22332</td>\n",
       "      <td>1267</td>\n",
       "      <td>164</td>\n",
       "      <td>1</td>\n",
       "    </tr>\n",
       "    <tr>\n",
       "      <th>6</th>\n",
       "      <td>kids</td>\n",
       "      <td>good</td>\n",
       "      <td>88</td>\n",
       "      <td>11602</td>\n",
       "      <td>871</td>\n",
       "      <td>95</td>\n",
       "      <td>0</td>\n",
       "    </tr>\n",
       "    <tr>\n",
       "      <th>7</th>\n",
       "      <td>other</td>\n",
       "      <td>poor</td>\n",
       "      <td>67</td>\n",
       "      <td>6471</td>\n",
       "      <td>938</td>\n",
       "      <td>131</td>\n",
       "      <td>0</td>\n",
       "    </tr>\n",
       "    <tr>\n",
       "      <th>8</th>\n",
       "      <td>clothes</td>\n",
       "      <td>acceptable</td>\n",
       "      <td>77</td>\n",
       "      <td>26393</td>\n",
       "      <td>856</td>\n",
       "      <td>51</td>\n",
       "      <td>1</td>\n",
       "    </tr>\n",
       "    <tr>\n",
       "      <th>9</th>\n",
       "      <td>other</td>\n",
       "      <td>poor</td>\n",
       "      <td>14</td>\n",
       "      <td>4707</td>\n",
       "      <td>1509</td>\n",
       "      <td>256</td>\n",
       "      <td>1</td>\n",
       "    </tr>\n",
       "    <tr>\n",
       "      <th>10</th>\n",
       "      <td>kids</td>\n",
       "      <td>good</td>\n",
       "      <td>56</td>\n",
       "      <td>22044</td>\n",
       "      <td>908</td>\n",
       "      <td>45</td>\n",
       "      <td>1</td>\n",
       "    </tr>\n",
       "    <tr>\n",
       "      <th>11</th>\n",
       "      <td>kids</td>\n",
       "      <td>good</td>\n",
       "      <td>66</td>\n",
       "      <td>8720</td>\n",
       "      <td>1163</td>\n",
       "      <td>23</td>\n",
       "      <td>0</td>\n",
       "    </tr>\n",
       "    <tr>\n",
       "      <th>12</th>\n",
       "      <td>other</td>\n",
       "      <td>acceptable</td>\n",
       "      <td>28</td>\n",
       "      <td>30973</td>\n",
       "      <td>1635</td>\n",
       "      <td>212</td>\n",
       "      <td>0</td>\n",
       "    </tr>\n",
       "    <tr>\n",
       "      <th>13</th>\n",
       "      <td>other</td>\n",
       "      <td>poor</td>\n",
       "      <td>90</td>\n",
       "      <td>7281</td>\n",
       "      <td>436</td>\n",
       "      <td>69</td>\n",
       "      <td>1</td>\n",
       "    </tr>\n",
       "    <tr>\n",
       "      <th>14</th>\n",
       "      <td>kitchen_utensils</td>\n",
       "      <td>good</td>\n",
       "      <td>22</td>\n",
       "      <td>28823</td>\n",
       "      <td>263</td>\n",
       "      <td>44</td>\n",
       "      <td>1</td>\n",
       "    </tr>\n",
       "  </tbody>\n",
       "</table>\n",
       "</div>"
      ],
      "text/plain": [
       "       item_category item_condition  item_available_timer  distance  n_views  \\\n",
       "0               kids           poor                     7      1222     1813   \n",
       "1              other     acceptable                    50     13107      871   \n",
       "2              other     acceptable                    73     20555     1379   \n",
       "3              other       like_new                     9      5168      825   \n",
       "4            clothes       like_new                    22     15637     1606   \n",
       "5              other       like_new                    62     22332     1267   \n",
       "6               kids           good                    88     11602      871   \n",
       "7              other           poor                    67      6471      938   \n",
       "8            clothes     acceptable                    77     26393      856   \n",
       "9              other           poor                    14      4707     1509   \n",
       "10              kids           good                    56     22044      908   \n",
       "11              kids           good                    66      8720     1163   \n",
       "12             other     acceptable                    28     30973     1635   \n",
       "13             other           poor                    90      7281      436   \n",
       "14  kitchen_utensils           good                    22     28823      263   \n",
       "\n",
       "    n_likes  item_available  \n",
       "0        90               0  \n",
       "1        26               1  \n",
       "2        41               1  \n",
       "3       107               0  \n",
       "4        96               0  \n",
       "5       164               1  \n",
       "6        95               0  \n",
       "7       131               0  \n",
       "8        51               1  \n",
       "9       256               1  \n",
       "10       45               1  \n",
       "11       23               0  \n",
       "12      212               0  \n",
       "13       69               1  \n",
       "14       44               1  "
      ]
     },
     "execution_count": 68,
     "metadata": {},
     "output_type": "execute_result"
    }
   ],
   "source": []
  },
  {
   "cell_type": "code",
   "execution_count": null,
   "id": "5a4ecd66",
   "metadata": {},
   "outputs": [],
   "source": []
  },
  {
   "cell_type": "code",
   "execution_count": null,
   "id": "2cdebc6f",
   "metadata": {},
   "outputs": [],
   "source": []
  },
  {
   "cell_type": "code",
   "execution_count": null,
   "id": "dc721e59",
   "metadata": {},
   "outputs": [],
   "source": []
  },
  {
   "cell_type": "code",
   "execution_count": null,
   "id": "555affc2",
   "metadata": {},
   "outputs": [],
   "source": []
  },
  {
   "cell_type": "code",
   "execution_count": 70,
   "id": "e4b863e4",
   "metadata": {},
   "outputs": [],
   "source": [
    "import numpy as np\n",
    "import lightgbm as lgb\n",
    "from sklearn.model_selection import train_test_split, KFold\n",
    "from sklearn.metrics import ndcg_score"
   ]
  },
  {
   "cell_type": "code",
   "execution_count": 71,
   "id": "90752b09",
   "metadata": {},
   "outputs": [
    {
     "ename": "AttributeError",
     "evalue": "'DataFrame' object has no attribute 'data'",
     "output_type": "error",
     "traceback": [
      "\u001b[0;31m---------------------------------------------------------------------------\u001b[0m",
      "\u001b[0;31mAttributeError\u001b[0m                            Traceback (most recent call last)",
      "Cell \u001b[0;32mIn[71], line 3\u001b[0m\n\u001b[1;32m      1\u001b[0m \u001b[38;5;66;03m# load the digits dataset and split it into train and test sets\u001b[39;00m\n\u001b[0;32m----> 3\u001b[0m X_train, X_test, y_train, y_test \u001b[38;5;241m=\u001b[39m train_test_split(\u001b[43mnew_data\u001b[49m\u001b[38;5;241;43m.\u001b[39;49m\u001b[43mdata\u001b[49m, new_data\u001b[38;5;241m.\u001b[39mtarget, test_size\u001b[38;5;241m=\u001b[39m\u001b[38;5;241m0.2\u001b[39m)\n\u001b[1;32m      5\u001b[0m \u001b[38;5;66;03m# define the number of folds for cross-validation\u001b[39;00m\n\u001b[1;32m      6\u001b[0m k \u001b[38;5;241m=\u001b[39m \u001b[38;5;241m5\u001b[39m\n",
      "File \u001b[0;32m~/opt/anaconda3/envs/ds_geofree/lib/python3.10/site-packages/pandas/core/generic.py:5902\u001b[0m, in \u001b[0;36mNDFrame.__getattr__\u001b[0;34m(self, name)\u001b[0m\n\u001b[1;32m   5895\u001b[0m \u001b[38;5;28;01mif\u001b[39;00m (\n\u001b[1;32m   5896\u001b[0m     name \u001b[38;5;129;01mnot\u001b[39;00m \u001b[38;5;129;01min\u001b[39;00m \u001b[38;5;28mself\u001b[39m\u001b[38;5;241m.\u001b[39m_internal_names_set\n\u001b[1;32m   5897\u001b[0m     \u001b[38;5;129;01mand\u001b[39;00m name \u001b[38;5;129;01mnot\u001b[39;00m \u001b[38;5;129;01min\u001b[39;00m \u001b[38;5;28mself\u001b[39m\u001b[38;5;241m.\u001b[39m_metadata\n\u001b[1;32m   5898\u001b[0m     \u001b[38;5;129;01mand\u001b[39;00m name \u001b[38;5;129;01mnot\u001b[39;00m \u001b[38;5;129;01min\u001b[39;00m \u001b[38;5;28mself\u001b[39m\u001b[38;5;241m.\u001b[39m_accessors\n\u001b[1;32m   5899\u001b[0m     \u001b[38;5;129;01mand\u001b[39;00m \u001b[38;5;28mself\u001b[39m\u001b[38;5;241m.\u001b[39m_info_axis\u001b[38;5;241m.\u001b[39m_can_hold_identifiers_and_holds_name(name)\n\u001b[1;32m   5900\u001b[0m ):\n\u001b[1;32m   5901\u001b[0m     \u001b[38;5;28;01mreturn\u001b[39;00m \u001b[38;5;28mself\u001b[39m[name]\n\u001b[0;32m-> 5902\u001b[0m \u001b[38;5;28;01mreturn\u001b[39;00m \u001b[38;5;28;43mobject\u001b[39;49m\u001b[38;5;241;43m.\u001b[39;49m\u001b[38;5;21;43m__getattribute__\u001b[39;49m\u001b[43m(\u001b[49m\u001b[38;5;28;43mself\u001b[39;49m\u001b[43m,\u001b[49m\u001b[43m \u001b[49m\u001b[43mname\u001b[49m\u001b[43m)\u001b[49m\n",
      "\u001b[0;31mAttributeError\u001b[0m: 'DataFrame' object has no attribute 'data'"
     ]
    }
   ],
   "source": [
    "\n",
    "\n",
    "# load the digits dataset and split it into train and test sets\n",
    "\n",
    "X_train, X_test, y_train, y_test = train_test_split(new_data.data, new_data.target, test_size=0.2)\n",
    "\n",
    "# define the number of folds for cross-validation\n",
    "k = 5\n",
    "\n",
    "# initialize the k-fold object\n",
    "kf = KFold(n_splits=k)\n",
    "\n",
    "# define the LightGBM dataset\n",
    "train_data = lgb.Dataset(X_train, label=y_train)\n",
    "\n",
    "# define the LightGBM parameters\n",
    "params = {\n",
    "    'objective': 'lambdarank',\n",
    "    'metric': 'ndcg',\n",
    "    'learning_rate': 0.1,\n",
    "    'max_depth': 3\n",
    "}\n",
    "\n",
    "# initialize the ndcg list\n",
    "ndcg = []\n",
    "\n",
    "# loop over the folds\n",
    "for train_idx, test_idx in kf.split(X_train):\n",
    "\n",
    "    # split the data into train and validation sets\n",
    "    X_train_fold, X_val_fold = X_train[train_idx], X_train[test_idx]\n",
    "    y_train_fold, y_val_fold = y_train[train_idx], y_train[test_idx]\n",
    "\n",
    "    # create the LightGBM dataset for this fold\n",
    "    train_fold = lgb.Dataset(X_train_fold, label=y_train_fold)\n",
    "\n",
    "    # train the model on the train set\n",
    "    model = lgb.train(params, train_fold, num_boost_round=10)\n",
    "\n",
    "    # evaluate the model on the validation set\n",
    "    y_pred_val = model.predict(X_val_fold)\n",
    "    ndcg_fold = ndcg_score(y_val_fold.reshape(1, -1), y_pred_val.reshape(1, -1), k=5)\n",
    "    ndcg.append(ndcg_fold)\n",
    "\n",
    "# print the average ndcg score across all folds\n",
    "print(\"Average ndcg score:\", np.mean(ndcg))"
   ]
  },
  {
   "cell_type": "code",
   "execution_count": null,
   "id": "61cfb1b3",
   "metadata": {},
   "outputs": [],
   "source": []
  },
  {
   "cell_type": "code",
   "execution_count": null,
   "id": "e094e192",
   "metadata": {},
   "outputs": [],
   "source": []
  },
  {
   "cell_type": "markdown",
   "id": "d9b7f9ff",
   "metadata": {},
   "source": [
    "### Preparing a first new mock dataset for testing [SANDBOX] \n",
    "\n",
    "> In order to make it easier of find mock datasets, it was developed in the same jupyter notebook then the one for ML."
   ]
  },
  {
   "cell_type": "code",
   "execution_count": 36,
   "id": "850e8e07",
   "metadata": {},
   "outputs": [],
   "source": [
    "# ranking_df_clean = ranking_df.copy()"
   ]
  },
  {
   "cell_type": "code",
   "execution_count": 37,
   "id": "a082338d",
   "metadata": {},
   "outputs": [],
   "source": [
    "# ranking_df_clean = ranking_df_clean[ranking_df_clean['categories'] == chosen_category]\n",
    "\n",
    "# ranking_df_clean['creation_date_rank'] = ranking_df_clean['creation_date'].rank(method='min', ascending=True)\n",
    "# ranking_df_clean['condition_rank'] = ranking_df_clean['condition'].rank(method='min', ascending=True)\n",
    "# ranking_df_clean['views_rank'] = ranking_df_clean['views'].rank(method='min', ascending=False)\n",
    "# ranking_df_clean['likes_rank'] = ranking_df_clean['likes'].rank(method='min', ascending=False)\n",
    "# ranking_df_clean['age_rank'] = ranking_df_clean['age'].rank(method='min', ascending=True)\n",
    "\n",
    "# calculate overall rank based on the average of Salary_Rank and Age_Rank\n",
    "# ranking_df_clean['overall_rank'] = (ranking_df_clean['creation_date_rank'] + ranking_df_clean['condition_rank'] + ranking_df_clean['views_rank'] + ranking_df_clean['likes_rank']) / 5\n",
    "\n",
    "# ranking_df_clean\n",
    "\n"
   ]
  },
  {
   "cell_type": "code",
   "execution_count": 38,
   "id": "c8a9d193",
   "metadata": {},
   "outputs": [],
   "source": [
    " # create a new copy of the df\n",
    "ranking_df_filtered = ranking_df.copy()"
   ]
  },
  {
   "cell_type": "code",
   "execution_count": 39,
   "id": "4d14c904",
   "metadata": {},
   "outputs": [],
   "source": [
    "chosen_category = 'Clothes'"
   ]
  },
  {
   "cell_type": "code",
   "execution_count": 40,
   "id": "5866fa39",
   "metadata": {},
   "outputs": [
    {
     "data": {
      "text/html": [
       "<div>\n",
       "<style scoped>\n",
       "    .dataframe tbody tr th:only-of-type {\n",
       "        vertical-align: middle;\n",
       "    }\n",
       "\n",
       "    .dataframe tbody tr th {\n",
       "        vertical-align: top;\n",
       "    }\n",
       "\n",
       "    .dataframe thead th {\n",
       "        text-align: right;\n",
       "    }\n",
       "</style>\n",
       "<table border=\"1\" class=\"dataframe\">\n",
       "  <thead>\n",
       "    <tr style=\"text-align: right;\">\n",
       "      <th></th>\n",
       "      <th>id</th>\n",
       "      <th>title</th>\n",
       "      <th>description</th>\n",
       "      <th>available</th>\n",
       "      <th>timedate_creation</th>\n",
       "      <th>latitude</th>\n",
       "      <th>longitude</th>\n",
       "      <th>condition</th>\n",
       "      <th>categories</th>\n",
       "      <th>category_ml</th>\n",
       "      <th>views</th>\n",
       "      <th>likes</th>\n",
       "      <th>age</th>\n",
       "    </tr>\n",
       "  </thead>\n",
       "  <tbody>\n",
       "    <tr>\n",
       "      <th>0</th>\n",
       "      <td>1</td>\n",
       "      <td>test1</td>\n",
       "      <td>wewerwr</td>\n",
       "      <td>1</td>\n",
       "      <td>2023-04-03 17:01:03.428861</td>\n",
       "      <td>52.448102</td>\n",
       "      <td>13.384797</td>\n",
       "      <td>2</td>\n",
       "      <td>Clothes,Plants,Kitchen</td>\n",
       "      <td>Clothes</td>\n",
       "      <td>0</td>\n",
       "      <td>0</td>\n",
       "      <td>116.0</td>\n",
       "    </tr>\n",
       "    <tr>\n",
       "      <th>1</th>\n",
       "      <td>2</td>\n",
       "      <td>test1</td>\n",
       "      <td>wewerwr</td>\n",
       "      <td>1</td>\n",
       "      <td>2023-04-03 17:01:21.380176</td>\n",
       "      <td>52.448102</td>\n",
       "      <td>13.384797</td>\n",
       "      <td>2</td>\n",
       "      <td>Clothes,Kitchen,Plants</td>\n",
       "      <td>Clothes</td>\n",
       "      <td>0</td>\n",
       "      <td>0</td>\n",
       "      <td>116.0</td>\n",
       "    </tr>\n",
       "    <tr>\n",
       "      <th>2</th>\n",
       "      <td>3</td>\n",
       "      <td>test2</td>\n",
       "      <td>wewerwr</td>\n",
       "      <td>1</td>\n",
       "      <td>2023-04-03 17:01:32.759260</td>\n",
       "      <td>52.448102</td>\n",
       "      <td>13.384797</td>\n",
       "      <td>2</td>\n",
       "      <td>Kitchen,Plants</td>\n",
       "      <td>Kitchen</td>\n",
       "      <td>0</td>\n",
       "      <td>0</td>\n",
       "      <td>116.0</td>\n",
       "    </tr>\n",
       "    <tr>\n",
       "      <th>3</th>\n",
       "      <td>4</td>\n",
       "      <td>test4</td>\n",
       "      <td>wewerwr</td>\n",
       "      <td>1</td>\n",
       "      <td>2023-04-03 17:01:41.241430</td>\n",
       "      <td>52.448102</td>\n",
       "      <td>13.384797</td>\n",
       "      <td>2</td>\n",
       "      <td>Kitchen,Plants,Kids toys</td>\n",
       "      <td>Kitchen</td>\n",
       "      <td>0</td>\n",
       "      <td>0</td>\n",
       "      <td>116.0</td>\n",
       "    </tr>\n",
       "  </tbody>\n",
       "</table>\n",
       "</div>"
      ],
      "text/plain": [
       "   id  title description  available          timedate_creation   latitude  \\\n",
       "0   1  test1     wewerwr          1 2023-04-03 17:01:03.428861  52.448102   \n",
       "1   2  test1     wewerwr          1 2023-04-03 17:01:21.380176  52.448102   \n",
       "2   3  test2     wewerwr          1 2023-04-03 17:01:32.759260  52.448102   \n",
       "3   4  test4     wewerwr          1 2023-04-03 17:01:41.241430  52.448102   \n",
       "\n",
       "   longitude  condition                categories category_ml  views  likes  \\\n",
       "0  13.384797          2    Clothes,Plants,Kitchen     Clothes      0      0   \n",
       "1  13.384797          2    Clothes,Kitchen,Plants     Clothes      0      0   \n",
       "2  13.384797          2            Kitchen,Plants     Kitchen      0      0   \n",
       "3  13.384797          2  Kitchen,Plants,Kids toys     Kitchen      0      0   \n",
       "\n",
       "     age  \n",
       "0  116.0  \n",
       "1  116.0  \n",
       "2  116.0  \n",
       "3  116.0  "
      ]
     },
     "execution_count": 40,
     "metadata": {},
     "output_type": "execute_result"
    }
   ],
   "source": [
    "ranking_df_filtered\n"
   ]
  },
  {
   "cell_type": "code",
   "execution_count": 48,
   "id": "e690f1df",
   "metadata": {},
   "outputs": [],
   "source": [
    "# filter by categories\n",
    "ranking_df_filtered = ranking_df_filtered[(ranking_df_filtered['category_ml'] == chosen_category) & (ranking_df_filtered['available'] == 1)]   #|(ranking_df_clean['categories'] in chosen_category)]\n",
    "\n",
    "# rank these columns \n",
    "ranking_df_filtered['timedate_creation_rank'] = ranking_df_filtered['timedate_creation'].rank(method='min', ascending=True)\n",
    "ranking_df_filtered['condition_rank'] = ranking_df_filtered['condition'].rank(method='min', ascending=True)\n",
    "ranking_df_filtered['views_rank'] = ranking_df_filtered['views'].rank(method='min', ascending=False)\n",
    "ranking_df_filtered['likes_rank'] = ranking_df_filtered['likes'].rank(method='min', ascending=False)\n",
    "# ranking_df_filtered['age_rank'] = ranking_df_filtered['age'].rank(method='min', ascending=True)\n",
    "ranking_df_filtered['overall_rank'] = (ranking_df_filtered['timedate_creation_rank'] + ranking_df_filtered['condition_rank'] + ranking_df_filtered['views_rank'] + ranking_df_filtered['likes_rank']) / 4\n",
    "ranking_sorted = ranking_df_filtered.sort_values(by='overall_rank', ascending = False)\n"
   ]
  },
  {
   "cell_type": "code",
   "execution_count": 49,
   "id": "8d59cbef",
   "metadata": {},
   "outputs": [
    {
     "data": {
      "text/html": [
       "<div>\n",
       "<style scoped>\n",
       "    .dataframe tbody tr th:only-of-type {\n",
       "        vertical-align: middle;\n",
       "    }\n",
       "\n",
       "    .dataframe tbody tr th {\n",
       "        vertical-align: top;\n",
       "    }\n",
       "\n",
       "    .dataframe thead th {\n",
       "        text-align: right;\n",
       "    }\n",
       "</style>\n",
       "<table border=\"1\" class=\"dataframe\">\n",
       "  <thead>\n",
       "    <tr style=\"text-align: right;\">\n",
       "      <th></th>\n",
       "      <th>id</th>\n",
       "      <th>title</th>\n",
       "      <th>description</th>\n",
       "      <th>available</th>\n",
       "      <th>timedate_creation</th>\n",
       "      <th>latitude</th>\n",
       "      <th>longitude</th>\n",
       "      <th>condition</th>\n",
       "      <th>categories</th>\n",
       "      <th>category_ml</th>\n",
       "      <th>views</th>\n",
       "      <th>likes</th>\n",
       "      <th>age</th>\n",
       "      <th>timedate_creation_rank</th>\n",
       "      <th>condition_rank</th>\n",
       "      <th>views_rank</th>\n",
       "      <th>likes_rank</th>\n",
       "      <th>overall_rank</th>\n",
       "    </tr>\n",
       "  </thead>\n",
       "  <tbody>\n",
       "    <tr>\n",
       "      <th>0</th>\n",
       "      <td>1</td>\n",
       "      <td>test1</td>\n",
       "      <td>wewerwr</td>\n",
       "      <td>1</td>\n",
       "      <td>2023-04-03 17:01:03.428861</td>\n",
       "      <td>52.448102</td>\n",
       "      <td>13.384797</td>\n",
       "      <td>2</td>\n",
       "      <td>Clothes,Plants,Kitchen</td>\n",
       "      <td>Clothes</td>\n",
       "      <td>0</td>\n",
       "      <td>0</td>\n",
       "      <td>116.0</td>\n",
       "      <td>1.0</td>\n",
       "      <td>1.0</td>\n",
       "      <td>1.0</td>\n",
       "      <td>1.0</td>\n",
       "      <td>1.00</td>\n",
       "    </tr>\n",
       "    <tr>\n",
       "      <th>1</th>\n",
       "      <td>2</td>\n",
       "      <td>test1</td>\n",
       "      <td>wewerwr</td>\n",
       "      <td>1</td>\n",
       "      <td>2023-04-03 17:01:21.380176</td>\n",
       "      <td>52.448102</td>\n",
       "      <td>13.384797</td>\n",
       "      <td>2</td>\n",
       "      <td>Clothes,Kitchen,Plants</td>\n",
       "      <td>Clothes</td>\n",
       "      <td>0</td>\n",
       "      <td>0</td>\n",
       "      <td>116.0</td>\n",
       "      <td>2.0</td>\n",
       "      <td>1.0</td>\n",
       "      <td>1.0</td>\n",
       "      <td>1.0</td>\n",
       "      <td>1.25</td>\n",
       "    </tr>\n",
       "  </tbody>\n",
       "</table>\n",
       "</div>"
      ],
      "text/plain": [
       "   id  title description  available          timedate_creation   latitude  \\\n",
       "0   1  test1     wewerwr          1 2023-04-03 17:01:03.428861  52.448102   \n",
       "1   2  test1     wewerwr          1 2023-04-03 17:01:21.380176  52.448102   \n",
       "\n",
       "   longitude  condition              categories category_ml  views  likes  \\\n",
       "0  13.384797          2  Clothes,Plants,Kitchen     Clothes      0      0   \n",
       "1  13.384797          2  Clothes,Kitchen,Plants     Clothes      0      0   \n",
       "\n",
       "     age  timedate_creation_rank  condition_rank  views_rank  likes_rank  \\\n",
       "0  116.0                     1.0             1.0         1.0         1.0   \n",
       "1  116.0                     2.0             1.0         1.0         1.0   \n",
       "\n",
       "   overall_rank  \n",
       "0          1.00  \n",
       "1          1.25  "
      ]
     },
     "execution_count": 49,
     "metadata": {},
     "output_type": "execute_result"
    }
   ],
   "source": [
    "ranking_df_filtered"
   ]
  },
  {
   "cell_type": "code",
   "execution_count": 50,
   "id": "366845af",
   "metadata": {},
   "outputs": [
    {
     "data": {
      "text/html": [
       "<div>\n",
       "<style scoped>\n",
       "    .dataframe tbody tr th:only-of-type {\n",
       "        vertical-align: middle;\n",
       "    }\n",
       "\n",
       "    .dataframe tbody tr th {\n",
       "        vertical-align: top;\n",
       "    }\n",
       "\n",
       "    .dataframe thead th {\n",
       "        text-align: right;\n",
       "    }\n",
       "</style>\n",
       "<table border=\"1\" class=\"dataframe\">\n",
       "  <thead>\n",
       "    <tr style=\"text-align: right;\">\n",
       "      <th></th>\n",
       "      <th>id</th>\n",
       "      <th>title</th>\n",
       "      <th>description</th>\n",
       "      <th>available</th>\n",
       "      <th>timedate_creation</th>\n",
       "      <th>latitude</th>\n",
       "      <th>longitude</th>\n",
       "      <th>condition</th>\n",
       "      <th>categories</th>\n",
       "      <th>category_ml</th>\n",
       "      <th>views</th>\n",
       "      <th>likes</th>\n",
       "      <th>age</th>\n",
       "      <th>timedate_creation_rank</th>\n",
       "      <th>condition_rank</th>\n",
       "      <th>views_rank</th>\n",
       "      <th>likes_rank</th>\n",
       "      <th>overall_rank</th>\n",
       "    </tr>\n",
       "  </thead>\n",
       "  <tbody>\n",
       "    <tr>\n",
       "      <th>1</th>\n",
       "      <td>2</td>\n",
       "      <td>test1</td>\n",
       "      <td>wewerwr</td>\n",
       "      <td>1</td>\n",
       "      <td>2023-04-03 17:01:21.380176</td>\n",
       "      <td>52.448102</td>\n",
       "      <td>13.384797</td>\n",
       "      <td>2</td>\n",
       "      <td>Clothes,Kitchen,Plants</td>\n",
       "      <td>Clothes</td>\n",
       "      <td>0</td>\n",
       "      <td>0</td>\n",
       "      <td>116.0</td>\n",
       "      <td>2.0</td>\n",
       "      <td>1.0</td>\n",
       "      <td>1.0</td>\n",
       "      <td>1.0</td>\n",
       "      <td>1.25</td>\n",
       "    </tr>\n",
       "    <tr>\n",
       "      <th>0</th>\n",
       "      <td>1</td>\n",
       "      <td>test1</td>\n",
       "      <td>wewerwr</td>\n",
       "      <td>1</td>\n",
       "      <td>2023-04-03 17:01:03.428861</td>\n",
       "      <td>52.448102</td>\n",
       "      <td>13.384797</td>\n",
       "      <td>2</td>\n",
       "      <td>Clothes,Plants,Kitchen</td>\n",
       "      <td>Clothes</td>\n",
       "      <td>0</td>\n",
       "      <td>0</td>\n",
       "      <td>116.0</td>\n",
       "      <td>1.0</td>\n",
       "      <td>1.0</td>\n",
       "      <td>1.0</td>\n",
       "      <td>1.0</td>\n",
       "      <td>1.00</td>\n",
       "    </tr>\n",
       "  </tbody>\n",
       "</table>\n",
       "</div>"
      ],
      "text/plain": [
       "   id  title description  available          timedate_creation   latitude  \\\n",
       "1   2  test1     wewerwr          1 2023-04-03 17:01:21.380176  52.448102   \n",
       "0   1  test1     wewerwr          1 2023-04-03 17:01:03.428861  52.448102   \n",
       "\n",
       "   longitude  condition              categories category_ml  views  likes  \\\n",
       "1  13.384797          2  Clothes,Kitchen,Plants     Clothes      0      0   \n",
       "0  13.384797          2  Clothes,Plants,Kitchen     Clothes      0      0   \n",
       "\n",
       "     age  timedate_creation_rank  condition_rank  views_rank  likes_rank  \\\n",
       "1  116.0                     2.0             1.0         1.0         1.0   \n",
       "0  116.0                     1.0             1.0         1.0         1.0   \n",
       "\n",
       "   overall_rank  \n",
       "1          1.25  \n",
       "0          1.00  "
      ]
     },
     "execution_count": 50,
     "metadata": {},
     "output_type": "execute_result"
    }
   ],
   "source": [
    "ranking_sorted = ranking_df_filtered.sort_values(by='overall_rank', ascending = False)\n",
    "ranking_sorted"
   ]
  },
  {
   "cell_type": "code",
   "execution_count": 51,
   "id": "d4fae9d5",
   "metadata": {},
   "outputs": [
    {
     "data": {
      "text/plain": [
       "1    2\n",
       "0    1\n",
       "Name: id, dtype: int64"
      ]
     },
     "execution_count": 51,
     "metadata": {},
     "output_type": "execute_result"
    }
   ],
   "source": [
    "ranked_id = ranking_sorted['id']\n",
    "ranked_id "
   ]
  },
  {
   "cell_type": "code",
   "execution_count": 52,
   "id": "b6d519a4",
   "metadata": {},
   "outputs": [],
   "source": [
    "# # ranked_id = [2,4]\n",
    "\n",
    "# # ranked_id = [2]\n",
    "\n",
    "# # ranked_id = [2,7,9]\n",
    "\n",
    "\n",
    "# # ranked_id = []\n",
    "# ranked_id = [2,7,9,8,8,7]"
   ]
  },
  {
   "cell_type": "code",
   "execution_count": 53,
   "id": "6a345a4a",
   "metadata": {},
   "outputs": [
    {
     "data": {
      "text/plain": [
       "4"
      ]
     },
     "execution_count": 53,
     "metadata": {},
     "output_type": "execute_result"
    }
   ],
   "source": [
    "len(ranking_df)"
   ]
  },
  {
   "cell_type": "code",
   "execution_count": 54,
   "id": "7b4dd907",
   "metadata": {},
   "outputs": [],
   "source": [
    "import random"
   ]
  },
  {
   "cell_type": "code",
   "execution_count": 55,
   "id": "3ddfc853",
   "metadata": {},
   "outputs": [],
   "source": [
    "# AFTER THE COLUMN ranked_id = ranking_sorted['id']\n",
    "\n",
    "# if the length of the list is 0, return 3 random ids\n",
    "if len(ranked_id) == 0: \n",
    "    id_1 = random.choice(ranking_df['id'])\n",
    "    id_2 = random.choice(ranking_df['id'])\n",
    "    id_3 = random.choice(ranking_df['id'])\n",
    "    \n",
    "# if the length of the list is 1, return the id in the list as id_1  and random ids for id_2 and id_3\n",
    "elif len(ranked_id) == 1: \n",
    "    id_1 = list[0]\n",
    "    id_2 = random.choice(ranking_df['id'])\n",
    "    id_3 = random.choice(ranking_df['id'])\n",
    "\n",
    "# if the length of the list is 2, return the ids in the list as id_1, id_2  and random id id_3\n",
    "elif len(ranked_id) == 2:\n",
    "    id_1 = list[0]\n",
    "    id_2 = list[1]\n",
    "    id_3 = random.choice(ranking_df['id'])\n",
    "\n",
    "# if the length of the list is 3 or more, return the ids in the list as id_1, id_2, and id_3  \n",
    "else:\n",
    "    id_1 = list[0]\n",
    "    id_2 = list[1]\n",
    "    id_3 = list[3]\n",
    "    \n",
    "id_1 = str(id_1)\n",
    "id_2 = str(id_2)\n",
    "id_3 = str(id_3)\n",
    "    \n",
    "# return id_1, id_2, id_3   \n",
    "\n",
    "    "
   ]
  },
  {
   "cell_type": "code",
   "execution_count": 56,
   "id": "b594aadf",
   "metadata": {},
   "outputs": [
    {
     "data": {
      "text/plain": [
       "str"
      ]
     },
     "execution_count": 56,
     "metadata": {},
     "output_type": "execute_result"
    }
   ],
   "source": [
    "type(id_1)"
   ]
  },
  {
   "cell_type": "code",
   "execution_count": 57,
   "id": "83995032",
   "metadata": {},
   "outputs": [
    {
     "name": "stdout",
     "output_type": "stream",
     "text": [
      "list[0]\n"
     ]
    }
   ],
   "source": [
    "print(id_1)"
   ]
  },
  {
   "cell_type": "code",
   "execution_count": 58,
   "id": "a62fe5f7",
   "metadata": {},
   "outputs": [],
   "source": [
    "# ranked_id = ranked_id.fillna(0)\n",
    "# print(ranked_id)"
   ]
  },
  {
   "cell_type": "code",
   "execution_count": null,
   "id": "5b6bbfcb",
   "metadata": {},
   "outputs": [],
   "source": []
  },
  {
   "cell_type": "code",
   "execution_count": null,
   "id": "564c5dc3",
   "metadata": {},
   "outputs": [],
   "source": []
  },
  {
   "cell_type": "code",
   "execution_count": null,
   "id": "cb8c12c8",
   "metadata": {},
   "outputs": [],
   "source": []
  },
  {
   "cell_type": "code",
   "execution_count": 59,
   "id": "c7e45aea",
   "metadata": {},
   "outputs": [
    {
     "data": {
      "text/plain": [
       "Index(['id', 'title', 'description', 'available', 'timedate_creation',\n",
       "       'latitude', 'longitude', 'condition', 'categories', 'category_ml',\n",
       "       'views', 'likes', 'point'],\n",
       "      dtype='object')"
      ]
     },
     "execution_count": 59,
     "metadata": {},
     "output_type": "execute_result"
    }
   ],
   "source": [
    "df.columns"
   ]
  },
  {
   "cell_type": "code",
   "execution_count": 60,
   "id": "d33f1864",
   "metadata": {},
   "outputs": [],
   "source": [
    "## save a init.py file"
   ]
  },
  {
   "cell_type": "code",
   "execution_count": 61,
   "id": "ee21d5e7",
   "metadata": {},
   "outputs": [],
   "source": [
    "import numpy as np\n",
    "\n",
    "description = ['anything', 'everything', 'whaterver', 'hellooo', 'testing', 'bug', 'solving the problem', 'what day is today?', 'today is the presentation day', 'we are the second team to present', 'uhuuuu', 'yeyyyy']\n",
    "category = ['furniture',  'clothes',  'kitchen_utensils', 'kids', 'other'] \n",
    "condition = ['poor', 'acceptable', 'good', 'like_new'] \n",
    "available = ['1', '0']  \n",
    "\n",
    "\n",
    "\n",
    "def data_classification_1(num_records): \n",
    "  \n",
    "    # dictionary \n",
    "    item ={} \n",
    "    for i in range(0, num_records): \n",
    "        item[i] = {}\n",
    "        item[i]['description']= np.random.choice(description) \n",
    "        item[i]['available'] = 1\n",
    "        item[i]['item_category'] = np.random.choice(category)  \n",
    "        item[i]['item_condition'] = np.random.choice(condition)\n",
    "        item[i]['timedate_creation'] = fake.date_between_dates(limit,'now')\n",
    "\n",
    "#         item[i]['item_available_timer'] = np.random.choice(n_hours_avalilable) # in 30 days\n",
    "        \n",
    "#         datetime_iteration1 = fake.date_between_dates(limit,'now')\n",
    "#         datetime_iteration2 = fake.date_between_dates(limit,'now')\n",
    "#         if datetime_iteration1 <= datetime_iteration2:\n",
    "#             item[i]['item_timer'] = datetime_iteration1\n",
    "#             item[i]['item_timer'] = datetime_iteration2\n",
    "#         else:\n",
    "#             item[i]['item_timer'] = datetime_iteration2\n",
    "#             item[i]['item_timer'] = datetime_iteration1 \n",
    "\n",
    "        item[i]['item_postcode'] = np.random.choice(postcodes_berlin_series)\n",
    "    \n",
    "        item[i]['item_available_timer'] = np.random.choice(n_hours_avalilable)\n",
    "#         item[i]['item_timer'] = (date.today()) - fake.date_between_dates(limit,'now')  # in days, can be improved to hours\n",
    "        item[i]['distance'] = np.random.choice(distance)\n",
    "        \n",
    " # This date shold be later than the post\n",
    "        item[i]['n_views'] = np.random.choice(n_views)\n",
    "        item[i]['n_likes'] = int(item[i]['n_views'] * (np.random.choice(pct_likes)))\n",
    "        \n",
    "        item[i]['item_available'] = np.random.choice(available)\n",
    "             \n",
    "    return item"
   ]
  },
  {
   "cell_type": "code",
   "execution_count": null,
   "id": "58d7324d",
   "metadata": {},
   "outputs": [],
   "source": []
  },
  {
   "cell_type": "code",
   "execution_count": null,
   "id": "56d59212",
   "metadata": {},
   "outputs": [],
   "source": []
  },
  {
   "cell_type": "code",
   "execution_count": null,
   "id": "27028755",
   "metadata": {},
   "outputs": [],
   "source": []
  },
  {
   "cell_type": "code",
   "execution_count": null,
   "id": "c4a4b8a1",
   "metadata": {},
   "outputs": [],
   "source": []
  }
 ],
 "metadata": {
  "kernelspec": {
   "display_name": "Python 3 (ipykernel)",
   "language": "python",
   "name": "python3"
  },
  "language_info": {
   "codemirror_mode": {
    "name": "ipython",
    "version": 3
   },
   "file_extension": ".py",
   "mimetype": "text/x-python",
   "name": "python",
   "nbconvert_exporter": "python",
   "pygments_lexer": "ipython3",
   "version": "3.10.4"
  }
 },
 "nbformat": 4,
 "nbformat_minor": 5
}
