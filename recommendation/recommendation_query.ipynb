{
 "cells": [
  {
   "cell_type": "code",
   "execution_count": 420,
   "id": "7f17baa1",
   "metadata": {},
   "outputs": [],
   "source": [
    "import sqlite3\n",
    "import pandas as pd\n",
    "import urllib.parse\n",
    "\n",
    "import urllib.parse\n",
    "import requests\n",
    "\n",
    "from urllib.parse import urlparse\n",
    "\n",
    "import json\n",
    "import datetime"
   ]
  },
  {
   "cell_type": "code",
   "execution_count": 421,
   "id": "86e07127",
   "metadata": {},
   "outputs": [],
   "source": [
    "conn = sqlite3.connect('data/db.sqlite3')"
   ]
  },
  {
   "cell_type": "code",
   "execution_count": 422,
   "id": "a156e761",
   "metadata": {},
   "outputs": [],
   "source": [
    "cursor = conn.cursor()"
   ]
  },
  {
   "cell_type": "code",
   "execution_count": 423,
   "id": "789125f7",
   "metadata": {},
   "outputs": [
    {
     "data": {
      "text/plain": [
       "<sqlite3.Cursor at 0x7f989368edc0>"
      ]
     },
     "execution_count": 423,
     "metadata": {},
     "output_type": "execute_result"
    }
   ],
   "source": [
    "# Select data from a table\n",
    "cursor.execute(\"SELECT * FROM geofree_api_item;\")"
   ]
  },
  {
   "cell_type": "code",
   "execution_count": 424,
   "id": "1a21cacb",
   "metadata": {},
   "outputs": [],
   "source": [
    "rows = cursor.fetchall()"
   ]
  },
  {
   "cell_type": "code",
   "execution_count": 425,
   "id": "3e175ada",
   "metadata": {},
   "outputs": [],
   "source": [
    "df_original = pd.read_sql_query(\"SELECT * from geofree_api_item\", conn)\n"
   ]
  },
  {
   "cell_type": "code",
   "execution_count": 426,
   "id": "953e16d8",
   "metadata": {},
   "outputs": [
    {
     "data": {
      "text/html": [
       "<div>\n",
       "<style scoped>\n",
       "    .dataframe tbody tr th:only-of-type {\n",
       "        vertical-align: middle;\n",
       "    }\n",
       "\n",
       "    .dataframe tbody tr th {\n",
       "        vertical-align: top;\n",
       "    }\n",
       "\n",
       "    .dataframe thead th {\n",
       "        text-align: right;\n",
       "    }\n",
       "</style>\n",
       "<table border=\"1\" class=\"dataframe\">\n",
       "  <thead>\n",
       "    <tr style=\"text-align: right;\">\n",
       "      <th></th>\n",
       "      <th>id</th>\n",
       "      <th>title</th>\n",
       "      <th>description</th>\n",
       "      <th>available</th>\n",
       "      <th>creation_date</th>\n",
       "      <th>latitude</th>\n",
       "      <th>longitude</th>\n",
       "      <th>condition</th>\n",
       "      <th>categories</th>\n",
       "      <th>views</th>\n",
       "      <th>likes</th>\n",
       "      <th>point</th>\n",
       "    </tr>\n",
       "  </thead>\n",
       "  <tbody>\n",
       "    <tr>\n",
       "      <th>0</th>\n",
       "      <td>1</td>\n",
       "      <td>men's shoes</td>\n",
       "      <td>Men's running shoes, blue, size 42</td>\n",
       "      <td>1</td>\n",
       "      <td>2023-03-29</td>\n",
       "      <td>45.519927</td>\n",
       "      <td>-73.574611</td>\n",
       "      <td>good</td>\n",
       "      <td>Clothes</td>\n",
       "      <td>0</td>\n",
       "      <td>0</td>\n",
       "      <td>b'\\x00\\x01\\xe6\\x10\\x00\\x00_Zyn\\xc6dR\\xc0\\x9ahF...</td>\n",
       "    </tr>\n",
       "    <tr>\n",
       "      <th>1</th>\n",
       "      <td>2</td>\n",
       "      <td>Old sofa</td>\n",
       "      <td>Old sofa, brown leather</td>\n",
       "      <td>1</td>\n",
       "      <td>2023-03-29</td>\n",
       "      <td>45.519936</td>\n",
       "      <td>-73.574608</td>\n",
       "      <td>acceptable</td>\n",
       "      <td>Furniture</td>\n",
       "      <td>0</td>\n",
       "      <td>0</td>\n",
       "      <td>b'\\x00\\x01\\xe6\\x10\\x00\\x00\\xb2A\\xcb_\\xc6dR\\xc0...</td>\n",
       "    </tr>\n",
       "    <tr>\n",
       "      <th>2</th>\n",
       "      <td>3</td>\n",
       "      <td>running shoes</td>\n",
       "      <td>Men's running shoes, blue, size 42</td>\n",
       "      <td>1</td>\n",
       "      <td>2023-03-30</td>\n",
       "      <td>52.567184</td>\n",
       "      <td>13.406266</td>\n",
       "      <td>good</td>\n",
       "      <td>Clothes</td>\n",
       "      <td>0</td>\n",
       "      <td>0</td>\n",
       "      <td>b'\\x00\\x01\\xe6\\x10\\x00\\x00j\\xf29\\x1c\\x02\\xd0*@...</td>\n",
       "    </tr>\n",
       "  </tbody>\n",
       "</table>\n",
       "</div>"
      ],
      "text/plain": [
       "   id          title                         description  available  \\\n",
       "0   1    men's shoes  Men's running shoes, blue, size 42          1   \n",
       "1   2       Old sofa             Old sofa, brown leather          1   \n",
       "2   3  running shoes  Men's running shoes, blue, size 42          1   \n",
       "\n",
       "  creation_date   latitude  longitude   condition categories  views  likes  \\\n",
       "0    2023-03-29  45.519927 -73.574611        good    Clothes      0      0   \n",
       "1    2023-03-29  45.519936 -73.574608  acceptable  Furniture      0      0   \n",
       "2    2023-03-30  52.567184  13.406266        good    Clothes      0      0   \n",
       "\n",
       "                                               point  \n",
       "0  b'\\x00\\x01\\xe6\\x10\\x00\\x00_Zyn\\xc6dR\\xc0\\x9ahF...  \n",
       "1  b'\\x00\\x01\\xe6\\x10\\x00\\x00\\xb2A\\xcb_\\xc6dR\\xc0...  \n",
       "2  b'\\x00\\x01\\xe6\\x10\\x00\\x00j\\xf29\\x1c\\x02\\xd0*@...  "
      ]
     },
     "execution_count": 426,
     "metadata": {},
     "output_type": "execute_result"
    }
   ],
   "source": [
    "df = df_original.copy()\n",
    "df.head()\n",
    "# df.shape\n",
    "# df.columns"
   ]
  },
  {
   "cell_type": "code",
   "execution_count": null,
   "id": "c506b0af",
   "metadata": {},
   "outputs": [],
   "source": [
    "\n"
   ]
  },
  {
   "cell_type": "code",
   "execution_count": 427,
   "id": "2d936776",
   "metadata": {},
   "outputs": [
    {
     "name": "stdout",
     "output_type": "stream",
     "text": [
      "<class 'pandas.core.frame.DataFrame'>\n",
      "RangeIndex: 3 entries, 0 to 2\n",
      "Data columns (total 12 columns):\n",
      " #   Column         Non-Null Count  Dtype  \n",
      "---  ------         --------------  -----  \n",
      " 0   id             3 non-null      int64  \n",
      " 1   title          3 non-null      object \n",
      " 2   description    3 non-null      object \n",
      " 3   available      3 non-null      int64  \n",
      " 4   creation_date  3 non-null      object \n",
      " 5   latitude       3 non-null      float64\n",
      " 6   longitude      3 non-null      float64\n",
      " 7   condition      3 non-null      object \n",
      " 8   categories     3 non-null      object \n",
      " 9   views          3 non-null      int64  \n",
      " 10  likes          3 non-null      int64  \n",
      " 11  point          3 non-null      object \n",
      "dtypes: float64(2), int64(4), object(6)\n",
      "memory usage: 416.0+ bytes\n"
     ]
    }
   ],
   "source": [
    "df.info()"
   ]
  },
  {
   "cell_type": "code",
   "execution_count": null,
   "id": "8682a7ee",
   "metadata": {},
   "outputs": [],
   "source": [
    "\n",
    "\n",
    "\n"
   ]
  },
  {
   "cell_type": "code",
   "execution_count": 428,
   "id": "cebfccb4",
   "metadata": {},
   "outputs": [
    {
     "data": {
      "text/html": [
       "<div>\n",
       "<style scoped>\n",
       "    .dataframe tbody tr th:only-of-type {\n",
       "        vertical-align: middle;\n",
       "    }\n",
       "\n",
       "    .dataframe tbody tr th {\n",
       "        vertical-align: top;\n",
       "    }\n",
       "\n",
       "    .dataframe thead th {\n",
       "        text-align: right;\n",
       "    }\n",
       "</style>\n",
       "<table border=\"1\" class=\"dataframe\">\n",
       "  <thead>\n",
       "    <tr style=\"text-align: right;\">\n",
       "      <th></th>\n",
       "      <th>id</th>\n",
       "      <th>title</th>\n",
       "      <th>description</th>\n",
       "      <th>available</th>\n",
       "      <th>creation_date</th>\n",
       "      <th>latitude</th>\n",
       "      <th>longitude</th>\n",
       "      <th>condition</th>\n",
       "      <th>categories</th>\n",
       "      <th>views</th>\n",
       "      <th>likes</th>\n",
       "      <th>point</th>\n",
       "    </tr>\n",
       "  </thead>\n",
       "  <tbody>\n",
       "    <tr>\n",
       "      <th>0</th>\n",
       "      <td>1</td>\n",
       "      <td>men's shoes</td>\n",
       "      <td>Men's running shoes, blue, size 42</td>\n",
       "      <td>1</td>\n",
       "      <td>2023-03-29</td>\n",
       "      <td>45.519927</td>\n",
       "      <td>-73.574611</td>\n",
       "      <td>good</td>\n",
       "      <td>Clothes</td>\n",
       "      <td>0</td>\n",
       "      <td>0</td>\n",
       "      <td>b'\\x00\\x01\\xe6\\x10\\x00\\x00_Zyn\\xc6dR\\xc0\\x9ahF...</td>\n",
       "    </tr>\n",
       "    <tr>\n",
       "      <th>1</th>\n",
       "      <td>2</td>\n",
       "      <td>Old sofa</td>\n",
       "      <td>Old sofa, brown leather</td>\n",
       "      <td>1</td>\n",
       "      <td>2023-03-29</td>\n",
       "      <td>45.519936</td>\n",
       "      <td>-73.574608</td>\n",
       "      <td>acceptable</td>\n",
       "      <td>Furniture</td>\n",
       "      <td>0</td>\n",
       "      <td>0</td>\n",
       "      <td>b'\\x00\\x01\\xe6\\x10\\x00\\x00\\xb2A\\xcb_\\xc6dR\\xc0...</td>\n",
       "    </tr>\n",
       "    <tr>\n",
       "      <th>2</th>\n",
       "      <td>3</td>\n",
       "      <td>running shoes</td>\n",
       "      <td>Men's running shoes, blue, size 42</td>\n",
       "      <td>1</td>\n",
       "      <td>2023-03-30</td>\n",
       "      <td>52.567184</td>\n",
       "      <td>13.406266</td>\n",
       "      <td>good</td>\n",
       "      <td>Clothes</td>\n",
       "      <td>0</td>\n",
       "      <td>0</td>\n",
       "      <td>b'\\x00\\x01\\xe6\\x10\\x00\\x00j\\xf29\\x1c\\x02\\xd0*@...</td>\n",
       "    </tr>\n",
       "  </tbody>\n",
       "</table>\n",
       "</div>"
      ],
      "text/plain": [
       "   id          title                         description  available  \\\n",
       "0   1    men's shoes  Men's running shoes, blue, size 42          1   \n",
       "1   2       Old sofa             Old sofa, brown leather          1   \n",
       "2   3  running shoes  Men's running shoes, blue, size 42          1   \n",
       "\n",
       "  creation_date   latitude  longitude   condition categories  views  likes  \\\n",
       "0    2023-03-29  45.519927 -73.574611        good    Clothes      0      0   \n",
       "1    2023-03-29  45.519936 -73.574608  acceptable  Furniture      0      0   \n",
       "2    2023-03-30  52.567184  13.406266        good    Clothes      0      0   \n",
       "\n",
       "                                               point  \n",
       "0  b'\\x00\\x01\\xe6\\x10\\x00\\x00_Zyn\\xc6dR\\xc0\\x9ahF...  \n",
       "1  b'\\x00\\x01\\xe6\\x10\\x00\\x00\\xb2A\\xcb_\\xc6dR\\xc0...  \n",
       "2  b'\\x00\\x01\\xe6\\x10\\x00\\x00j\\xf29\\x1c\\x02\\xd0*@...  "
      ]
     },
     "execution_count": 428,
     "metadata": {},
     "output_type": "execute_result"
    }
   ],
   "source": [
    "df.head()"
   ]
  },
  {
   "cell_type": "code",
   "execution_count": null,
   "id": "2ee806f3",
   "metadata": {},
   "outputs": [],
   "source": [
    "\n",
    "\n"
   ]
  },
  {
   "cell_type": "code",
   "execution_count": 429,
   "id": "f4a9bebb",
   "metadata": {},
   "outputs": [],
   "source": [
    "ranking_df = pd.read_sql_query(\"SELECT * from geofree_api_item\", conn)\n",
    "ranking_df = ranking_df.drop('point', axis=1)\n"
   ]
  },
  {
   "cell_type": "code",
   "execution_count": 430,
   "id": "6e5e2a57",
   "metadata": {},
   "outputs": [],
   "source": [
    "ranking_df['condition'] = ranking_df['condition'].replace('like_new', 1).replace('good', 2).replace('acceptable', 3).replace('poor', 4)\n",
    "\n",
    "ranking_df['creation_date'] = pd.to_datetime(ranking_df['creation_date'])\n",
    "ranking_df['age'] = round((pd.Timestamp.now() - ranking_df['creation_date']) / pd.Timedelta(hours=1), 1)\n"
   ]
  },
  {
   "cell_type": "code",
   "execution_count": 431,
   "id": "417455ae",
   "metadata": {},
   "outputs": [],
   "source": [
    "# ranking_df"
   ]
  },
  {
   "cell_type": "code",
   "execution_count": 432,
   "id": "e5e78fd3",
   "metadata": {},
   "outputs": [],
   "source": [
    "# url = 'https://geofree.pythonanywhere.com/api/item-user-distance/?user_latitude=52.4480155&user_longitude=13.3832992'\n"
   ]
  },
  {
   "cell_type": "code",
   "execution_count": 433,
   "id": "18cb3ee9",
   "metadata": {},
   "outputs": [],
   "source": [
    "# response = requests.get(url)"
   ]
  },
  {
   "cell_type": "code",
   "execution_count": 434,
   "id": "c64da901",
   "metadata": {},
   "outputs": [],
   "source": [
    "# parsed_url = urlparse(url)\n",
    "# path = parsed_url.path"
   ]
  },
  {
   "cell_type": "code",
   "execution_count": 435,
   "id": "cb2213ad",
   "metadata": {},
   "outputs": [],
   "source": [
    "# distance_km = response.json()\n",
    "# distance_km"
   ]
  },
  {
   "cell_type": "code",
   "execution_count": 436,
   "id": "1b569681",
   "metadata": {},
   "outputs": [],
   "source": [
    "# json_str = json.dumps({'distance_km': distance_km})"
   ]
  },
  {
   "cell_type": "code",
   "execution_count": 437,
   "id": "4cd66287",
   "metadata": {},
   "outputs": [],
   "source": [
    "# # Parse the JSON string into a Python object\n",
    "# data = json.loads(json_str)"
   ]
  },
  {
   "cell_type": "code",
   "execution_count": 438,
   "id": "08dfc4ae",
   "metadata": {},
   "outputs": [],
   "source": [
    "# print(data)"
   ]
  },
  {
   "cell_type": "code",
   "execution_count": 439,
   "id": "02b904c2",
   "metadata": {},
   "outputs": [],
   "source": [
    "# distances = data['distance_km']['distances']"
   ]
  },
  {
   "cell_type": "code",
   "execution_count": 440,
   "id": "23ee4244",
   "metadata": {},
   "outputs": [],
   "source": [
    "# distances_df = pd.DataFrame(distances, columns=['item_id', 'distance_kms'])\n",
    "# distances_df"
   ]
  },
  {
   "cell_type": "code",
   "execution_count": 441,
   "id": "e5440d3e",
   "metadata": {},
   "outputs": [],
   "source": [
    "# distances_df = distances_df.rename(columns={'item_id': 'id'})"
   ]
  },
  {
   "cell_type": "code",
   "execution_count": null,
   "id": "e4492d1d",
   "metadata": {},
   "outputs": [],
   "source": []
  },
  {
   "cell_type": "code",
   "execution_count": 442,
   "id": "ba7fe0a9",
   "metadata": {},
   "outputs": [],
   "source": [
    "url_search = 'https://geofree.pythonanywhere.com/api/get-categories/'\n"
   ]
  },
  {
   "cell_type": "code",
   "execution_count": 443,
   "id": "727eefde",
   "metadata": {},
   "outputs": [],
   "source": [
    "response2 = requests.get(url_search)"
   ]
  },
  {
   "cell_type": "code",
   "execution_count": 444,
   "id": "55b08dda",
   "metadata": {},
   "outputs": [],
   "source": [
    "parsed_url = urlparse(url_search)\n",
    "path = parsed_url.path"
   ]
  },
  {
   "cell_type": "code",
   "execution_count": 445,
   "id": "05a1cb97",
   "metadata": {},
   "outputs": [
    {
     "data": {
      "text/plain": [
       "[{'name': 'All'},\n",
       " {'name': 'Furniture'},\n",
       " {'name': 'Clothes'},\n",
       " {'name': 'Kitchen'},\n",
       " {'name': 'Kids toys'},\n",
       " {'name': 'Plants'}]"
      ]
     },
     "execution_count": 445,
     "metadata": {},
     "output_type": "execute_result"
    }
   ],
   "source": [
    "get_categories = response2.json()\n",
    "get_categories"
   ]
  },
  {
   "cell_type": "code",
   "execution_count": 446,
   "id": "40d52a97",
   "metadata": {},
   "outputs": [
    {
     "data": {
      "text/plain": [
       "'Furniture'"
      ]
     },
     "execution_count": 446,
     "metadata": {},
     "output_type": "execute_result"
    }
   ],
   "source": [
    "# chosen_category=get_categories[0]\n",
    "# chosen_category\n",
    "\n",
    "chosen_category = get_categories[1]['name']\n",
    "chosen_category"
   ]
  },
  {
   "cell_type": "code",
   "execution_count": 447,
   "id": "850e8e07",
   "metadata": {},
   "outputs": [],
   "source": [
    "# ranking_df_clean = ranking_df.copy()"
   ]
  },
  {
   "cell_type": "code",
   "execution_count": 448,
   "id": "a082338d",
   "metadata": {},
   "outputs": [
    {
     "data": {
      "text/html": [
       "<div>\n",
       "<style scoped>\n",
       "    .dataframe tbody tr th:only-of-type {\n",
       "        vertical-align: middle;\n",
       "    }\n",
       "\n",
       "    .dataframe tbody tr th {\n",
       "        vertical-align: top;\n",
       "    }\n",
       "\n",
       "    .dataframe thead th {\n",
       "        text-align: right;\n",
       "    }\n",
       "</style>\n",
       "<table border=\"1\" class=\"dataframe\">\n",
       "  <thead>\n",
       "    <tr style=\"text-align: right;\">\n",
       "      <th></th>\n",
       "      <th>id</th>\n",
       "      <th>title</th>\n",
       "      <th>description</th>\n",
       "      <th>available</th>\n",
       "      <th>creation_date</th>\n",
       "      <th>latitude</th>\n",
       "      <th>longitude</th>\n",
       "      <th>condition</th>\n",
       "      <th>categories</th>\n",
       "      <th>views</th>\n",
       "      <th>likes</th>\n",
       "      <th>age</th>\n",
       "      <th>creation_date_rank</th>\n",
       "      <th>condition_rank</th>\n",
       "      <th>views_rank</th>\n",
       "      <th>likes_rank</th>\n",
       "      <th>age_rank</th>\n",
       "      <th>overall_rank</th>\n",
       "    </tr>\n",
       "  </thead>\n",
       "  <tbody>\n",
       "    <tr>\n",
       "      <th>1</th>\n",
       "      <td>2</td>\n",
       "      <td>Old sofa</td>\n",
       "      <td>Old sofa, brown leather</td>\n",
       "      <td>1</td>\n",
       "      <td>2023-03-29</td>\n",
       "      <td>45.519936</td>\n",
       "      <td>-73.574608</td>\n",
       "      <td>3</td>\n",
       "      <td>Furniture</td>\n",
       "      <td>0</td>\n",
       "      <td>0</td>\n",
       "      <td>116.9</td>\n",
       "      <td>1.0</td>\n",
       "      <td>1.0</td>\n",
       "      <td>1.0</td>\n",
       "      <td>1.0</td>\n",
       "      <td>1.0</td>\n",
       "      <td>0.8</td>\n",
       "    </tr>\n",
       "  </tbody>\n",
       "</table>\n",
       "</div>"
      ],
      "text/plain": [
       "   id     title              description  available creation_date   latitude  \\\n",
       "1   2  Old sofa  Old sofa, brown leather          1    2023-03-29  45.519936   \n",
       "\n",
       "   longitude  condition categories  views  likes    age  creation_date_rank  \\\n",
       "1 -73.574608          3  Furniture      0      0  116.9                 1.0   \n",
       "\n",
       "   condition_rank  views_rank  likes_rank  age_rank  overall_rank  \n",
       "1             1.0         1.0         1.0       1.0           0.8  "
      ]
     },
     "execution_count": 448,
     "metadata": {},
     "output_type": "execute_result"
    }
   ],
   "source": [
    "# ranking_df_clean = ranking_df_clean[ranking_df_clean['categories'] == chosen_category]\n",
    "\n",
    "# ranking_df_clean['creation_date_rank'] = ranking_df_clean['creation_date'].rank(method='min', ascending=True)\n",
    "# ranking_df_clean['condition_rank'] = ranking_df_clean['condition'].rank(method='min', ascending=True)\n",
    "# ranking_df_clean['views_rank'] = ranking_df_clean['views'].rank(method='min', ascending=False)\n",
    "# ranking_df_clean['likes_rank'] = ranking_df_clean['likes'].rank(method='min', ascending=False)\n",
    "# ranking_df_clean['age_rank'] = ranking_df_clean['age'].rank(method='min', ascending=True)\n",
    "\n",
    "# calculate overall rank based on the average of Salary_Rank and Age_Rank\n",
    "# ranking_df_clean['overall_rank'] = (ranking_df_clean['creation_date_rank'] + ranking_df_clean['condition_rank'] + ranking_df_clean['views_rank'] + ranking_df_clean['likes_rank']) / 5\n",
    "\n",
    "# ranking_df_clean\n",
    "\n"
   ]
  },
  {
   "cell_type": "code",
   "execution_count": null,
   "id": "c8a9d193",
   "metadata": {},
   "outputs": [],
   "source": [
    " # create a new copy of the df\n",
    "ranking_df_filtered = ranking_df.copy()"
   ]
  },
  {
   "cell_type": "code",
   "execution_count": null,
   "id": "5866fa39",
   "metadata": {},
   "outputs": [],
   "source": [
    "\n"
   ]
  },
  {
   "cell_type": "code",
   "execution_count": 457,
   "id": "e690f1df",
   "metadata": {},
   "outputs": [],
   "source": [
    "# filter by categories\n",
    "ranking_df_filtered = ranking_df_clean[ranking_df_clean['categories'] == chosen_category]  #|(ranking_df_clean['categories'] in chosen_category)]\n",
    "\n",
    "# rank these columns \n",
    "ranking_df_filtered['creation_date_rank'] = ranking_df_filtered['creation_date'].rank(method='min', ascending=True)\n",
    "ranking_df_filtered['condition_rank'] = ranking_df_filtered['condition'].rank(method='min', ascending=True)\n",
    "ranking_df_filtered['views_rank'] = ranking_df_filtered['views'].rank(method='min', ascending=False)\n",
    "ranking_df_filtered['likes_rank'] = ranking_df_filtered['likes'].rank(method='min', ascending=False)\n",
    "ranking_df_filtered['age_rank'] = ranking_df_filtered['age'].rank(method='min', ascending=True)\n",
    "ranking_df_filtered['overall_rank'] = (ranking_df_filtered['creation_date_rank'] + ranking_df_filtered['condition_rank'] + ranking_df_filtered['views_rank'] + ranking_df_filtered['likes_rank']) / 5\n",
    "ranking_sorted = ranking_df_filtered.sort_values(by='overall_rank', ascending = False)\n"
   ]
  },
  {
   "cell_type": "code",
   "execution_count": 449,
   "id": "366845af",
   "metadata": {},
   "outputs": [
    {
     "data": {
      "text/html": [
       "<div>\n",
       "<style scoped>\n",
       "    .dataframe tbody tr th:only-of-type {\n",
       "        vertical-align: middle;\n",
       "    }\n",
       "\n",
       "    .dataframe tbody tr th {\n",
       "        vertical-align: top;\n",
       "    }\n",
       "\n",
       "    .dataframe thead th {\n",
       "        text-align: right;\n",
       "    }\n",
       "</style>\n",
       "<table border=\"1\" class=\"dataframe\">\n",
       "  <thead>\n",
       "    <tr style=\"text-align: right;\">\n",
       "      <th></th>\n",
       "      <th>id</th>\n",
       "      <th>title</th>\n",
       "      <th>description</th>\n",
       "      <th>available</th>\n",
       "      <th>creation_date</th>\n",
       "      <th>latitude</th>\n",
       "      <th>longitude</th>\n",
       "      <th>condition</th>\n",
       "      <th>categories</th>\n",
       "      <th>views</th>\n",
       "      <th>likes</th>\n",
       "      <th>age</th>\n",
       "      <th>creation_date_rank</th>\n",
       "      <th>condition_rank</th>\n",
       "      <th>views_rank</th>\n",
       "      <th>likes_rank</th>\n",
       "      <th>age_rank</th>\n",
       "      <th>overall_rank</th>\n",
       "    </tr>\n",
       "  </thead>\n",
       "  <tbody>\n",
       "    <tr>\n",
       "      <th>1</th>\n",
       "      <td>2</td>\n",
       "      <td>Old sofa</td>\n",
       "      <td>Old sofa, brown leather</td>\n",
       "      <td>1</td>\n",
       "      <td>2023-03-29</td>\n",
       "      <td>45.519936</td>\n",
       "      <td>-73.574608</td>\n",
       "      <td>3</td>\n",
       "      <td>Furniture</td>\n",
       "      <td>0</td>\n",
       "      <td>0</td>\n",
       "      <td>116.9</td>\n",
       "      <td>1.0</td>\n",
       "      <td>1.0</td>\n",
       "      <td>1.0</td>\n",
       "      <td>1.0</td>\n",
       "      <td>1.0</td>\n",
       "      <td>0.8</td>\n",
       "    </tr>\n",
       "  </tbody>\n",
       "</table>\n",
       "</div>"
      ],
      "text/plain": [
       "   id     title              description  available creation_date   latitude  \\\n",
       "1   2  Old sofa  Old sofa, brown leather          1    2023-03-29  45.519936   \n",
       "\n",
       "   longitude  condition categories  views  likes    age  creation_date_rank  \\\n",
       "1 -73.574608          3  Furniture      0      0  116.9                 1.0   \n",
       "\n",
       "   condition_rank  views_rank  likes_rank  age_rank  overall_rank  \n",
       "1             1.0         1.0         1.0       1.0           0.8  "
      ]
     },
     "execution_count": 449,
     "metadata": {},
     "output_type": "execute_result"
    }
   ],
   "source": [
    "ranking_sorted = ranking_df_filtered.sort_values(by='overall_rank', ascending = False)\n",
    "ranking_sorted"
   ]
  },
  {
   "cell_type": "code",
   "execution_count": 450,
   "id": "b594aadf",
   "metadata": {},
   "outputs": [
    {
     "data": {
      "text/plain": [
       "1    2\n",
       "Name: id, dtype: int64"
      ]
     },
     "execution_count": 450,
     "metadata": {},
     "output_type": "execute_result"
    }
   ],
   "source": [
    "ranked_id = ranking_sorted['id']\n",
    "ranked_id"
   ]
  },
  {
   "cell_type": "code",
   "execution_count": null,
   "id": "43d8b0b1",
   "metadata": {},
   "outputs": [],
   "source": []
  },
  {
   "cell_type": "code",
   "execution_count": 451,
   "id": "33350a3e",
   "metadata": {},
   "outputs": [],
   "source": [
    "# def recommend(chosen_category):\n",
    "#     conn = sqlite3.connect('data/db.sqlite3')\n",
    "#     cursor = conn.cursor()\n",
    "#     cursor.execute(\"SELECT * FROM geofree_api_item;\")\n",
    "#     rows = cursor.fetchall()\n",
    "#     df_original = pd.read_sql_query(\"SELECT * from geofree_api_item\", conn)\n",
    "#     df = df_original.copy()\n",
    "#     ranking_df = pd.read_sql_query(\"SELECT * from geofree_api_item\", conn)\n",
    "#     ranking_df = ranking_df.drop('point', axis=1)\n",
    "#     ranking_df['condition'] = ranking_df['condition'].replace('like_new', 1).replace('good', 2).replace('acceptable', 3).replace('poor', 4)\n",
    "#     url_search = 'https://geofree.pythonanywhere.com/api/get-categories/'\n",
    "#     response2 = requests.get(url_search)\n",
    "#     parsed_url = urlparse(url_search)\n",
    "#     path = parsed_url.path\n",
    "#     get_categories = response2.json()\n",
    "#     chosen_category = get_categories[0]['name']\n",
    "#     ranking_df_clean = ranking_df.copy()\n",
    "#     ranking_df_clean = ranking_df_clean[ranking_df_clean['categories'] == chosen_category]\n",
    "#     ranking_df_clean['creation_date_rank'] = ranking_df_clean['creation_date'].rank(method='max', ascending=False)\n",
    "#     ranking_df_clean['condition_rank'] = ranking_df_clean['condition'].rank(method='min', ascending=False)\n",
    "#     ranking_df_clean['views_rank'] = ranking_df_clean['views'].rank(method='min', ascending=False)\n",
    "#     ranking_df_clean['likes_rank'] = ranking_df_clean['likes'].rank(method='max', ascending=False)\n",
    "#     ranking_df_clean['overall_rank'] = (ranking_df_clean['creation_date_rank'] + ranking_df_clean['condition_rank'] + ranking_df_clean['views_rank'] + ranking_df_clean['likes_rank']) / 4\n",
    "#     ranking_sorted = ranking_df_clean.sort_values(by='overall_rank', ascending = False)\n",
    "#     ranked_id = ranking_sorted['id']\n",
    "\n",
    "\n",
    "# chosen_category = 'Clothes'\n",
    "# chosen_category = chosen_category.upper()\n",
    "# recommend(chosen_category)"
   ]
  }
 ],
 "metadata": {
  "kernelspec": {
   "display_name": "Python 3 (ipykernel)",
   "language": "python",
   "name": "python3"
  },
  "language_info": {
   "codemirror_mode": {
    "name": "ipython",
    "version": 3
   },
   "file_extension": ".py",
   "mimetype": "text/x-python",
   "name": "python",
   "nbconvert_exporter": "python",
   "pygments_lexer": "ipython3",
   "version": "3.10.4"
  }
 },
 "nbformat": 4,
 "nbformat_minor": 5
}
