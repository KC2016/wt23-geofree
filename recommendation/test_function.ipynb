{
 "cells": [
  {
   "cell_type": "code",
   "execution_count": null,
   "id": "9e70a6fe",
   "metadata": {},
   "outputs": [],
   "source": [
    "from recommendation_f import create_ranking_df"
   ]
  },
  {
   "cell_type": "code",
   "execution_count": null,
   "id": "e4a4ee65",
   "metadata": {},
   "outputs": [],
   "source": [
    "create_ranking_df(\"CLOTHES\")\n",
    "print(create_ranking_df(chosen_category))"
   ]
  },
  {
   "cell_type": "code",
   "execution_count": null,
   "id": "d918e9a2",
   "metadata": {},
   "outputs": [],
   "source": []
  },
  {
   "cell_type": "code",
   "execution_count": null,
   "id": "e7793759",
   "metadata": {},
   "outputs": [],
   "source": []
  },
  {
   "cell_type": "code",
   "execution_count": null,
   "id": "8bc1fe1d",
   "metadata": {},
   "outputs": [],
   "source": []
  },
  {
   "cell_type": "code",
   "execution_count": null,
   "id": "cc17308b",
   "metadata": {},
   "outputs": [],
   "source": []
  },
  {
   "cell_type": "code",
   "execution_count": null,
   "id": "d73ad5cd",
   "metadata": {},
   "outputs": [],
   "source": [
    "- add [black](https://black.readthedocs.io/en/stable/)\n",
    "- check [caching](https://docs.python.org/3/library/functools.html#functools.cache)\n",
    "- [context.closing]9https://docs.python.org/3/library/contextlib.html#contextlib.closing)"
   ]
  }
 ],
 "metadata": {
  "kernelspec": {
   "display_name": "Python 3 (ipykernel)",
   "language": "python",
   "name": "python3"
  },
  "language_info": {
   "codemirror_mode": {
    "name": "ipython",
    "version": 3
   },
   "file_extension": ".py",
   "mimetype": "text/x-python",
   "name": "python",
   "nbconvert_exporter": "python",
   "pygments_lexer": "ipython3",
   "version": "3.10.4"
  }
 },
 "nbformat": 4,
 "nbformat_minor": 5
}
