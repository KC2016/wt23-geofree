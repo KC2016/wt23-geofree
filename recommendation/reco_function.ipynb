{
 "cells": [
  {
   "cell_type": "code",
   "execution_count": 77,
   "id": "93c3abe5",
   "metadata": {},
   "outputs": [],
   "source": [
    "import sqlite3\n",
    "import pandas as pd\n",
    "import urllib.parse\n",
    "import urllib.parse\n",
    "import requests\n",
    "from urllib.parse import urlparse\n",
    "import json\n",
    "import datetime\n",
    "import datetime\n",
    "\n",
    "\n",
    "def create_ranking_df(chosen_category):\n",
    "    # connect the db\n",
    "    conn = sqlite3.connect('data/db.sqlite3')\n",
    "    # creates a cursor object that allows Python code to interact with the SQLite database\n",
    "    cursor = conn.cursor() \n",
    "    # execute the query\n",
    "    cursor.execute(\"SELECT * FROM geofree_api_item;\")\n",
    "    # the rows from the result set obtained by executing an SQL query\n",
    "    rows = cursor.fetchall() \n",
    "    # select the table\n",
    "    ranking_df = pd.read_sql_query(\"SELECT * from geofree_api_item\", conn) \n",
    "    # close sql connection\n",
    "    conn.close() \n",
    "    # remove the column point\n",
    "    ranking_df = ranking_df.drop('point', axis=1) \n",
    "    # encode the column condition\n",
    "    ranking_df['condition'] = ranking_df['condition'].replace('like_new', 1).replace('good', 2).replace('acceptable', 3).replace('poor', 4)\n",
    "    # convert the column creation_date in datetime\n",
    "    ranking_df['creation_date'] = pd.to_datetime(ranking_df['creation_date'])\n",
    "    # create a new column with post's ages in hours\n",
    "    ranking_df['age'] = round((pd.Timestamp.now() - ranking_df['creation_date']) / pd.Timedelta(hours=1), 1)\n",
    "    # create a new copy of the df\n",
    "    ranking_df_filtered = ranking_df.copy()\n",
    "    # filter by categories\n",
    "    ranking_df_filtered = ranking_df_clean[ranking_df_clean['categories'] == chosen_category]\n",
    "    # rank these columns \n",
    "    ranking_df_filtered['creation_date_rank'] = ranking_df_filtered['creation_date'].rank(method='min', ascending=True)\n",
    "    ranking_df_filtered['condition_rank'] = ranking_df_filtered['condition'].rank(method='min', ascending=True)\n",
    "    ranking_df_filtered['views_rank'] = ranking_df_filtered['views'].rank(method='min', ascending=False)\n",
    "    ranking_df_filtered['likes_rank'] = ranking_df_filtered['likes'].rank(method='min', ascending=False)\n",
    "#     ranking_df_filtered['age_rank'] = ranking_df_filtered['age'].rank(method='min', ascending=True)\n",
    "    ranking_df_filtered['overall_rank'] = (ranking_df_filtered['creation_date_rank'] + ranking_df_filtered['condition_rank'] + ranking_df_filtered['views_rank'] + ranking_df_filtered['likes_rank']) / 4\n",
    "    # sort by the higher overall_rank\n",
    "    ranking_sorted = ranking_df_filtered.sort_values(by='overall_rank', ascending = False)\n",
    "    # save only the ids\n",
    "    ranked_id = ranking_sorted['id']\n",
    "    return ranked_id\n",
    "\n"
   ]
  },
  {
   "cell_type": "code",
   "execution_count": 78,
   "id": "5ccfbd3d",
   "metadata": {},
   "outputs": [
    {
     "data": {
      "text/plain": [
       "Series([], Name: id, dtype: int64)"
      ]
     },
     "execution_count": 78,
     "metadata": {},
     "output_type": "execute_result"
    }
   ],
   "source": [
    "\n",
    "# chosen_category = 'Furniture'\n",
    "chosen_category = 'Clothes'\n",
    "chosen_category = chosen_category.upper()\n",
    "\n",
    "create_ranking_df(chosen_category)\n",
    "# prepare_df(ranking_df)\n",
    "# recommend(chosen_category)"
   ]
  },
  {
   "cell_type": "code",
   "execution_count": null,
   "id": "b2e26101",
   "metadata": {},
   "outputs": [],
   "source": []
  },
  {
   "cell_type": "code",
   "execution_count": null,
   "id": "f165d171",
   "metadata": {},
   "outputs": [],
   "source": []
  }
 ],
 "metadata": {
  "kernelspec": {
   "display_name": "Python 3 (ipykernel)",
   "language": "python",
   "name": "python3"
  },
  "language_info": {
   "codemirror_mode": {
    "name": "ipython",
    "version": 3
   },
   "file_extension": ".py",
   "mimetype": "text/x-python",
   "name": "python",
   "nbconvert_exporter": "python",
   "pygments_lexer": "ipython3",
   "version": "3.10.4"
  }
 },
 "nbformat": 4,
 "nbformat_minor": 5
}
