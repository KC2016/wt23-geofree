{
 "cells": [
  {
   "cell_type": "markdown",
   "id": "94097f77",
   "metadata": {},
   "source": [
    "# Random Forest Classification"
   ]
  },
  {
   "cell_type": "code",
   "execution_count": 51,
   "id": "ab6c0eaa",
   "metadata": {},
   "outputs": [],
   "source": [
    "import pandas as pd\n",
    "import numpy as np\n",
    "import seaborn as sns\n",
    "\n",
    "# Modelling\n",
    "from sklearn.ensemble import RandomForestClassifier\n",
    "from sklearn.metrics import accuracy_score, confusion_matrix, precision_score, recall_score, ConfusionMatrixDisplay\n",
    "from sklearn.model_selection import RandomizedSearchCV, train_test_split\n",
    "from scipy.stats import randint\n",
    "\n",
    "# Tree Visualisation\n",
    "from sklearn.tree import export_graphviz\n",
    "from IPython.display import Image\n",
    "# import graphviz\n",
    "\n",
    "from matplotlib import pyplot as plt\n",
    "\n",
    "from sklearn import tree\n",
    "from sklearn.metrics import f1_score\n",
    "\n",
    "from sklearn.metrics import precision_recall_curve\n",
    "# from sklearn.metrics import plot_precision_recall_curve\n",
    "from sklearn.metrics import precision_score\n",
    "from sklearn.metrics import recall_score\n",
    "\n",
    "\n",
    "from sklearn.ensemble import RandomForestClassifier\n",
    "from sklearn.model_selection import train_test_split\n",
    "from sklearn.metrics import accuracy_score\n",
    "\n",
    "# from sklearn.model_selection import GridSearchCV \n",
    "from sklearn.model_selection import RandomizedSearchCV as RSCV\n",
    "\n"
   ]
  },
  {
   "cell_type": "code",
   "execution_count": 52,
   "id": "f6352894",
   "metadata": {},
   "outputs": [],
   "source": [
    "SEED=100"
   ]
  },
  {
   "cell_type": "code",
   "execution_count": 53,
   "id": "36d5a7e5",
   "metadata": {},
   "outputs": [],
   "source": [
    "# data= pd.read_csv('data/ml_class_df.csv',index_col=None)\n",
    "\n",
    "\n",
    "def encoder(item_file):\n",
    "    data= pd.read_csv('data/ml_class_df.csv',index_col=None)\n",
    "    data = data[['item_category','item_condition','item_available_timer','distance','n_views','n_likes','item_available','item_id']]\n",
    "    item_data = data\n",
    "    item_data = item_data.replace('furniture', 1).replace('clothes', 2).replace('kitchen_utensils', 3).replace('kids', 4).replace('other', 5)\n",
    "    item_data= item_data.replace('like_new', 1).replace('good', 2).replace('acceptable', 3).replace('poor', 4)\n",
    "    item_data = item_data.drop('item_id', axis=1)\n",
    "    item_data_encoded = item_data.to_csv(\"data/item_data_encoded.csv\", index=False)\n",
    "    \n",
    "\n",
    "encoder(item_file)    \n"
   ]
  },
  {
   "cell_type": "code",
   "execution_count": null,
   "id": "0217842e",
   "metadata": {},
   "outputs": [],
   "source": [
    "# def rfc(test_size,max_depth, max_features, max_samples, n_estimators):\n",
    "#     item_data = pd.read_csv('data/item_data_encoded.csv',index_col=None)\n",
    "#     X = item_data.drop(['item_available'], axis=1)\n",
    "#     y = item_data['item_available']\n",
    "#     X_train, X_test, y_train, y_test = train_test_split(X, y, test_size=test_size)\n",
    "#     rfc = RandomForestClassifier(n_estimators=n_estimators, \n",
    "#                              max_depth=max_depth,\n",
    "#                              random_state=SEED)\n",
    "#     # Fit RandomForestClassifier\n",
    "#     rfc.fit(X_train, y_train)\n",
    "#     # Predict the test set labels\n",
    "#     y_pred = rfc.predict(X_test)\n",
    "#     print('Accuracy:', accuracy_score(y_test, y_pred))\n",
    "#     print('F1score:', f1_score(y_test, y_pred))\n",
    "#     print('Precision: ',precision_score(y_test, y_pred))\n",
    "#     print('Recall: ',recall_score(y_test, y_pred))\n",
    "#     results = pd.DataFrame({'Actual': y_test, 'Predicted': y_pred})\n",
    "#     print(results)\n"
   ]
  },
  {
   "cell_type": "code",
   "execution_count": 62,
   "id": "a713dfa2",
   "metadata": {},
   "outputs": [],
   "source": [
    "def rfc(test_size,max_depth, max_features, max_samples, n_estimators):\n",
    "    item_data = pd.read_csv('data/item_data_encoded.csv',index_col=None)\n",
    "    X = item_data.drop(['item_available'], axis=1)\n",
    "    y = item_data['item_available']\n",
    "    X_train, X_test, y_train, y_test = train_test_split(X, y, test_size=test_size)\n",
    "    rfc = RandomForestClassifier(n_estimators=n_estimators, \n",
    "                             max_depth=max_depth,\n",
    "                             random_state=SEED)\n",
    "    # Fit RandomForestClassifier\n",
    "    rfc.fit(X_train, y_train)\n",
    "    # Predict the test set labels\n",
    "    y_pred = rfc.predict(X_test)\n",
    "    print('Accuracy:', accuracy_score(y_test, y_pred))\n",
    "    print('F1score:', f1_score(y_test, y_pred))\n",
    "    print('Precision: ',precision_score(y_test, y_pred))\n",
    "    print('Recall: ',recall_score(y_test, y_pred))\n",
    "    results = pd.DataFrame({'Actual': y_test, 'Predicted': y_pred})\n",
    "    print(results)\n"
   ]
  },
  {
   "cell_type": "code",
   "execution_count": 63,
   "id": "402ba455",
   "metadata": {
    "scrolled": true
   },
   "outputs": [
    {
     "name": "stdout",
     "output_type": "stream",
     "text": [
      "Accuracy: 0.502\n",
      "F1score: 0.4222737819025522\n",
      "Precision:  0.5400593471810089\n",
      "Recall:  0.3466666666666667\n",
      "      Actual  Predicted\n",
      "1845       1          1\n",
      "1777       1          0\n",
      "4812       0          1\n",
      "1007       1          0\n",
      "933        1          0\n",
      "...      ...        ...\n",
      "2473       0          0\n",
      "1778       1          0\n",
      "3902       0          0\n",
      "48         1          1\n",
      "4814       1          1\n",
      "\n",
      "[1000 rows x 2 columns]\n"
     ]
    }
   ],
   "source": [
    "# using parameters found with RandomizedSearchCV \n",
    "test_size = 0.2\n",
    "max_depth=5\n",
    "max_features=0.5\n",
    "max_samples=0.3\n",
    "n_estimators=80\n",
    "\n",
    "rfc(test_size,max_depth, max_features, max_samples, n_estimators)"
   ]
  },
  {
   "cell_type": "code",
   "execution_count": 72,
   "id": "d51d4e03",
   "metadata": {},
   "outputs": [],
   "source": [
    "#\n",
    "\n",
    "\n",
    "# import schedule\n",
    "# import time\n",
    "\n",
    "# def my_function():\n",
    "#     # code to be executed every 10 seconds\n",
    "#     print(\"My function is running every 10 seconds!\")\n",
    "\n",
    "# # schedule the function to run every 10 seconds\n",
    "# schedule.every(10).seconds.do(my_function)\n",
    "\n",
    "# # run the scheduled tasks\n",
    "# while True:\n",
    "#     schedule.run_pending()\n",
    "#     time.sleep(1)"
   ]
  },
  {
   "cell_type": "code",
   "execution_count": null,
   "id": "39cef478",
   "metadata": {},
   "outputs": [],
   "source": []
  },
  {
   "cell_type": "code",
   "execution_count": null,
   "id": "ff725070",
   "metadata": {},
   "outputs": [],
   "source": []
  },
  {
   "cell_type": "code",
   "execution_count": null,
   "id": "64a56131",
   "metadata": {},
   "outputs": [],
   "source": []
  },
  {
   "cell_type": "code",
   "execution_count": 65,
   "id": "a5f66aea",
   "metadata": {},
   "outputs": [],
   "source": []
  },
  {
   "cell_type": "code",
   "execution_count": null,
   "id": "f25aebee",
   "metadata": {},
   "outputs": [],
   "source": []
  },
  {
   "cell_type": "code",
   "execution_count": null,
   "id": "3b0c80af",
   "metadata": {},
   "outputs": [],
   "source": []
  },
  {
   "cell_type": "code",
   "execution_count": null,
   "id": "30ebf9d7",
   "metadata": {},
   "outputs": [],
   "source": []
  },
  {
   "cell_type": "code",
   "execution_count": 56,
   "id": "dbc1491f",
   "metadata": {},
   "outputs": [],
   "source": [
    "# def rfc_tuning(test_size,param_grid):\n",
    "#     item_data = pd.read_csv('data/item_data_encoded.csv',index_col=None)\n",
    "    \n",
    "#     X = item_data.drop(['item_available'], axis=1)\n",
    "#     y = item_data['item_available']\n",
    "    \n",
    "#     X_train, X_test, y_train, y_test = train_test_split(X, y, test_size=test_size)\n",
    "#     rfc = RandomForestClassifier(n_estimators=n_estimators, \n",
    "#                              max_depth=max_depth,\n",
    "#                              random_state=SEED)\n",
    "    \n",
    "#     model = RSCV(RandomForestClassifier(), param_grid, n_iter = 15).fit(X_train, y_train)\n",
    "#     model = model.best_estimator_ \n",
    "#     model\n",
    "#     model.fit(X, y)\n",
    "    \n",
    "#     importances = model.feature_importances_\n",
    "#     std = np.std([tree.feature_importances_ for tree in model.estimators_],\n",
    "#                  axis=0)\n",
    "#     indices = np.argsort(importances)[::-1]\n",
    "\n",
    "#     print(indices)\n",
    "#     print(item_data.columns[indices])\n",
    "\n",
    "#     # Print the feature ranking\n",
    "#     print(\"Feature ranking:\")\n",
    "\n",
    "#     for f in range(X.shape[1]): # X.shape[1] is the number of columns\n",
    "#         print(\"%d. feature %d (%f)\" % (f + 1, indices[f], importances[indices[f]]))\n",
    "\n",
    "#     print('Accuracy:', accuracy_score(y_test, y_pred))\n",
    "#     print('F1score:', f1_score(y_test, y_pred))\n",
    "#     print('Precision: ',precision_score(y_test, y_pred))\n",
    "#     print('Recall: ',recall_score(y_test, y_pred))"
   ]
  },
  {
   "cell_type": "code",
   "execution_count": 57,
   "id": "47e7fd3c",
   "metadata": {},
   "outputs": [],
   "source": [
    "# param_grid = {'n_estimators':np.arange(50,200,15),\n",
    "#               'max_features':np.arange(0.1, 1, 0.1),\n",
    "#               'max_depth': [3, 5, 7, 9],\n",
    "#               'max_samples': [0.3, 0.5, 0.8]}\n",
    "\n",
    "# test_size = 0.2\n",
    "# rfc_tuning(test_size,param_grid)"
   ]
  },
  {
   "cell_type": "code",
   "execution_count": null,
   "id": "18618360",
   "metadata": {},
   "outputs": [],
   "source": []
  },
  {
   "cell_type": "code",
   "execution_count": null,
   "id": "446a0bb1",
   "metadata": {},
   "outputs": [],
   "source": []
  },
  {
   "cell_type": "code",
   "execution_count": null,
   "id": "f02a4509",
   "metadata": {},
   "outputs": [],
   "source": []
  },
  {
   "cell_type": "code",
   "execution_count": null,
   "id": "d5617ac5",
   "metadata": {},
   "outputs": [],
   "source": []
  },
  {
   "cell_type": "code",
   "execution_count": 58,
   "id": "5935a45f",
   "metadata": {},
   "outputs": [],
   "source": [
    "# def rfc_tuning(n_estimators,max_depth,min_samples_split,min_samples_leaf,max_features):\n",
    "#     item_data = pd.read_csv('data/item_data_encoded.csv',index_col=None)\n",
    "#     X = item_data.drop(['item_available'], axis=1)\n",
    "#     y = item_data['item_available']\n",
    "#     X_train, X_test, y_train, y_test = train_test_split(X, y, test_size=0.2, random_state=42)\n",
    "    \n",
    "    \n",
    "#     # Create the parameter grid\n",
    "#     param_grid = {'n_estimators': n_estimators,\n",
    "#                   'max_depth': max_depth,\n",
    "#                   'min_samples_split': min_samples_split,\n",
    "#                   'min_samples_leaf': min_samples_leaf,\n",
    "#                   'max_features': max_features}\n",
    "\n",
    "#     # Create a random forest classifier\n",
    "#     rf = RandomForestClassifier()\n",
    "\n",
    "#     # Instantiate the grid search model\n",
    "#     grid_search = GridSearchCV(estimator = rf, param_grid = param_grid, \n",
    "#                               cv = 5, n_jobs = -1, verbose = 2)\n",
    "\n",
    "#     # Fit the grid search to the data\n",
    "#     grid_search.fit(X_train, y_train)\n",
    "\n",
    "#     # Print the best hyperparameters\n",
    "#     print(grid_search.best_params_)\n",
    "    \n",
    "#     # Create a random forest classifier with the best hyperparameters\n",
    "#     rf_best = RandomForestClassifier(n_estimators=500, max_depth=15, min_samples_split=2, min_samples_leaf=1, max_features='sqrt')\n",
    "\n",
    "#     # Train the model\n",
    "#     rf_best.fit(X_train, y_train)\n",
    "\n",
    "#     # Make predictions on the testing set\n",
    "#     y_pred = rf_best.predict(X_test)\n",
    "\n",
    "#     # Evaluate the performance of the model\n",
    "#     accuracy = accuracy_score(y_test, y_pred)\n",
    "#     print(\"Accuracy: \", accuracy)\n"
   ]
  },
  {
   "cell_type": "code",
   "execution_count": 59,
   "id": "7f223f8e",
   "metadata": {},
   "outputs": [],
   "source": [
    "# # n_estimators = [100, 300, 500]\n",
    "# # max_depth = [5, 10, 15, 20]\n",
    "# # min_samples_split = [2, 5, 10]\n",
    "# # min_samples_leaf = [1, 2, 4]\n",
    "# # max_features = ['sqrt', 'log2']\n",
    "\n",
    "# n_estimators = [50, 200, 15]\n",
    "# max_depth = [3, 5, 7, 9]\n",
    "# min_samples_split = [2, 5, 10]\n",
    "# min_samples_leaf = [1, 2, 4]\n",
    "# max_features = ['sqrt', 'log2']\n",
    "\n",
    "# rfc_tuning(n_estimators,max_depth,min_samples_split,min_samples_leaf,max_features)"
   ]
  },
  {
   "cell_type": "code",
   "execution_count": null,
   "id": "3761f1f7",
   "metadata": {},
   "outputs": [],
   "source": [
    "\n"
   ]
  },
  {
   "cell_type": "code",
   "execution_count": null,
   "id": "092ba473",
   "metadata": {},
   "outputs": [],
   "source": []
  },
  {
   "cell_type": "code",
   "execution_count": null,
   "id": "34b71474",
   "metadata": {},
   "outputs": [],
   "source": []
  },
  {
   "cell_type": "code",
   "execution_count": null,
   "id": "dde4a58b",
   "metadata": {},
   "outputs": [],
   "source": []
  }
 ],
 "metadata": {
  "kernelspec": {
   "display_name": "Python 3 (ipykernel)",
   "language": "python",
   "name": "python3"
  },
  "language_info": {
   "codemirror_mode": {
    "name": "ipython",
    "version": 3
   },
   "file_extension": ".py",
   "mimetype": "text/x-python",
   "name": "python",
   "nbconvert_exporter": "python",
   "pygments_lexer": "ipython3",
   "version": "3.10.4"
  }
 },
 "nbformat": 4,
 "nbformat_minor": 5
}
