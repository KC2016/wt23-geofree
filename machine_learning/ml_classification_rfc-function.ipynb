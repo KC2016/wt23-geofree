{
 "cells": [
  {
   "cell_type": "markdown",
   "id": "94097f77",
   "metadata": {},
   "source": [
    "# Random Forest Classification"
   ]
  },
  {
   "cell_type": "code",
   "execution_count": 1,
   "id": "ab6c0eaa",
   "metadata": {},
   "outputs": [],
   "source": [
    "import pandas as pd\n",
    "import numpy as np\n",
    "import seaborn as sns\n",
    "\n",
    "# Modelling\n",
    "from sklearn.ensemble import RandomForestClassifier\n",
    "from sklearn.metrics import accuracy_score, confusion_matrix, precision_score, recall_score, ConfusionMatrixDisplay\n",
    "from sklearn.model_selection import RandomizedSearchCV, train_test_split\n",
    "from scipy.stats import randint\n",
    "\n",
    "# Tree Visualisation\n",
    "from sklearn.tree import export_graphviz\n",
    "from IPython.display import Image\n",
    "# import graphviz\n",
    "\n",
    "from matplotlib import pyplot as plt\n",
    "\n",
    "from sklearn import tree\n",
    "from sklearn.metrics import f1_score\n",
    "\n",
    "from sklearn.metrics import precision_recall_curve\n",
    "# from sklearn.metrics import plot_precision_recall_curve\n",
    "from sklearn.metrics import precision_score\n",
    "from sklearn.metrics import recall_score\n",
    "\n",
    "\n",
    "from sklearn.ensemble import RandomForestClassifier\n",
    "from sklearn.model_selection import train_test_split\n",
    "from sklearn.metrics import accuracy_score\n",
    "\n",
    "# from sklearn.model_selection import GridSearchCV \n",
    "from sklearn.model_selection import RandomizedSearchCV as RSCV\n",
    "\n"
   ]
  },
  {
   "cell_type": "code",
   "execution_count": 2,
   "id": "f6352894",
   "metadata": {},
   "outputs": [],
   "source": [
    "SEED=100"
   ]
  },
  {
   "cell_type": "code",
   "execution_count": 10,
   "id": "ea2ec779",
   "metadata": {},
   "outputs": [],
   "source": [
    "data= pd.read_csv('data/ml_class_df.csv',index_col=None)\n",
    "def encoder(data):\n",
    "    data = data[['item_category','item_condition','item_available_timer','distance','n_views','n_likes','item_available','item_id']]\n",
    "    item_data = data\n",
    "    item_data = item_data.replace('furniture', 1).replace('clothes', 2).replace('kitchen_utensils', 3).replace('kids', 4).replace('other', 5)\n",
    "    item_data= item_data.replace('like_new', 1).replace('good', 2).replace('acceptable', 3).replace('poor', 4)\n",
    "    item_data = item_data.drop('item_id', axis=1)\n",
    "    item_data_encoded = item_data.to_csv(\"data/item_data_encoded.csv\", index=False)\n",
    "    \n",
    "\n",
    "encoder(data)    \n"
   ]
  },
  {
   "cell_type": "code",
   "execution_count": 20,
   "id": "a713dfa2",
   "metadata": {},
   "outputs": [],
   "source": [
    "def rfc(test_size,max_depth, max_features, max_samples, n_estimators):\n",
    "    item_data = pd.read_csv('data/item_data_encoded.csv',index_col=None)\n",
    "    X = item_data.drop(['item_available'], axis=1)\n",
    "    y = item_data['item_available']\n",
    "    X_train, X_test, y_train, y_test = train_test_split(X, y, test_size=test_size)\n",
    "    rfc = RandomForestClassifier(n_estimators=n_estimators, \n",
    "                             max_depth=max_depth,\n",
    "                             random_state=SEED)\n",
    "    # Fit RandomForestClassifier\n",
    "    rfc.fit(X_train, y_train)\n",
    "    # Predict the test set labels\n",
    "    y_pred = rfc.predict(X_test)\n",
    "    # print scores\n",
    "    print('Accuracy:', accuracy_score(y_test, y_pred))\n",
    "    print('F1score:', f1_score(y_test, y_pred))\n",
    "    print('Precision: ',precision_score(y_test, y_pred))\n",
    "    print('Recall: ',recall_score(y_test, y_pred))\n",
    "    # apply the model to predict new data\n",
    "    new_data = pd.read_csv('data/new_data.csv',index_col=None)\n",
    "    predictions = rfc.predict(new_data)\n",
    "    pred_series = pd.Series(predictions, name='prediction')\n",
    "    new_data = pd.concat([new_data, pred_series], axis=1)\n",
    "    # save predicted data\n",
    "    predicted = item_data.to_csv(\"data/predicted_item_data.csv\", index=False)\n"
   ]
  },
  {
   "cell_type": "code",
   "execution_count": 21,
   "id": "402ba455",
   "metadata": {
    "scrolled": true
   },
   "outputs": [
    {
     "name": "stdout",
     "output_type": "stream",
     "text": [
      "Accuracy: 0.478\n",
      "F1score: 0.4922178988326848\n",
      "Precision:  0.45585585585585586\n",
      "Recall:  0.5348837209302325\n"
     ]
    }
   ],
   "source": [
    "# using parameters found with RandomizedSearchCV \n",
    "test_size = 0.2\n",
    "max_depth=5\n",
    "max_features=0.5\n",
    "max_samples=0.3\n",
    "n_estimators=80\n",
    "\n",
    "rfc(test_size,max_depth, max_features, max_samples, n_estimators)"
   ]
  },
  {
   "cell_type": "code",
   "execution_count": null,
   "id": "d51d4e03",
   "metadata": {},
   "outputs": [],
   "source": [
    "# schedule timer to run the rfc function\n",
    "\n",
    "# import schedule\n",
    "# import time\n",
    "\n",
    "# # schedule the function to run every 6 hours\n",
    "# schedule.every(3600).seconds.do(rfc)\n",
    "\n",
    "# # run the scheduled tasks\n",
    "# while True:\n",
    "#     schedule.run_pending()\n",
    "#     time.sleep(1)"
   ]
  },
  {
   "cell_type": "code",
   "execution_count": null,
   "id": "ff725070",
   "metadata": {},
   "outputs": [],
   "source": []
  }
 ],
 "metadata": {
  "kernelspec": {
   "display_name": "Python 3 (ipykernel)",
   "language": "python",
   "name": "python3"
  },
  "language_info": {
   "codemirror_mode": {
    "name": "ipython",
    "version": 3
   },
   "file_extension": ".py",
   "mimetype": "text/x-python",
   "name": "python",
   "nbconvert_exporter": "python",
   "pygments_lexer": "ipython3",
   "version": "3.10.4"
  }
 },
 "nbformat": 4,
 "nbformat_minor": 5
}
