{
 "cells": [
  {
   "cell_type": "markdown",
   "id": "b0ff3309",
   "metadata": {},
   "source": [
    "# Creating a MOCK dataset \n",
    "Author: Karina Condeixa\n",
    "__________________________________________"
   ]
  },
  {
   "cell_type": "markdown",
   "id": "1e8be3b9",
   "metadata": {},
   "source": [
    "**[WIP]**\n",
    "\n",
    "The process to create a fake dataset started by making dataframes about `users` and `item`, and further a complete dataframe that could be used in the `model`.\n",
    "\n",
    "`numpy random` and `faker` were used to ccreate randomized series. Latitude_longitude points were picked using a polygons method, consideing four points choosen manually in Google Maps.\n",
    "\n",
    "Dependent variables are part of a same series, identified by underscore.\n",
    "\n",
    "Addresses are illustrative, they are addresses from all over Germany. This is a limitation of the Faker package, which only considers countries, and does not have data for Berlin.\n",
    "\n",
    "_________________________________\n",
    "\n",
    "**TODO:**\n",
    "- create final dataset, organising by columns **[check with Larry and Felipe]**\n",
    "- save the files as csv\n",
    "\n",
    "**Coments:** \n",
    "- coordinates of user who post should became the ones for available item\n",
    "- we don't have info about item's type and category in the app, could be needed to parse posts' titles and description\n",
    "- UXs didn't decide at this point about having number of stars to a post and the classifications in conditions. I will adopt 1,2,3 for conditions and add the number of starts in next steps. For condition, 1 is the best and 3 the worse. For stars, 5 is the best and 1 is the worse"
   ]
  },
  {
   "cell_type": "code",
   "execution_count": 110,
   "id": "5066ea82",
   "metadata": {},
   "outputs": [],
   "source": [
    "# import packages\n",
    "import pandas as pd\n",
    "from faker import Faker, providers\n",
    "from faker.providers.address.de_DE import Provider as DeDeAddressProvider\n",
    "from faker.generator import random\n",
    "from faker.providers import BaseProvider\n",
    "# import random\n",
    "\n",
    "import folium\n",
    "# from geopy.geocoders import Nominatim"
   ]
  },
  {
   "cell_type": "markdown",
   "id": "75af7841",
   "metadata": {},
   "source": [
    "### Postcodes"
   ]
  },
  {
   "cell_type": "code",
   "execution_count": 111,
   "id": "10760793",
   "metadata": {},
   "outputs": [
    {
     "name": "stderr",
     "output_type": "stream",
     "text": [
      "/var/folders/xs/pmxwbppj14b4v76l4llp17n80000gp/T/ipykernel_58042/2575223029.py:4: FutureWarning: DataFrame.set_axis 'inplace' keyword is deprecated and will be removed in a future version. Use `obj = obj.set_axis(..., copy=False)` instead\n",
      "  df.set_axis([\"postcodes_berlin\"], axis=1,inplace=True)\n"
     ]
    }
   ],
   "source": [
    "# immport and clean original dataset removing poostcodes from Germanay, that are not in Berlin\n",
    "postcodes_de = pd.read_excel(r'data/German-Zip-Codes.xlsx', sheet_name='Berlin')\n",
    "df = pd.DataFrame(postcodes_de)\n",
    "df.set_axis([\"postcodes_berlin\"], axis=1,inplace=True)\n",
    "df = (df[\"postcodes_berlin\"].str[8:-11])\n",
    "df.to_csv('data/postcodes_berlin.csv', index=False)"
   ]
  },
  {
   "cell_type": "markdown",
   "id": "93845160",
   "metadata": {},
   "source": [
    "### Creating the postcode series"
   ]
  },
  {
   "cell_type": "code",
   "execution_count": 112,
   "id": "b5c4f1a7",
   "metadata": {},
   "outputs": [
    {
     "name": "stdout",
     "output_type": "stream",
     "text": [
      "     postcodes_berlin\n",
      "0               10117\n",
      "1               10119\n",
      "2               10178\n",
      "3               10179\n",
      "4               10243\n",
      "..                ...\n",
      "184             14169\n",
      "185             14193\n",
      "186             14195\n",
      "187             14197\n",
      "188             14199\n",
      "\n",
      "[189 rows x 1 columns]\n"
     ]
    }
   ],
   "source": [
    "# import postcodes from Berlin and create a dataframe removing indexes and headers\n",
    "postcodes_berlin = pd.read_csv('data/postcodes_berlin.csv')\n",
    "print(postcodes_berlin)\n",
    "postcodes_berlin_series = postcodes_berlin[:][1:].squeeze()"
   ]
  },
  {
   "cell_type": "markdown",
   "id": "501abd94",
   "metadata": {},
   "source": [
    "### Creating lists"
   ]
  },
  {
   "cell_type": "markdown",
   "id": "93059002",
   "metadata": {},
   "source": [
    "#### lat lng : choosing random point based on a polygon\n",
    "reference: \n",
    "    A quick trick to create random lat/long coordinates in python (within a defined polygon)\n",
    "https://medium.com/the-data-journal/a-quick-trick-to-create-random-lat-long-coordinates-in-python-within-a-defined-polygon-e8997f05123a"
   ]
  },
  {
   "cell_type": "code",
   "execution_count": 113,
   "id": "c6152d48",
   "metadata": {},
   "outputs": [],
   "source": [
    "# Importing Modules\n",
    "import numpy as np\n",
    "import random\n",
    "# Use 'conda install shapely' to import the shapely library.\n",
    "from shapely.geometry import Polygon, Point\n",
    "\n",
    "num_records = 10"
   ]
  },
  {
   "cell_type": "markdown",
   "id": "cc658e66",
   "metadata": {},
   "source": [
    "### Creating the datasets"
   ]
  },
  {
   "cell_type": "code",
   "execution_count": 114,
   "id": "9fab278c",
   "metadata": {},
   "outputs": [],
   "source": [
    "# Note: # multi_locale_generator = Faker(['it_IT', 'en_US', 'de-DE', 'pt_BR', 'es-ES', 'fr-FR', 'ru-RU', 'tr-TR'])\n",
    "\n",
    "# Instantiate Faker with multiple locales\n",
    "german_locale_generator = Faker(['de_DE'])\n",
    "fake = Faker()\n",
    "Faker.seed(0)\n"
   ]
  },
  {
   "cell_type": "markdown",
   "id": "94bb52a4",
   "metadata": {},
   "source": [
    "### Using polygons [DEPRECATED]"
   ]
  },
  {
   "cell_type": "code",
   "execution_count": 115,
   "id": "f926b4f0",
   "metadata": {},
   "outputs": [
    {
     "name": "stdout",
     "output_type": "stream",
     "text": [
      "52.401681689665764 , 13.3628603418217\n",
      "52.49291908810761 , 13.41108710735992\n",
      "52.46175000762824 , 13.482861674218363\n",
      "52.49811626309862 , 13.259213767923416\n",
      "52.53027136471162 , 13.40241205738705\n",
      "52.50012350064695 , 13.498443811495655\n",
      "52.523602251895284 , 13.589005421512839\n",
      "52.509243578594734 , 13.199788182398056\n",
      "52.42089882736957 , 13.320182337225003\n",
      "52.599065485507175 , 13.460470853917457\n"
     ]
    }
   ],
   "source": [
    "# Define the desired polygon : points choosen in Google maps\n",
    "\n",
    "poly = Polygon([(52.645883, 13.395869), \n",
    "                (52.526568, 13.645808),\n",
    "                (52.381789, 13.405482),\n",
    "                (52.484773, 13.136317)])\n",
    "\n",
    "\n",
    "min_x = 52.381789\n",
    "max_x = 52.645883\n",
    "min_y = 13.136317\n",
    "max_y = 13.645808\n",
    "\n",
    "# Defining the randomization generator\n",
    "def polygon_random_points (poly, num_records):\n",
    "    min_x, min_y, max_x, max_y = poly.bounds\n",
    "    points = []\n",
    "    while len(points) < num_records:\n",
    "        random_point = Point([random.uniform(min_x, max_x), random.uniform(min_y, max_y)])\n",
    "        if (random_point.within(poly)):\n",
    "            points.append(random_point)\n",
    "    return points\n",
    "    # Choose the number of points desired. T\\ \n",
    "points = polygon_random_points(poly,num_records)\n",
    "# Testing the results.\n",
    "for p in points:\n",
    "    print(p.x,\",\",p.y)\n",
    "\n",
    "                             "
   ]
  },
  {
   "cell_type": "markdown",
   "id": "d5646776",
   "metadata": {},
   "source": [
    "#### The polygon in the map"
   ]
  },
  {
   "cell_type": "code",
   "execution_count": 116,
   "id": "b30af939",
   "metadata": {},
   "outputs": [],
   "source": [
    "mapObj = folium.Map(location=[52.520008,13.404954], zoom_start=5)"
   ]
  },
  {
   "cell_type": "code",
   "execution_count": 117,
   "id": "6c1b8cec",
   "metadata": {},
   "outputs": [],
   "source": [
    "folium.Polygon([(52.645883, 13.395869), \n",
    "                (52.526568, 13.645808), \n",
    "                (52.381789, 13.405482), \n",
    "                (52.484773, 13.136317)],\n",
    "                fill=True, \n",
    "                weight=3, \n",
    "                fill_color='orange',\n",
    "                color='green',\n",
    "                fill_opacity=0.8).add_to(mapObj)\n",
    "\n",
    "mapObj.save('data/output.html')"
   ]
  },
  {
   "cell_type": "markdown",
   "id": "2886835b",
   "metadata": {},
   "source": [
    "### List of latitude and longitude co-ordinates \n",
    "Based on a sample of co-ordinates from [free data Berlin](https://daten.berlin.de/datensaetze/stra%C3%9Fenverkehrsunf%C3%A4lle-nach-unfallort-berlin-2021) for Road traffic accidents by accident location in Berlin 2021.\n"
   ]
  },
  {
   "cell_type": "code",
   "execution_count": 118,
   "id": "c13cd295",
   "metadata": {},
   "outputs": [
    {
     "data": {
      "text/html": [
       "<div>\n",
       "<style scoped>\n",
       "    .dataframe tbody tr th:only-of-type {\n",
       "        vertical-align: middle;\n",
       "    }\n",
       "\n",
       "    .dataframe tbody tr th {\n",
       "        vertical-align: top;\n",
       "    }\n",
       "\n",
       "    .dataframe thead th {\n",
       "        text-align: right;\n",
       "    }\n",
       "</style>\n",
       "<table border=\"1\" class=\"dataframe\">\n",
       "  <thead>\n",
       "    <tr style=\"text-align: right;\">\n",
       "      <th></th>\n",
       "      <th>lat</th>\n",
       "      <th>lng</th>\n",
       "    </tr>\n",
       "  </thead>\n",
       "  <tbody>\n",
       "    <tr>\n",
       "      <th>0</th>\n",
       "      <td>52,53393955</td>\n",
       "      <td>13,42689483</td>\n",
       "    </tr>\n",
       "    <tr>\n",
       "      <th>1</th>\n",
       "      <td>52,43995086</td>\n",
       "      <td>13,39209027</td>\n",
       "    </tr>\n",
       "  </tbody>\n",
       "</table>\n",
       "</div>"
      ],
      "text/plain": [
       "           lat          lng\n",
       "0  52,53393955  13,42689483\n",
       "1  52,43995086  13,39209027"
      ]
     },
     "execution_count": 118,
     "metadata": {},
     "output_type": "execute_result"
    }
   ],
   "source": [
    "lat_lng_samples = pd.read_csv(\"data/lat_lng_samples.csv\")\n",
    "lat_lng_samples.head(2)"
   ]
  },
  {
   "cell_type": "code",
   "execution_count": 119,
   "id": "6a971816",
   "metadata": {},
   "outputs": [],
   "source": [
    "# replace comma to dot\n",
    "lat_lng_samples = lat_lng_samples.apply(lambda x: x.str.replace(',','.'))"
   ]
  },
  {
   "cell_type": "code",
   "execution_count": 120,
   "id": "be22de51",
   "metadata": {},
   "outputs": [
    {
     "data": {
      "text/html": [
       "<div>\n",
       "<style scoped>\n",
       "    .dataframe tbody tr th:only-of-type {\n",
       "        vertical-align: middle;\n",
       "    }\n",
       "\n",
       "    .dataframe tbody tr th {\n",
       "        vertical-align: top;\n",
       "    }\n",
       "\n",
       "    .dataframe thead th {\n",
       "        text-align: right;\n",
       "    }\n",
       "</style>\n",
       "<table border=\"1\" class=\"dataframe\">\n",
       "  <thead>\n",
       "    <tr style=\"text-align: right;\">\n",
       "      <th></th>\n",
       "      <th>lat</th>\n",
       "      <th>lng</th>\n",
       "    </tr>\n",
       "  </thead>\n",
       "  <tbody>\n",
       "    <tr>\n",
       "      <th>0</th>\n",
       "      <td>52.53393955</td>\n",
       "      <td>13.42689483</td>\n",
       "    </tr>\n",
       "    <tr>\n",
       "      <th>1</th>\n",
       "      <td>52.43995086</td>\n",
       "      <td>13.39209027</td>\n",
       "    </tr>\n",
       "  </tbody>\n",
       "</table>\n",
       "</div>"
      ],
      "text/plain": [
       "           lat          lng\n",
       "0  52.53393955  13.42689483\n",
       "1  52.43995086  13.39209027"
      ]
     },
     "execution_count": 120,
     "metadata": {},
     "output_type": "execute_result"
    }
   ],
   "source": [
    "list_lat = lat_lng_samples.lat.values.tolist()\n",
    "list_lng = lat_lng_samples.lng.values.tolist()\n",
    "lat_lng_samples.head(2)\n"
   ]
  },
  {
   "cell_type": "code",
   "execution_count": 121,
   "id": "71648060",
   "metadata": {},
   "outputs": [
    {
     "name": "stdout",
     "output_type": "stream",
     "text": [
      "<class 'pandas.core.frame.DataFrame'>\n",
      "RangeIndex: 11197 entries, 0 to 11196\n",
      "Data columns (total 2 columns):\n",
      " #   Column  Non-Null Count  Dtype \n",
      "---  ------  --------------  ----- \n",
      " 0   lat     11192 non-null  object\n",
      " 1   lng     11192 non-null  object\n",
      "dtypes: object(2)\n",
      "memory usage: 175.1+ KB\n"
     ]
    }
   ],
   "source": [
    "lat_lng_samples.info()"
   ]
  },
  {
   "cell_type": "markdown",
   "id": "25096f71",
   "metadata": {},
   "source": [
    "### User"
   ]
  },
  {
   "cell_type": "code",
   "execution_count": 122,
   "id": "2606e7ae",
   "metadata": {},
   "outputs": [],
   "source": [
    "# define a function to create user data\n",
    "\n",
    "user_type = ['giver', 'looker']\n",
    "\n",
    "\n",
    "def create_user_data(num_records): \n",
    "  \n",
    "    # dictionary \n",
    "    user ={} \n",
    "    for i in range(0, num_records): \n",
    "        user[i] = {} \n",
    "        user[i]['name'] = fake.name()\n",
    "#         user[i]['email'] = fake.email()\n",
    "#         user[i]['email'] = fake.ascii_free_email()\n",
    "        user[i]['email'] = fake.ascii_email()\n",
    "        address = german_locale_generator.address()  # these addresses are from germany, find a list of address for berlin\n",
    "        user[i]['address'] = address\n",
    "        user[i]['user_type'] = fake.random_element(user_type)\n",
    "        user[i]['user_lat'] = np.random.choice(list_lat)\n",
    "        user[i]['user_lng'] = np.random.choice(list_lng)\n",
    "        user[i]['user_postcode'] = np.random.choice(postcodes_berlin_series)\n",
    "\n",
    "    return user"
   ]
  },
  {
   "cell_type": "code",
   "execution_count": 123,
   "id": "45a27923",
   "metadata": {},
   "outputs": [
    {
     "data": {
      "text/html": [
       "<div>\n",
       "<style scoped>\n",
       "    .dataframe tbody tr th:only-of-type {\n",
       "        vertical-align: middle;\n",
       "    }\n",
       "\n",
       "    .dataframe tbody tr th {\n",
       "        vertical-align: top;\n",
       "    }\n",
       "\n",
       "    .dataframe thead th {\n",
       "        text-align: right;\n",
       "    }\n",
       "</style>\n",
       "<table border=\"1\" class=\"dataframe\">\n",
       "  <thead>\n",
       "    <tr style=\"text-align: right;\">\n",
       "      <th></th>\n",
       "      <th>name</th>\n",
       "      <th>email</th>\n",
       "      <th>address</th>\n",
       "      <th>user_type</th>\n",
       "      <th>user_lat</th>\n",
       "      <th>user_lng</th>\n",
       "      <th>user_postcode</th>\n",
       "    </tr>\n",
       "  </thead>\n",
       "  <tbody>\n",
       "    <tr>\n",
       "      <th>0</th>\n",
       "      <td>Norma Fisher</td>\n",
       "      <td>ysullivan@yahoo.com</td>\n",
       "      <td>Alwina-Etzold-Ring 19\\n89241 Sömmerda</td>\n",
       "      <td>looker</td>\n",
       "      <td>52.51063692</td>\n",
       "      <td>13.38247596</td>\n",
       "      <td>13359</td>\n",
       "    </tr>\n",
       "    <tr>\n",
       "      <th>1</th>\n",
       "      <td>Brian Hamilton</td>\n",
       "      <td>hramos@brown-sellers.com</td>\n",
       "      <td>Eleonore-Oderwald-Ring 51\\n93328 Bremen</td>\n",
       "      <td>giver</td>\n",
       "      <td>52.61347232</td>\n",
       "      <td>13.46246345</td>\n",
       "      <td>13439</td>\n",
       "    </tr>\n",
       "    <tr>\n",
       "      <th>2</th>\n",
       "      <td>Sheri Bolton DDS</td>\n",
       "      <td>jasmine85@hotmail.com</td>\n",
       "      <td>Conradistr. 5/9\\n42320 Naila</td>\n",
       "      <td>giver</td>\n",
       "      <td>52.55450941</td>\n",
       "      <td>13.42077881</td>\n",
       "      <td>12557</td>\n",
       "    </tr>\n",
       "    <tr>\n",
       "      <th>3</th>\n",
       "      <td>Peter Mcdowell</td>\n",
       "      <td>villanuevasandra@vega.net</td>\n",
       "      <td>Salzring 7/5\\n59179 Erfurt</td>\n",
       "      <td>giver</td>\n",
       "      <td>52.55585726</td>\n",
       "      <td>13.30218077</td>\n",
       "      <td>10315</td>\n",
       "    </tr>\n",
       "    <tr>\n",
       "      <th>4</th>\n",
       "      <td>Devin Thornton</td>\n",
       "      <td>marvincabrera@gmail.com</td>\n",
       "      <td>Margot-Ruppert-Allee 013\\n61510 Euskirchen</td>\n",
       "      <td>giver</td>\n",
       "      <td>52.46748831</td>\n",
       "      <td>13.31077355</td>\n",
       "      <td>12683</td>\n",
       "    </tr>\n",
       "  </tbody>\n",
       "</table>\n",
       "</div>"
      ],
      "text/plain": [
       "               name                      email  \\\n",
       "0      Norma Fisher        ysullivan@yahoo.com   \n",
       "1    Brian Hamilton   hramos@brown-sellers.com   \n",
       "2  Sheri Bolton DDS      jasmine85@hotmail.com   \n",
       "3    Peter Mcdowell  villanuevasandra@vega.net   \n",
       "4    Devin Thornton    marvincabrera@gmail.com   \n",
       "\n",
       "                                      address user_type     user_lat  \\\n",
       "0       Alwina-Etzold-Ring 19\\n89241 Sömmerda    looker  52.51063692   \n",
       "1     Eleonore-Oderwald-Ring 51\\n93328 Bremen     giver  52.61347232   \n",
       "2                Conradistr. 5/9\\n42320 Naila     giver  52.55450941   \n",
       "3                  Salzring 7/5\\n59179 Erfurt     giver  52.55585726   \n",
       "4  Margot-Ruppert-Allee 013\\n61510 Euskirchen     giver  52.46748831   \n",
       "\n",
       "      user_lng user_postcode  \n",
       "0  13.38247596         13359  \n",
       "1  13.46246345         13439  \n",
       "2  13.42077881         12557  \n",
       "3  13.30218077         10315  \n",
       "4  13.31077355         12683  "
      ]
     },
     "execution_count": 123,
     "metadata": {},
     "output_type": "execute_result"
    }
   ],
   "source": [
    "user_mock_df = pd.DataFrame(create_user_data(1500)).transpose()\n",
    "user_mock_df.head(5)"
   ]
  },
  {
   "cell_type": "code",
   "execution_count": 124,
   "id": "8dbb5943",
   "metadata": {},
   "outputs": [
    {
     "name": "stdout",
     "output_type": "stream",
     "text": [
      "<class 'pandas.core.frame.DataFrame'>\n",
      "Int64Index: 1500 entries, 0 to 1499\n",
      "Data columns (total 7 columns):\n",
      " #   Column         Non-Null Count  Dtype \n",
      "---  ------         --------------  ----- \n",
      " 0   name           1500 non-null   object\n",
      " 1   email          1500 non-null   object\n",
      " 2   address        1500 non-null   object\n",
      " 3   user_type      1500 non-null   object\n",
      " 4   user_lat       1500 non-null   object\n",
      " 5   user_lng       1500 non-null   object\n",
      " 6   user_postcode  1500 non-null   object\n",
      "dtypes: object(7)\n",
      "memory usage: 93.8+ KB\n"
     ]
    }
   ],
   "source": [
    "user_mock_df.info()"
   ]
  },
  {
   "cell_type": "code",
   "execution_count": 125,
   "id": "9b0feb99",
   "metadata": {},
   "outputs": [],
   "source": [
    "# add user_ids \n",
    "user_mock_df['user_id'] = user_mock_df.index + 1\n",
    "user_id_series = user_mock_df['user_id']"
   ]
  },
  {
   "cell_type": "markdown",
   "id": "65da01d1",
   "metadata": {},
   "source": [
    "### Item"
   ]
  },
  {
   "cell_type": "code",
   "execution_count": 126,
   "id": "579e6a8b",
   "metadata": {},
   "outputs": [],
   "source": [
    "item_status = ['avaliable', 'not_available']\n",
    "item_condition = [1,2,3]  # ['good','medium','bad']\n",
    "n_stars = [1, 2, 3, 4, 5]  # 1 is worse, 5 is best\n",
    "\n",
    "category_item = ['furniture-sofa',\n",
    "                 'furniture-armchair',\n",
    "                 'furniture-chair',\n",
    "                 'furniture-table',\n",
    "                 'furniture-desk',\n",
    "                 'furniture-bed',\n",
    "                 'furniture-bookcase',\n",
    "                 'furniture-bedside_table',\n",
    "                 'furniture-cabinet',\n",
    "                 'furniture-wardrobe',\n",
    "                 'furniture-shelf',\n",
    "                 'furniture-cupboard',\n",
    "                 'furniture-rollcontainers',\n",
    "                 'furniture-shoe_rack',\n",
    "                 'furniture-mirror',\n",
    "                 'furniture-cot',\n",
    "                 'furniture-trolley',\n",
    "                 'appliance-washing_machine',\n",
    "                 'appliance-dish_washer',\n",
    "                 'appliance-drying_rack',\n",
    "                 'appliance-refrigerator',\n",
    "                 'appliance-blender',\n",
    "                 'appliance-extractor_hood',\n",
    "                 'appliance-clothes_iron',\n",
    "                 'appliance-vacuum_cleaner',\n",
    "                 'appliance-sandwich_maker',\n",
    "                 'appliance-kettle',\n",
    "                 'appliance-air_conditioner',\n",
    "                 'appliance-heater',\n",
    "                 'appliance-pan',\n",
    "                 'appliance-popcorn_maker',\n",
    "                 'appliance-coffee_machine',\n",
    "                 'appliance-stove',\n",
    "                 'lighting-lighting',\n",
    "                 'lighting-chandelier',\n",
    "                 'lighting-lightbulb',\n",
    "                 'musical_equipment-guitar',\n",
    "                 'musical_equipment-sound_amplifier',\n",
    "                 'musical_equipment-contrabass',\n",
    "                 'musical_equipment-battery',\n",
    "                 'musical_equipment-piano',\n",
    "                 'tech-desktop',\n",
    "                 'tech-laptop',\n",
    "                 'tech-phone',\n",
    "                 'tech-keyboard',\n",
    "                 'clothes-woman_jacket',\n",
    "                 'clothes-man_jacket',\n",
    "                 'clothes-child_jacket',\n",
    "                 'clothes-woman_clothes',\n",
    "                 'clothes-man_clothes',\n",
    "                 'clothes-child_clothes',\n",
    "                 'shoes-woman_shoes',\n",
    "                 'shoes-man_shoes',\n",
    "                 'shoes-child_shoes',\n",
    "                 'miscelaneaous-ironing_board',\n",
    "                 'miscelaneaous-picture_frame',\n",
    "                 'miscelaneaous-bicycle',\n",
    "                 'miscelaneaous-plant',\n",
    "                 'miscelaneaous-carpet',\n",
    "                 'miscelaneaous-roller_skates',\n",
    "                 'miscelaneaous-ski_skates',\n",
    "                 'miscelaneaous-books',\n",
    "                 'miscelaneaous-purse',\n",
    "                 'miscelaneaous-suitcase',\n",
    "                 'miscelaneaous-shopping_venture',\n",
    "                 'miscelaneaous-board',\n",
    "                 'miscelaneaous-frame',\n",
    "                 'home-mattress', \n",
    "                 'home-carpet',\n",
    "                 'kids-stroller',\n",
    "                 'kids-baby_carriage']\n"
   ]
  },
  {
   "cell_type": "code",
   "execution_count": 127,
   "id": "627373c2",
   "metadata": {},
   "outputs": [],
   "source": [
    "# define a function to create item data\n",
    "limit = '-30d'  # limit of 30 days of item in the app\n",
    "\n",
    "def create_item_data(num_records): \n",
    "  \n",
    "    # dictionary \n",
    "    item ={} \n",
    "    for i in range(0, num_records): \n",
    "        item[i] = {}\n",
    "        item[i]['item_category-item_name'] = np.random.choice(category_item)\n",
    "        item[i]['item_condition'] = np.random.choice(item_condition)\n",
    "        item[i]['item_postcode'] = np.random.choice(postcodes_berlin_series)\n",
    "        item[i]['item_status'] = np.random.choice(item_status)\n",
    "        \n",
    "        item[i]['item_lat'] = np.random.choice(list_lat)\n",
    "        item[i]['item_lng'] = np.random.choice(list_lng)\n",
    "        \n",
    "        item[i]['userwhochangeditemstatus_id'] = np.random.choice(user_id_series)\n",
    "        datetime_iteration1 = fake.date_between_dates(limit,'now')\n",
    "        datetime_iteration2 = fake.date_between_dates(limit,'now')\n",
    "        if datetime_iteration1 <= datetime_iteration2:\n",
    "            item[i]['item_datetime_posted'] = datetime_iteration1\n",
    "            item[i]['item_datetimechangeditemstatus'] = datetime_iteration2\n",
    "        else:\n",
    "            item[i]['item_datetime_posted'] = datetime_iteration2\n",
    "            item[i]['item_datetimechangeditemstatus'] = datetime_iteration1  \n",
    " # This date shold be later than the post\n",
    "        \n",
    "\n",
    "    return item"
   ]
  },
  {
   "cell_type": "code",
   "execution_count": 128,
   "id": "7fd3f684",
   "metadata": {},
   "outputs": [
    {
     "data": {
      "text/html": [
       "<div>\n",
       "<style scoped>\n",
       "    .dataframe tbody tr th:only-of-type {\n",
       "        vertical-align: middle;\n",
       "    }\n",
       "\n",
       "    .dataframe tbody tr th {\n",
       "        vertical-align: top;\n",
       "    }\n",
       "\n",
       "    .dataframe thead th {\n",
       "        text-align: right;\n",
       "    }\n",
       "</style>\n",
       "<table border=\"1\" class=\"dataframe\">\n",
       "  <thead>\n",
       "    <tr style=\"text-align: right;\">\n",
       "      <th></th>\n",
       "      <th>item_category-item_name</th>\n",
       "      <th>item_condition</th>\n",
       "      <th>item_postcode</th>\n",
       "      <th>item_status</th>\n",
       "      <th>item_lat</th>\n",
       "      <th>item_lng</th>\n",
       "      <th>userwhochangeditemstatus_id</th>\n",
       "      <th>item_datetime_posted</th>\n",
       "      <th>item_datetimechangeditemstatus</th>\n",
       "    </tr>\n",
       "  </thead>\n",
       "  <tbody>\n",
       "    <tr>\n",
       "      <th>0</th>\n",
       "      <td>miscelaneaous-ironing_board</td>\n",
       "      <td>2</td>\n",
       "      <td>10827</td>\n",
       "      <td>not_available</td>\n",
       "      <td>52.41325916</td>\n",
       "      <td>13.54008318</td>\n",
       "      <td>1159</td>\n",
       "      <td>2023-02-18</td>\n",
       "      <td>2023-03-06</td>\n",
       "    </tr>\n",
       "    <tr>\n",
       "      <th>1</th>\n",
       "      <td>miscelaneaous-frame</td>\n",
       "      <td>3</td>\n",
       "      <td>13583</td>\n",
       "      <td>not_available</td>\n",
       "      <td>52.55798677</td>\n",
       "      <td>13.40675415</td>\n",
       "      <td>1327</td>\n",
       "      <td>2023-02-25</td>\n",
       "      <td>2023-03-08</td>\n",
       "    </tr>\n",
       "    <tr>\n",
       "      <th>2</th>\n",
       "      <td>miscelaneaous-ironing_board</td>\n",
       "      <td>2</td>\n",
       "      <td>12209</td>\n",
       "      <td>not_available</td>\n",
       "      <td>52.46888503</td>\n",
       "      <td>13.52403337</td>\n",
       "      <td>530</td>\n",
       "      <td>2023-03-03</td>\n",
       "      <td>2023-03-11</td>\n",
       "    </tr>\n",
       "    <tr>\n",
       "      <th>3</th>\n",
       "      <td>shoes-child_shoes</td>\n",
       "      <td>3</td>\n",
       "      <td>14057</td>\n",
       "      <td>avaliable</td>\n",
       "      <td>52.48113005</td>\n",
       "      <td>13.45319516</td>\n",
       "      <td>314</td>\n",
       "      <td>2023-03-01</td>\n",
       "      <td>2023-03-02</td>\n",
       "    </tr>\n",
       "    <tr>\n",
       "      <th>4</th>\n",
       "      <td>appliance-blender</td>\n",
       "      <td>2</td>\n",
       "      <td>13591</td>\n",
       "      <td>avaliable</td>\n",
       "      <td>52.57214734</td>\n",
       "      <td>13.3783133</td>\n",
       "      <td>1089</td>\n",
       "      <td>2023-03-04</td>\n",
       "      <td>2023-03-14</td>\n",
       "    </tr>\n",
       "  </tbody>\n",
       "</table>\n",
       "</div>"
      ],
      "text/plain": [
       "       item_category-item_name item_condition item_postcode    item_status  \\\n",
       "0  miscelaneaous-ironing_board              2         10827  not_available   \n",
       "1          miscelaneaous-frame              3         13583  not_available   \n",
       "2  miscelaneaous-ironing_board              2         12209  not_available   \n",
       "3            shoes-child_shoes              3         14057      avaliable   \n",
       "4            appliance-blender              2         13591      avaliable   \n",
       "\n",
       "      item_lat     item_lng userwhochangeditemstatus_id item_datetime_posted  \\\n",
       "0  52.41325916  13.54008318                        1159           2023-02-18   \n",
       "1  52.55798677  13.40675415                        1327           2023-02-25   \n",
       "2  52.46888503  13.52403337                         530           2023-03-03   \n",
       "3  52.48113005  13.45319516                         314           2023-03-01   \n",
       "4  52.57214734   13.3783133                        1089           2023-03-04   \n",
       "\n",
       "  item_datetimechangeditemstatus  \n",
       "0                     2023-03-06  \n",
       "1                     2023-03-08  \n",
       "2                     2023-03-11  \n",
       "3                     2023-03-02  \n",
       "4                     2023-03-14  "
      ]
     },
     "execution_count": 128,
     "metadata": {},
     "output_type": "execute_result"
    }
   ],
   "source": [
    "item_mock_df = pd.DataFrame(create_item_data(1500)).transpose()\n",
    "item_mock_df.head(5)"
   ]
  },
  {
   "cell_type": "code",
   "execution_count": 129,
   "id": "a4d903d6",
   "metadata": {},
   "outputs": [
    {
     "data": {
      "text/html": [
       "<div>\n",
       "<style scoped>\n",
       "    .dataframe tbody tr th:only-of-type {\n",
       "        vertical-align: middle;\n",
       "    }\n",
       "\n",
       "    .dataframe tbody tr th {\n",
       "        vertical-align: top;\n",
       "    }\n",
       "\n",
       "    .dataframe thead th {\n",
       "        text-align: right;\n",
       "    }\n",
       "</style>\n",
       "<table border=\"1\" class=\"dataframe\">\n",
       "  <thead>\n",
       "    <tr style=\"text-align: right;\">\n",
       "      <th></th>\n",
       "      <th>item_category-item_name</th>\n",
       "      <th>item_condition</th>\n",
       "      <th>item_postcode</th>\n",
       "      <th>item_status</th>\n",
       "      <th>item_lat</th>\n",
       "      <th>item_lng</th>\n",
       "      <th>userwhochangeditemstatus_id</th>\n",
       "      <th>item_datetime_posted</th>\n",
       "      <th>item_datetimechangeditemstatus</th>\n",
       "      <th>item_id</th>\n",
       "    </tr>\n",
       "  </thead>\n",
       "  <tbody>\n",
       "    <tr>\n",
       "      <th>0</th>\n",
       "      <td>miscelaneaous-ironing_board</td>\n",
       "      <td>2</td>\n",
       "      <td>10827</td>\n",
       "      <td>not_available</td>\n",
       "      <td>52.41325916</td>\n",
       "      <td>13.54008318</td>\n",
       "      <td>1159</td>\n",
       "      <td>2023-02-18</td>\n",
       "      <td>2023-03-06</td>\n",
       "      <td>1</td>\n",
       "    </tr>\n",
       "    <tr>\n",
       "      <th>1</th>\n",
       "      <td>miscelaneaous-frame</td>\n",
       "      <td>3</td>\n",
       "      <td>13583</td>\n",
       "      <td>not_available</td>\n",
       "      <td>52.55798677</td>\n",
       "      <td>13.40675415</td>\n",
       "      <td>1327</td>\n",
       "      <td>2023-02-25</td>\n",
       "      <td>2023-03-08</td>\n",
       "      <td>2</td>\n",
       "    </tr>\n",
       "  </tbody>\n",
       "</table>\n",
       "</div>"
      ],
      "text/plain": [
       "       item_category-item_name item_condition item_postcode    item_status  \\\n",
       "0  miscelaneaous-ironing_board              2         10827  not_available   \n",
       "1          miscelaneaous-frame              3         13583  not_available   \n",
       "\n",
       "      item_lat     item_lng userwhochangeditemstatus_id item_datetime_posted  \\\n",
       "0  52.41325916  13.54008318                        1159           2023-02-18   \n",
       "1  52.55798677  13.40675415                        1327           2023-02-25   \n",
       "\n",
       "  item_datetimechangeditemstatus  item_id  \n",
       "0                     2023-03-06        1  \n",
       "1                     2023-03-08        2  "
      ]
     },
     "execution_count": 129,
     "metadata": {},
     "output_type": "execute_result"
    }
   ],
   "source": [
    "item_mock_df['item_id'] = item_mock_df.index +1  # add item_id\n",
    "item_id_series = item_mock_df['item_id']  # storage in a variable to use later\n",
    "\n",
    "item_mock_df.head(2)"
   ]
  },
  {
   "cell_type": "code",
   "execution_count": 130,
   "id": "5af05bab",
   "metadata": {},
   "outputs": [],
   "source": [
    "item_mock_df[['item_category','item_name']] = item_mock_df['item_category-item_name'].apply(lambda x: pd.Series(str(x).split(\"-\")))\n",
    "\n",
    "item_mock_df = item_mock_df.drop('item_category-item_name', axis=1)"
   ]
  },
  {
   "cell_type": "code",
   "execution_count": 131,
   "id": "42400d56",
   "metadata": {},
   "outputs": [
    {
     "name": "stdout",
     "output_type": "stream",
     "text": [
      "<class 'pandas.core.frame.DataFrame'>\n",
      "Int64Index: 1500 entries, 0 to 1499\n",
      "Data columns (total 11 columns):\n",
      " #   Column                          Non-Null Count  Dtype \n",
      "---  ------                          --------------  ----- \n",
      " 0   item_condition                  1500 non-null   object\n",
      " 1   item_postcode                   1500 non-null   object\n",
      " 2   item_status                     1500 non-null   object\n",
      " 3   item_lat                        1500 non-null   object\n",
      " 4   item_lng                        1500 non-null   object\n",
      " 5   userwhochangeditemstatus_id     1500 non-null   object\n",
      " 6   item_datetime_posted            1500 non-null   object\n",
      " 7   item_datetimechangeditemstatus  1500 non-null   object\n",
      " 8   item_id                         1500 non-null   int64 \n",
      " 9   item_category                   1500 non-null   object\n",
      " 10  item_name                       1500 non-null   object\n",
      "dtypes: int64(1), object(10)\n",
      "memory usage: 140.6+ KB\n"
     ]
    }
   ],
   "source": [
    "item_mock_df.info()"
   ]
  },
  {
   "cell_type": "markdown",
   "id": "f68bbff6",
   "metadata": {},
   "source": [
    "### To the Model"
   ]
  },
  {
   "cell_type": "code",
   "execution_count": 132,
   "id": "86c54413",
   "metadata": {},
   "outputs": [],
   "source": [
    "# define a function to create model data\n",
    "\n",
    "\n",
    "def create_model_data(num_records): \n",
    "  \n",
    "    # dictionary \n",
    "    model ={} \n",
    "    for i in range(0, num_records): \n",
    "        model[i] = {} \n",
    "        model[i]['item_id'] = np.random.choice(item_id_series)\n",
    "        model[i]['item_category-item_name'] = np.random.choice(category_item) \n",
    "        model[i]['item_condition'] = np.random.choice(item_condition)\n",
    "        model[i]['item_postcode'] = np.random.choice(postcodes_berlin_series)\n",
    "        model[i]['item_lat'] = np.random.choice(list_lat)\n",
    "        model[i]['item_lng'] = np.random.choice(list_lng)\n",
    "        model[i]['item_status'] = np.random.choice(item_status)\n",
    "        model[i]['searched_item_name-searched_item_category'] = np.random.choice(category_item)\n",
    "        model[i]['searched_item_postcode'] = np.random.choice(postcodes_berlin_series)\n",
    "        \n",
    "        datetime_iteration1 = fake.date_between_dates(limit,'now')\n",
    "        datetime_iteration2 = fake.date_between_dates(limit,'now')\n",
    "        if datetime_iteration1 <= datetime_iteration2:\n",
    "            model[i]['item_datetime_posted'] = datetime_iteration1\n",
    "            model[i]['item_datetimechangeditemstatus'] = datetime_iteration2\n",
    "        else:\n",
    "            model[i]['item_datetime_posted'] = datetime_iteration2\n",
    "            model[i]['item_datetimechangeditemstatus'] = datetime_iteration1  \n",
    "            \n",
    "        model[i]['n_stars'] = np.random.choice(n_stars)\n",
    "        \n",
    "        model[i]['user_looker_id'] = np.random.choice(user_id_series)\n",
    "        model[i]['user_looker_lat'] = np.random.choice(list_lat)\n",
    "        model[i]['user_looker_lng'] = np.random.choice(list_lng)\n",
    "        \n",
    "    return model\n"
   ]
  },
  {
   "cell_type": "code",
   "execution_count": 133,
   "id": "54c6d6be",
   "metadata": {},
   "outputs": [
    {
     "data": {
      "text/plain": [
       "(1500, 15)"
      ]
     },
     "execution_count": 133,
     "metadata": {},
     "output_type": "execute_result"
    }
   ],
   "source": [
    "model_mock_df = pd.DataFrame(create_model_data(1500)).transpose()\n",
    "# model_mock_df.head(5)\n",
    "model_mock_df.shape"
   ]
  },
  {
   "cell_type": "code",
   "execution_count": 134,
   "id": "ab16fe47",
   "metadata": {},
   "outputs": [
    {
     "name": "stdout",
     "output_type": "stream",
     "text": [
      "<class 'pandas.core.frame.DataFrame'>\n",
      "Int64Index: 1500 entries, 0 to 1499\n",
      "Data columns (total 15 columns):\n",
      " #   Column                                     Non-Null Count  Dtype \n",
      "---  ------                                     --------------  ----- \n",
      " 0   item_id                                    1500 non-null   object\n",
      " 1   item_category-item_name                    1500 non-null   object\n",
      " 2   item_condition                             1500 non-null   object\n",
      " 3   item_postcode                              1500 non-null   object\n",
      " 4   item_lat                                   1500 non-null   object\n",
      " 5   item_lng                                   1500 non-null   object\n",
      " 6   item_status                                1500 non-null   object\n",
      " 7   searched_item_name-searched_item_category  1500 non-null   object\n",
      " 8   searched_item_postcode                     1500 non-null   object\n",
      " 9   item_datetime_posted                       1500 non-null   object\n",
      " 10  item_datetimechangeditemstatus             1500 non-null   object\n",
      " 11  n_stars                                    1500 non-null   object\n",
      " 12  user_looker_id                             1500 non-null   object\n",
      " 13  user_looker_lat                            1500 non-null   object\n",
      " 14  user_looker_lng                            1500 non-null   object\n",
      "dtypes: object(15)\n",
      "memory usage: 187.5+ KB\n"
     ]
    }
   ],
   "source": [
    "model_mock_df.info()"
   ]
  },
  {
   "cell_type": "markdown",
   "id": "0a56ff90",
   "metadata": {},
   "source": [
    "### Split columns of dependent variables"
   ]
  },
  {
   "cell_type": "code",
   "execution_count": 135,
   "id": "88bb3b0c",
   "metadata": {},
   "outputs": [],
   "source": [
    "model_mock_df[['item_category','item_name']] = model_mock_df['item_category-item_name'].apply(lambda x: pd.Series(str(x).split(\"-\")))\n",
    "model_mock_df[['searched_item_name','searched_item_category']] = model_mock_df['searched_item_name-searched_item_category'].apply(lambda x: pd.Series(str(x).split(\"-\")))\n",
    "\n",
    "model_mock_df = model_mock_df.drop('item_category-item_name', axis=1)\n",
    "model_mock_df = model_mock_df.drop('searched_item_name-searched_item_category', axis=1)\n",
    "\n",
    "        "
   ]
  },
  {
   "cell_type": "code",
   "execution_count": 136,
   "id": "fc05c565",
   "metadata": {},
   "outputs": [
    {
     "name": "stdout",
     "output_type": "stream",
     "text": [
      "<class 'pandas.core.frame.DataFrame'>\n",
      "Int64Index: 1500 entries, 0 to 1499\n",
      "Data columns (total 17 columns):\n",
      " #   Column                          Non-Null Count  Dtype \n",
      "---  ------                          --------------  ----- \n",
      " 0   item_id                         1500 non-null   object\n",
      " 1   item_condition                  1500 non-null   object\n",
      " 2   item_postcode                   1500 non-null   object\n",
      " 3   item_lat                        1500 non-null   object\n",
      " 4   item_lng                        1500 non-null   object\n",
      " 5   item_status                     1500 non-null   object\n",
      " 6   searched_item_postcode          1500 non-null   object\n",
      " 7   item_datetime_posted            1500 non-null   object\n",
      " 8   item_datetimechangeditemstatus  1500 non-null   object\n",
      " 9   n_stars                         1500 non-null   object\n",
      " 10  user_looker_id                  1500 non-null   object\n",
      " 11  user_looker_lat                 1500 non-null   object\n",
      " 12  user_looker_lng                 1500 non-null   object\n",
      " 13  item_category                   1500 non-null   object\n",
      " 14  item_name                       1500 non-null   object\n",
      " 15  searched_item_name              1500 non-null   object\n",
      " 16  searched_item_category          1500 non-null   object\n",
      "dtypes: object(17)\n",
      "memory usage: 210.9+ KB\n"
     ]
    }
   ],
   "source": [
    "model_mock_df.info()"
   ]
  },
  {
   "cell_type": "code",
   "execution_count": 137,
   "id": "edbf087f",
   "metadata": {},
   "outputs": [
    {
     "data": {
      "text/html": [
       "<div>\n",
       "<style scoped>\n",
       "    .dataframe tbody tr th:only-of-type {\n",
       "        vertical-align: middle;\n",
       "    }\n",
       "\n",
       "    .dataframe tbody tr th {\n",
       "        vertical-align: top;\n",
       "    }\n",
       "\n",
       "    .dataframe thead th {\n",
       "        text-align: right;\n",
       "    }\n",
       "</style>\n",
       "<table border=\"1\" class=\"dataframe\">\n",
       "  <thead>\n",
       "    <tr style=\"text-align: right;\">\n",
       "      <th></th>\n",
       "      <th>item_id</th>\n",
       "      <th>item_condition</th>\n",
       "      <th>item_postcode</th>\n",
       "      <th>item_lat</th>\n",
       "      <th>item_lng</th>\n",
       "      <th>item_status</th>\n",
       "      <th>searched_item_postcode</th>\n",
       "      <th>item_datetime_posted</th>\n",
       "      <th>item_datetimechangeditemstatus</th>\n",
       "      <th>n_stars</th>\n",
       "      <th>user_looker_id</th>\n",
       "      <th>user_looker_lat</th>\n",
       "      <th>user_looker_lng</th>\n",
       "      <th>item_category</th>\n",
       "      <th>item_name</th>\n",
       "      <th>searched_item_name</th>\n",
       "      <th>searched_item_category</th>\n",
       "    </tr>\n",
       "  </thead>\n",
       "  <tbody>\n",
       "    <tr>\n",
       "      <th>0</th>\n",
       "      <td>512</td>\n",
       "      <td>3</td>\n",
       "      <td>13127</td>\n",
       "      <td>52.43347564</td>\n",
       "      <td>13.44068632</td>\n",
       "      <td>not_available</td>\n",
       "      <td>14167</td>\n",
       "      <td>2023-02-16</td>\n",
       "      <td>2023-02-16</td>\n",
       "      <td>1</td>\n",
       "      <td>738</td>\n",
       "      <td>52.56266535</td>\n",
       "      <td>13.28102525</td>\n",
       "      <td>shoes</td>\n",
       "      <td>child_shoes</td>\n",
       "      <td>furniture</td>\n",
       "      <td>trolley</td>\n",
       "    </tr>\n",
       "    <tr>\n",
       "      <th>1</th>\n",
       "      <td>256</td>\n",
       "      <td>1</td>\n",
       "      <td>12109</td>\n",
       "      <td>52.54111107</td>\n",
       "      <td>13.35786397</td>\n",
       "      <td>not_available</td>\n",
       "      <td>10713</td>\n",
       "      <td>2023-02-16</td>\n",
       "      <td>2023-03-12</td>\n",
       "      <td>5</td>\n",
       "      <td>287</td>\n",
       "      <td>52.54553283</td>\n",
       "      <td>13.34743092</td>\n",
       "      <td>furniture</td>\n",
       "      <td>armchair</td>\n",
       "      <td>furniture</td>\n",
       "      <td>rollcontainers</td>\n",
       "    </tr>\n",
       "    <tr>\n",
       "      <th>2</th>\n",
       "      <td>1475</td>\n",
       "      <td>3</td>\n",
       "      <td>13435</td>\n",
       "      <td>52.4938736</td>\n",
       "      <td>13.37679563</td>\n",
       "      <td>avaliable</td>\n",
       "      <td>13507</td>\n",
       "      <td>2023-02-22</td>\n",
       "      <td>2023-03-09</td>\n",
       "      <td>1</td>\n",
       "      <td>527</td>\n",
       "      <td>52.42852256</td>\n",
       "      <td>13.44318847</td>\n",
       "      <td>appliance</td>\n",
       "      <td>drying_rack</td>\n",
       "      <td>furniture</td>\n",
       "      <td>wardrobe</td>\n",
       "    </tr>\n",
       "    <tr>\n",
       "      <th>3</th>\n",
       "      <td>1282</td>\n",
       "      <td>2</td>\n",
       "      <td>10779</td>\n",
       "      <td>52.51013262</td>\n",
       "      <td>13.40513027</td>\n",
       "      <td>not_available</td>\n",
       "      <td>14052</td>\n",
       "      <td>2023-03-05</td>\n",
       "      <td>2023-03-14</td>\n",
       "      <td>1</td>\n",
       "      <td>843</td>\n",
       "      <td>52.52493887</td>\n",
       "      <td>13.2299013</td>\n",
       "      <td>clothes</td>\n",
       "      <td>man_clothes</td>\n",
       "      <td>miscelaneaous</td>\n",
       "      <td>purse</td>\n",
       "    </tr>\n",
       "    <tr>\n",
       "      <th>4</th>\n",
       "      <td>378</td>\n",
       "      <td>3</td>\n",
       "      <td>12049</td>\n",
       "      <td>52.63450958</td>\n",
       "      <td>13.20078036</td>\n",
       "      <td>not_available</td>\n",
       "      <td>14057</td>\n",
       "      <td>2023-02-20</td>\n",
       "      <td>2023-02-25</td>\n",
       "      <td>3</td>\n",
       "      <td>238</td>\n",
       "      <td>52.53285765</td>\n",
       "      <td>13.38179564</td>\n",
       "      <td>furniture</td>\n",
       "      <td>rollcontainers</td>\n",
       "      <td>lighting</td>\n",
       "      <td>lighting</td>\n",
       "    </tr>\n",
       "  </tbody>\n",
       "</table>\n",
       "</div>"
      ],
      "text/plain": [
       "  item_id item_condition item_postcode     item_lat     item_lng  \\\n",
       "0     512              3         13127  52.43347564  13.44068632   \n",
       "1     256              1         12109  52.54111107  13.35786397   \n",
       "2    1475              3         13435   52.4938736  13.37679563   \n",
       "3    1282              2         10779  52.51013262  13.40513027   \n",
       "4     378              3         12049  52.63450958  13.20078036   \n",
       "\n",
       "     item_status searched_item_postcode item_datetime_posted  \\\n",
       "0  not_available                  14167           2023-02-16   \n",
       "1  not_available                  10713           2023-02-16   \n",
       "2      avaliable                  13507           2023-02-22   \n",
       "3  not_available                  14052           2023-03-05   \n",
       "4  not_available                  14057           2023-02-20   \n",
       "\n",
       "  item_datetimechangeditemstatus n_stars user_looker_id user_looker_lat  \\\n",
       "0                     2023-02-16       1            738     52.56266535   \n",
       "1                     2023-03-12       5            287     52.54553283   \n",
       "2                     2023-03-09       1            527     52.42852256   \n",
       "3                     2023-03-14       1            843     52.52493887   \n",
       "4                     2023-02-25       3            238     52.53285765   \n",
       "\n",
       "  user_looker_lng item_category       item_name searched_item_name  \\\n",
       "0     13.28102525         shoes     child_shoes          furniture   \n",
       "1     13.34743092     furniture        armchair          furniture   \n",
       "2     13.44318847     appliance     drying_rack          furniture   \n",
       "3      13.2299013       clothes     man_clothes      miscelaneaous   \n",
       "4     13.38179564     furniture  rollcontainers           lighting   \n",
       "\n",
       "  searched_item_category  \n",
       "0                trolley  \n",
       "1         rollcontainers  \n",
       "2               wardrobe  \n",
       "3                  purse  \n",
       "4               lighting  "
      ]
     },
     "execution_count": 137,
     "metadata": {},
     "output_type": "execute_result"
    }
   ],
   "source": [
    "model_mock_df.head()"
   ]
  },
  {
   "cell_type": "markdown",
   "id": "2fd341b1",
   "metadata": {},
   "source": [
    "### Creating csv files"
   ]
  },
  {
   "cell_type": "code",
   "execution_count": 138,
   "id": "f29b14c6",
   "metadata": {},
   "outputs": [],
   "source": [
    "# user_mock_df.to_csv('data/user_mock_data.csv', index=False)"
   ]
  },
  {
   "cell_type": "code",
   "execution_count": 139,
   "id": "25b5c1c6",
   "metadata": {},
   "outputs": [],
   "source": [
    "# item_mock_df.to_csv('data/item_mock_data.csv', index=False)"
   ]
  },
  {
   "cell_type": "code",
   "execution_count": 140,
   "id": "96b21495",
   "metadata": {},
   "outputs": [],
   "source": [
    "model_mock_df.to_csv('data/model_mock_data.csv', index=False)"
   ]
  },
  {
   "cell_type": "markdown",
   "id": "28334203",
   "metadata": {},
   "source": [
    "## References:\n",
    "- [Generate custom datasets using Python Faker](https://blogs.sap.com/2021/05/26/generate-custom-datasets-using-python-faker/)\n",
    "- [folium_polygon_rectangle_layers](https://www.youtube.com/watch?v=9E9FTJrOJ1E&t=752s)\n",
    "- [Faker](https://github.com/joke2k/faker/issues/1183)\n",
    "- [Generating Mock Data with Python! (NumPy, Pandas, & Datetime Libraries)](https://www.youtube.com/watch?v=VJBY2eVtf7o)"
   ]
  },
  {
   "cell_type": "code",
   "execution_count": null,
   "id": "d76c7ddd",
   "metadata": {},
   "outputs": [],
   "source": []
  },
  {
   "cell_type": "code",
   "execution_count": null,
   "id": "9230f3e3",
   "metadata": {},
   "outputs": [],
   "source": []
  }
 ],
 "metadata": {
  "kernelspec": {
   "display_name": "Python 3 (ipykernel)",
   "language": "python",
   "name": "python3"
  },
  "language_info": {
   "codemirror_mode": {
    "name": "ipython",
    "version": 3
   },
   "file_extension": ".py",
   "mimetype": "text/x-python",
   "name": "python",
   "nbconvert_exporter": "python",
   "pygments_lexer": "ipython3",
   "version": "3.10.4"
  }
 },
 "nbformat": 4,
 "nbformat_minor": 5
}
