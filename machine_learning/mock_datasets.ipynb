{
 "cells": [
  {
   "cell_type": "markdown",
   "id": "b0ff3309",
   "metadata": {},
   "source": [
    "# Creating a MOCK dataset \n",
    "Author: Karina Condeixa\n",
    "__________________________________________"
   ]
  },
  {
   "cell_type": "markdown",
   "id": "1e8be3b9",
   "metadata": {},
   "source": [
    "The process to create a fake dataset started by making dataframes about `users` and `item`, and further a complete dataframe that could be used in the `model`.\n",
    "\n",
    "`numpy random` and `faker` were used to ccreate randomized series. Latitude_longitude points were picked using a polygons method, consideing four points choosen manually in Google Maps.\n",
    "\n",
    "Dependent variables are part of a same series, identified by underscore.\n",
    "\n",
    "Addresses are illustrative, they are addresses from all over Germany. This is a limitation of the Faker package, which only considers countries, and does not have data for Berlin.\n",
    "\n",
    "_________________________________\n",
    "\n",

    "**TODO:**\n",
    "- split geopoints into lat and lng files for users\n",
    "- split geopoints into lat and lng files for items\n",
    "- create final dataset, organising by columns\n",
    "- save the files as csv"


   ]
  },
  {
   "cell_type": "code",
   "execution_count": 1,
   "id": "5066ea82",
   "metadata": {},
   "outputs": [],
   "source": [
    "# import packages\n",
    "import pandas as pd\n",
    "from faker import Faker, providers\n",
    "from faker.providers.address.de_DE import Provider as DeDeAddressProvider\n",
    "from faker.generator import random\n",
    "from faker.providers import BaseProvider\n",
    "# import random\n",
    "\n",
    "import folium"
   ]
  },
  {
   "cell_type": "markdown",
   "id": "75af7841",
   "metadata": {},
   "source": [
    "### Postcodes"
   ]
  },
  {
   "cell_type": "code",

   "execution_count": 2,

   "id": "10760793",
   "metadata": {},
   "outputs": [
    {
     "name": "stderr",
     "output_type": "stream",
     "text": [

      "/var/folders/xs/pmxwbppj14b4v76l4llp17n80000gp/T/ipykernel_42471/140568398.py:4: FutureWarning: DataFrame.set_axis 'inplace' keyword is deprecated and will be removed in a future version. Use `obj = obj.set_axis(..., copy=False)` instead\n",

   
      "  df.set_axis([\"postcodes_berlin\"], axis=1,inplace=True)\n"
     ]
    }
   ],
   "source": [
    "# immport and clean original dataset removing poostcodes from Germanay, that are not in Berlin\n",

    "postcodes_de = pd.read_excel(r'data/German-Zip-Codes.xlsx', sheet_name='Berlin')\n",
    "df = pd.DataFrame(postcodes_de)\n",
    "df.set_axis([\"postcodes_berlin\"], axis=1,inplace=True)\n",
    "df = (df[\"postcodes_berlin\"].str[8:-11])\n",
    "df.to_csv('postcodes_berlin.csv', index=False)"


   ]
  },
  {
   "cell_type": "markdown",
   "id": "93845160",
   "metadata": {},
   "source": [
    "### Creating the postcode series"
   ]
  },
  {
   "cell_type": "code",

   "execution_count": 3,

   "id": "b5c4f1a7",
   "metadata": {},
   "outputs": [
    {
     "name": "stdout",
     "output_type": "stream",
     "text": [
      "     postcodes_berlin\n",
      "0               10117\n",
      "1               10119\n",
      "2               10178\n",
      "3               10179\n",
      "4               10243\n",
      "..                ...\n",
      "184             14169\n",
      "185             14193\n",
      "186             14195\n",
      "187             14197\n",
      "188             14199\n",
      "\n",
      "[189 rows x 1 columns]\n"
     ]
    }
   ],
   "source": [
    "# import postcodes from Berlin and create a dataframe removing indexes and headers\n",
    "postcodes_berlin = pd.read_csv('data/postcodes_berlin.csv')\n",
    "print(postcodes_berlin)\n",
    "postcodes_berlin_series = postcodes_berlin[:][1:].squeeze()"
   ]
  },
  {
   "cell_type": "markdown",
   "id": "501abd94",
   "metadata": {},
   "source": [
    "### Creating lists"
   ]
  },
  {
   "cell_type": "markdown",
   "id": "93059002",
   "metadata": {},
   "source": [
    "#### lat lng : choosing random point based on a polygon\n",
    "reference: \n",
    "    A quick trick to create random lat/long coordinates in python (within a defined polygon)\n",
    "https://medium.com/the-data-journal/a-quick-trick-to-create-random-lat-long-coordinates-in-python-within-a-defined-polygon-e8997f05123a"
   ]
  },
  {
   "cell_type": "code",

   "execution_count": 4,

   "id": "c6152d48",
   "metadata": {},
   "outputs": [],
   "source": [
    "# Importing Modules\n",
    "import numpy as np\n",
    "import random\n",
    "# Use 'conda install shapely' to import the shapely library.\n",
    "from shapely.geometry import Polygon, Point\n",
    "\n",
    "num_records = 10"
   ]
  },
  {
   "cell_type": "markdown",
   "id": "cc658e66",
   "metadata": {},
   "source": [
    "### Creating the datasets"
   ]
  },
  {
   "cell_type": "code",
   "execution_count": 5,

   "id": "9fab278c",
   "metadata": {},
   "outputs": [],
   "source": [
    "# Note: # multi_locale_generator = Faker(['it_IT', 'en_US', 'de-DE', 'pt_BR', 'es-ES', 'fr-FR', 'ru-RU', 'tr-TR'])\n",
    "\n",
    "# Instantiate Faker with multiple locales\n",
    "german_locale_generator = Faker(['de_DE'])\n",
    "fake = Faker()\n",
    "Faker.seed(0)\n"
   ]
  },
  {
   "cell_type": "code",

   "execution_count": null,
   "id": "e7d3c6fc",
   "metadata": {},
   "outputs": [],
   "source": []
  },
  {
   "cell_type": "code",
   "execution_count": 6,

   "id": "f926b4f0",
   "metadata": {},
   "outputs": [
    {
     "name": "stdout",
     "output_type": "stream",
     "text": [

      "52.58430496744412 , 13.519302326375932\n",
      "52.477892503783664 , 13.319031702279544\n",
      "52.47345574161642 , 13.296326539382026\n",
      "52.548468858228055 , 13.468737935140311\n",
      "52.51412093195217 , 13.314125220720197\n",
      "52.498452328440855 , 13.58492619392067\n",
      "52.50324527901675 , 13.580224585532925\n",
      "52.49351002692282 , 13.530481238315753\n",
      "52.529217834862 , 13.273479243240233\n",
      "52.45145143705275 , 13.384581767881535\n"

     ]
    }
   ],
   "source": [
    "# Define the desired polygon : points choosen in Google maps\n",
    "\n",
    "poly = Polygon([(52.645883, 13.395869), \n",
    "                (52.526568, 13.645808),\n",
    "                (52.381789, 13.405482),\n",
    "                (52.484773, 13.136317)])\n",
    "\n",
    "\n",
    "min_x = 52.381789\n",
    "max_x = 52.645883\n",
    "min_y = 13.136317\n",
    "max_y = 13.645808\n",
    "\n",
    "# Defining the randomization generator\n",
    "def polygon_random_points (poly, num_records):\n",
    "    min_x, min_y, max_x, max_y = poly.bounds\n",
    "    points = []\n",
    "    while len(points) < num_records:\n",
    "        random_point = Point([random.uniform(min_x, max_x), random.uniform(min_y, max_y)])\n",
    "        if (random_point.within(poly)):\n",
    "            points.append(random_point)\n",
    "    return points\n",
    "    # Choose the number of points desired. T\\ \n",
    "points = polygon_random_points(poly,num_records)\n",
    "# Testing the results.\n",
    "for p in points:\n",
    "    print(p.x,\",\",p.y)\n",

    "\n",


   "cell_type": "code",
   "execution_count": null,
   "id": "ee859f40",
   "metadata": {},
   "outputs": [],
   "source": []
  },
  {

   "cell_type": "markdown",
   "id": "d5646776",
   "metadata": {},
   "source": [
    "### The polygon in the map"
   ]
  },
  {
   "cell_type": "code",

   "execution_count": 7,

   "id": "b30af939",
   "metadata": {},
   "outputs": [],
   "source": [

    "mapObj = folium.Map(location=[52.520008,13.404954], zoom_start=5)"

   ]
  },
  {
   "cell_type": "code",

   "execution_count": 8,

   "id": "6c1b8cec",
   "metadata": {},
   "outputs": [],
   "source": [
    "folium.Polygon([(52.645883, 13.395869), \n",
    "                (52.526568, 13.645808), \n",
    "                (52.381789, 13.405482), \n",
    "                (52.484773, 13.136317)],\n",
    "                fill=True, \n",
    "                weight=3, \n",
    "                fill_color='orange',\n",
    "                color='green',\n",
    "                fill_opacity=0.8).add_to(mapObj)\n",
    "\n",

    "mapObj.save('images/output.html')"
   ]
  },
  {
   "cell_type": "code",
   "execution_count": null,
   "id": "f4001b21",
   "metadata": {},
   "outputs": [],
   "source": []
  },
  {

   "cell_type": "markdown",
   "id": "25096f71",
   "metadata": {},
   "source": [
    "### User"
   ]
  },
  {
   "cell_type": "code",

   "execution_count": 9,

   "id": "2606e7ae",
   "metadata": {},
   "outputs": [],
   "source": [
    "# define a function to create user data\n",
    "\n",
    "user_type = ['giver', 'looker']\n",
    "\n",
    "\n",
    "def create_user_data(num_records): \n",
    "  \n",
    "    # dictionary \n",
    "    user ={} \n",
    "    for i in range(0, num_records): \n",
    "        user[i] = {} \n",
    "        user[i]['name'] = fake.name()\n",
    "#         user[i]['email'] = fake.email()\n",
    "#         user[i]['email'] = fake.ascii_free_email()\n",
    "        user[i]['email'] = fake.ascii_email()\n",
    "        user[i]['address'] = german_locale_generator.address()  # these addresses are from germany, find a list of address for berlin\n",
    "        user[i]['user_type'] = fake.random_element(user_type)\n",
    "        user[i]['user_lat_lng'] = polygon_random_points(poly,1)\n",
    "        user[i]['user_postcode'] = np.random.choice(postcodes_berlin_series)\n",
    "\n",
    "    return user"
   ]
  },
  {
   "cell_type": "code",

   "execution_count": 10,

   "id": "45a27923",
   "metadata": {},
   "outputs": [
    {
     "data": {
      "text/html": [
       "<div>\n",
       "<style scoped>\n",
       "    .dataframe tbody tr th:only-of-type {\n",
       "        vertical-align: middle;\n",
       "    }\n",
       "\n",
       "    .dataframe tbody tr th {\n",
       "        vertical-align: top;\n",
       "    }\n",
       "\n",
       "    .dataframe thead th {\n",
       "        text-align: right;\n",
       "    }\n",
       "</style>\n",
       "<table border=\"1\" class=\"dataframe\">\n",
       "  <thead>\n",
       "    <tr style=\"text-align: right;\">\n",
       "      <th></th>\n",
       "      <th>name</th>\n",
       "      <th>email</th>\n",
       "      <th>address</th>\n",
       "      <th>user_type</th>\n",
       "      <th>user_lat_lng</th>\n",
       "      <th>user_postcode</th>\n",
       "    </tr>\n",
       "  </thead>\n",
       "  <tbody>\n",
       "    <tr>\n",
       "      <th>0</th>\n",
       "      <td>Norma Fisher</td>\n",
       "      <td>ysullivan@yahoo.com</td>\n",
       "      <td>Alwina-Etzold-Ring 19\\n89241 Sömmerda</td>\n",
       "      <td>looker</td>\n",

       "      <td>[POINT (52.55817776753259 13.51977533024604)]</td>\n",
       "      <td>13589</td>\n",

       "    </tr>\n",
       "    <tr>\n",
       "      <th>1</th>\n",
       "      <td>Brian Hamilton</td>\n",
       "      <td>hramos@brown-sellers.com</td>\n",
       "      <td>Eleonore-Oderwald-Ring 51\\n93328 Bremen</td>\n",
       "      <td>giver</td>\n",

       "      <td>[POINT (52.61318982677302 13.45957088232772)]</td>\n",
       "      <td>12527</td>\n",

       "    </tr>\n",
       "    <tr>\n",
       "      <th>2</th>\n",
       "      <td>Sheri Bolton DDS</td>\n",
       "      <td>jasmine85@hotmail.com</td>\n",
       "      <td>Conradistr. 5/9\\n42320 Naila</td>\n",
       "      <td>giver</td>\n",

       "      <td>[POINT (52.51710596885466 13.50832345692477)]</td>\n",
       "      <td>12161</td>\n",

       "    </tr>\n",
       "    <tr>\n",
       "      <th>3</th>\n",
       "      <td>Peter Mcdowell</td>\n",
       "      <td>villanuevasandra@vega.net</td>\n",
       "      <td>Salzring 7/5\\n59179 Erfurt</td>\n",
       "      <td>giver</td>\n",

       "      <td>[POINT (52.47800840979916 13.45899383838396)]</td>\n",
       "      <td>13505</td>\n",

       "    </tr>\n",
       "    <tr>\n",
       "      <th>4</th>\n",
       "      <td>Devin Thornton</td>\n",
       "      <td>marvincabrera@gmail.com</td>\n",
       "      <td>Margot-Ruppert-Allee 013\\n61510 Euskirchen</td>\n",
       "      <td>giver</td>\n",

       "      <td>[POINT (52.46867224145688 13.27660431451518)]</td>\n",
       "      <td>10961</td>\n",

       "    </tr>\n",
       "  </tbody>\n",
       "</table>\n",
       "</div>"
      ],
      "text/plain": [
       "               name                      email  \\\n",
       "0      Norma Fisher        ysullivan@yahoo.com   \n",
       "1    Brian Hamilton   hramos@brown-sellers.com   \n",
       "2  Sheri Bolton DDS      jasmine85@hotmail.com   \n",
       "3    Peter Mcdowell  villanuevasandra@vega.net   \n",
       "4    Devin Thornton    marvincabrera@gmail.com   \n",
       "\n",
       "                                      address user_type  \\\n",
       "0       Alwina-Etzold-Ring 19\\n89241 Sömmerda    looker   \n",
       "1     Eleonore-Oderwald-Ring 51\\n93328 Bremen     giver   \n",
       "2                Conradistr. 5/9\\n42320 Naila     giver   \n",
       "3                  Salzring 7/5\\n59179 Erfurt     giver   \n",
       "4  Margot-Ruppert-Allee 013\\n61510 Euskirchen     giver   \n",
       "\n",
       "                                    user_lat_lng user_postcode  \n",

       "0  [POINT (52.55817776753259 13.51977533024604)]         13589  \n",
       "1  [POINT (52.61318982677302 13.45957088232772)]         12527  \n",
       "2  [POINT (52.51710596885466 13.50832345692477)]         12161  \n",
       "3  [POINT (52.47800840979916 13.45899383838396)]         13505  \n",
       "4  [POINT (52.46867224145688 13.27660431451518)]         10961  "
      ]
     },
     "execution_count": 10,

     "metadata": {},
     "output_type": "execute_result"
    }
   ],
   "source": [
    "user_mock_df = pd.DataFrame(create_user_data(1000)).transpose()\n",
    "user_mock_df.head(5)"
   ]
  },
  {
   "cell_type": "code",

   "execution_count": 11,

   "id": "9b0feb99",
   "metadata": {},
   "outputs": [],
   "source": [
    "# add user_ids \n",
    "user_mock_df['user_id'] = user_mock_df.index + 1\n",
    "user_id_series = user_mock_df['user_id']"
   ]
  },
  {
   "cell_type": "markdown",
   "id": "65da01d1",
   "metadata": {},
   "source": [
    "### Item"
   ]
  },
  {
   "cell_type": "code",

   "execution_count": 12,

   "id": "d154b713",
   "metadata": {},
   "outputs": [],
   "source": [
    "item_status = ['avaliable', 'not_available']\n",

    "item_condition = ['good','medium','bad']\n",
    "\n",
    "category_item = ['furniture-sofa',\n",
    "                 'furniture-armchair',\n",
    "                 'furniture-chair',\n",
    "                 'furniture-table',\n",
    "                 'furniture-desk',\n",
    "                 'furniture-bed',\n",
    "                 'furniture-bookcase',\n",
    "                 'furniture-bedside_table',\n",
    "                 'furniture-cabinet',\n",
    "                 'furniture-wardrobe',\n",
    "                 'furniture-shelf',\n",
    "                 'furniture-cupboard',\n",
    "                 'furniture-trolley',\n",
    "                 'appliance-washing_machine',\n",
    "                 'appliance-dish_washer',\n",
    "                 'appliance-drying_rack',\n",
    "                 'appliance-refrigerator',\n",
    "                 'appliance-blender',\n",
    "                 'appliance-extractor_hood',\n",
    "                 'appliance-clothes_iron',\n",
    "                 'appliance-vacuum_cleaner',\n",
    "                 'appliance-sandwich_maker',\n",
    "                 'appliance-kettle',\n",
    "                 'appliance-air_conditioner',\n",
    "                 'appliance-heater',\n",
    "                 'appliance-pan',\n",
    "                 'appliance-popcorn_maker',\n",
    "                 'appliance-coffee_machine',\n",
    "                 'appliance-stove',\n",
    "                 'lighting-lighting',\n",
    "                 'lighting-chandelier',\n",
    "                 'lighting-lightbulb',\n",
    "                 'musical_equipment-guitar',\n",
    "                 'musical_equipment-sound_amplifier',\n",
    "                 'musical_equipment-contrabass',\n",
    "                 'musical_equipment-battery',\n",
    "                 'musical_equipment-piano',\n",
    "                 'tech-desktop',\n",
    "                 'tech-laptop',\n",
    "                 'tech-phone',\n",
    "                 'tech-keyboard',\n",
    "                 'clothes-woman_jacket',\n",
    "                 'clothes-man_jacket',\n",
    "                 'clothes-child_jacket',\n",
    "                 'clothes-woman_clothes',\n",
    "                 'clothes-man_clothes',\n",
    "                 'clothes-child_clothes',\n",
    "                 'shoes-woman_shoes',\n",
    "                 'shoes-man_shoes',\n",
    "                 'shoes-child_shoes',\n",
    "                 'miscelaneaous-ironing_board',\n",
    "                 'miscelaneaous-picture_frame',\n",
    "                 'miscelaneaous-bicycle',\n",
    "                 'miscelaneaous-plant',\n",
    "                 'miscelaneaous-carpet',\n",
    "                 'miscelaneaous-roller_skates',\n",
    "                 'miscelaneaous-ski_skates',\n",
    "                 'miscelaneaous-books',\n",
    "                 'miscelaneaous-purse',\n",
    "                 'miscelaneaous-suitcase',\n",
    "                 'miscelaneaous-shopping_venture',\n",
    "                 'miscelaneaous-board',\n",
    "                 'miscelaneaous-frame',\n",
    "                 'home-mattress', \n",
    "                 'home-carpet',\n",
    "                 'kids-stroller',\n",
    "                 'kids-baby_carriage']\n"
   ]
  },
  {
   "cell_type": "code",
   "execution_count": 13,
   "id": "850728a8",
   "metadata": {},
   "outputs": [],
   "source": [
    "# define a function to create item data\n",
    "limit = '-30d'  # limit of 30 days of item in the app\n",
    "\n",
    "def create_item_data(num_records): \n",
    "  \n",
    "    # dictionary \n",
    "    item ={} \n",
    "    for i in range(0, num_records): \n",
    "        item[i] = {}\n",
    "        item[i]['item_category-item_name'] = np.random.choice(category_item)\n",
    "        item[i]['item_condition'] = np.random.choice(item_condition)\n",
    "        item[i]['item_postcode'] = np.random.choice(postcodes_berlin_series)\n",
    "        item[i]['item_status'] = np.random.choice(item_status)\n",
    "        item[i]['user_lat-user_lng'] = polygon_random_points(poly,1)\n",
    "        item[i]['userwhochangeditemstatus_id'] = np.random.choice(user_id_series)\n",
    "        datetime_iteration1 = fake.date_between_dates(limit,'now')\n",
    "        datetime_iteration2 = fake.date_between_dates(limit,'now')\n",
    "        if datetime_iteration1 <= datetime_iteration2:\n",
    "            item[i]['item_datetime_posted'] = datetime_iteration1\n",
    "            item[i]['item_datetimechangeditemstatus'] = datetime_iteration2\n",
    "        else:\n",
    "            item[i]['item_datetime_posted'] = datetime_iteration2\n",
    "            item[i]['item_datetimechangeditemstatus'] = datetime_iteration1  \n",
    " # This date shold be later than the post\n",
    "        \n",
    "\n",
    "    return item"
   ]
  },
  {
   "cell_type": "code",
   "execution_count": 14,
   "id": "7fd3f684",
   "metadata": {},
   "outputs": [
    {
     "data": {
      "text/html": [
       "<div>\n",
       "<style scoped>\n",
       "    .dataframe tbody tr th:only-of-type {\n",
       "        vertical-align: middle;\n",
       "    }\n",
       "\n",
       "    .dataframe tbody tr th {\n",
       "        vertical-align: top;\n",
       "    }\n",
       "\n",
       "    .dataframe thead th {\n",
       "        text-align: right;\n",
       "    }\n",
       "</style>\n",
       "<table border=\"1\" class=\"dataframe\">\n",
       "  <thead>\n",
       "    <tr style=\"text-align: right;\">\n",
       "      <th></th>\n",
       "      <th>item_category-item_name</th>\n",
       "      <th>item_condition</th>\n",
       "      <th>item_postcode</th>\n",
       "      <th>item_status</th>\n",
       "      <th>user_lat-user_lng</th>\n",
       "      <th>userwhochangeditemstatus_id</th>\n",
       "      <th>item_datetime_posted</th>\n",
       "      <th>item_datetimechangeditemstatus</th>\n",
       "    </tr>\n",
       "  </thead>\n",
       "  <tbody>\n",
       "    <tr>\n",
       "      <th>0</th>\n",
       "      <td>clothes-child_jacket</td>\n",
       "      <td>bad</td>\n",
       "      <td>12105</td>\n",
       "      <td>avaliable</td>\n",
       "      <td>[POINT (52.5513827488009 13.44200676736483)]</td>\n",
       "      <td>198</td>\n",
       "      <td>2023-02-18</td>\n",
       "      <td>2023-02-19</td>\n",
       "    </tr>\n",
       "    <tr>\n",
       "      <th>1</th>\n",
       "      <td>clothes-man_jacket</td>\n",
       "      <td>medium</td>\n",
       "      <td>10551</td>\n",
       "      <td>not_available</td>\n",
       "      <td>[POINT (52.42272648212525 13.30238417329071)]</td>\n",
       "      <td>984</td>\n",
       "      <td>2023-03-05</td>\n",
       "      <td>2023-03-08</td>\n",
       "    </tr>\n",
       "    <tr>\n",
       "      <th>2</th>\n",
       "      <td>musical_equipment-guitar</td>\n",
       "      <td>bad</td>\n",
       "      <td>10783</td>\n",
       "      <td>not_available</td>\n",
       "      <td>[POINT (52.57354133386853 13.36683501515493)]</td>\n",
       "      <td>143</td>\n",
       "      <td>2023-03-04</td>\n",
       "      <td>2023-03-08</td>\n",
       "    </tr>\n",
       "    <tr>\n",
       "      <th>3</th>\n",
       "      <td>furniture-cot</td>\n",
       "      <td>medium</td>\n",
       "      <td>12053</td>\n",
       "      <td>avaliable</td>\n",
       "      <td>[POINT (52.46475976389592 13.35141225770571)]</td>\n",
       "      <td>579</td>\n",
       "      <td>2023-02-24</td>\n",
       "      <td>2023-03-04</td>\n",
       "    </tr>\n",
       "    <tr>\n",
       "      <th>4</th>\n",
       "      <td>furniture-mirror</td>\n",
       "      <td>medium</td>\n",
       "      <td>13086</td>\n",
       "      <td>avaliable</td>\n",
       "      <td>[POINT (52.45344280682443 13.28624338307732)]</td>\n",
       "      <td>539</td>\n",
       "      <td>2023-02-14</td>\n",
       "      <td>2023-03-01</td>\n",
       "    </tr>\n",
       "  </tbody>\n",
       "</table>\n",
       "</div>"
      ],
      "text/plain": [
       "    item_category-item_name item_condition item_postcode    item_status  \\\n",
       "0      clothes-child_jacket            bad         12105      avaliable   \n",
       "1        clothes-man_jacket         medium         10551  not_available   \n",
       "2  musical_equipment-guitar            bad         10783  not_available   \n",
       "3             furniture-cot         medium         12053      avaliable   \n",
       "4          furniture-mirror         medium         13086      avaliable   \n",
       "\n",
       "                               user_lat-user_lng userwhochangeditemstatus_id  \\\n",
       "0   [POINT (52.5513827488009 13.44200676736483)]                         198   \n",
       "1  [POINT (52.42272648212525 13.30238417329071)]                         984   \n",
       "2  [POINT (52.57354133386853 13.36683501515493)]                         143   \n",
       "3  [POINT (52.46475976389592 13.35141225770571)]                         579   \n",
       "4  [POINT (52.45344280682443 13.28624338307732)]                         539   \n",
       "\n",
       "  item_datetime_posted item_datetimechangeditemstatus  \n",
       "0           2023-02-18                     2023-02-19  \n",
       "1           2023-03-05                     2023-03-08  \n",
       "2           2023-03-04                     2023-03-08  \n",
       "3           2023-02-24                     2023-03-04  \n",
       "4           2023-02-14                     2023-03-01  "
      ]
     },
     "execution_count": 14,
     "metadata": {},
     "output_type": "execute_result"
    }
   ],
   "source": [
    "item_mock_df = pd.DataFrame(create_item_data(100)).transpose()\n",
    "item_mock_df.head(5)"
   ]
  },
  {
   "cell_type": "code",
   "execution_count": 15,
   "id": "a4d903d6",
   "metadata": {},
   "outputs": [],
   "source": [
    "item_mock_df['item_id'] = item_mock_df.index +1  # add item_id\n",
    "item_id_series = item_mock_df['item_id']  # storage in a variable to use later"
   ]
  },
  {
   "cell_type": "code",
   "execution_count": null,
   "id": "d34f26e4",
   "metadata": {},
   "outputs": [],
   "source": []
  },
  {
   "cell_type": "markdown",
   "id": "f68bbff6",
   "metadata": {},
   "source": [
    "### Model"
   ]
  },
  {
   "cell_type": "code",
   "execution_count": 16,
   "id": "86c54413",
   "metadata": {},
   "outputs": [],
   "source": [
    "# define a function to create model data\n",
    "\n",
    "\n",
    "def create_model_data(num_records): \n",
    "  \n",
    "    # dictionary \n",
    "    model ={} \n",
    "    for i in range(0, num_records): \n",
    "        model[i] = {} \n",
    "        model[i]['item_id'] = np.random.choice(item_id_series)\n",
    "        model[i]['item_category-item_name'] = np.random.choice(category_item)\n",
    "        model[i]['item_condition'] = np.random.choice(item_condition)\n",
    "        model[i]['item_lat-item_lng'] = polygon_random_points(poly,1)\n",
    "        model[i]['item_postcode'] = np.random.choice(postcodes_berlin_series)\n",
    "        model[i]['item_status'] = np.random.choice(item_status)\n",
    "        model[i]['userwhoposted_id'] = np.random.choice(user_id_series)\n",
    "        model[i]['userwhopickedup_id'] = np.random.choice(user_id_series)\n",
    "        model[i]['userwhochangeditemstatus_id'] = np.random.choice(user_id_series)\n",
    "        model[i]['userwhochangeditemstatus_lat-userwhochangeditemstatus_lng'] = polygon_random_points(poly,1)\n",
    "        model[i]['searched_item_name-searched_item_category-searched_item'] = np.random.choice(category_item)\n",
    "        model[i]['searched_postcode'] = np.random.choice(postcodes_berlin_series)\n",
    "        datetime_iteration1 = fake.date_between_dates(limit,'now')\n",
    "        datetime_iteration2 = fake.date_between_dates(limit,'now')\n",
    "        if datetime_iteration1 <= datetime_iteration2:\n",
    "            model[i]['item_datetime_posted'] = datetime_iteration1\n",
    "            model[i]['item_datetimechangeditemstatus'] = datetime_iteration2\n",
    "        else:\n",
    "            model[i]['item_datetime_posted'] = datetime_iteration2\n",
    "            model[i]['item_datetimechangeditemstatus'] = datetime_iteration1  \n",
    "       \n",
    "    return model\n"
   ]
  },
  {
   "cell_type": "code",
   "execution_count": 17,
   "id": "54c6d6be",
   "metadata": {},
   "outputs": [
    {
     "data": {
      "text/plain": [
       "(1000, 14)"
      ]
     },
     "execution_count": 17,
     "metadata": {},
     "output_type": "execute_result"
    }
   ],
   "source": [
    "model_mock_df = pd.DataFrame(create_model_data(1000)).transpose()\n",
    "# model_mock_df.head(5)\n",
    "model_mock_df.shape"
   ]
  },
  {
   "cell_type": "code",
   "execution_count": 18,
   "id": "ab16fe47",
   "metadata": {},
   "outputs": [
    {
     "name": "stdout",
     "output_type": "stream",
     "text": [
      "<class 'pandas.core.frame.DataFrame'>\n",
      "Int64Index: 1000 entries, 0 to 999\n",
      "Data columns (total 14 columns):\n",
      " #   Column                                                     Non-Null Count  Dtype \n",
      "---  ------                                                     --------------  ----- \n",
      " 0   item_id                                                    1000 non-null   object\n",
      " 1   item_category-item_name                                    1000 non-null   object\n",
      " 2   item_condition                                             1000 non-null   object\n",
      " 3   item_lat-item_lng                                          1000 non-null   object\n",
      " 4   item_postcode                                              1000 non-null   object\n",
      " 5   item_status                                                1000 non-null   object\n",
      " 6   userwhoposted_id                                           1000 non-null   object\n",
      " 7   userwhopickedup_id                                         1000 non-null   object\n",
      " 8   userwhochangeditemstatus_id                                1000 non-null   object\n",
      " 9   userwhochangeditemstatus_lat-userwhochangeditemstatus_lng  1000 non-null   object\n",
      " 10  searched_item_name-searched_item_category-searched_item    1000 non-null   object\n",
      " 11  searched_postcode                                          1000 non-null   object\n",
      " 12  item_datetime_posted                                       1000 non-null   object\n",
      " 13  item_datetimechangeditemstatus                             1000 non-null   object\n",
      "dtypes: object(14)\n",
      "memory usage: 117.2+ KB\n"
     ]
    }
   ],
   "source": [
    "model_mock_df.info()"
   ]
  },
  {
   "cell_type": "code",
   "execution_count": null,
   "id": "01c1e7a2",
   "metadata": {},
   "outputs": [],
   "source": []
  },
  {
   "cell_type": "code",
   "execution_count": null,
   "id": "a4ac0601",
   "metadata": {},
   "outputs": [],
   "source": []
  },
  {
   "cell_type": "markdown",
   "id": "0a56ff90",
   "metadata": {},
   "source": [
    "### Split columns of dependent variables"
   ]
  },
  {
   "cell_type": "code",
   "execution_count": 19,
   "id": "88bb3b0c",
   "metadata": {},
   "outputs": [],
   "source": [
    "model_mock_df[['item_category','item_name']] = model_mock_df['item_category-item_name'].apply(lambda x: pd.Series(str(x).split(\"-\")))\n",
    "\n",
    "model_mock_df[['searched_item_name','item_category-searched_item']] = model_mock_df['searched_item_name-searched_item_category-searched_item'].apply(lambda x: pd.Series(str(x).split(\"-\")))\n"
   ]
  },
  {
   "cell_type": "code",
   "execution_count": 20,
   "id": "8bfdfbca",
   "metadata": {},
   "outputs": [
    {
     "data": {
      "text/html": [
       "<div>\n",
       "<style scoped>\n",
       "    .dataframe tbody tr th:only-of-type {\n",
       "        vertical-align: middle;\n",
       "    }\n",
       "\n",
       "    .dataframe tbody tr th {\n",
       "        vertical-align: top;\n",
       "    }\n",
       "\n",
       "    .dataframe thead th {\n",
       "        text-align: right;\n",
       "    }\n",
       "</style>\n",
       "<table border=\"1\" class=\"dataframe\">\n",
       "  <thead>\n",
       "    <tr style=\"text-align: right;\">\n",
       "      <th></th>\n",
       "      <th>item_id</th>\n",
       "      <th>item_category-item_name</th>\n",
       "      <th>item_condition</th>\n",
       "      <th>item_lat-item_lng</th>\n",
       "      <th>item_postcode</th>\n",
       "      <th>item_status</th>\n",
       "      <th>userwhoposted_id</th>\n",
       "      <th>userwhopickedup_id</th>\n",
       "      <th>userwhochangeditemstatus_id</th>\n",
       "      <th>userwhochangeditemstatus_lat-userwhochangeditemstatus_lng</th>\n",
       "      <th>searched_item_name-searched_item_category-searched_item</th>\n",
       "      <th>searched_postcode</th>\n",
       "      <th>item_datetime_posted</th>\n",
       "      <th>item_datetimechangeditemstatus</th>\n",
       "      <th>item_category</th>\n",
       "      <th>item_name</th>\n",
       "      <th>searched_item_name</th>\n",
       "      <th>item_category-searched_item</th>\n",
       "    </tr>\n",
       "  </thead>\n",
       "  <tbody>\n",
       "    <tr>\n",
       "      <th>0</th>\n",
       "      <td>61</td>\n",
       "      <td>shoes-child_shoes</td>\n",
       "      <td>good</td>\n",
       "      <td>[POINT (52.53111149560363 13.2370420583312)]</td>\n",
       "      <td>10965</td>\n",
       "      <td>not_available</td>\n",
       "      <td>301</td>\n",
       "      <td>524</td>\n",
       "      <td>813</td>\n",
       "      <td>[POINT (52.46948074332052 13.19661225302014)]</td>\n",
       "      <td>miscelaneaous-frame</td>\n",
       "      <td>13359</td>\n",
       "      <td>2023-02-13</td>\n",
       "      <td>2023-02-13</td>\n",
       "      <td>shoes</td>\n",
       "      <td>child_shoes</td>\n",
       "      <td>miscelaneaous</td>\n",
       "      <td>frame</td>\n",
       "    </tr>\n",
       "    <tr>\n",
       "      <th>1</th>\n",
       "      <td>59</td>\n",
       "      <td>furniture-sofa</td>\n",
       "      <td>bad</td>\n",
       "      <td>[POINT (52.41821415824008 13.41365245283805)]</td>\n",
       "      <td>12437</td>\n",
       "      <td>avaliable</td>\n",
       "      <td>654</td>\n",
       "      <td>355</td>\n",
       "      <td>241</td>\n",
       "      <td>[POINT (52.57933484562719 13.3629319697843)]</td>\n",
       "      <td>miscelaneaous-purse</td>\n",
       "      <td>12435</td>\n",
       "      <td>2023-02-13</td>\n",
       "      <td>2023-02-23</td>\n",
       "      <td>furniture</td>\n",
       "      <td>sofa</td>\n",
       "      <td>miscelaneaous</td>\n",
       "      <td>purse</td>\n",
       "    </tr>\n",
       "    <tr>\n",
       "      <th>2</th>\n",
       "      <td>86</td>\n",
       "      <td>miscelaneaous-picture_frame</td>\n",
       "      <td>bad</td>\n",
       "      <td>[POINT (52.57412295095538 13.38742083627064)]</td>\n",
       "      <td>12099</td>\n",
       "      <td>avaliable</td>\n",
       "      <td>491</td>\n",
       "      <td>275</td>\n",
       "      <td>549</td>\n",
       "      <td>[POINT (52.53005084035127 13.62980712028942)]</td>\n",
       "      <td>appliance-dish_washer</td>\n",
       "      <td>12627</td>\n",
       "      <td>2023-02-21</td>\n",
       "      <td>2023-03-02</td>\n",
       "      <td>miscelaneaous</td>\n",
       "      <td>picture_frame</td>\n",
       "      <td>appliance</td>\n",
       "      <td>dish_washer</td>\n",
       "    </tr>\n",
       "    <tr>\n",
       "      <th>3</th>\n",
       "      <td>30</td>\n",
       "      <td>miscelaneaous-suitcase</td>\n",
       "      <td>good</td>\n",
       "      <td>[POINT (52.42934951006704 13.45724499766281)]</td>\n",
       "      <td>13629</td>\n",
       "      <td>avaliable</td>\n",
       "      <td>732</td>\n",
       "      <td>378</td>\n",
       "      <td>310</td>\n",
       "      <td>[POINT (52.45490317581201 13.41704362759532)]</td>\n",
       "      <td>miscelaneaous-ski_skates</td>\n",
       "      <td>13357</td>\n",
       "      <td>2023-02-20</td>\n",
       "      <td>2023-02-25</td>\n",
       "      <td>miscelaneaous</td>\n",
       "      <td>suitcase</td>\n",
       "      <td>miscelaneaous</td>\n",
       "      <td>ski_skates</td>\n",
       "    </tr>\n",
       "    <tr>\n",
       "      <th>4</th>\n",
       "      <td>14</td>\n",
       "      <td>musical_equipment-piano</td>\n",
       "      <td>good</td>\n",
       "      <td>[POINT (52.45259172266833 13.25730036791276)]</td>\n",
       "      <td>10587</td>\n",
       "      <td>not_available</td>\n",
       "      <td>206</td>\n",
       "      <td>89</td>\n",
       "      <td>465</td>\n",
       "      <td>[POINT (52.54380179021354 13.48878666928932)]</td>\n",
       "      <td>home-mattress</td>\n",
       "      <td>13435</td>\n",
       "      <td>2023-02-21</td>\n",
       "      <td>2023-03-10</td>\n",
       "      <td>musical_equipment</td>\n",
       "      <td>piano</td>\n",
       "      <td>home</td>\n",
       "      <td>mattress</td>\n",
       "    </tr>\n",
       "  </tbody>\n",
       "</table>\n",
       "</div>"
      ],
      "text/plain": [
       "  item_id      item_category-item_name item_condition  \\\n",
       "0      61            shoes-child_shoes           good   \n",
       "1      59               furniture-sofa            bad   \n",
       "2      86  miscelaneaous-picture_frame            bad   \n",
       "3      30       miscelaneaous-suitcase           good   \n",
       "4      14      musical_equipment-piano           good   \n",
       "\n",
       "                               item_lat-item_lng item_postcode    item_status  \\\n",
       "0   [POINT (52.53111149560363 13.2370420583312)]         10965  not_available   \n",
       "1  [POINT (52.41821415824008 13.41365245283805)]         12437      avaliable   \n",
       "2  [POINT (52.57412295095538 13.38742083627064)]         12099      avaliable   \n",
       "3  [POINT (52.42934951006704 13.45724499766281)]         13629      avaliable   \n",
       "4  [POINT (52.45259172266833 13.25730036791276)]         10587  not_available   \n",
       "\n",
       "  userwhoposted_id userwhopickedup_id userwhochangeditemstatus_id  \\\n",
       "0              301                524                         813   \n",
       "1              654                355                         241   \n",
       "2              491                275                         549   \n",
       "3              732                378                         310   \n",
       "4              206                 89                         465   \n",
       "\n",
       "  userwhochangeditemstatus_lat-userwhochangeditemstatus_lng  \\\n",
       "0      [POINT (52.46948074332052 13.19661225302014)]          \n",
       "1       [POINT (52.57933484562719 13.3629319697843)]          \n",
       "2      [POINT (52.53005084035127 13.62980712028942)]          \n",
       "3      [POINT (52.45490317581201 13.41704362759532)]          \n",
       "4      [POINT (52.54380179021354 13.48878666928932)]          \n",
       "\n",
       "  searched_item_name-searched_item_category-searched_item searched_postcode  \\\n",
       "0                                miscelaneaous-frame                  13359   \n",
       "1                                miscelaneaous-purse                  12435   \n",
       "2                              appliance-dish_washer                  12627   \n",
       "3                           miscelaneaous-ski_skates                  13357   \n",
       "4                                      home-mattress                  13435   \n",
       "\n",
       "  item_datetime_posted item_datetimechangeditemstatus      item_category  \\\n",
       "0           2023-02-13                     2023-02-13              shoes   \n",
       "1           2023-02-13                     2023-02-23          furniture   \n",
       "2           2023-02-21                     2023-03-02      miscelaneaous   \n",
       "3           2023-02-20                     2023-02-25      miscelaneaous   \n",
       "4           2023-02-21                     2023-03-10  musical_equipment   \n",
       "\n",
       "       item_name searched_item_name item_category-searched_item  \n",
       "0    child_shoes      miscelaneaous                       frame  \n",
       "1           sofa      miscelaneaous                       purse  \n",
       "2  picture_frame          appliance                 dish_washer  \n",
       "3       suitcase      miscelaneaous                  ski_skates  \n",
       "4          piano               home                    mattress  "
      ]
     },
     "execution_count": 20,
     "metadata": {},
     "output_type": "execute_result"
    }
   ],
   "source": [
    "model_mock_df.head()"
   ]
  },
  {
   "cell_type": "code",
   "execution_count": null,
   "id": "0a6907a3",
   "metadata": {},
   "outputs": [],
   "source": []
  },
  {
   "cell_type": "code",
   "execution_count": null,
   "id": "10b98234",
   "metadata": {},
   "outputs": [],
   "source": []
  },
  {
   "cell_type": "markdown",
   "id": "9bb2af26",
   "metadata": {},
   "source": [
    "# CONTINUE FROM HERE"
   ]
  },
  {
   "cell_type": "raw",
   "id": "158e6c7f",
   "metadata": {},
   "source": [
    "df['lon'] = df.point_object.x\n",
    "df['lat'] = df.point_object.y\n",
    "OR\n",
    "df['lon'] = df.point_object.apply(lambda p: p.x)\n",
    "df['lat'] = df.point_object.apply(lambda p: p.y)\n",
    "\n",
    "https://stackoverflow.com/questions/49635436/shapely-point-geometry-in-geopandas-df-to-lat-lon-columns"
   ]
  },
  {
   "cell_type": "code",
   "execution_count": 21,
   "id": "0ca8fb55",
   "metadata": {},
   "outputs": [],
   "source": [
    "# # # model_mock_df['item_lat-item_lng']\n",
    "# model_mock_df['lon'] = model_mock_df.point_object.apply(lambda p: p.x)\n",
    "# model_mock_df['lat'] = model_mock_df.point_object.apply(lambda p: p.y)\n",
    "\n",
    "\n",
    "# # [8:-3]\n",
    "# # 0 to 8\n",
    "# # -3 to -19"
   ]
  },
  {
   "cell_type": "code",
   "execution_count": null,
   "id": "23eb746c",
   "metadata": {},
   "outputs": [],
   "source": []
  },
  {
   "cell_type": "code",
   "execution_count": 22,
   "id": "8958bade",
   "metadata": {},
   "outputs": [],
   "source": [
    "\n",
    "# # 'item_lat-item_lng'\n",
    "# model_mock_df[['item_lat','item_lng']] = model_mock_df['item_lat-item_lng'].apply(lambda x: pd.Series(str(x).split(\"-\")))\n",
    "\n",
    "\n",
    "# # 'userwhochangeditemstatus_lat-userwhochangeditemstatus_lng'\n",
    "# model_mock_df[['userwhochangeditemstatus_lat','userwhochangeditemstatus_lng']] = model_mock_df['userwhochangeditemstatus_lat-userwhochangeditemstatus_lng'].apply(lambda x: pd.Series(str(x).split(\"-\")))\n",
    "\n",
    "\n",
    "# model_mock_df.head(5)"
   ]
  },
  {
   "cell_type": "code",
   "execution_count": 23,
   "id": "fc05c565",
   "metadata": {},
   "outputs": [
    {
     "name": "stdout",
     "output_type": "stream",
     "text": [
      "<class 'pandas.core.frame.DataFrame'>\n",
      "Int64Index: 1000 entries, 0 to 999\n",
      "Data columns (total 18 columns):\n",
      " #   Column                                                     Non-Null Count  Dtype \n",
      "---  ------                                                     --------------  ----- \n",
      " 0   item_id                                                    1000 non-null   object\n",
      " 1   item_category-item_name                                    1000 non-null   object\n",
      " 2   item_condition                                             1000 non-null   object\n",
      " 3   item_lat-item_lng                                          1000 non-null   object\n",
      " 4   item_postcode                                              1000 non-null   object\n",
      " 5   item_status                                                1000 non-null   object\n",
      " 6   userwhoposted_id                                           1000 non-null   object\n",
      " 7   userwhopickedup_id                                         1000 non-null   object\n",
      " 8   userwhochangeditemstatus_id                                1000 non-null   object\n",
      " 9   userwhochangeditemstatus_lat-userwhochangeditemstatus_lng  1000 non-null   object\n",
      " 10  searched_item_name-searched_item_category-searched_item    1000 non-null   object\n",
      " 11  searched_postcode                                          1000 non-null   object\n",
      " 12  item_datetime_posted                                       1000 non-null   object\n",
      " 13  item_datetimechangeditemstatus                             1000 non-null   object\n",
      " 14  item_category                                              1000 non-null   object\n",
      " 15  item_name                                                  1000 non-null   object\n",
      " 16  searched_item_name                                         1000 non-null   object\n",
      " 17  item_category-searched_item                                1000 non-null   object\n",
      "dtypes: object(18)\n",
      "memory usage: 148.4+ KB\n"
     ]
    }
   ],
   "source": [
    "\n",
    "model_mock_df.info(5)"
   ]
  },
  {
   "cell_type": "code",
   "execution_count": 24,
   "id": "0b2df498",
   "metadata": {},
   "outputs": [
    {
     "ename": "AttributeError",
     "evalue": "'list' object has no attribute 'x'",
     "output_type": "error",
     "traceback": [
      "\u001b[0;31m---------------------------------------------------------------------------\u001b[0m",
      "\u001b[0;31mAttributeError\u001b[0m                            Traceback (most recent call last)",
      "Cell \u001b[0;32mIn[24], line 6\u001b[0m\n\u001b[1;32m      1\u001b[0m \u001b[38;5;66;03m# points_item = model_mock_df['item_lat-item_lng'] \u001b[39;00m\n\u001b[1;32m      2\u001b[0m \n\u001b[1;32m      3\u001b[0m \u001b[38;5;66;03m# list_item_lat_lng = model_mock_df['item_lat-item_lng'] \u001b[39;00m\n\u001b[1;32m      5\u001b[0m \u001b[38;5;28;01mfor\u001b[39;00m p \u001b[38;5;129;01min\u001b[39;00m model_mock_df[\u001b[38;5;124m'\u001b[39m\u001b[38;5;124mitem_lat-item_lng\u001b[39m\u001b[38;5;124m'\u001b[39m]:\n\u001b[0;32m----> 6\u001b[0m     \u001b[38;5;28mprint\u001b[39m(\u001b[43mp\u001b[49m\u001b[38;5;241;43m.\u001b[39;49m\u001b[43mx\u001b[49m,\u001b[38;5;124m\"\u001b[39m\u001b[38;5;124m,\u001b[39m\u001b[38;5;124m\"\u001b[39m,p\u001b[38;5;241m.\u001b[39my)\n",
      "\u001b[0;31mAttributeError\u001b[0m: 'list' object has no attribute 'x'"
     ]
    }
   ],
   "source": [
    "# points_item = model_mock_df['item_lat-item_lng'] \n",
    "\n",
    "# list_item_lat_lng = model_mock_df['item_lat-item_lng'] \n",
    "    \n",
    "for p in model_mock_df['item_lat-item_lng']:\n",
    "    print(p.x,\",\",p.y)"
   ]
  },
  {
   "cell_type": "code",
   "execution_count": null,
   "id": "ba470965",
   "metadata": {},
   "outputs": [],
   "source": []
  },
  {
   "cell_type": "code",
   "execution_count": null,
   "id": "5b651f31",
   "metadata": {},
   "outputs": [],
   "source": [
    "# Create a final dataset\n",
    "columns = []"
   ]
  },
  {
   "cell_type": "code",
   "execution_count": null,
   "id": "edbf087f",
   "metadata": {},
   "outputs": [],
   "source": []
  },
  {
   "cell_type": "markdown",
   "id": "2fd341b1",
   "metadata": {},
   "source": [
    "### Creating csv files"
   ]
  },
  {
   "cell_type": "code",
   "execution_count": null,
   "id": "81dc7432",
   "metadata": {},
   "outputs": [],
   "source": []
  },
  {
   "cell_type": "code",
   "execution_count": null,
   "id": "f29b14c6",
   "metadata": {},
   "outputs": [],
   "source": [
    "# user_mock_df.to_csv('data/user_mock_data.csv', index=False)"
   ]
  },
  {
   "cell_type": "code",
   "execution_count": null,
   "id": "25b5c1c6",
   "metadata": {},
   "outputs": [],
   "source": [
    "# item_mock_df.to_csv('data/item_mock_data.csv', index=False)"
   ]
  },
  {
   "cell_type": "code",
   "execution_count": null,
   "id": "96b21495",
   "metadata": {},
   "outputs": [],
   "source": [
    "# model_mock_df.to_csv('data/model_mock_data.csv', index=False)"
   ]
  },
  {
   "cell_type": "markdown",
   "id": "28334203",
   "metadata": {},
   "source": [
    "## References:\n",
    "- [Generate custom datasets using Python Faker](https://blogs.sap.com/2021/05/26/generate-custom-datasets-using-python-faker/)\n",
    "- [folium_polygon_rectangle_layers](https://www.youtube.com/watch?v=9E9FTJrOJ1E&t=752s)\n",
    "- [Faker](https://github.com/joke2k/faker/issues/1183)\n",
    "- [Generating Mock Data with Python! (NumPy, Pandas, & Datetime Libraries)](https://www.youtube.com/watch?v=VJBY2eVtf7o)"
   ]
  },
  {
   "cell_type": "code",
   "execution_count": null,
   "id": "d76c7ddd",
   "metadata": {},
   "outputs": [],
   "source": []
  }
 ],
 "metadata": {
  "kernelspec": {
   "display_name": "Python 3 (ipykernel)",
   "language": "python",
   "name": "python3"
  },
  "language_info": {
   "codemirror_mode": {
    "name": "ipython",
    "version": 3
   },
   "file_extension": ".py",
   "mimetype": "text/x-python",
   "name": "python",
   "nbconvert_exporter": "python",
   "pygments_lexer": "ipython3",
   "version": "3.10.4"
  }
 },
 "nbformat": 4,
 "nbformat_minor": 5
}
