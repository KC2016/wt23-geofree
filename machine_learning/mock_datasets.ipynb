{
 "cells": [
  {
   "cell_type": "markdown",
   "id": "b0ff3309",
   "metadata": {},
   "source": [
    "# Creating a MOCK dataset \n",
    "Author: Karina Condeixa\n",
    "__________________________________________"
   ]
  },
  {
   "cell_type": "markdown",
   "id": "1e8be3b9",
   "metadata": {},
   "source": [
    "**[WIP]**\n",
    "\n",
    "The process to create a fake dataset started by making dataframes about `users` and `item`, and further a complete dataframe that could be used in the `model`.\n",
    "\n",
    "`numpy random` and `faker` were used to ccreate randomized series. Latitude_longitude points were picked using a polygons method, consideing four points choosen manually in Google Maps.\n",
    "\n",
    "Dependent variables are part of a same series, identified by underscore.\n",
    "\n",
    "Addresses are illustrative, they are addresses from all over Germany. This is a limitation of the Faker package, which only considers countries, and does not have data for Berlin.\n",
    "\n",
    "_________________________________\n",
    "\n",
    "**TODO:**\n",
    "- create final dataset, organising by columns **[check with Larry and Felipe]**\n",
    "- save the files as csv\n",
    "\n",
    "**Coments:** \n",
    "- coordinates of user who post should became the ones for available item\n",
    "- we don't have info about item's type and category in the app, could be needed to parse posts' titles and description\n",
    "- UXs didn't decide at this point about having number of stars to a post and the classifications in conditions. I will adopt 1,2,3 for conditions and add the number of starts in next steps. For condition, 1 is the best and 3 the worse. For stars, 5 is the best and 1 is the worse"
   ]
  },
  {
   "cell_type": "code",
   "execution_count": 12,
   "id": "5066ea82",
   "metadata": {},
   "outputs": [],
   "source": [
    "# import packages\n",
    "import pandas as pd\n",
    "from faker import Faker, providers\n",
    "from faker.providers.address.de_DE import Provider as DeDeAddressProvider\n",
    "from faker.generator import random\n",
    "from faker.providers import BaseProvider\n",
    "# import random\n",
    "\n",
    "import folium\n",
    "# from geopy.geocoders import Nominatim"
   ]
  },
  {
   "cell_type": "markdown",
   "id": "75af7841",
   "metadata": {},
   "source": [
    "### Postcodes"
   ]
  },
  {
   "cell_type": "code",
   "execution_count": 13,
   "id": "10760793",
   "metadata": {},
   "outputs": [
    {
     "name": "stderr",
     "output_type": "stream",
     "text": [
      "/var/folders/xs/pmxwbppj14b4v76l4llp17n80000gp/T/ipykernel_85728/2575223029.py:4: FutureWarning: DataFrame.set_axis 'inplace' keyword is deprecated and will be removed in a future version. Use `obj = obj.set_axis(..., copy=False)` instead\n",
      "  df.set_axis([\"postcodes_berlin\"], axis=1,inplace=True)\n"
     ]
    }
   ],
   "source": [
    "# immport and clean original dataset removing poostcodes from Germanay, that are not in Berlin\n",
    "postcodes_de = pd.read_excel(r'data/German-Zip-Codes.xlsx', sheet_name='Berlin')\n",
    "df = pd.DataFrame(postcodes_de)\n",
    "df.set_axis([\"postcodes_berlin\"], axis=1,inplace=True)\n",
    "df = (df[\"postcodes_berlin\"].str[8:-11])\n",
    "df.to_csv('data/postcodes_berlin.csv', index=False)"
   ]
  },
  {
   "cell_type": "markdown",
   "id": "93845160",
   "metadata": {},
   "source": [
    "### Creating the postcode series"
   ]
  },
  {
   "cell_type": "code",
   "execution_count": 14,
   "id": "b5c4f1a7",
   "metadata": {},
   "outputs": [
    {
     "name": "stdout",
     "output_type": "stream",
     "text": [
      "     postcodes_berlin\n",
      "0               10117\n",
      "1               10119\n",
      "2               10178\n",
      "3               10179\n",
      "4               10243\n",
      "..                ...\n",
      "184             14169\n",
      "185             14193\n",
      "186             14195\n",
      "187             14197\n",
      "188             14199\n",
      "\n",
      "[189 rows x 1 columns]\n"
     ]
    }
   ],
   "source": [
    "# import postcodes from Berlin and create a dataframe removing indexes and headers\n",
    "postcodes_berlin = pd.read_csv('data/postcodes_berlin.csv')\n",
    "print(postcodes_berlin)\n",
    "postcodes_berlin_series = postcodes_berlin[:][1:].squeeze()"
   ]
  },
  {
   "cell_type": "markdown",
   "id": "501abd94",
   "metadata": {},
   "source": [
    "### Creating lists"
   ]
  },
  {
   "cell_type": "markdown",
   "id": "93059002",
   "metadata": {},
   "source": [
    "#### lat lng : choosing random point based on a polygon\n",
    "reference: \n",
    "    A quick trick to create random lat/long coordinates in python (within a defined polygon)\n",
    "https://medium.com/the-data-journal/a-quick-trick-to-create-random-lat-long-coordinates-in-python-within-a-defined-polygon-e8997f05123a"
   ]
  },
  {
   "cell_type": "code",
   "execution_count": 15,
   "id": "c6152d48",
   "metadata": {},
   "outputs": [],
   "source": [
    "# Importing Modules\n",
    "import numpy as np\n",
    "import random\n",
    "# Use 'conda install shapely' to import the shapely library.\n",
    "from shapely.geometry import Polygon, Point\n",
    "\n",
    "num_records = 10"
   ]
  },
  {
   "cell_type": "markdown",
   "id": "cc658e66",
   "metadata": {},
   "source": [
    "### Creating the datasets"
   ]
  },
  {
   "cell_type": "code",
   "execution_count": 16,
   "id": "9fab278c",
   "metadata": {},
   "outputs": [],
   "source": [
    "# Note: # multi_locale_generator = Faker(['it_IT', 'en_US', 'de-DE', 'pt_BR', 'es-ES', 'fr-FR', 'ru-RU', 'tr-TR'])\n",
    "\n",
    "# Instantiate Faker with multiple locales\n",
    "german_locale_generator = Faker(['de_DE'])\n",
    "fake = Faker()\n",
    "Faker.seed(0)\n"
   ]
  },
  {
   "cell_type": "markdown",
   "id": "94bb52a4",
   "metadata": {},
   "source": [
    "### Using polygons [DEPRECATED]"
   ]
  },
  {
   "cell_type": "code",
   "execution_count": 17,
   "id": "f926b4f0",
   "metadata": {},
   "outputs": [
    {
     "name": "stdout",
     "output_type": "stream",
     "text": [
      "52.55680098788801 , 13.28041659882159\n",
      "52.550807097445094 , 13.270587138273807\n",
      "52.529707777750644 , 13.282135730490767\n",
      "52.480690625298884 , 13.396928281959612\n",
      "52.57230040032704 , 13.470134155052126\n",
      "52.4555519775352 , 13.273365460155922\n",
      "52.50392258137691 , 13.577237302021752\n",
      "52.52407107636504 , 13.367777338068155\n",
      "52.54478247099107 , 13.389837216340199\n",
      "52.560255762116896 , 13.478321437688123\n"
     ]
    }
   ],
   "source": [
    "# Define the desired polygon : points choosen in Google maps\n",
    "\n",
    "poly = Polygon([(52.645883, 13.395869), \n",
    "                (52.526568, 13.645808),\n",
    "                (52.381789, 13.405482),\n",
    "                (52.484773, 13.136317)])\n",
    "\n",
    "\n",
    "min_x = 52.381789\n",
    "max_x = 52.645883\n",
    "min_y = 13.136317\n",
    "max_y = 13.645808\n",
    "\n",
    "# Defining the randomization generator\n",
    "def polygon_random_points (poly, num_records):\n",
    "    min_x, min_y, max_x, max_y = poly.bounds\n",
    "    points = []\n",
    "    while len(points) < num_records:\n",
    "        random_point = Point([random.uniform(min_x, max_x), random.uniform(min_y, max_y)])\n",
    "        if (random_point.within(poly)):\n",
    "            points.append(random_point)\n",
    "    return points\n",
    "    # Choose the number of points desired. T\\ \n",
    "points = polygon_random_points(poly,num_records)\n",
    "# Testing the results.\n",
    "for p in points:\n",
    "    print(p.x,\",\",p.y)\n",
    "\n",
    "                             "
   ]
  },
  {
   "cell_type": "markdown",
   "id": "d5646776",
   "metadata": {},
   "source": [
    "#### The polygon in the map"
   ]
  },
  {
   "cell_type": "code",
   "execution_count": 18,
   "id": "b30af939",
   "metadata": {},
   "outputs": [],
   "source": [
    "mapObj = folium.Map(location=[52.520008,13.404954], zoom_start=5)"
   ]
  },
  {
   "cell_type": "code",
   "execution_count": 19,
   "id": "6c1b8cec",
   "metadata": {},
   "outputs": [],
   "source": [
    "folium.Polygon([(52.645883, 13.395869), \n",
    "                (52.526568, 13.645808), \n",
    "                (52.381789, 13.405482), \n",
    "                (52.484773, 13.136317)],\n",
    "                fill=True, \n",
    "                weight=3, \n",
    "                fill_color='orange',\n",
    "                color='green',\n",
    "                fill_opacity=0.8).add_to(mapObj)\n",
    "\n",
    "mapObj.save('data/output.html')"
   ]
  },
  {
   "cell_type": "markdown",
   "id": "2886835b",
   "metadata": {},
   "source": [
    "### List of latitude and longitude co-ordinates \n",
    "Based on a sample of co-ordinates from [free data Berlin](https://daten.berlin.de/datensaetze/stra%C3%9Fenverkehrsunf%C3%A4lle-nach-unfallort-berlin-2021) for Road traffic accidents by accident location in Berlin 2021.\n"
   ]
  },
  {
   "cell_type": "code",
   "execution_count": 22,
   "id": "c13cd295",
   "metadata": {},
   "outputs": [
    {
     "data": {
      "text/html": [
       "<div>\n",
       "<style scoped>\n",
       "    .dataframe tbody tr th:only-of-type {\n",
       "        vertical-align: middle;\n",
       "    }\n",
       "\n",
       "    .dataframe tbody tr th {\n",
       "        vertical-align: top;\n",
       "    }\n",
       "\n",
       "    .dataframe thead th {\n",
       "        text-align: right;\n",
       "    }\n",
       "</style>\n",
       "<table border=\"1\" class=\"dataframe\">\n",
       "  <thead>\n",
       "    <tr style=\"text-align: right;\">\n",
       "      <th></th>\n",
       "      <th>lat</th>\n",
       "      <th>lng</th>\n",
       "    </tr>\n",
       "  </thead>\n",
       "  <tbody>\n",
       "    <tr>\n",
       "      <th>0</th>\n",
       "      <td>5,253,393,955</td>\n",
       "      <td>1,342,689,483</td>\n",
       "    </tr>\n",
       "    <tr>\n",
       "      <th>1</th>\n",
       "      <td>5,243,995,086</td>\n",
       "      <td>1,339,209,027</td>\n",
       "    </tr>\n",
       "  </tbody>\n",
       "</table>\n",
       "</div>"
      ],
      "text/plain": [
       "             lat            lng\n",
       "0  5,253,393,955  1,342,689,483\n",
       "1  5,243,995,086  1,339,209,027"
      ]
     },
     "execution_count": 22,
     "metadata": {},
     "output_type": "execute_result"
    }
   ],
   "source": [
    "lat_lng_samples = pd.read_csv(\"data/lat_lng_samples.csv\")\n",
    "lat_lng_samples.head(2)"
   ]
  },
  {
   "cell_type": "code",
   "execution_count": 23,
   "id": "6a971816",
   "metadata": {},
   "outputs": [],
   "source": [
    "# replace comma to dot\n",
    "lat_lng_samples = lat_lng_samples.apply(lambda x: x.str.replace(',','.'))"
   ]
  },
  {
   "cell_type": "code",
   "execution_count": 24,
   "id": "be22de51",
   "metadata": {},
   "outputs": [
    {
     "data": {
      "text/html": [
       "<div>\n",
       "<style scoped>\n",
       "    .dataframe tbody tr th:only-of-type {\n",
       "        vertical-align: middle;\n",
       "    }\n",
       "\n",
       "    .dataframe tbody tr th {\n",
       "        vertical-align: top;\n",
       "    }\n",
       "\n",
       "    .dataframe thead th {\n",
       "        text-align: right;\n",
       "    }\n",
       "</style>\n",
       "<table border=\"1\" class=\"dataframe\">\n",
       "  <thead>\n",
       "    <tr style=\"text-align: right;\">\n",
       "      <th></th>\n",
       "      <th>lat</th>\n",
       "      <th>lng</th>\n",
       "    </tr>\n",
       "  </thead>\n",
       "  <tbody>\n",
       "    <tr>\n",
       "      <th>0</th>\n",
       "      <td>5.253.393.955</td>\n",
       "      <td>1.342.689.483</td>\n",
       "    </tr>\n",
       "    <tr>\n",
       "      <th>1</th>\n",
       "      <td>5.243.995.086</td>\n",
       "      <td>1.339.209.027</td>\n",
       "    </tr>\n",
       "  </tbody>\n",
       "</table>\n",
       "</div>"
      ],
      "text/plain": [
       "             lat            lng\n",
       "0  5.253.393.955  1.342.689.483\n",
       "1  5.243.995.086  1.339.209.027"
      ]
     },
     "execution_count": 24,
     "metadata": {},
     "output_type": "execute_result"
    }
   ],
   "source": [
    "list_lat = lat_lng_samples.lat.values.tolist()\n",
    "list_lng = lat_lng_samples.lng.values.tolist()\n",
    "lat_lng_samples.head(2)\n"
   ]
  },
  {
   "cell_type": "code",
   "execution_count": 25,
   "id": "71648060",
   "metadata": {},
   "outputs": [
    {
     "name": "stdout",
     "output_type": "stream",
     "text": [
      "<class 'pandas.core.frame.DataFrame'>\n",
      "RangeIndex: 11197 entries, 0 to 11196\n",
      "Data columns (total 2 columns):\n",
      " #   Column  Non-Null Count  Dtype \n",
      "---  ------  --------------  ----- \n",
      " 0   lat     11192 non-null  object\n",
      " 1   lng     11192 non-null  object\n",
      "dtypes: object(2)\n",
      "memory usage: 175.1+ KB\n"
     ]
    }
   ],
   "source": [
    "lat_lng_samples.info()"
   ]
  },
  {
   "cell_type": "markdown",
   "id": "25096f71",
   "metadata": {},
   "source": [
    "### User"
   ]
  },
  {
   "cell_type": "code",
   "execution_count": 26,
   "id": "2606e7ae",
   "metadata": {},
   "outputs": [],
   "source": [
    "# define a function to create user data\n",
    "\n",
    "user_type = ['giver', 'looker']\n",
    "\n",
    "\n",
    "def create_user_data(num_records): \n",
    "  \n",
    "    # dictionary \n",
    "    user ={} \n",
    "    for i in range(0, num_records): \n",
    "        user[i] = {} \n",
    "        user[i]['name'] = fake.name()\n",
    "#         user[i]['email'] = fake.email()\n",
    "#         user[i]['email'] = fake.ascii_free_email()\n",
    "        user[i]['email'] = fake.ascii_email()\n",
    "        address = german_locale_generator.address()  # these addresses are from germany, find a list of address for berlin\n",
    "        user[i]['address'] = address\n",
    "        user[i]['user_type'] = fake.random_element(user_type)\n",
    "        user[i]['user_lat'] = np.random.choice(list_lat)\n",
    "        user[i]['user_lng'] = np.random.choice(list_lng)\n",
    "        user[i]['user_postcode'] = np.random.choice(postcodes_berlin_series)\n",
    "\n",
    "    return user"
   ]
  },
  {
   "cell_type": "code",
   "execution_count": 27,
   "id": "45a27923",
   "metadata": {},
   "outputs": [
    {
     "data": {
      "text/html": [
       "<div>\n",
       "<style scoped>\n",
       "    .dataframe tbody tr th:only-of-type {\n",
       "        vertical-align: middle;\n",
       "    }\n",
       "\n",
       "    .dataframe tbody tr th {\n",
       "        vertical-align: top;\n",
       "    }\n",
       "\n",
       "    .dataframe thead th {\n",
       "        text-align: right;\n",
       "    }\n",
       "</style>\n",
       "<table border=\"1\" class=\"dataframe\">\n",
       "  <thead>\n",
       "    <tr style=\"text-align: right;\">\n",
       "      <th></th>\n",
       "      <th>name</th>\n",
       "      <th>email</th>\n",
       "      <th>address</th>\n",
       "      <th>user_type</th>\n",
       "      <th>user_lat</th>\n",
       "      <th>user_lng</th>\n",
       "      <th>user_postcode</th>\n",
       "    </tr>\n",
       "  </thead>\n",
       "  <tbody>\n",
       "    <tr>\n",
       "      <th>0</th>\n",
       "      <td>Norma Fisher</td>\n",
       "      <td>ysullivan@yahoo.com</td>\n",
       "      <td>Alwina-Etzold-Ring 19\\n89241 Sömmerda</td>\n",
       "      <td>looker</td>\n",
       "      <td>5.249.130.415</td>\n",
       "      <td>1.362.630.686</td>\n",
       "      <td>14059</td>\n",
       "    </tr>\n",
       "    <tr>\n",
       "      <th>1</th>\n",
       "      <td>Brian Hamilton</td>\n",
       "      <td>hramos@brown-sellers.com</td>\n",
       "      <td>Eleonore-Oderwald-Ring 51\\n93328 Bremen</td>\n",
       "      <td>giver</td>\n",
       "      <td>525.029.349</td>\n",
       "      <td>1.347.343.365</td>\n",
       "      <td>10961</td>\n",
       "    </tr>\n",
       "    <tr>\n",
       "      <th>2</th>\n",
       "      <td>Sheri Bolton DDS</td>\n",
       "      <td>jasmine85@hotmail.com</td>\n",
       "      <td>Conradistr. 5/9\\n42320 Naila</td>\n",
       "      <td>giver</td>\n",
       "      <td>5.253.511.142</td>\n",
       "      <td>1.326.626.049</td>\n",
       "      <td>12209</td>\n",
       "    </tr>\n",
       "    <tr>\n",
       "      <th>3</th>\n",
       "      <td>Peter Mcdowell</td>\n",
       "      <td>villanuevasandra@vega.net</td>\n",
       "      <td>Salzring 7/5\\n59179 Erfurt</td>\n",
       "      <td>giver</td>\n",
       "      <td>5.254.529.961</td>\n",
       "      <td>1.337.752.135</td>\n",
       "      <td>12159</td>\n",
       "    </tr>\n",
       "    <tr>\n",
       "      <th>4</th>\n",
       "      <td>Devin Thornton</td>\n",
       "      <td>marvincabrera@gmail.com</td>\n",
       "      <td>Margot-Ruppert-Allee 013\\n61510 Euskirchen</td>\n",
       "      <td>giver</td>\n",
       "      <td>5.256.141.258</td>\n",
       "      <td>1.339.519.243</td>\n",
       "      <td>12057</td>\n",
       "    </tr>\n",
       "  </tbody>\n",
       "</table>\n",
       "</div>"
      ],
      "text/plain": [
       "               name                      email  \\\n",
       "0      Norma Fisher        ysullivan@yahoo.com   \n",
       "1    Brian Hamilton   hramos@brown-sellers.com   \n",
       "2  Sheri Bolton DDS      jasmine85@hotmail.com   \n",
       "3    Peter Mcdowell  villanuevasandra@vega.net   \n",
       "4    Devin Thornton    marvincabrera@gmail.com   \n",
       "\n",
       "                                      address user_type       user_lat  \\\n",
       "0       Alwina-Etzold-Ring 19\\n89241 Sömmerda    looker  5.249.130.415   \n",
       "1     Eleonore-Oderwald-Ring 51\\n93328 Bremen     giver    525.029.349   \n",
       "2                Conradistr. 5/9\\n42320 Naila     giver  5.253.511.142   \n",
       "3                  Salzring 7/5\\n59179 Erfurt     giver  5.254.529.961   \n",
       "4  Margot-Ruppert-Allee 013\\n61510 Euskirchen     giver  5.256.141.258   \n",
       "\n",
       "        user_lng user_postcode  \n",
       "0  1.362.630.686         14059  \n",
       "1  1.347.343.365         10961  \n",
       "2  1.326.626.049         12209  \n",
       "3  1.337.752.135         12159  \n",
       "4  1.339.519.243         12057  "
      ]
     },
     "execution_count": 27,
     "metadata": {},
     "output_type": "execute_result"
    }
   ],
   "source": [
    "user_mock_df = pd.DataFrame(create_user_data(1500)).transpose()\n",
    "user_mock_df.head(5)"
   ]
  },
  {
   "cell_type": "code",
   "execution_count": 28,
   "id": "8dbb5943",
   "metadata": {},
   "outputs": [
    {
     "name": "stdout",
     "output_type": "stream",
     "text": [
      "<class 'pandas.core.frame.DataFrame'>\n",
      "Int64Index: 1500 entries, 0 to 1499\n",
      "Data columns (total 7 columns):\n",
      " #   Column         Non-Null Count  Dtype \n",
      "---  ------         --------------  ----- \n",
      " 0   name           1500 non-null   object\n",
      " 1   email          1500 non-null   object\n",
      " 2   address        1500 non-null   object\n",
      " 3   user_type      1500 non-null   object\n",
      " 4   user_lat       1500 non-null   object\n",
      " 5   user_lng       1500 non-null   object\n",
      " 6   user_postcode  1500 non-null   object\n",
      "dtypes: object(7)\n",
      "memory usage: 93.8+ KB\n"
     ]
    }
   ],
   "source": [
    "user_mock_df.info()"
   ]
  },
  {
   "cell_type": "code",
   "execution_count": 29,
   "id": "9b0feb99",
   "metadata": {},
   "outputs": [],
   "source": [
    "# add user_ids \n",
    "user_mock_df['user_id'] = user_mock_df.index + 1\n",
    "user_id_series = user_mock_df['user_id']"
   ]
  },
  {
   "cell_type": "markdown",
   "id": "65da01d1",
   "metadata": {},
   "source": [
    "### Item"
   ]
  },
  {
   "cell_type": "code",
   "execution_count": 30,
   "id": "579e6a8b",
   "metadata": {},
   "outputs": [],
   "source": [
    "item_status = ['avaliable', 'not_available']\n",
    "item_condition = [1,2,3]  # ['good','medium','bad']\n",
    "n_likes = [1, 2, 3, 4, 5]  # 1 is worse, 5 is best\n",
    "\n",
    "category_item = ['furniture-sofa',\n",
    "                 'furniture-armchair',\n",
    "                 'furniture-chair',\n",
    "                 'furniture-table',\n",
    "                 'furniture-desk',\n",
    "                 'furniture-bed',\n",
    "                 'furniture-bookcase',\n",
    "                 'furniture-bedside_table',\n",
    "                 'furniture-cabinet',\n",
    "                 'furniture-wardrobe',\n",
    "                 'furniture-shelf',\n",
    "                 'furniture-cupboard',\n",
    "                 'furniture-rollcontainers',\n",
    "                 'furniture-shoe_rack',\n",
    "                 'furniture-mirror',\n",
    "                 'furniture-cot',\n",
    "                 'furniture-trolley',\n",
    "                 'appliance-washing_machine',\n",
    "                 'appliance-dish_washer',\n",
    "                 'appliance-drying_rack',\n",
    "                 'appliance-refrigerator',\n",
    "                 'appliance-blender',\n",
    "                 'appliance-extractor_hood',\n",
    "                 'appliance-clothes_iron',\n",
    "                 'appliance-vacuum_cleaner',\n",
    "                 'appliance-sandwich_maker',\n",
    "                 'appliance-kettle',\n",
    "                 'appliance-air_conditioner',\n",
    "                 'appliance-heater',\n",
    "                 'appliance-pan',\n",
    "                 'appliance-popcorn_maker',\n",
    "                 'appliance-coffee_machine',\n",
    "                 'appliance-stove',\n",
    "                 'lighting-lighting',\n",
    "                 'lighting-chandelier',\n",
    "                 'lighting-lightbulb',\n",
    "                 'musical_equipment-guitar',\n",
    "                 'musical_equipment-sound_amplifier',\n",
    "                 'musical_equipment-contrabass',\n",
    "                 'musical_equipment-battery',\n",
    "                 'musical_equipment-piano',\n",
    "                 'tech-desktop',\n",
    "                 'tech-laptop',\n",
    "                 'tech-phone',\n",
    "                 'tech-keyboard',\n",
    "                 'clothes-woman_jacket',\n",
    "                 'clothes-man_jacket',\n",
    "                 'clothes-child_jacket',\n",
    "                 'clothes-woman_clothes',\n",
    "                 'clothes-man_clothes',\n",
    "                 'clothes-child_clothes',\n",
    "                 'shoes-woman_shoes',\n",
    "                 'shoes-man_shoes',\n",
    "                 'shoes-child_shoes',\n",
    "                 'miscelaneaous-ironing_board',\n",
    "                 'miscelaneaous-picture_frame',\n",
    "                 'miscelaneaous-bicycle',\n",
    "                 'miscelaneaous-plant',\n",
    "                 'miscelaneaous-carpet',\n",
    "                 'miscelaneaous-roller_skates',\n",
    "                 'miscelaneaous-ski_skates',\n",
    "                 'miscelaneaous-books',\n",
    "                 'miscelaneaous-purse',\n",
    "                 'miscelaneaous-suitcase',\n",
    "                 'miscelaneaous-shopping_venture',\n",
    "                 'miscelaneaous-board',\n",
    "                 'miscelaneaous-frame',\n",
    "                 'home-mattress', \n",
    "                 'home-carpet',\n",
    "                 'kids-stroller',\n",
    "                 'kids-baby_carriage']\n"
   ]
  },
  {
   "cell_type": "code",
   "execution_count": 31,
   "id": "627373c2",
   "metadata": {},
   "outputs": [],
   "source": [
    "# define a function to create item data\n",
    "limit = '-30d'  # limit of 30 days of item in the app\n",
    "\n",
    "def create_item_data(num_records): \n",
    "  \n",
    "    # dictionary \n",
    "    item ={} \n",
    "    for i in range(0, num_records): \n",
    "        item[i] = {}\n",
    "        item[i]['item_category-item_name'] = np.random.choice(category_item)\n",
    "        item[i]['item_condition'] = np.random.choice(item_condition)\n",
    "        item[i]['item_postcode'] = np.random.choice(postcodes_berlin_series)\n",
    "        item[i]['item_status'] = np.random.choice(item_status)\n",
    "        \n",
    "        item[i]['item_lat'] = np.random.choice(list_lat)\n",
    "        item[i]['item_lng'] = np.random.choice(list_lng)\n",
    "        \n",
    "        item[i]['userwhochangeditemstatus_id'] = np.random.choice(user_id_series)\n",
    "        datetime_iteration1 = fake.date_between_dates(limit,'now')\n",
    "        datetime_iteration2 = fake.date_between_dates(limit,'now')\n",
    "        if datetime_iteration1 <= datetime_iteration2:\n",
    "            item[i]['item_datetime_posted'] = datetime_iteration1\n",
    "            item[i]['item_datetimechangeditemstatus'] = datetime_iteration2\n",
    "        else:\n",
    "            item[i]['item_datetime_posted'] = datetime_iteration2\n",
    "            item[i]['item_datetimechangeditemstatus'] = datetime_iteration1  \n",
    " # This date shold be later than the post\n",
    "        \n",
    "\n",
    "    return item"
   ]
  },
  {
   "cell_type": "code",
   "execution_count": 32,
   "id": "7fd3f684",
   "metadata": {},
   "outputs": [
    {
     "data": {
      "text/html": [
       "<div>\n",
       "<style scoped>\n",
       "    .dataframe tbody tr th:only-of-type {\n",
       "        vertical-align: middle;\n",
       "    }\n",
       "\n",
       "    .dataframe tbody tr th {\n",
       "        vertical-align: top;\n",
       "    }\n",
       "\n",
       "    .dataframe thead th {\n",
       "        text-align: right;\n",
       "    }\n",
       "</style>\n",
       "<table border=\"1\" class=\"dataframe\">\n",
       "  <thead>\n",
       "    <tr style=\"text-align: right;\">\n",
       "      <th></th>\n",
       "      <th>item_category-item_name</th>\n",
       "      <th>item_condition</th>\n",
       "      <th>item_postcode</th>\n",
       "      <th>item_status</th>\n",
       "      <th>item_lat</th>\n",
       "      <th>item_lng</th>\n",
       "      <th>userwhochangeditemstatus_id</th>\n",
       "      <th>item_datetime_posted</th>\n",
       "      <th>item_datetimechangeditemstatus</th>\n",
       "    </tr>\n",
       "  </thead>\n",
       "  <tbody>\n",
       "    <tr>\n",
       "      <th>0</th>\n",
       "      <td>furniture-shelf</td>\n",
       "      <td>2</td>\n",
       "      <td>13057</td>\n",
       "      <td>not_available</td>\n",
       "      <td>5.241.665.604</td>\n",
       "      <td>1.359.760.045</td>\n",
       "      <td>317</td>\n",
       "      <td>2023-02-20</td>\n",
       "      <td>2023-03-08</td>\n",
       "    </tr>\n",
       "    <tr>\n",
       "      <th>1</th>\n",
       "      <td>kids-baby_carriage</td>\n",
       "      <td>1</td>\n",
       "      <td>13158</td>\n",
       "      <td>avaliable</td>\n",
       "      <td>5.253.623.803</td>\n",
       "      <td>1.336.467.355</td>\n",
       "      <td>770</td>\n",
       "      <td>2023-02-27</td>\n",
       "      <td>2023-03-09</td>\n",
       "    </tr>\n",
       "    <tr>\n",
       "      <th>2</th>\n",
       "      <td>tech-laptop</td>\n",
       "      <td>3</td>\n",
       "      <td>10587</td>\n",
       "      <td>avaliable</td>\n",
       "      <td>5.253.322.568</td>\n",
       "      <td>1.355.167.911</td>\n",
       "      <td>1450</td>\n",
       "      <td>2023-03-04</td>\n",
       "      <td>2023-03-13</td>\n",
       "    </tr>\n",
       "    <tr>\n",
       "      <th>3</th>\n",
       "      <td>appliance-drying_rack</td>\n",
       "      <td>1</td>\n",
       "      <td>12524</td>\n",
       "      <td>not_available</td>\n",
       "      <td>5.255.570.389</td>\n",
       "      <td>1.343.193.747</td>\n",
       "      <td>276</td>\n",
       "      <td>2023-03-03</td>\n",
       "      <td>2023-03-04</td>\n",
       "    </tr>\n",
       "    <tr>\n",
       "      <th>4</th>\n",
       "      <td>miscelaneaous-books</td>\n",
       "      <td>1</td>\n",
       "      <td>10367</td>\n",
       "      <td>not_available</td>\n",
       "      <td>5.244.443.575</td>\n",
       "      <td>1.334.066.855</td>\n",
       "      <td>1377</td>\n",
       "      <td>2023-03-05</td>\n",
       "      <td>2023-03-16</td>\n",
       "    </tr>\n",
       "  </tbody>\n",
       "</table>\n",
       "</div>"
      ],
      "text/plain": [
       "  item_category-item_name item_condition item_postcode    item_status  \\\n",
       "0         furniture-shelf              2         13057  not_available   \n",
       "1      kids-baby_carriage              1         13158      avaliable   \n",
       "2             tech-laptop              3         10587      avaliable   \n",
       "3   appliance-drying_rack              1         12524  not_available   \n",
       "4     miscelaneaous-books              1         10367  not_available   \n",
       "\n",
       "        item_lat       item_lng userwhochangeditemstatus_id  \\\n",
       "0  5.241.665.604  1.359.760.045                         317   \n",
       "1  5.253.623.803  1.336.467.355                         770   \n",
       "2  5.253.322.568  1.355.167.911                        1450   \n",
       "3  5.255.570.389  1.343.193.747                         276   \n",
       "4  5.244.443.575  1.334.066.855                        1377   \n",
       "\n",
       "  item_datetime_posted item_datetimechangeditemstatus  \n",
       "0           2023-02-20                     2023-03-08  \n",
       "1           2023-02-27                     2023-03-09  \n",
       "2           2023-03-04                     2023-03-13  \n",
       "3           2023-03-03                     2023-03-04  \n",
       "4           2023-03-05                     2023-03-16  "
      ]
     },
     "execution_count": 32,
     "metadata": {},
     "output_type": "execute_result"
    }
   ],
   "source": [
    "item_mock_df = pd.DataFrame(create_item_data(1500)).transpose()\n",
    "item_mock_df.head(5)"
   ]
  },
  {
   "cell_type": "code",
   "execution_count": 33,
   "id": "a4d903d6",
   "metadata": {},
   "outputs": [
    {
     "data": {
      "text/html": [
       "<div>\n",
       "<style scoped>\n",
       "    .dataframe tbody tr th:only-of-type {\n",
       "        vertical-align: middle;\n",
       "    }\n",
       "\n",
       "    .dataframe tbody tr th {\n",
       "        vertical-align: top;\n",
       "    }\n",
       "\n",
       "    .dataframe thead th {\n",
       "        text-align: right;\n",
       "    }\n",
       "</style>\n",
       "<table border=\"1\" class=\"dataframe\">\n",
       "  <thead>\n",
       "    <tr style=\"text-align: right;\">\n",
       "      <th></th>\n",
       "      <th>item_category-item_name</th>\n",
       "      <th>item_condition</th>\n",
       "      <th>item_postcode</th>\n",
       "      <th>item_status</th>\n",
       "      <th>item_lat</th>\n",
       "      <th>item_lng</th>\n",
       "      <th>userwhochangeditemstatus_id</th>\n",
       "      <th>item_datetime_posted</th>\n",
       "      <th>item_datetimechangeditemstatus</th>\n",
       "      <th>item_id</th>\n",
       "    </tr>\n",
       "  </thead>\n",
       "  <tbody>\n",
       "    <tr>\n",
       "      <th>0</th>\n",
       "      <td>furniture-shelf</td>\n",
       "      <td>2</td>\n",
       "      <td>13057</td>\n",
       "      <td>not_available</td>\n",
       "      <td>5.241.665.604</td>\n",
       "      <td>1.359.760.045</td>\n",
       "      <td>317</td>\n",
       "      <td>2023-02-20</td>\n",
       "      <td>2023-03-08</td>\n",
       "      <td>1</td>\n",
       "    </tr>\n",
       "    <tr>\n",
       "      <th>1</th>\n",
       "      <td>kids-baby_carriage</td>\n",
       "      <td>1</td>\n",
       "      <td>13158</td>\n",
       "      <td>avaliable</td>\n",
       "      <td>5.253.623.803</td>\n",
       "      <td>1.336.467.355</td>\n",
       "      <td>770</td>\n",
       "      <td>2023-02-27</td>\n",
       "      <td>2023-03-09</td>\n",
       "      <td>2</td>\n",
       "    </tr>\n",
       "  </tbody>\n",
       "</table>\n",
       "</div>"
      ],
      "text/plain": [
       "  item_category-item_name item_condition item_postcode    item_status  \\\n",
       "0         furniture-shelf              2         13057  not_available   \n",
       "1      kids-baby_carriage              1         13158      avaliable   \n",
       "\n",
       "        item_lat       item_lng userwhochangeditemstatus_id  \\\n",
       "0  5.241.665.604  1.359.760.045                         317   \n",
       "1  5.253.623.803  1.336.467.355                         770   \n",
       "\n",
       "  item_datetime_posted item_datetimechangeditemstatus  item_id  \n",
       "0           2023-02-20                     2023-03-08        1  \n",
       "1           2023-02-27                     2023-03-09        2  "
      ]
     },
     "execution_count": 33,
     "metadata": {},
     "output_type": "execute_result"
    }
   ],
   "source": [
    "item_mock_df['item_id'] = item_mock_df.index +1  # add item_id\n",
    "item_id_series = item_mock_df['item_id']  # storage in a variable to use later\n",
    "\n",
    "item_mock_df.head(2)"
   ]
  },
  {
   "cell_type": "code",
   "execution_count": 34,
   "id": "5af05bab",
   "metadata": {},
   "outputs": [],
   "source": [
    "item_mock_df[['item_category','item_name']] = item_mock_df['item_category-item_name'].apply(lambda x: pd.Series(str(x).split(\"-\")))\n",
    "\n",
    "item_mock_df = item_mock_df.drop('item_category-item_name', axis=1)"
   ]
  },
  {
   "cell_type": "code",
   "execution_count": 35,
   "id": "42400d56",
   "metadata": {},
   "outputs": [
    {
     "name": "stdout",
     "output_type": "stream",
     "text": [
      "<class 'pandas.core.frame.DataFrame'>\n",
      "Int64Index: 1500 entries, 0 to 1499\n",
      "Data columns (total 11 columns):\n",
      " #   Column                          Non-Null Count  Dtype \n",
      "---  ------                          --------------  ----- \n",
      " 0   item_condition                  1500 non-null   object\n",
      " 1   item_postcode                   1500 non-null   object\n",
      " 2   item_status                     1500 non-null   object\n",
      " 3   item_lat                        1500 non-null   object\n",
      " 4   item_lng                        1500 non-null   object\n",
      " 5   userwhochangeditemstatus_id     1500 non-null   object\n",
      " 6   item_datetime_posted            1500 non-null   object\n",
      " 7   item_datetimechangeditemstatus  1500 non-null   object\n",
      " 8   item_id                         1500 non-null   int64 \n",
      " 9   item_category                   1500 non-null   object\n",
      " 10  item_name                       1500 non-null   object\n",
      "dtypes: int64(1), object(10)\n",
      "memory usage: 140.6+ KB\n"
     ]
    }
   ],
   "source": [
    "item_mock_df.info()"
   ]
  },
  {
   "cell_type": "markdown",
   "id": "f68bbff6",
   "metadata": {},
   "source": [
    "### To the Model"
   ]
  },
  {
   "cell_type": "code",
   "execution_count": 36,
   "id": "86c54413",
   "metadata": {},
   "outputs": [],
   "source": [
    "# define a function to create model data\n",
    "\n",
    "\n",
    "def create_model_data(num_records): \n",
    "  \n",
    "    # dictionary \n",
    "    model ={} \n",
    "    for i in range(0, num_records): \n",
    "        model[i] = {} \n",
    "        model[i]['item_id'] = np.random.choice(item_id_series)\n",
    "        model[i]['item_category-item_name'] = np.random.choice(category_item) \n",
    "        model[i]['item_condition'] = np.random.choice(item_condition)\n",
    "        model[i]['item_postcode'] = np.random.choice(postcodes_berlin_series)\n",
    "        model[i]['item_lat'] = np.random.choice(list_lat)\n",
    "        model[i]['item_lng'] = np.random.choice(list_lng)\n",
    "        model[i]['item_status'] = np.random.choice(item_status)\n",
    "        model[i]['searched_item_name-searched_item_category'] = np.random.choice(category_item)\n",
    "        model[i]['searched_item_postcode'] = np.random.choice(postcodes_berlin_series)\n",
    "        \n",
    "        datetime_iteration1 = fake.date_between_dates(limit,'now')\n",
    "        datetime_iteration2 = fake.date_between_dates(limit,'now')\n",
    "        if datetime_iteration1 <= datetime_iteration2:\n",
    "            model[i]['item_datetime_posted'] = datetime_iteration1\n",
    "            model[i]['item_datetimechangeditemstatus'] = datetime_iteration2\n",
    "        else:\n",
    "            model[i]['item_datetime_posted'] = datetime_iteration2\n",
    "            model[i]['item_datetimechangeditemstatus'] = datetime_iteration1  \n",
    "            \n",
    "        model[i]['n_likes'] = np.random.choice(n_likes)\n",
    "        \n",
    "        model[i]['user_looker_id'] = np.random.choice(user_id_series)\n",
    "        model[i]['user_looker_lat'] = np.random.choice(list_lat)\n",
    "        model[i]['user_looker_lng'] = np.random.choice(list_lng)\n",
    "        \n",
    "    return model\n"
   ]
  },
  {
   "cell_type": "code",
   "execution_count": 37,
   "id": "54c6d6be",
   "metadata": {},
   "outputs": [
    {
     "data": {
      "text/plain": [
       "(1500, 15)"
      ]
     },
     "execution_count": 37,
     "metadata": {},
     "output_type": "execute_result"
    }
   ],
   "source": [
    "model_mock_df = pd.DataFrame(create_model_data(1500)).transpose()\n",
    "# model_mock_df.head(5)\n",
    "model_mock_df.shape"
   ]
  },
  {
   "cell_type": "code",
   "execution_count": 38,
   "id": "ab16fe47",
   "metadata": {},
   "outputs": [
    {
     "name": "stdout",
     "output_type": "stream",
     "text": [
      "<class 'pandas.core.frame.DataFrame'>\n",
      "Int64Index: 1500 entries, 0 to 1499\n",
      "Data columns (total 15 columns):\n",
      " #   Column                                     Non-Null Count  Dtype \n",
      "---  ------                                     --------------  ----- \n",
      " 0   item_id                                    1500 non-null   object\n",
      " 1   item_category-item_name                    1500 non-null   object\n",
      " 2   item_condition                             1500 non-null   object\n",
      " 3   item_postcode                              1500 non-null   object\n",
      " 4   item_lat                                   1500 non-null   object\n",
      " 5   item_lng                                   1500 non-null   object\n",
      " 6   item_status                                1500 non-null   object\n",
      " 7   searched_item_name-searched_item_category  1500 non-null   object\n",
      " 8   searched_item_postcode                     1500 non-null   object\n",
      " 9   item_datetime_posted                       1500 non-null   object\n",
      " 10  item_datetimechangeditemstatus             1500 non-null   object\n",
      " 11  n_stars                                    1500 non-null   object\n",
      " 12  user_looker_id                             1500 non-null   object\n",
      " 13  user_looker_lat                            1500 non-null   object\n",
      " 14  user_looker_lng                            1500 non-null   object\n",
      "dtypes: object(15)\n",
      "memory usage: 187.5+ KB\n"
     ]
    }
   ],
   "source": [
    "model_mock_df.info()"
   ]
  },
  {
   "cell_type": "markdown",
   "id": "0a56ff90",
   "metadata": {},
   "source": [
    "### Split columns of dependent variables"
   ]
  },
  {
   "cell_type": "code",
   "execution_count": 39,
   "id": "88bb3b0c",
   "metadata": {},
   "outputs": [],
   "source": [
    "model_mock_df[['item_category','item_name']] = model_mock_df['item_category-item_name'].apply(lambda x: pd.Series(str(x).split(\"-\")))\n",
    "model_mock_df[['searched_item_name','searched_item_category']] = model_mock_df['searched_item_name-searched_item_category'].apply(lambda x: pd.Series(str(x).split(\"-\")))\n",
    "\n",
    "model_mock_df = model_mock_df.drop('item_category-item_name', axis=1)\n",
    "model_mock_df = model_mock_df.drop('searched_item_name-searched_item_category', axis=1)\n",
    "\n",
    "        "
   ]
  },
  {
   "cell_type": "code",
   "execution_count": 40,
   "id": "fc05c565",
   "metadata": {},
   "outputs": [
    {
     "name": "stdout",
     "output_type": "stream",
     "text": [
      "<class 'pandas.core.frame.DataFrame'>\n",
      "Int64Index: 1500 entries, 0 to 1499\n",
      "Data columns (total 17 columns):\n",
      " #   Column                          Non-Null Count  Dtype \n",
      "---  ------                          --------------  ----- \n",
      " 0   item_id                         1500 non-null   object\n",
      " 1   item_condition                  1500 non-null   object\n",
      " 2   item_postcode                   1500 non-null   object\n",
      " 3   item_lat                        1500 non-null   object\n",
      " 4   item_lng                        1500 non-null   object\n",
      " 5   item_status                     1500 non-null   object\n",
      " 6   searched_item_postcode          1500 non-null   object\n",
      " 7   item_datetime_posted            1500 non-null   object\n",
      " 8   item_datetimechangeditemstatus  1500 non-null   object\n",
      " 9   n_stars                         1500 non-null   object\n",
      " 10  user_looker_id                  1500 non-null   object\n",
      " 11  user_looker_lat                 1500 non-null   object\n",
      " 12  user_looker_lng                 1500 non-null   object\n",
      " 13  item_category                   1500 non-null   object\n",
      " 14  item_name                       1500 non-null   object\n",
      " 15  searched_item_name              1500 non-null   object\n",
      " 16  searched_item_category          1500 non-null   object\n",
      "dtypes: object(17)\n",
      "memory usage: 210.9+ KB\n"
     ]
    }
   ],
   "source": [
    "model_mock_df.info()"
   ]
  },
  {
   "cell_type": "code",
   "execution_count": 41,
   "id": "edbf087f",
   "metadata": {},
   "outputs": [
    {
     "data": {
      "text/html": [
       "<div>\n",
       "<style scoped>\n",
       "    .dataframe tbody tr th:only-of-type {\n",
       "        vertical-align: middle;\n",
       "    }\n",
       "\n",
       "    .dataframe tbody tr th {\n",
       "        vertical-align: top;\n",
       "    }\n",
       "\n",
       "    .dataframe thead th {\n",
       "        text-align: right;\n",
       "    }\n",
       "</style>\n",
       "<table border=\"1\" class=\"dataframe\">\n",
       "  <thead>\n",
       "    <tr style=\"text-align: right;\">\n",
       "      <th></th>\n",
       "      <th>item_id</th>\n",
       "      <th>item_condition</th>\n",
       "      <th>item_postcode</th>\n",
       "      <th>item_lat</th>\n",
       "      <th>item_lng</th>\n",
       "      <th>item_status</th>\n",
       "      <th>searched_item_postcode</th>\n",
       "      <th>item_datetime_posted</th>\n",
       "      <th>item_datetimechangeditemstatus</th>\n",
       "      <th>n_stars</th>\n",
       "      <th>user_looker_id</th>\n",
       "      <th>user_looker_lat</th>\n",
       "      <th>user_looker_lng</th>\n",
       "      <th>item_category</th>\n",
       "      <th>item_name</th>\n",
       "      <th>searched_item_name</th>\n",
       "      <th>searched_item_category</th>\n",
       "    </tr>\n",
       "  </thead>\n",
       "  <tbody>\n",
       "    <tr>\n",
       "      <th>0</th>\n",
       "      <td>458</td>\n",
       "      <td>1</td>\n",
       "      <td>10997</td>\n",
       "      <td>5.248.335.794</td>\n",
       "      <td>1.352.905.137</td>\n",
       "      <td>not_available</td>\n",
       "      <td>10317</td>\n",
       "      <td>2023-02-17</td>\n",
       "      <td>2023-02-18</td>\n",
       "      <td>3</td>\n",
       "      <td>706</td>\n",
       "      <td>5.244.015.683</td>\n",
       "      <td>1.336.432.302</td>\n",
       "      <td>tech</td>\n",
       "      <td>keyboard</td>\n",
       "      <td>appliance</td>\n",
       "      <td>vacuum_cleaner</td>\n",
       "    </tr>\n",
       "    <tr>\n",
       "      <th>1</th>\n",
       "      <td>334</td>\n",
       "      <td>1</td>\n",
       "      <td>10829</td>\n",
       "      <td>524.768.847</td>\n",
       "      <td>1.346.318.315</td>\n",
       "      <td>not_available</td>\n",
       "      <td>12247</td>\n",
       "      <td>2023-02-18</td>\n",
       "      <td>2023-03-13</td>\n",
       "      <td>3</td>\n",
       "      <td>498</td>\n",
       "      <td>5.249.558.027</td>\n",
       "      <td>1.356.921.324</td>\n",
       "      <td>lighting</td>\n",
       "      <td>lighting</td>\n",
       "      <td>appliance</td>\n",
       "      <td>heater</td>\n",
       "    </tr>\n",
       "    <tr>\n",
       "      <th>2</th>\n",
       "      <td>773</td>\n",
       "      <td>3</td>\n",
       "      <td>13355</td>\n",
       "      <td>5.250.914.057</td>\n",
       "      <td>1.334.844.761</td>\n",
       "      <td>not_available</td>\n",
       "      <td>10405</td>\n",
       "      <td>2023-02-24</td>\n",
       "      <td>2023-03-11</td>\n",
       "      <td>1</td>\n",
       "      <td>279</td>\n",
       "      <td>5.247.056.723</td>\n",
       "      <td>1.345.241.784</td>\n",
       "      <td>furniture</td>\n",
       "      <td>sofa</td>\n",
       "      <td>furniture</td>\n",
       "      <td>table</td>\n",
       "    </tr>\n",
       "    <tr>\n",
       "      <th>3</th>\n",
       "      <td>254</td>\n",
       "      <td>1</td>\n",
       "      <td>10967</td>\n",
       "      <td>5.262.464.481</td>\n",
       "      <td>1.326.116.302</td>\n",
       "      <td>avaliable</td>\n",
       "      <td>13403</td>\n",
       "      <td>2023-03-07</td>\n",
       "      <td>2023-03-15</td>\n",
       "      <td>4</td>\n",
       "      <td>1481</td>\n",
       "      <td>524.914.937</td>\n",
       "      <td>1.346.145.126</td>\n",
       "      <td>furniture</td>\n",
       "      <td>cupboard</td>\n",
       "      <td>miscelaneaous</td>\n",
       "      <td>carpet</td>\n",
       "    </tr>\n",
       "    <tr>\n",
       "      <th>4</th>\n",
       "      <td>773</td>\n",
       "      <td>3</td>\n",
       "      <td>12679</td>\n",
       "      <td>5.253.049.413</td>\n",
       "      <td>1.337.073.656</td>\n",
       "      <td>avaliable</td>\n",
       "      <td>10719</td>\n",
       "      <td>2023-02-21</td>\n",
       "      <td>2023-02-27</td>\n",
       "      <td>5</td>\n",
       "      <td>868</td>\n",
       "      <td>5.246.958.581</td>\n",
       "      <td>1.345.706.342</td>\n",
       "      <td>home</td>\n",
       "      <td>mattress</td>\n",
       "      <td>clothes</td>\n",
       "      <td>man_clothes</td>\n",
       "    </tr>\n",
       "  </tbody>\n",
       "</table>\n",
       "</div>"
      ],
      "text/plain": [
       "  item_id item_condition item_postcode       item_lat       item_lng  \\\n",
       "0     458              1         10997  5.248.335.794  1.352.905.137   \n",
       "1     334              1         10829    524.768.847  1.346.318.315   \n",
       "2     773              3         13355  5.250.914.057  1.334.844.761   \n",
       "3     254              1         10967  5.262.464.481  1.326.116.302   \n",
       "4     773              3         12679  5.253.049.413  1.337.073.656   \n",
       "\n",
       "     item_status searched_item_postcode item_datetime_posted  \\\n",
       "0  not_available                  10317           2023-02-17   \n",
       "1  not_available                  12247           2023-02-18   \n",
       "2  not_available                  10405           2023-02-24   \n",
       "3      avaliable                  13403           2023-03-07   \n",
       "4      avaliable                  10719           2023-02-21   \n",
       "\n",
       "  item_datetimechangeditemstatus n_stars user_looker_id user_looker_lat  \\\n",
       "0                     2023-02-18       3            706   5.244.015.683   \n",
       "1                     2023-03-13       3            498   5.249.558.027   \n",
       "2                     2023-03-11       1            279   5.247.056.723   \n",
       "3                     2023-03-15       4           1481     524.914.937   \n",
       "4                     2023-02-27       5            868   5.246.958.581   \n",
       "\n",
       "  user_looker_lng item_category item_name searched_item_name  \\\n",
       "0   1.336.432.302          tech  keyboard          appliance   \n",
       "1   1.356.921.324      lighting  lighting          appliance   \n",
       "2   1.345.241.784     furniture      sofa          furniture   \n",
       "3   1.346.145.126     furniture  cupboard      miscelaneaous   \n",
       "4   1.345.706.342          home  mattress            clothes   \n",
       "\n",
       "  searched_item_category  \n",
       "0         vacuum_cleaner  \n",
       "1                 heater  \n",
       "2                  table  \n",
       "3                 carpet  \n",
       "4            man_clothes  "
      ]
     },
     "execution_count": 41,
     "metadata": {},
     "output_type": "execute_result"
    }
   ],
   "source": [
    "model_mock_df.head()"
   ]
  },
  {
   "cell_type": "markdown",
   "id": "2fd341b1",
   "metadata": {},
   "source": [
    "### Creating csv files"
   ]
  },
  {
   "cell_type": "code",
   "execution_count": 42,
   "id": "f29b14c6",
   "metadata": {},
   "outputs": [],
   "source": [
    "# user_mock_df.to_csv('data/user_mock_data.csv', index=False)"
   ]
  },
  {
   "cell_type": "code",
   "execution_count": 43,
   "id": "25b5c1c6",
   "metadata": {},
   "outputs": [],
   "source": [
    "# item_mock_df.to_csv('data/item_mock_data.csv', index=False)"
   ]
  },
  {
   "cell_type": "code",
   "execution_count": 44,
   "id": "96b21495",
   "metadata": {},
   "outputs": [],
   "source": [
    "model_mock_df.to_csv('data/model_mock_data.csv', index=False)"
   ]
  },
  {
   "cell_type": "markdown",
   "id": "28334203",
   "metadata": {},
   "source": [
    "## References:\n",
    "- [Generate custom datasets using Python Faker](https://blogs.sap.com/2021/05/26/generate-custom-datasets-using-python-faker/)\n",
    "- [folium_polygon_rectangle_layers](https://www.youtube.com/watch?v=9E9FTJrOJ1E&t=752s)\n",
    "- [Faker](https://github.com/joke2k/faker/issues/1183)\n",
    "- [Generating Mock Data with Python! (NumPy, Pandas, & Datetime Libraries)](https://www.youtube.com/watch?v=VJBY2eVtf7o)"
   ]
  },
  {
   "cell_type": "code",
   "execution_count": null,
   "id": "d76c7ddd",
   "metadata": {},
   "outputs": [],
   "source": []
  },
  {
   "cell_type": "code",
   "execution_count": null,
   "id": "9230f3e3",
   "metadata": {},
   "outputs": [],
   "source": []
  }
 ],
 "metadata": {
  "kernelspec": {
   "display_name": "Python 3 (ipykernel)",
   "language": "python",
   "name": "python3"
  },
  "language_info": {
   "codemirror_mode": {
    "name": "ipython",
    "version": 3
   },
   "file_extension": ".py",
   "mimetype": "text/x-python",
   "name": "python",
   "nbconvert_exporter": "python",
   "pygments_lexer": "ipython3",
   "version": "3.10.4"
  }
 },
 "nbformat": 4,
 "nbformat_minor": 5
}
