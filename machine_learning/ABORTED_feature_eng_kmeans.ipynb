{
 "cells": [
  {
   "cell_type": "code",
   "execution_count": null,
   "id": "8574bf8e",
   "metadata": {},
   "outputs": [],
   "source": []
  },
  {
   "cell_type": "markdown",
   "id": "b0ff3309",
   "metadata": {},
   "source": [
    "# Feature Engineering and Kmeans\n",
    "Author: Karina Condeixa"
   ]
  },
  {
   "cell_type": "code",
   "execution_count": 13,
   "id": "5066ea82",
   "metadata": {},
   "outputs": [],
   "source": [
    "# import packages\n",
    "import pandas as pd\n",
    "# from faker import Faker, providers\n",
    "# from faker.providers.address.de_DE import Provider as DeDeAddressProvider\n",
    "# from faker.generator import random\n",
    "# from faker.providers import BaseProvider\n",
    "# import random\n",
    "\n",
    "import matplotlib.pyplot as plt\n",
    "import numpy as np\n",
    "import seaborn as sns\n",
    "# %matplotlib notebook\n",
    "# %matplotlib \n",
    "\n",
    "# import folium\n",
    "# from geopy.geocoders import Nominatim"
   ]
  },
  {
   "cell_type": "code",
   "execution_count": 14,
   "id": "4e2f5c9d",
   "metadata": {},
   "outputs": [
    {
     "data": {
      "text/html": [
       "<div>\n",
       "<style scoped>\n",
       "    .dataframe tbody tr th:only-of-type {\n",
       "        vertical-align: middle;\n",
       "    }\n",
       "\n",
       "    .dataframe tbody tr th {\n",
       "        vertical-align: top;\n",
       "    }\n",
       "\n",
       "    .dataframe thead th {\n",
       "        text-align: right;\n",
       "    }\n",
       "</style>\n",
       "<table border=\"1\" class=\"dataframe\">\n",
       "  <thead>\n",
       "    <tr style=\"text-align: right;\">\n",
       "      <th></th>\n",
       "      <th>item_category</th>\n",
       "      <th>item_condition</th>\n",
       "      <th>item_postcode</th>\n",
       "      <th>item_timer_days</th>\n",
       "      <th>n_views</th>\n",
       "      <th>n_likes</th>\n",
       "      <th>item_id</th>\n",
       "    </tr>\n",
       "  </thead>\n",
       "  <tbody>\n",
       "    <tr>\n",
       "      <th>0</th>\n",
       "      <td>plants</td>\n",
       "      <td>3</td>\n",
       "      <td>10319</td>\n",
       "      <td>11</td>\n",
       "      <td>183</td>\n",
       "      <td>3</td>\n",
       "      <td>1</td>\n",
       "    </tr>\n",
       "    <tr>\n",
       "      <th>1</th>\n",
       "      <td>all</td>\n",
       "      <td>1</td>\n",
       "      <td>10587</td>\n",
       "      <td>10</td>\n",
       "      <td>19</td>\n",
       "      <td>0</td>\n",
       "      <td>2</td>\n",
       "    </tr>\n",
       "    <tr>\n",
       "      <th>2</th>\n",
       "      <td>clothes</td>\n",
       "      <td>2</td>\n",
       "      <td>10245</td>\n",
       "      <td>28</td>\n",
       "      <td>120</td>\n",
       "      <td>10</td>\n",
       "      <td>3</td>\n",
       "    </tr>\n",
       "    <tr>\n",
       "      <th>3</th>\n",
       "      <td>clothes</td>\n",
       "      <td>3</td>\n",
       "      <td>10551</td>\n",
       "      <td>17</td>\n",
       "      <td>59</td>\n",
       "      <td>0</td>\n",
       "      <td>4</td>\n",
       "    </tr>\n",
       "    <tr>\n",
       "      <th>4</th>\n",
       "      <td>kids</td>\n",
       "      <td>3</td>\n",
       "      <td>13469</td>\n",
       "      <td>5</td>\n",
       "      <td>8</td>\n",
       "      <td>0</td>\n",
       "      <td>5</td>\n",
       "    </tr>\n",
       "  </tbody>\n",
       "</table>\n",
       "</div>"
      ],
      "text/plain": [
       "  item_category  item_condition  item_postcode  item_timer_days  n_views  \\\n",
       "0        plants               3          10319               11      183   \n",
       "1           all               1          10587               10       19   \n",
       "2       clothes               2          10245               28      120   \n",
       "3       clothes               3          10551               17       59   \n",
       "4          kids               3          13469                5        8   \n",
       "\n",
       "   n_likes  item_id  \n",
       "0        3        1  \n",
       "1        0        2  \n",
       "2       10        3  \n",
       "3        0        4  \n",
       "4        0        5  "
      ]
     },
     "execution_count": 14,
     "metadata": {},
     "output_type": "execute_result"
    }
   ],
   "source": [
    "item_df_original = pd.read_csv('data/item_df.csv')\n",
    "# item_df_original = item_df_original[:][1:].squeeze()\n",
    "item_df_original.head()"
   ]
  },
  {
   "cell_type": "code",
   "execution_count": 15,
   "id": "8a5a1b84",
   "metadata": {},
   "outputs": [],
   "source": [
    "item_df = item_df_original.copy()"
   ]
  },
  {
   "cell_type": "markdown",
   "id": "27df384a",
   "metadata": {},
   "source": [
    "## Feature engineering\n"
   ]
  },
  {
   "cell_type": "markdown",
   "id": "52867d31",
   "metadata": {},
   "source": [
    "### Nulls\n",
    "\n",
    "Since the dataset is fake, there is no nulls on it."
   ]
  },
  {
   "cell_type": "markdown",
   "id": "cf7ed7e2",
   "metadata": {},
   "source": [
    "### One-hot Encoding \n",
    "\n",
    "Function to convert categorical variations to numerical ones. The results 0 indicates non-existent while 1 indicates existent."
   ]
  },
  {
   "cell_type": "code",
   "execution_count": 16,
   "id": "3b041a73",
   "metadata": {},
   "outputs": [],
   "source": [
    "# columnsToEncode= ['item_category', 'item_condition']\n",
    "\n",
    "# item_onehot = pd.get_dummies(item_df,columns=columnsToEncode, drop_first=True)\n",
    "# item_onehot"
   ]
  },
  {
   "cell_type": "markdown",
   "id": "7604f1f6",
   "metadata": {},
   "source": [
    "#### The Postcodes with the most common item category"
   ]
  },
  {
   "cell_type": "code",
   "execution_count": 17,
   "id": "8ce0f248",
   "metadata": {},
   "outputs": [
    {
     "data": {
      "text/html": [
       "<div>\n",
       "<style scoped>\n",
       "    .dataframe tbody tr th:only-of-type {\n",
       "        vertical-align: middle;\n",
       "    }\n",
       "\n",
       "    .dataframe tbody tr th {\n",
       "        vertical-align: top;\n",
       "    }\n",
       "\n",
       "    .dataframe thead th {\n",
       "        text-align: right;\n",
       "    }\n",
       "</style>\n",
       "<table border=\"1\" class=\"dataframe\">\n",
       "  <thead>\n",
       "    <tr style=\"text-align: right;\">\n",
       "      <th></th>\n",
       "      <th>item_postcode</th>\n",
       "      <th>all</th>\n",
       "      <th>clothes</th>\n",
       "      <th>furniture</th>\n",
       "      <th>kids</th>\n",
       "      <th>plants</th>\n",
       "    </tr>\n",
       "  </thead>\n",
       "  <tbody>\n",
       "    <tr>\n",
       "      <th>0</th>\n",
       "      <td>10319</td>\n",
       "      <td>0</td>\n",
       "      <td>0</td>\n",
       "      <td>0</td>\n",
       "      <td>0</td>\n",
       "      <td>1</td>\n",
       "    </tr>\n",
       "    <tr>\n",
       "      <th>1</th>\n",
       "      <td>10587</td>\n",
       "      <td>1</td>\n",
       "      <td>0</td>\n",
       "      <td>0</td>\n",
       "      <td>0</td>\n",
       "      <td>0</td>\n",
       "    </tr>\n",
       "    <tr>\n",
       "      <th>2</th>\n",
       "      <td>10245</td>\n",
       "      <td>0</td>\n",
       "      <td>1</td>\n",
       "      <td>0</td>\n",
       "      <td>0</td>\n",
       "      <td>0</td>\n",
       "    </tr>\n",
       "    <tr>\n",
       "      <th>3</th>\n",
       "      <td>10551</td>\n",
       "      <td>0</td>\n",
       "      <td>1</td>\n",
       "      <td>0</td>\n",
       "      <td>0</td>\n",
       "      <td>0</td>\n",
       "    </tr>\n",
       "    <tr>\n",
       "      <th>4</th>\n",
       "      <td>13469</td>\n",
       "      <td>0</td>\n",
       "      <td>0</td>\n",
       "      <td>0</td>\n",
       "      <td>1</td>\n",
       "      <td>0</td>\n",
       "    </tr>\n",
       "  </tbody>\n",
       "</table>\n",
       "</div>"
      ],
      "text/plain": [
       "   item_postcode  all  clothes  furniture  kids  plants\n",
       "0          10319    0        0          0     0       1\n",
       "1          10587    1        0          0     0       0\n",
       "2          10245    0        1          0     0       0\n",
       "3          10551    0        1          0     0       0\n",
       "4          13469    0        0          0     1       0"
      ]
     },
     "execution_count": 17,
     "metadata": {},
     "output_type": "execute_result"
    }
   ],
   "source": [
    "\n",
    "item_cat_onehot = pd.get_dummies(item_df[['item_category']], prefix=\"\", prefix_sep=\"\")\n",
    "# item_cat_onehot.head()\n",
    "\n",
    "# add neighborhood column back to dataframe\n",
    "item_cat_onehot['item_postcode'] = item_df['item_postcode'] \n",
    "\n",
    "# move neighborhood column to the first column\n",
    "fixed_columns = [item_cat_onehot.columns[-1]] + list(item_cat_onehot.columns[:-1])\n",
    "item_cat_onehot = item_cat_onehot[fixed_columns]\n",
    "\n",
    "\n",
    "item_cat_grouped = item_cat_onehot.groupby('item_postcode').mean().reset_index()\n",
    "\n",
    "item_cat_onehot.head()\n",
    "\n"
   ]
  },
  {
   "cell_type": "code",
   "execution_count": 19,
   "id": "4673217b",
   "metadata": {
    "scrolled": true
   },
   "outputs": [
    {
     "data": {
      "text/html": [
       "<div>\n",
       "<style scoped>\n",
       "    .dataframe tbody tr th:only-of-type {\n",
       "        vertical-align: middle;\n",
       "    }\n",
       "\n",
       "    .dataframe tbody tr th {\n",
       "        vertical-align: top;\n",
       "    }\n",
       "\n",
       "    .dataframe thead th {\n",
       "        text-align: right;\n",
       "    }\n",
       "</style>\n",
       "<table border=\"1\" class=\"dataframe\">\n",
       "  <thead>\n",
       "    <tr style=\"text-align: right;\">\n",
       "      <th></th>\n",
       "      <th>item_postcode</th>\n",
       "      <th>all</th>\n",
       "      <th>clothes</th>\n",
       "      <th>furniture</th>\n",
       "      <th>kids</th>\n",
       "      <th>plants</th>\n",
       "    </tr>\n",
       "  </thead>\n",
       "  <tbody>\n",
       "    <tr>\n",
       "      <th>0</th>\n",
       "      <td>10119</td>\n",
       "      <td>0.333333</td>\n",
       "      <td>0.000000</td>\n",
       "      <td>0.666667</td>\n",
       "      <td>0.0</td>\n",
       "      <td>0.000000</td>\n",
       "    </tr>\n",
       "    <tr>\n",
       "      <th>1</th>\n",
       "      <td>10178</td>\n",
       "      <td>0.333333</td>\n",
       "      <td>0.666667</td>\n",
       "      <td>0.000000</td>\n",
       "      <td>0.0</td>\n",
       "      <td>0.000000</td>\n",
       "    </tr>\n",
       "    <tr>\n",
       "      <th>2</th>\n",
       "      <td>10179</td>\n",
       "      <td>0.000000</td>\n",
       "      <td>0.250000</td>\n",
       "      <td>0.250000</td>\n",
       "      <td>0.0</td>\n",
       "      <td>0.500000</td>\n",
       "    </tr>\n",
       "    <tr>\n",
       "      <th>3</th>\n",
       "      <td>10243</td>\n",
       "      <td>0.142857</td>\n",
       "      <td>0.285714</td>\n",
       "      <td>0.428571</td>\n",
       "      <td>0.0</td>\n",
       "      <td>0.142857</td>\n",
       "    </tr>\n",
       "    <tr>\n",
       "      <th>4</th>\n",
       "      <td>10245</td>\n",
       "      <td>0.000000</td>\n",
       "      <td>0.200000</td>\n",
       "      <td>0.000000</td>\n",
       "      <td>0.4</td>\n",
       "      <td>0.400000</td>\n",
       "    </tr>\n",
       "  </tbody>\n",
       "</table>\n",
       "</div>"
      ],
      "text/plain": [
       "   item_postcode       all   clothes  furniture  kids    plants\n",
       "0          10119  0.333333  0.000000   0.666667   0.0  0.000000\n",
       "1          10178  0.333333  0.666667   0.000000   0.0  0.000000\n",
       "2          10179  0.000000  0.250000   0.250000   0.0  0.500000\n",
       "3          10243  0.142857  0.285714   0.428571   0.0  0.142857\n",
       "4          10245  0.000000  0.200000   0.000000   0.4  0.400000"
      ]
     },
     "execution_count": 19,
     "metadata": {},
     "output_type": "execute_result"
    }
   ],
   "source": [
    "item_cat_grouped.head() # mean"
   ]
  },
  {
   "cell_type": "code",
   "execution_count": 28,
   "id": "49d08005",
   "metadata": {},
   "outputs": [],
   "source": [
    "category = ['all', 'furniture',  'clothes',  'plants', 'kids']\n",
    "\n",
    "# option 1\n",
    "\n",
    "# def ask_category():\n",
    "#     break_flag = False\n",
    "#     while not break_flag:\n",
    "#         print('Enter a category: ')\n",
    "#         chosen_category = input().lower()  \n",
    "#         if chosen_category in category:\n",
    "#            item_cat_gouped_sorted = item_cat_grouped.sort_values(by=chosen_category, ascending = False)\n",
    "#            return item_cat_gouped_sorted.head()\n",
    "        \n",
    "# ask_category()"
   ]
  },
  {
   "cell_type": "code",
   "execution_count": 33,
   "id": "4351ec95",
   "metadata": {},
   "outputs": [
    {
     "name": "stdout",
     "output_type": "stream",
     "text": [
      "Enter a category: \n",
      "plants\n"
     ]
    },
    {
     "data": {
      "text/html": [
       "<div>\n",
       "<style scoped>\n",
       "    .dataframe tbody tr th:only-of-type {\n",
       "        vertical-align: middle;\n",
       "    }\n",
       "\n",
       "    .dataframe tbody tr th {\n",
       "        vertical-align: top;\n",
       "    }\n",
       "\n",
       "    .dataframe thead th {\n",
       "        text-align: right;\n",
       "    }\n",
       "</style>\n",
       "<table border=\"1\" class=\"dataframe\">\n",
       "  <thead>\n",
       "    <tr style=\"text-align: right;\">\n",
       "      <th></th>\n",
       "      <th>item_postcode</th>\n",
       "      <th>all</th>\n",
       "      <th>clothes</th>\n",
       "      <th>furniture</th>\n",
       "      <th>kids</th>\n",
       "      <th>plants</th>\n",
       "    </tr>\n",
       "  </thead>\n",
       "  <tbody>\n",
       "    <tr>\n",
       "      <th>34</th>\n",
       "      <td>10711</td>\n",
       "      <td>0.285714</td>\n",
       "      <td>0.000000</td>\n",
       "      <td>0.0</td>\n",
       "      <td>0.000000</td>\n",
       "      <td>0.714286</td>\n",
       "    </tr>\n",
       "    <tr>\n",
       "      <th>116</th>\n",
       "      <td>12679</td>\n",
       "      <td>0.000000</td>\n",
       "      <td>0.166667</td>\n",
       "      <td>0.0</td>\n",
       "      <td>0.166667</td>\n",
       "      <td>0.666667</td>\n",
       "    </tr>\n",
       "    <tr>\n",
       "      <th>101</th>\n",
       "      <td>12487</td>\n",
       "      <td>0.000000</td>\n",
       "      <td>0.200000</td>\n",
       "      <td>0.0</td>\n",
       "      <td>0.200000</td>\n",
       "      <td>0.600000</td>\n",
       "    </tr>\n",
       "    <tr>\n",
       "      <th>90</th>\n",
       "      <td>12347</td>\n",
       "      <td>0.200000</td>\n",
       "      <td>0.200000</td>\n",
       "      <td>0.0</td>\n",
       "      <td>0.000000</td>\n",
       "      <td>0.600000</td>\n",
       "    </tr>\n",
       "    <tr>\n",
       "      <th>160</th>\n",
       "      <td>13583</td>\n",
       "      <td>0.142857</td>\n",
       "      <td>0.142857</td>\n",
       "      <td>0.0</td>\n",
       "      <td>0.142857</td>\n",
       "      <td>0.571429</td>\n",
       "    </tr>\n",
       "  </tbody>\n",
       "</table>\n",
       "</div>"
      ],
      "text/plain": [
       "     item_postcode       all   clothes  furniture      kids    plants\n",
       "34           10711  0.285714  0.000000        0.0  0.000000  0.714286\n",
       "116          12679  0.000000  0.166667        0.0  0.166667  0.666667\n",
       "101          12487  0.000000  0.200000        0.0  0.200000  0.600000\n",
       "90           12347  0.200000  0.200000        0.0  0.000000  0.600000\n",
       "160          13583  0.142857  0.142857        0.0  0.142857  0.571429"
      ]
     },
     "execution_count": 33,
     "metadata": {},
     "output_type": "execute_result"
    }
   ],
   "source": [
    "# option 2\n",
    "def ask_category():\n",
    "    chosen_category = None \n",
    "    while chosen_category not in category:\n",
    "        print('Enter a category: ')\n",
    "        chosen_category = input().lower()     \n",
    "    item_cat_gouped_sorted = item_cat_grouped.sort_values(by=chosen_category, ascending = False)\n",
    "    return item_cat_gouped_sorted.head()\n",
    "\n",
    "ask_category()"
   ]
  },
  {
   "cell_type": "code",
   "execution_count": 30,
   "id": "9114d13f",
   "metadata": {},
   "outputs": [],
   "source": [
    "# option 3\n",
    "\n",
    "# def ask_category():\n",
    "#   while True:\n",
    "#     chosen_category = input('Enter a category: ').lower()  \n",
    "#     if chosen_category in category:\n",
    "#       break\n",
    "#   item_cat_gouped_sorted = item_cat_grouped.sort_values(by=chosen_category, ascending = False)\n",
    "#   return item_cat_gouped_sorted.head()\n",
    "\n",
    "\n",
    "# ask_category()\n",
    "\n",
    "# check https://realpython.com/python-do-while/#how-do-do-while-loops-work-in-practice"
   ]
  },
  {
   "cell_type": "code",
   "execution_count": 43,
   "id": "e5d60b89",
   "metadata": {},
   "outputs": [],
   "source": [
    "\n",
    "# item_onehot = pd.get_dummies(item_df[['item_category']], prefix=\"cat\", prefix_sep=\"_\")\n",
    "# item_onehot \n",
    "\n",
    "# # add neighborhood column back to dataframe\n",
    "# item_onehot['item_postcode'] = item_df['item_postcode'] \n",
    "\n",
    "# # move neighborhood column to the first column\n",
    "# fixed_columns = [item_onehot.columns[-1]] + list(item_onehot.columns[:-1])\n",
    "# item_onehot = item_onehot[fixed_columns]\n",
    "\n",
    "# item_grouped = item_onehot.groupby('item_postcode').mean().reset_index()\n",
    "\n",
    "# # item_onehot.head()\n",
    "\n",
    "# item_grouped.head()"
   ]
  },
  {
   "cell_type": "code",
   "execution_count": null,
   "id": "71db0b0f",
   "metadata": {},
   "outputs": [],
   "source": []
  },
  {
   "cell_type": "markdown",
   "id": "d73f0d07",
   "metadata": {},
   "source": [
    "#### The Postcodes with the items in better condition"
   ]
  },
  {
   "cell_type": "code",
   "execution_count": 36,
   "id": "b1407e90",
   "metadata": {},
   "outputs": [],
   "source": [
    "item_df['item_condition'] = item_df['item_condition'].astype(str)"
   ]
  },
  {
   "cell_type": "code",
   "execution_count": 37,
   "id": "9c53cf08",
   "metadata": {},
   "outputs": [
    {
     "data": {
      "text/html": [
       "<div>\n",
       "<style scoped>\n",
       "    .dataframe tbody tr th:only-of-type {\n",
       "        vertical-align: middle;\n",
       "    }\n",
       "\n",
       "    .dataframe tbody tr th {\n",
       "        vertical-align: top;\n",
       "    }\n",
       "\n",
       "    .dataframe thead th {\n",
       "        text-align: right;\n",
       "    }\n",
       "</style>\n",
       "<table border=\"1\" class=\"dataframe\">\n",
       "  <thead>\n",
       "    <tr style=\"text-align: right;\">\n",
       "      <th></th>\n",
       "      <th>item_postcode</th>\n",
       "      <th>condition_1</th>\n",
       "      <th>condition_2</th>\n",
       "      <th>condition_3</th>\n",
       "    </tr>\n",
       "  </thead>\n",
       "  <tbody>\n",
       "    <tr>\n",
       "      <th>175</th>\n",
       "      <td>14057</td>\n",
       "      <td>0.800000</td>\n",
       "      <td>0.200000</td>\n",
       "      <td>0.000000</td>\n",
       "    </tr>\n",
       "    <tr>\n",
       "      <th>85</th>\n",
       "      <td>12277</td>\n",
       "      <td>0.714286</td>\n",
       "      <td>0.142857</td>\n",
       "      <td>0.142857</td>\n",
       "    </tr>\n",
       "    <tr>\n",
       "      <th>96</th>\n",
       "      <td>12359</td>\n",
       "      <td>0.714286</td>\n",
       "      <td>0.142857</td>\n",
       "      <td>0.142857</td>\n",
       "    </tr>\n",
       "    <tr>\n",
       "      <th>112</th>\n",
       "      <td>12621</td>\n",
       "      <td>0.692308</td>\n",
       "      <td>0.000000</td>\n",
       "      <td>0.307692</td>\n",
       "    </tr>\n",
       "    <tr>\n",
       "      <th>61</th>\n",
       "      <td>12051</td>\n",
       "      <td>0.666667</td>\n",
       "      <td>0.000000</td>\n",
       "      <td>0.333333</td>\n",
       "    </tr>\n",
       "  </tbody>\n",
       "</table>\n",
       "</div>"
      ],
      "text/plain": [
       "     item_postcode  condition_1  condition_2  condition_3\n",
       "175          14057     0.800000     0.200000     0.000000\n",
       "85           12277     0.714286     0.142857     0.142857\n",
       "96           12359     0.714286     0.142857     0.142857\n",
       "112          12621     0.692308     0.000000     0.307692\n",
       "61           12051     0.666667     0.000000     0.333333"
      ]
     },
     "execution_count": 37,
     "metadata": {},
     "output_type": "execute_result"
    }
   ],
   "source": [
    "item_cond_onehot = pd.get_dummies(item_df[['item_condition']], prefix=\"condition\", prefix_sep=\"_\")\n",
    "item_cond_onehot \n",
    "\n",
    "# add postcode column back to dataframe\n",
    "item_cond_onehot['item_postcode'] = item_df['item_postcode'] \n",
    "\n",
    "# move neighborhood column to the first column\n",
    "fixed_columns = [item_cond_onehot.columns[-1]] + list(item_cond_onehot.columns[:-1])\n",
    "item_cond_onehot = item_cond_onehot[fixed_columns]\n",
    "\n",
    "item_cond_grouped = item_cond_onehot.groupby('item_postcode').mean().reset_index()\n",
    "\n",
    "# item_cond_grouped.head()\n",
    "\n",
    "item_cond_gouped_sorted = item_cond_grouped.sort_values(by='condition_1', ascending = False)\n",
    "\n",
    "item_cond_gouped_sorted.head()"
   ]
  },
  {
   "cell_type": "code",
   "execution_count": 42,
   "id": "2f8599eb",
   "metadata": {},
   "outputs": [
    {
     "data": {
      "text/html": [
       "<div>\n",
       "<style scoped>\n",
       "    .dataframe tbody tr th:only-of-type {\n",
       "        vertical-align: middle;\n",
       "    }\n",
       "\n",
       "    .dataframe tbody tr th {\n",
       "        vertical-align: top;\n",
       "    }\n",
       "\n",
       "    .dataframe thead th {\n",
       "        text-align: right;\n",
       "    }\n",
       "</style>\n",
       "<table border=\"1\" class=\"dataframe\">\n",
       "  <thead>\n",
       "    <tr style=\"text-align: right;\">\n",
       "      <th></th>\n",
       "      <th>item_postcode</th>\n",
       "      <th>condition_1</th>\n",
       "      <th>condition_2</th>\n",
       "      <th>condition_3</th>\n",
       "    </tr>\n",
       "  </thead>\n",
       "  <tbody>\n",
       "    <tr>\n",
       "      <th>175</th>\n",
       "      <td>14057</td>\n",
       "      <td>0.800000</td>\n",
       "      <td>0.200000</td>\n",
       "      <td>0.000000</td>\n",
       "    </tr>\n",
       "    <tr>\n",
       "      <th>85</th>\n",
       "      <td>12277</td>\n",
       "      <td>0.714286</td>\n",
       "      <td>0.142857</td>\n",
       "      <td>0.142857</td>\n",
       "    </tr>\n",
       "    <tr>\n",
       "      <th>96</th>\n",
       "      <td>12359</td>\n",
       "      <td>0.714286</td>\n",
       "      <td>0.142857</td>\n",
       "      <td>0.142857</td>\n",
       "    </tr>\n",
       "    <tr>\n",
       "      <th>112</th>\n",
       "      <td>12621</td>\n",
       "      <td>0.692308</td>\n",
       "      <td>0.000000</td>\n",
       "      <td>0.307692</td>\n",
       "    </tr>\n",
       "    <tr>\n",
       "      <th>61</th>\n",
       "      <td>12051</td>\n",
       "      <td>0.666667</td>\n",
       "      <td>0.000000</td>\n",
       "      <td>0.333333</td>\n",
       "    </tr>\n",
       "  </tbody>\n",
       "</table>\n",
       "</div>"
      ],
      "text/plain": [
       "     item_postcode  condition_1  condition_2  condition_3\n",
       "175          14057     0.800000     0.200000     0.000000\n",
       "85           12277     0.714286     0.142857     0.142857\n",
       "96           12359     0.714286     0.142857     0.142857\n",
       "112          12621     0.692308     0.000000     0.307692\n",
       "61           12051     0.666667     0.000000     0.333333"
      ]
     },
     "execution_count": 42,
     "metadata": {},
     "output_type": "execute_result"
    }
   ],
   "source": [
    "chosen_cond = 'condition_1'\n",
    "\n",
    "item_cond_gouped_sorted = item_cond_grouped.sort_values(by=chosen_cond, ascending = False)\n",
    "item_cond_gouped_sorted.head()"
   ]
  },
  {
   "cell_type": "markdown",
   "id": "a2f3c581",
   "metadata": {},
   "source": [
    "## Should I concatenate category and condition in the same dataframe?"
   ]
  },
  {
   "cell_type": "markdown",
   "id": "a1d93f43",
   "metadata": {},
   "source": [
    "### Best item per postcode"
   ]
  },
  {
   "cell_type": "code",
   "execution_count": null,
   "id": "48679f90",
   "metadata": {},
   "outputs": [],
   "source": [
    "top liked_onehot = pd.get_dummies(item_df[['item_category']], prefix=\"\", prefix_sep=\"\")\n",
    "# item_cat_onehot.head()\n",
    "\n",
    "# add neighborhood column back to dataframe\n",
    "item_cat_onehot['item_postcode'] = item_df['item_postcode'] \n",
    "\n",
    "# move neighborhood column to the first column\n",
    "fixed_columns = [item_cat_onehot.columns[-1]] + list(item_cat_onehot.columns[:-1])\n",
    "item_cat_onehot = item_cat_onehot[fixed_columns]\n",
    "\n",
    "\n",
    "item_cat_grouped = item_cat_onehot.groupby('item_postcode').mean().reset_index()\n",
    "\n",
    "item_cat_onehot.head()"
   ]
  },
  {
   "cell_type": "code",
   "execution_count": null,
   "id": "e2d1242c",
   "metadata": {},
   "outputs": [],
   "source": []
  },
  {
   "cell_type": "code",
   "execution_count": null,
   "id": "82637c02",
   "metadata": {},
   "outputs": [],
   "source": []
  },
  {
   "cell_type": "code",
   "execution_count": null,
   "id": "e6bd99f3",
   "metadata": {},
   "outputs": [],
   "source": []
  },
  {
   "cell_type": "code",
   "execution_count": null,
   "id": "f7e7b9d6",
   "metadata": {},
   "outputs": [],
   "source": []
  },
  {
   "cell_type": "code",
   "execution_count": null,
   "id": "1739d6e8",
   "metadata": {},
   "outputs": [],
   "source": []
  },
  {
   "cell_type": "code",
   "execution_count": null,
   "id": "ff229022",
   "metadata": {},
   "outputs": [],
   "source": []
  },
  {
   "cell_type": "code",
   "execution_count": null,
   "id": "ff87397d",
   "metadata": {},
   "outputs": [],
   "source": []
  },
  {
   "cell_type": "markdown",
   "id": "c4a9804d",
   "metadata": {},
   "source": [
    "#### Sorting"
   ]
  },
  {
   "cell_type": "code",
   "execution_count": null,
   "id": "063da352",
   "metadata": {},
   "outputs": [],
   "source": [
    "\n",
    "def return_most_common_items(row, num_top_items):\n",
    "    row_items = row.iloc[1:]\n",
    "    row_items_sorted = row_items.sort_values(ascending=False)\n",
    "\n",
    "    return row_items_sorted.index.values[0:num_top_items]\n",
    "\n"
   ]
  },
  {
   "cell_type": "markdown",
   "id": "71dd077e",
   "metadata": {},
   "source": [
    "### Top items by postcode"
   ]
  },
  {
   "cell_type": "code",
   "execution_count": null,
   "id": "baed8550",
   "metadata": {},
   "outputs": [],
   "source": [
    "num_top_items = 5\n",
    "\n",
    "indicators = ['st', 'nd', 'rd']\n",
    "\n",
    "# create columns according to number of top venues\n",
    "columns = ['item_postcode']\n",
    "\n",
    "for ind in np.arange(num_top_items):\n",
    "    try:\n",
    "        columns.append('{}{} Most Common Items'.format(ind+1, indicators[ind]))  \n",
    "    except:\n",
    "        columns.append('{}th Most Common Items'.format(ind+1))  \n",
    "\n",
    "# create a new dataframe\n",
    "postcodes_cat_sorted = pd.DataFrame(columns=columns)\n",
    "postcodes_cat_sorted['item_postcode'] = item_cat_grouped['item_postcode']\n",
    "\n",
    "\n",
    "for ind in np.arange(item_cat_grouped.shape[0]):\n",
    "    postcodes_cat_sorted.iloc[ind, 1:] = return_most_common_items(item_cat_grouped.iloc[ind, :], num_top_items)"
   ]
  },
  {
   "cell_type": "code",
   "execution_count": null,
   "id": "c19ce1ff",
   "metadata": {},
   "outputs": [],
   "source": [
    "postcodes_cat_sorted.head()"
   ]
  },
  {
   "cell_type": "code",
   "execution_count": null,
   "id": "65630889",
   "metadata": {},
   "outputs": [],
   "source": [
    "num_top_items = 3\n",
    "\n",
    "indicators = ['st', 'nd', 'rd']\n",
    "\n",
    "# create columns according to number of top venues\n",
    "columns = ['item_postcode']\n",
    "\n",
    "for ind in np.arange(num_top_items):\n",
    "    try:\n",
    "        columns.append('{}{} Most Common condition'.format(ind+1, indicators[ind]))  \n",
    "    except:\n",
    "        columns.append('{}th Most Common Condition'.format(ind+1))  \n",
    "\n",
    "# create a new dataframe\n",
    "postcodes_cond_sorted = pd.DataFrame(columns=columns)\n",
    "postcodes_cond_sorted['item_postcode'] = item_cond_grouped['item_postcode']\n",
    "\n",
    "\n",
    "# for ind in np.arange(item_grouped.shape[0]):\n",
    "# #     print(postcodes_items_sorted.iloc[ind, 1:]) \n",
    "# #     print(return_most_common_items(item_grouped.iloc[ind, :], num_top_venues))\n",
    "#     postcodes_items_sorted.iloc[ind, 1:] = return_most_common_items(item_grouped.iloc[ind, :], num_top_items)\n",
    "\n",
    "for ind in np.arange(item_cond_grouped.shape[0]):\n",
    "    postcodes_cond_sorted.iloc[ind, 1:] = return_most_common_items(item_cond_grouped.iloc[ind, :], num_top_items)"
   ]
  },
  {
   "cell_type": "code",
   "execution_count": null,
   "id": "2ac0748b",
   "metadata": {},
   "outputs": [],
   "source": [
    "postcodes_cond_sorted.head()"
   ]
  },
  {
   "cell_type": "code",
   "execution_count": null,
   "id": "9acef463",
   "metadata": {},
   "outputs": [],
   "source": []
  },
  {
   "cell_type": "markdown",
   "id": "b928227c",
   "metadata": {},
   "source": [
    "### Cluster postcodes\n",
    "\n",
    "k-means is used to cluster the postcodes into 5 clusters."
   ]
  },
  {
   "cell_type": "code",
   "execution_count": null,
   "id": "be2012ea",
   "metadata": {},
   "outputs": [],
   "source": [
    "# # set number of clusters\n",
    "# kclusters = 5\n",
    "\n",
    "# berlin_grouped_clustering = berlin_grouped.drop('neighborhood', 1)\n",
    "\n",
    "# # run k-means clustering\n",
    "# kmeans = KMeans(n_clusters=kclusters, random_state=0).fit(berlin_grouped_clustering)\n",
    "\n",
    "# # check cluster labels generated for each row in the dataframe\n",
    "# kmeans.labels_[0:10] "
   ]
  },
  {
   "cell_type": "code",
   "execution_count": null,
   "id": "57c4a484",
   "metadata": {},
   "outputs": [],
   "source": []
  },
  {
   "cell_type": "code",
   "execution_count": null,
   "id": "92934f01",
   "metadata": {},
   "outputs": [],
   "source": []
  },
  {
   "cell_type": "code",
   "execution_count": null,
   "id": "53c3d202",
   "metadata": {},
   "outputs": [],
   "source": []
  },
  {
   "cell_type": "code",
   "execution_count": null,
   "id": "531e5aeb",
   "metadata": {},
   "outputs": [],
   "source": []
  },
  {
   "cell_type": "code",
   "execution_count": null,
   "id": "fefbdaf0",
   "metadata": {},
   "outputs": [],
   "source": []
  },
  {
   "cell_type": "code",
   "execution_count": null,
   "id": "136acc3e",
   "metadata": {},
   "outputs": [],
   "source": []
  },
  {
   "cell_type": "code",
   "execution_count": null,
   "id": "441a479c",
   "metadata": {},
   "outputs": [],
   "source": []
  },
  {
   "cell_type": "code",
   "execution_count": null,
   "id": "78b919d4",
   "metadata": {},
   "outputs": [],
   "source": []
  },
  {
   "cell_type": "code",
   "execution_count": null,
   "id": "a2b896d5",
   "metadata": {},
   "outputs": [],
   "source": []
  },
  {
   "cell_type": "markdown",
   "id": "cfb52a33",
   "metadata": {},
   "source": [
    "### Cosine similarity\n",
    "to calculate user-user and item-item similarities"
   ]
  },
  {
   "cell_type": "code",
   "execution_count": null,
   "id": "bd264b80",
   "metadata": {},
   "outputs": [],
   "source": [
    "# from sklearn.metrics.pairwise import cosine_similarity\n",
    "# import numpy as np\n",
    "\n",
    "# # Example vectors\n",
    "# A = np.array([1, 2, 3])\n",
    "# B = np.array([4, 5, 6])\n",
    "\n",
    "# # Reshape the vectors into 2D arrays\n",
    "# A = A.reshape(1, -1)\n",
    "# B = B.reshape(1, -1)\n",
    "\n",
    "# # Calculate cosine similarity\n",
    "# cosine_similarity = cosine_similarity(A, B)\n",
    "\n",
    "# print(cosine_similarity)\n"
   ]
  },
  {
   "cell_type": "code",
   "execution_count": null,
   "id": "7bc979c3",
   "metadata": {},
   "outputs": [],
   "source": []
  },
  {
   "cell_type": "code",
   "execution_count": null,
   "id": "9b383bad",
   "metadata": {},
   "outputs": [],
   "source": []
  },
  {
   "cell_type": "code",
   "execution_count": null,
   "id": "44bae464",
   "metadata": {},
   "outputs": [],
   "source": []
  },
  {
   "cell_type": "code",
   "execution_count": null,
   "id": "544f3420",
   "metadata": {},
   "outputs": [],
   "source": []
  },
  {
   "cell_type": "code",
   "execution_count": null,
   "id": "79e9c2fd",
   "metadata": {},
   "outputs": [],
   "source": []
  },
  {
   "cell_type": "code",
   "execution_count": null,
   "id": "432975a8",
   "metadata": {},
   "outputs": [],
   "source": []
  },
  {
   "cell_type": "code",
   "execution_count": null,
   "id": "a88c3406",
   "metadata": {},
   "outputs": [],
   "source": []
  },
  {
   "cell_type": "code",
   "execution_count": null,
   "id": "5db51621",
   "metadata": {},
   "outputs": [],
   "source": []
  },
  {
   "cell_type": "code",
   "execution_count": null,
   "id": "fd96ef27",
   "metadata": {},
   "outputs": [],
   "source": []
  },
  {
   "cell_type": "code",
   "execution_count": null,
   "id": "f24fe186",
   "metadata": {},
   "outputs": [],
   "source": []
  },
  {
   "cell_type": "code",
   "execution_count": null,
   "id": "b9903068",
   "metadata": {},
   "outputs": [],
   "source": [
    "## CONTINUE FROM HERE: factorization matrix, encoding"
   ]
  },
  {
   "cell_type": "markdown",
   "id": "f68bbff6",
   "metadata": {},
   "source": [
    "### To the Model"
   ]
  },
  {
   "cell_type": "code",
   "execution_count": null,
   "id": "54c6d6be",
   "metadata": {},
   "outputs": [],
   "source": [
    "# model_mock_df = pd.DataFrame(create_model_data(1500)).transpose()\n",
    "# # model_mock_df.head(5)\n",
    "# model_mock_df.shape"
   ]
  },
  {
   "cell_type": "code",
   "execution_count": null,
   "id": "ab16fe47",
   "metadata": {},
   "outputs": [],
   "source": [
    "# model_mock_df.info()"
   ]
  },
  {
   "cell_type": "code",
   "execution_count": null,
   "id": "88bb3b0c",
   "metadata": {},
   "outputs": [],
   "source": []
  },
  {
   "cell_type": "markdown",
   "id": "2fd341b1",
   "metadata": {},
   "source": [
    "### Creating csv files"
   ]
  },
  {
   "cell_type": "code",
   "execution_count": null,
   "id": "f29b14c6",
   "metadata": {},
   "outputs": [],
   "source": [
    "# user_mock_df.to_csv('data/user_mock_data.csv', index=False)"
   ]
  },
  {
   "cell_type": "code",
   "execution_count": null,
   "id": "25b5c1c6",
   "metadata": {},
   "outputs": [],
   "source": [
    "# item_mock_df.to_csv('data/item_mock_data.csv', index=False)"
   ]
  },
  {
   "cell_type": "code",
   "execution_count": null,
   "id": "96b21495",
   "metadata": {},
   "outputs": [],
   "source": [
    "# model_mock_df.to_csv('data/model_mock_data.csv', index=False)"
   ]
  },
  {
   "cell_type": "markdown",
   "id": "28334203",
   "metadata": {},
   "source": [
    "## References:\n",
    "- [Generate custom datasets using Python Faker](https://blogs.sap.com/2021/05/26/generate-custom-datasets-using-python-faker/)\n",
    "- [folium_polygon_rectangle_layers](https://www.youtube.com/watch?v=9E9FTJrOJ1E&t=752s)\n",
    "- [Faker](https://github.com/joke2k/faker/issues/1183)\n",
    "- [Generating Mock Data with Python! (NumPy, Pandas, & Datetime Libraries)](https://www.youtube.com/watch?v=VJBY2eVtf7o)"
   ]
  },
  {
   "cell_type": "code",
   "execution_count": null,
   "id": "d76c7ddd",
   "metadata": {},
   "outputs": [],
   "source": []
  },
  {
   "cell_type": "code",
   "execution_count": null,
   "id": "9230f3e3",
   "metadata": {},
   "outputs": [],
   "source": []
  }
 ],
 "metadata": {
  "kernelspec": {
   "display_name": "Python 3 (ipykernel)",
   "language": "python",
   "name": "python3"
  },
  "language_info": {
   "codemirror_mode": {
    "name": "ipython",
    "version": 3
   },
   "file_extension": ".py",
   "mimetype": "text/x-python",
   "name": "python",
   "nbconvert_exporter": "python",
   "pygments_lexer": "ipython3",
   "version": "3.10.4"
  }
 },
 "nbformat": 4,
 "nbformat_minor": 5
}
