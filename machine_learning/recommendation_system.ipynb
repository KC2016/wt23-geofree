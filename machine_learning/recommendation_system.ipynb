{
 "cells": [
  {
   "cell_type": "markdown",
   "id": "ace3acf8",
   "metadata": {},
   "source": [
    "### Recommendation system"
   ]
  },
  {
   "cell_type": "markdown",
   "id": "f7364b24",
   "metadata": {},
   "source": [
    "1- Initialization of random user and item matrix.\n",
    "\n",
    "2- Ratings matrix is obtained by multiplying the user and the transposed item matrix.\n",
    "\n",
    "3- The goal of matrix factorization is to minimize the loss function (the difference in the ratings of the predicted and actual matrices must be minimal). Each rating can be described as a dot product of row in user matrix and column in item matrix."
   ]
  },
  {
   "cell_type": "code",
   "execution_count": null,
   "id": "d433339b",
   "metadata": {},
   "outputs": [],
   "source": []
  },
  {
   "cell_type": "code",
   "execution_count": 2,
   "id": "63e68deb",
   "metadata": {},
   "outputs": [],
   "source": [
    "# data processing\n",
    "import pandas as pd\n",
    "import numpy as np\n",
    "import scipy.stats\n",
    "\n",
    "# #visualization\n",
    "# import seaborn as sns\n",
    "\n",
    "# # similarity\n",
    "# from sklearn.metrics.pairwise import cosine_similarity\n"
   ]
  },
  {
   "cell_type": "code",
   "execution_count": null,
   "id": "d9287dde",
   "metadata": {},
   "outputs": [],
   "source": [
    "mock_data_original = pd.read_csv('data/model_mock_data.csv', index_col=False)\n",
    "mock_data_original.head()"
   ]
  },
  {
   "cell_type": "code",
   "execution_count": null,
   "id": "3944ebe9",
   "metadata": {},
   "outputs": [],
   "source": [
    "mock_data = mock_data_original.copy()"
   ]
  },
  {
   "cell_type": "code",
   "execution_count": null,
   "id": "e1c5922c",
   "metadata": {},
   "outputs": [],
   "source": []
  },
  {
   "cell_type": "markdown",
   "id": "f54dec7a",
   "metadata": {},
   "source": [
    "### Backend dataset"
   ]
  },
  {
   "cell_type": "raw",
   "id": "e4246731",
   "metadata": {},
   "source": [
    "HTTP 200 OK\n",
    "Allow: OPTIONS, GET\n",
    "Content-Type: application/json\n",
    "Vary: Accept\n",
    "\n",
    "[\n",
    "    {\n",
    "        \"id\": 1,\n",
    "        \"title\": \"two chairs and table\",\n",
    "        \"description\": \"two chairs with upholstered seats and small Ikea coffee table\",\n",
    "        \"available\": true,\n",
    "        \"latitude\": 52.520007,\n",
    "        \"longitude\": 13.404954,\n",
    "        \"condition\": \"acceptable\",\n",
    "        \"point\": \"SRID=4326;POINT (13.404954 52.520007)\",\n",
    "        \"views\": 0,\n",
    "        \"likes\": 0,\n",
    "        \"images\": [\n",
    "            {\n",
    "                \"id\": 1,\n",
    "                \"item\": 1,\n",
    "                \"image\": \"/media/item/Item%20object%20(1)/IMG_7515_FUSaKpY.JPG\"\n",
    "            }\n",
    "        ]\n",
    "    }"
   ]
  }
 ],
 "metadata": {
  "kernelspec": {
   "display_name": "Python 3 (ipykernel)",
   "language": "python",
   "name": "python3"
  },
  "language_info": {
   "codemirror_mode": {
    "name": "ipython",
    "version": 3
   },
   "file_extension": ".py",
   "mimetype": "text/x-python",
   "name": "python",
   "nbconvert_exporter": "python",
   "pygments_lexer": "ipython3",
   "version": "3.10.4"
  }
 },
 "nbformat": 4,
 "nbformat_minor": 5
}
