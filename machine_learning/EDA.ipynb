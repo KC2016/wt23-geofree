{
 "cells": [
  {
   "cell_type": "markdown",
   "id": "b0ff3309",
   "metadata": {},
   "source": [
    "# Exploratory Data Analysis\n",
    "Author: Karina Condeixa\n",
    "__________________________________________"
   ]
  },
  {
   "cell_type": "code",
   "execution_count": 9,
   "id": "5066ea82",
   "metadata": {},
   "outputs": [],
   "source": [
    "# import packages\n",
    "import pandas as pd\n",
    "# from faker import Faker, providers\n",
    "# from faker.providers.address.de_DE import Provider as DeDeAddressProvider\n",
    "# from faker.generator import random\n",
    "# from faker.providers import BaseProvider\n",
    "# import random\n",
    "\n",
    "import matplotlib.pyplot as plt\n",
    "import numpy as np\n",
    "import seaborn as sns\n",
    "# %matplotlib notebook\n",
    "# %matplotlib \n",
    "\n",
    "# import folium\n",
    "# from geopy.geocoders import Nominatim"
   ]
  },
  {
   "cell_type": "code",
   "execution_count": 10,
   "id": "4e2f5c9d",
   "metadata": {},
   "outputs": [
    {
     "data": {
      "text/html": [
       "<div>\n",
       "<style scoped>\n",
       "    .dataframe tbody tr th:only-of-type {\n",
       "        vertical-align: middle;\n",
       "    }\n",
       "\n",
       "    .dataframe tbody tr th {\n",
       "        vertical-align: top;\n",
       "    }\n",
       "\n",
       "    .dataframe thead th {\n",
       "        text-align: right;\n",
       "    }\n",
       "</style>\n",
       "<table border=\"1\" class=\"dataframe\">\n",
       "  <thead>\n",
       "    <tr style=\"text-align: right;\">\n",
       "      <th></th>\n",
       "      <th>item_category</th>\n",
       "      <th>item_condition</th>\n",
       "      <th>item_postcode</th>\n",
       "      <th>item_timer_days</th>\n",
       "      <th>n_views</th>\n",
       "      <th>n_likes</th>\n",
       "      <th>item_id</th>\n",
       "    </tr>\n",
       "  </thead>\n",
       "  <tbody>\n",
       "    <tr>\n",
       "      <th>0</th>\n",
       "      <td>plants</td>\n",
       "      <td>3</td>\n",
       "      <td>12619</td>\n",
       "      <td>11</td>\n",
       "      <td>101</td>\n",
       "      <td>4</td>\n",
       "      <td>1</td>\n",
       "    </tr>\n",
       "    <tr>\n",
       "      <th>1</th>\n",
       "      <td>plants</td>\n",
       "      <td>2</td>\n",
       "      <td>10249</td>\n",
       "      <td>10</td>\n",
       "      <td>90</td>\n",
       "      <td>13</td>\n",
       "      <td>2</td>\n",
       "    </tr>\n",
       "    <tr>\n",
       "      <th>2</th>\n",
       "      <td>plants</td>\n",
       "      <td>2</td>\n",
       "      <td>13589</td>\n",
       "      <td>28</td>\n",
       "      <td>9</td>\n",
       "      <td>1</td>\n",
       "      <td>3</td>\n",
       "    </tr>\n",
       "    <tr>\n",
       "      <th>3</th>\n",
       "      <td>furniture</td>\n",
       "      <td>3</td>\n",
       "      <td>13159</td>\n",
       "      <td>17</td>\n",
       "      <td>116</td>\n",
       "      <td>8</td>\n",
       "      <td>4</td>\n",
       "    </tr>\n",
       "    <tr>\n",
       "      <th>4</th>\n",
       "      <td>kids</td>\n",
       "      <td>3</td>\n",
       "      <td>10318</td>\n",
       "      <td>5</td>\n",
       "      <td>161</td>\n",
       "      <td>20</td>\n",
       "      <td>5</td>\n",
       "    </tr>\n",
       "  </tbody>\n",
       "</table>\n",
       "</div>"
      ],
      "text/plain": [
       "  item_category  item_condition  item_postcode  item_timer_days  n_views  \\\n",
       "0        plants               3          12619               11      101   \n",
       "1        plants               2          10249               10       90   \n",
       "2        plants               2          13589               28        9   \n",
       "3     furniture               3          13159               17      116   \n",
       "4          kids               3          10318                5      161   \n",
       "\n",
       "   n_likes  item_id  \n",
       "0        4        1  \n",
       "1       13        2  \n",
       "2        1        3  \n",
       "3        8        4  \n",
       "4       20        5  "
      ]
     },
     "execution_count": 10,
     "metadata": {},
     "output_type": "execute_result"
    }
   ],
   "source": [
    "item_df_original = pd.read_csv('data/item_df.csv')\n",
    "# item_df_original = item_df_original[:][1:].squeeze()\n",
    "item_df_original.head()"
   ]
  },
  {
   "cell_type": "code",
   "execution_count": 13,
   "id": "8a5a1b84",
   "metadata": {},
   "outputs": [],
   "source": [
    "item_df = item_df_original.copy()"
   ]
  },
  {
   "cell_type": "markdown",
   "id": "976ad788",
   "metadata": {},
   "source": [
    "## EDA"
   ]
  },
  {
   "cell_type": "code",
   "execution_count": 14,
   "id": "93be8870",
   "metadata": {},
   "outputs": [
    {
     "name": "stdout",
     "output_type": "stream",
     "text": [
      "<class 'pandas.core.frame.DataFrame'>\n",
      "RangeIndex: 1500 entries, 0 to 1499\n",
      "Data columns (total 7 columns):\n",
      " #   Column           Non-Null Count  Dtype \n",
      "---  ------           --------------  ----- \n",
      " 0   item_category    1500 non-null   object\n",
      " 1   item_condition   1500 non-null   int64 \n",
      " 2   item_postcode    1500 non-null   int64 \n",
      " 3   item_timer_days  1500 non-null   int64 \n",
      " 4   n_views          1500 non-null   int64 \n",
      " 5   n_likes          1500 non-null   int64 \n",
      " 6   item_id          1500 non-null   int64 \n",
      "dtypes: int64(6), object(1)\n",
      "memory usage: 82.2+ KB\n"
     ]
    }
   ],
   "source": [
    "item_df.info()"
   ]
  },
  {
   "cell_type": "code",
   "execution_count": 15,
   "id": "6eda991b",
   "metadata": {},
   "outputs": [
    {
     "data": {
      "text/plain": [
       "Text(0.5, 0, 'Frequency')"
      ]
     },
     "execution_count": 15,
     "metadata": {},
     "output_type": "execute_result"
    },
    {
     "data": {
      "image/png": "[encoded data removed]",
      "text/plain": [
       "<Figure size 800x500 with 1 Axes>"
      ]
     },
     "metadata": {},
     "output_type": "display_data"
    }
   ],
   "source": [
    "ax = item_df['item_category'].value_counts().plot(kind='barh', \n",
    "                                                   figsize=(8,5), \n",
    "                                                  width=.65)                                         \n",
    "                                                                                       \n",
    "ax.set_title(\"Frequency of the categories\")\n",
    "ax.set_ylabel(\"Category\")\n",
    "ax.set_xlabel(\"Frequency\") "
   ]
  },
  {
   "cell_type": "code",
   "execution_count": 16,
   "id": "b88d68bd",
   "metadata": {},
   "outputs": [
    {
     "data": {
      "text/plain": [
       "Text(0.5, 0, 'Frequency')"
      ]
     },
     "execution_count": 16,
     "metadata": {},
     "output_type": "execute_result"
    },
    {
     "data": {
      "image/png": "[encoded data removed]",
      "text/plain": [
       "<Figure size 800x500 with 1 Axes>"
      ]
     },
     "metadata": {},
     "output_type": "display_data"
    }
   ],
   "source": [
    "ax = item_df['item_condition'].value_counts().plot(kind='barh', \n",
    "                                                   figsize=(8,5), \n",
    "                                                  width=.65)                                         \n",
    "                                                                                       \n",
    "ax.set_title(\"Frequency of the condition\")\n",
    "ax.set_ylabel(\"condition\")\n",
    "ax.set_xlabel(\"Frequency\")"
   ]
  },
  {
   "cell_type": "code",
   "execution_count": 17,
   "id": "e83b4372",
   "metadata": {},
   "outputs": [
    {
     "name": "stdout",
     "output_type": "stream",
     "text": [
      "<class 'pandas.core.frame.DataFrame'>\n",
      "RangeIndex: 1500 entries, 0 to 1499\n",
      "Data columns (total 7 columns):\n",
      " #   Column           Non-Null Count  Dtype \n",
      "---  ------           --------------  ----- \n",
      " 0   item_category    1500 non-null   object\n",
      " 1   item_condition   1500 non-null   int64 \n",
      " 2   item_postcode    1500 non-null   int64 \n",
      " 3   item_timer_days  1500 non-null   int64 \n",
      " 4   n_views          1500 non-null   int64 \n",
      " 5   n_likes          1500 non-null   int64 \n",
      " 6   item_id          1500 non-null   int64 \n",
      "dtypes: int64(6), object(1)\n",
      "memory usage: 82.2+ KB\n"
     ]
    }
   ],
   "source": [
    "transform_col_to_num = ['item_condition',  'n_views', 'n_likes', 'item_timer_days']\n",
    "\n",
    "item_df[transform_col_to_num] = item_df[transform_col_to_num].astype(str).astype(int)\n",
    "item_df.info()"
   ]
  },
  {
   "cell_type": "code",
   "execution_count": 18,
   "id": "ed1b7151",
   "metadata": {},
   "outputs": [
    {
     "data": {
      "image/png": "[encoded data removed]",
      "text/plain": [
       "<Figure size 1000x1000 with 12 Axes>"
      ]
     },
     "metadata": {},
     "output_type": "display_data"
    }
   ],
   "source": [
    "# check distributions\n",
    "df = item_df\n",
    "hist = df.hist(figsize=(10,10),layout=(3,4))"
   ]
  },
  {
   "cell_type": "markdown",
   "id": "6fc67e20",
   "metadata": {},
   "source": [
    "The number of likes is righ-skewed distribution. Since the fake data are random, the distrubutions are not being explained here."
   ]
  },
  {
   "cell_type": "code",
   "execution_count": 187,
   "id": "cdcea8b4",
   "metadata": {},
   "outputs": [
    {
     "name": "stderr",
     "output_type": "stream",
     "text": [
      "/var/folders/xs/pmxwbppj14b4v76l4llp17n80000gp/T/ipykernel_41540/4174773288.py:2: FutureWarning: The default value of numeric_only in DataFrame.corr is deprecated. In a future version, it will default to False. Select only valid columns or specify the value of numeric_only to silence this warning.\n",
      "  corr = item_df.corr()\n"
     ]
    },
    {
     "data": {
      "text/plain": [
       "<Axes: >"
      ]
     },
     "execution_count": 187,
     "metadata": {},
     "output_type": "execute_result"
    },
    {
     "data": {
      "image/png": "[encoded data removed]",
      "text/plain": [
       "<Figure size 640x480 with 2 Axes>"
      ]
     },
     "metadata": {},
     "output_type": "display_data"
    }
   ],
   "source": [
    "#correlations\n",
    "corr = item_df.corr()\n",
    "# corr.style.background_gradient(cmap='blues')\n",
    "sb.heatmap(corr, cmap=\"Blues\", annot=True)"
   ]
  },
  {
   "cell_type": "markdown",
   "id": "6cee06d9",
   "metadata": {},
   "source": [
    "There are no correlation between variables, except the numbers of likes and views."
   ]
  },
  {
   "cell_type": "markdown",
   "id": "27df384a",
   "metadata": {},
   "source": [
    "## Feature engineering\n"
   ]
  },
  {
   "cell_type": "markdown",
   "id": "52867d31",
   "metadata": {},
   "source": [
    "### Since the dataset is fake, there is no nulls on it."
   ]
  },
  {
   "cell_type": "markdown",
   "id": "cf7ed7e2",
   "metadata": {},
   "source": [
    "### One-hot Encoding \n",
    "\n",
    "Function to convert categorical variations to numerical ones. The results 0 indicates non-existent while 1 indicates existent."
   ]
  },
  {
   "cell_type": "code",
   "execution_count": 188,
   "id": "3b041a73",
   "metadata": {},
   "outputs": [],
   "source": [
    "# columnsToEncode= ['item_category', 'item_condition']\n",
    "\n",
    "# item_onehot = pd.get_dummies(item_df,columns=columnsToEncode, drop_first=True)\n",
    "# item_onehot"
   ]
  },
  {
   "cell_type": "code",
   "execution_count": 196,
   "id": "8ce0f248",
   "metadata": {},
   "outputs": [
    {
     "data": {
      "text/html": [
       "<div>\n",
       "<style scoped>\n",
       "    .dataframe tbody tr th:only-of-type {\n",
       "        vertical-align: middle;\n",
       "    }\n",
       "\n",
       "    .dataframe tbody tr th {\n",
       "        vertical-align: top;\n",
       "    }\n",
       "\n",
       "    .dataframe thead th {\n",
       "        text-align: right;\n",
       "    }\n",
       "</style>\n",
       "<table border=\"1\" class=\"dataframe\">\n",
       "  <thead>\n",
       "    <tr style=\"text-align: right;\">\n",
       "      <th></th>\n",
       "      <th>cat_all</th>\n",
       "      <th>cat_clothes</th>\n",
       "      <th>cat_furniture</th>\n",
       "      <th>cat_kids</th>\n",
       "      <th>cat_plants</th>\n",
       "    </tr>\n",
       "  </thead>\n",
       "  <tbody>\n",
       "    <tr>\n",
       "      <th>0</th>\n",
       "      <td>0</td>\n",
       "      <td>0</td>\n",
       "      <td>0</td>\n",
       "      <td>0</td>\n",
       "      <td>1</td>\n",
       "    </tr>\n",
       "    <tr>\n",
       "      <th>1</th>\n",
       "      <td>0</td>\n",
       "      <td>0</td>\n",
       "      <td>0</td>\n",
       "      <td>0</td>\n",
       "      <td>1</td>\n",
       "    </tr>\n",
       "    <tr>\n",
       "      <th>2</th>\n",
       "      <td>0</td>\n",
       "      <td>0</td>\n",
       "      <td>0</td>\n",
       "      <td>0</td>\n",
       "      <td>1</td>\n",
       "    </tr>\n",
       "    <tr>\n",
       "      <th>3</th>\n",
       "      <td>0</td>\n",
       "      <td>0</td>\n",
       "      <td>1</td>\n",
       "      <td>0</td>\n",
       "      <td>0</td>\n",
       "    </tr>\n",
       "    <tr>\n",
       "      <th>4</th>\n",
       "      <td>0</td>\n",
       "      <td>0</td>\n",
       "      <td>0</td>\n",
       "      <td>1</td>\n",
       "      <td>0</td>\n",
       "    </tr>\n",
       "    <tr>\n",
       "      <th>...</th>\n",
       "      <td>...</td>\n",
       "      <td>...</td>\n",
       "      <td>...</td>\n",
       "      <td>...</td>\n",
       "      <td>...</td>\n",
       "    </tr>\n",
       "    <tr>\n",
       "      <th>1495</th>\n",
       "      <td>0</td>\n",
       "      <td>0</td>\n",
       "      <td>0</td>\n",
       "      <td>0</td>\n",
       "      <td>1</td>\n",
       "    </tr>\n",
       "    <tr>\n",
       "      <th>1496</th>\n",
       "      <td>1</td>\n",
       "      <td>0</td>\n",
       "      <td>0</td>\n",
       "      <td>0</td>\n",
       "      <td>0</td>\n",
       "    </tr>\n",
       "    <tr>\n",
       "      <th>1497</th>\n",
       "      <td>0</td>\n",
       "      <td>0</td>\n",
       "      <td>1</td>\n",
       "      <td>0</td>\n",
       "      <td>0</td>\n",
       "    </tr>\n",
       "    <tr>\n",
       "      <th>1498</th>\n",
       "      <td>0</td>\n",
       "      <td>0</td>\n",
       "      <td>1</td>\n",
       "      <td>0</td>\n",
       "      <td>0</td>\n",
       "    </tr>\n",
       "    <tr>\n",
       "      <th>1499</th>\n",
       "      <td>0</td>\n",
       "      <td>1</td>\n",
       "      <td>0</td>\n",
       "      <td>0</td>\n",
       "      <td>0</td>\n",
       "    </tr>\n",
       "  </tbody>\n",
       "</table>\n",
       "<p>1500 rows × 5 columns</p>\n",
       "</div>"
      ],
      "text/plain": [
       "      cat_all  cat_clothes  cat_furniture  cat_kids  cat_plants\n",
       "0           0            0              0         0           1\n",
       "1           0            0              0         0           1\n",
       "2           0            0              0         0           1\n",
       "3           0            0              1         0           0\n",
       "4           0            0              0         1           0\n",
       "...       ...          ...            ...       ...         ...\n",
       "1495        0            0              0         0           1\n",
       "1496        1            0              0         0           0\n",
       "1497        0            0              1         0           0\n",
       "1498        0            0              1         0           0\n",
       "1499        0            1              0         0           0\n",
       "\n",
       "[1500 rows x 5 columns]"
      ]
     },
     "execution_count": 196,
     "metadata": {},
     "output_type": "execute_result"
    }
   ],
   "source": [
    "\n",
    "item_cat_onehot = pd.get_dummies(item_df[['item_category']], prefix=\"cat\", prefix_sep=\"_\")\n",
    "item_cat_onehot \n",
    "\n",
    "# add neighborhood column back to dataframe\n",
    "item_cat_onehot['item_postcode'] = item_df['item_postcode'] \n",
    "\n",
    "# move neighborhood column to the first column\n",
    "fixed_columns = [item_cat_onehot.columns[-1]] + list(item_cat_onehot.columns[:-1])\n",
    "item_cat_onehot = item_cat_onehot[fixed_columns]\n",
    "\n",
    "\n",
    "item_cat_grouped = item_cat_onehot.groupby('item_postcode').mean().reset_index()\n",
    "\n",
    "# item_onehot.head()\n",
    "\n",
    "item_cat_grouped.head()"
   ]
  },
  {
   "cell_type": "code",
   "execution_count": 190,
   "id": "e5d60b89",
   "metadata": {},
   "outputs": [],
   "source": [
    "\n",
    "# item_onehot = pd.get_dummies(item_df[['item_category']], prefix=\"cat\", prefix_sep=\"_\")\n",
    "# item_onehot \n",
    "\n",
    "# # add neighborhood column back to dataframe\n",
    "# item_onehot['item_postcode'] = item_df['item_postcode'] \n",
    "\n",
    "# # move neighborhood column to the first column\n",
    "# fixed_columns = [item_onehot.columns[-1]] + list(item_onehot.columns[:-1])\n",
    "# item_onehot = item_onehot[fixed_columns]\n",
    "\n",
    "# item_grouped = item_onehot.groupby('item_postcode').mean().reset_index()\n",
    "\n",
    "# # item_onehot.head()\n",
    "\n",
    "# item_grouped.head()"
   ]
  },
  {
   "cell_type": "code",
   "execution_count": 209,
   "id": "b1407e90",
   "metadata": {},
   "outputs": [],
   "source": [
    "item_df['item_condition'] = item_df['item_condition'].astype(str)"
   ]
  },
  {
   "cell_type": "code",
   "execution_count": 210,
   "id": "9c53cf08",
   "metadata": {},
   "outputs": [
    {
     "data": {
      "text/html": [
       "<div>\n",
       "<style scoped>\n",
       "    .dataframe tbody tr th:only-of-type {\n",
       "        vertical-align: middle;\n",
       "    }\n",
       "\n",
       "    .dataframe tbody tr th {\n",
       "        vertical-align: top;\n",
       "    }\n",
       "\n",
       "    .dataframe thead th {\n",
       "        text-align: right;\n",
       "    }\n",
       "</style>\n",
       "<table border=\"1\" class=\"dataframe\">\n",
       "  <thead>\n",
       "    <tr style=\"text-align: right;\">\n",
       "      <th></th>\n",
       "      <th>item_postcode</th>\n",
       "      <th>condition_1</th>\n",
       "      <th>condition_2</th>\n",
       "      <th>condition_3</th>\n",
       "    </tr>\n",
       "  </thead>\n",
       "  <tbody>\n",
       "    <tr>\n",
       "      <th>0</th>\n",
       "      <td>10119</td>\n",
       "      <td>0.250000</td>\n",
       "      <td>0.375000</td>\n",
       "      <td>0.375000</td>\n",
       "    </tr>\n",
       "    <tr>\n",
       "      <th>1</th>\n",
       "      <td>10178</td>\n",
       "      <td>0.285714</td>\n",
       "      <td>0.428571</td>\n",
       "      <td>0.285714</td>\n",
       "    </tr>\n",
       "    <tr>\n",
       "      <th>2</th>\n",
       "      <td>10179</td>\n",
       "      <td>0.142857</td>\n",
       "      <td>0.285714</td>\n",
       "      <td>0.571429</td>\n",
       "    </tr>\n",
       "    <tr>\n",
       "      <th>3</th>\n",
       "      <td>10243</td>\n",
       "      <td>0.375000</td>\n",
       "      <td>0.125000</td>\n",
       "      <td>0.500000</td>\n",
       "    </tr>\n",
       "    <tr>\n",
       "      <th>4</th>\n",
       "      <td>10245</td>\n",
       "      <td>0.600000</td>\n",
       "      <td>0.000000</td>\n",
       "      <td>0.400000</td>\n",
       "    </tr>\n",
       "  </tbody>\n",
       "</table>\n",
       "</div>"
      ],
      "text/plain": [
       "   item_postcode  condition_1  condition_2  condition_3\n",
       "0          10119     0.250000     0.375000     0.375000\n",
       "1          10178     0.285714     0.428571     0.285714\n",
       "2          10179     0.142857     0.285714     0.571429\n",
       "3          10243     0.375000     0.125000     0.500000\n",
       "4          10245     0.600000     0.000000     0.400000"
      ]
     },
     "execution_count": 210,
     "metadata": {},
     "output_type": "execute_result"
    }
   ],
   "source": [
    "item_cond_onehot = pd.get_dummies(item_df[['item_condition']], prefix=\"condition\", prefix_sep=\"_\")\n",
    "item_cond_onehot \n",
    "\n",
    "# add postcode column back to dataframe\n",
    "item_cond_onehot['item_postcode'] = item_df['item_postcode'] \n",
    "\n",
    "# move neighborhood column to the first column\n",
    "fixed_columns = [item_cond_onehot.columns[-1]] + list(item_cond_onehot.columns[:-1])\n",
    "item_cond_onehot = item_cond_onehot[fixed_columns]\n",
    "\n",
    "item_cond_grouped = item_cond_onehot.groupby('item_postcode').mean().reset_index()\n",
    "\n",
    "item_onehot.head()\n",
    "\n",
    "item_cond_grouped.head()"
   ]
  },
  {
   "cell_type": "code",
   "execution_count": null,
   "id": "02a9f0f9",
   "metadata": {},
   "outputs": [],
   "source": []
  },
  {
   "cell_type": "code",
   "execution_count": null,
   "id": "48679f90",
   "metadata": {},
   "outputs": [],
   "source": []
  },
  {
   "cell_type": "markdown",
   "id": "c4a9804d",
   "metadata": {},
   "source": [
    "#### Sorting"
   ]
  },
  {
   "cell_type": "code",
   "execution_count": 211,
   "id": "063da352",
   "metadata": {},
   "outputs": [],
   "source": [
    "\n",
    "def return_most_common_items(row, num_top_items):\n",
    "    row_items = row.iloc[1:]\n",
    "    row_items_sorted = row_items.sort_values(ascending=False)\n",
    "\n",
    "    return row_items_sorted.index.values[0:num_top_items]\n",
    "\n"
   ]
  },
  {
   "cell_type": "markdown",
   "id": "71dd077e",
   "metadata": {},
   "source": [
    "### Top items by postcode"
   ]
  },
  {
   "cell_type": "code",
   "execution_count": 218,
   "id": "baed8550",
   "metadata": {},
   "outputs": [],
   "source": [
    "num_top_items = 5\n",
    "\n",
    "indicators = ['st', 'nd', 'rd']\n",
    "\n",
    "# create columns according to number of top venues\n",
    "columns = ['item_postcode']\n",
    "\n",
    "for ind in np.arange(num_top_items):\n",
    "    try:\n",
    "        columns.append('{}{} Most Common Items'.format(ind+1, indicators[ind]))  \n",
    "    except:\n",
    "        columns.append('{}th Most Common Items'.format(ind+1))  \n",
    "\n",
    "# create a new dataframe\n",
    "postcodes_cat_sorted = pd.DataFrame(columns=columns)\n",
    "postcodes_cat_sorted['item_postcode'] = item_cat_grouped['item_postcode']\n",
    "\n",
    "\n",
    "# for ind in np.arange(item_grouped.shape[0]):\n",
    "# #     print(postcodes_items_sorted.iloc[ind, 1:]) \n",
    "# #     print(return_most_common_items(item_grouped.iloc[ind, :], num_top_venues))\n",
    "#     postcodes_items_sorted.iloc[ind, 1:] = return_most_common_items(item_grouped.iloc[ind, :], num_top_items)\n",
    "\n",
    "for ind in np.arange(item_cat_grouped.shape[0]):\n",
    "    postcodes_cat_sorted.iloc[ind, 1:] = return_most_common_items(item_cat_grouped.iloc[ind, :], num_top_items)"
   ]
  },
  {
   "cell_type": "code",
   "execution_count": 219,
   "id": "c19ce1ff",
   "metadata": {},
   "outputs": [
    {
     "data": {
      "text/html": [
       "<div>\n",
       "<style scoped>\n",
       "    .dataframe tbody tr th:only-of-type {\n",
       "        vertical-align: middle;\n",
       "    }\n",
       "\n",
       "    .dataframe tbody tr th {\n",
       "        vertical-align: top;\n",
       "    }\n",
       "\n",
       "    .dataframe thead th {\n",
       "        text-align: right;\n",
       "    }\n",
       "</style>\n",
       "<table border=\"1\" class=\"dataframe\">\n",
       "  <thead>\n",
       "    <tr style=\"text-align: right;\">\n",
       "      <th></th>\n",
       "      <th>item_postcode</th>\n",
       "      <th>1st Most Common Items</th>\n",
       "      <th>2nd Most Common Items</th>\n",
       "      <th>3rd Most Common Items</th>\n",
       "      <th>4th Most Common Items</th>\n",
       "      <th>5th Most Common Items</th>\n",
       "    </tr>\n",
       "  </thead>\n",
       "  <tbody>\n",
       "    <tr>\n",
       "      <th>0</th>\n",
       "      <td>10119</td>\n",
       "      <td>cat_kids</td>\n",
       "      <td>cat_plants</td>\n",
       "      <td>cat_all</td>\n",
       "      <td>cat_furniture</td>\n",
       "      <td>cat_clothes</td>\n",
       "    </tr>\n",
       "    <tr>\n",
       "      <th>1</th>\n",
       "      <td>10178</td>\n",
       "      <td>cat_all</td>\n",
       "      <td>cat_clothes</td>\n",
       "      <td>cat_furniture</td>\n",
       "      <td>cat_kids</td>\n",
       "      <td>cat_plants</td>\n",
       "    </tr>\n",
       "    <tr>\n",
       "      <th>2</th>\n",
       "      <td>10179</td>\n",
       "      <td>cat_all</td>\n",
       "      <td>cat_clothes</td>\n",
       "      <td>cat_furniture</td>\n",
       "      <td>cat_kids</td>\n",
       "      <td>cat_plants</td>\n",
       "    </tr>\n",
       "    <tr>\n",
       "      <th>3</th>\n",
       "      <td>10243</td>\n",
       "      <td>cat_plants</td>\n",
       "      <td>cat_clothes</td>\n",
       "      <td>cat_all</td>\n",
       "      <td>cat_kids</td>\n",
       "      <td>cat_furniture</td>\n",
       "    </tr>\n",
       "    <tr>\n",
       "      <th>4</th>\n",
       "      <td>10245</td>\n",
       "      <td>cat_kids</td>\n",
       "      <td>cat_plants</td>\n",
       "      <td>cat_all</td>\n",
       "      <td>cat_clothes</td>\n",
       "      <td>cat_furniture</td>\n",
       "    </tr>\n",
       "  </tbody>\n",
       "</table>\n",
       "</div>"
      ],
      "text/plain": [
       "   item_postcode 1st Most Common Items 2nd Most Common Items  \\\n",
       "0          10119              cat_kids            cat_plants   \n",
       "1          10178               cat_all           cat_clothes   \n",
       "2          10179               cat_all           cat_clothes   \n",
       "3          10243            cat_plants           cat_clothes   \n",
       "4          10245              cat_kids            cat_plants   \n",
       "\n",
       "  3rd Most Common Items 4th Most Common Items 5th Most Common Items  \n",
       "0               cat_all         cat_furniture           cat_clothes  \n",
       "1         cat_furniture              cat_kids            cat_plants  \n",
       "2         cat_furniture              cat_kids            cat_plants  \n",
       "3               cat_all              cat_kids         cat_furniture  \n",
       "4               cat_all           cat_clothes         cat_furniture  "
      ]
     },
     "execution_count": 219,
     "metadata": {},
     "output_type": "execute_result"
    }
   ],
   "source": [
    "postcodes_cat_sorted.head()"
   ]
  },
  {
   "cell_type": "code",
   "execution_count": 220,
   "id": "65630889",
   "metadata": {},
   "outputs": [],
   "source": [
    "num_top_items = 3\n",
    "\n",
    "indicators = ['st', 'nd', 'rd']\n",
    "\n",
    "# create columns according to number of top venues\n",
    "columns = ['item_postcode']\n",
    "\n",
    "for ind in np.arange(num_top_items):\n",
    "    try:\n",
    "        columns.append('{}{} Most Common Items'.format(ind+1, indicators[ind]))  \n",
    "    except:\n",
    "        columns.append('{}th Most Common Items'.format(ind+1))  \n",
    "\n",
    "# create a new dataframe\n",
    "postcodes_cond_sorted = pd.DataFrame(columns=columns)\n",
    "postcodes_cond_sorted['item_postcode'] = item_grouped['item_postcode']\n",
    "\n",
    "\n",
    "# for ind in np.arange(item_grouped.shape[0]):\n",
    "# #     print(postcodes_items_sorted.iloc[ind, 1:]) \n",
    "# #     print(return_most_common_items(item_grouped.iloc[ind, :], num_top_venues))\n",
    "#     postcodes_items_sorted.iloc[ind, 1:] = return_most_common_items(item_grouped.iloc[ind, :], num_top_items)\n",
    "\n",
    "for ind in np.arange(item_grouped.shape[0]):\n",
    "    postcodes_cond_sorted.iloc[ind, 1:] = return_most_common_items(item_cond_grouped.iloc[ind, :], num_top_items)"
   ]
  },
  {
   "cell_type": "code",
   "execution_count": 221,
   "id": "2ac0748b",
   "metadata": {},
   "outputs": [
    {
     "data": {
      "text/html": [
       "<div>\n",
       "<style scoped>\n",
       "    .dataframe tbody tr th:only-of-type {\n",
       "        vertical-align: middle;\n",
       "    }\n",
       "\n",
       "    .dataframe tbody tr th {\n",
       "        vertical-align: top;\n",
       "    }\n",
       "\n",
       "    .dataframe thead th {\n",
       "        text-align: right;\n",
       "    }\n",
       "</style>\n",
       "<table border=\"1\" class=\"dataframe\">\n",
       "  <thead>\n",
       "    <tr style=\"text-align: right;\">\n",
       "      <th></th>\n",
       "      <th>item_postcode</th>\n",
       "      <th>1st Most Common Items</th>\n",
       "      <th>2nd Most Common Items</th>\n",
       "      <th>3rd Most Common Items</th>\n",
       "    </tr>\n",
       "  </thead>\n",
       "  <tbody>\n",
       "    <tr>\n",
       "      <th>0</th>\n",
       "      <td>10119</td>\n",
       "      <td>condition_2</td>\n",
       "      <td>condition_3</td>\n",
       "      <td>condition_1</td>\n",
       "    </tr>\n",
       "    <tr>\n",
       "      <th>1</th>\n",
       "      <td>10178</td>\n",
       "      <td>condition_2</td>\n",
       "      <td>condition_1</td>\n",
       "      <td>condition_3</td>\n",
       "    </tr>\n",
       "    <tr>\n",
       "      <th>2</th>\n",
       "      <td>10179</td>\n",
       "      <td>condition_3</td>\n",
       "      <td>condition_2</td>\n",
       "      <td>condition_1</td>\n",
       "    </tr>\n",
       "    <tr>\n",
       "      <th>3</th>\n",
       "      <td>10243</td>\n",
       "      <td>condition_3</td>\n",
       "      <td>condition_1</td>\n",
       "      <td>condition_2</td>\n",
       "    </tr>\n",
       "    <tr>\n",
       "      <th>4</th>\n",
       "      <td>10245</td>\n",
       "      <td>condition_1</td>\n",
       "      <td>condition_3</td>\n",
       "      <td>condition_2</td>\n",
       "    </tr>\n",
       "  </tbody>\n",
       "</table>\n",
       "</div>"
      ],
      "text/plain": [
       "   item_postcode 1st Most Common Items 2nd Most Common Items  \\\n",
       "0          10119           condition_2           condition_3   \n",
       "1          10178           condition_2           condition_1   \n",
       "2          10179           condition_3           condition_2   \n",
       "3          10243           condition_3           condition_1   \n",
       "4          10245           condition_1           condition_3   \n",
       "\n",
       "  3rd Most Common Items  \n",
       "0           condition_1  \n",
       "1           condition_3  \n",
       "2           condition_1  \n",
       "3           condition_2  \n",
       "4           condition_2  "
      ]
     },
     "execution_count": 221,
     "metadata": {},
     "output_type": "execute_result"
    }
   ],
   "source": [
    "postcodes_cond_sorted.head()"
   ]
  },
  {
   "cell_type": "code",
   "execution_count": null,
   "id": "9acef463",
   "metadata": {},
   "outputs": [],
   "source": []
  },
  {
   "cell_type": "code",
   "execution_count": null,
   "id": "57c4a484",
   "metadata": {},
   "outputs": [],
   "source": []
  },
  {
   "cell_type": "code",
   "execution_count": null,
   "id": "92934f01",
   "metadata": {},
   "outputs": [],
   "source": []
  },
  {
   "cell_type": "code",
   "execution_count": null,
   "id": "53c3d202",
   "metadata": {},
   "outputs": [],
   "source": []
  },
  {
   "cell_type": "code",
   "execution_count": null,
   "id": "531e5aeb",
   "metadata": {},
   "outputs": [],
   "source": []
  },
  {
   "cell_type": "markdown",
   "id": "b928227c",
   "metadata": {},
   "source": [
    "### Cluster postcodes\n",
    "\n",
    "k-means is used to cluster the postcodes into 5 clusters."
   ]
  },
  {
   "cell_type": "code",
   "execution_count": 195,
   "id": "be2012ea",
   "metadata": {},
   "outputs": [
    {
     "ename": "NameError",
     "evalue": "name 'berlin_grouped' is not defined",
     "output_type": "error",
     "traceback": [
      "\u001b[0;31m---------------------------------------------------------------------------\u001b[0m",
      "\u001b[0;31mNameError\u001b[0m                                 Traceback (most recent call last)",
      "Cell \u001b[0;32mIn[195], line 4\u001b[0m\n\u001b[1;32m      1\u001b[0m \u001b[38;5;66;03m# set number of clusters\u001b[39;00m\n\u001b[1;32m      2\u001b[0m kclusters \u001b[38;5;241m=\u001b[39m \u001b[38;5;241m5\u001b[39m\n\u001b[0;32m----> 4\u001b[0m berlin_grouped_clustering \u001b[38;5;241m=\u001b[39m \u001b[43mberlin_grouped\u001b[49m\u001b[38;5;241m.\u001b[39mdrop(\u001b[38;5;124m'\u001b[39m\u001b[38;5;124mneighborhood\u001b[39m\u001b[38;5;124m'\u001b[39m, \u001b[38;5;241m1\u001b[39m)\n\u001b[1;32m      6\u001b[0m \u001b[38;5;66;03m# run k-means clustering\u001b[39;00m\n\u001b[1;32m      7\u001b[0m kmeans \u001b[38;5;241m=\u001b[39m KMeans(n_clusters\u001b[38;5;241m=\u001b[39mkclusters, random_state\u001b[38;5;241m=\u001b[39m\u001b[38;5;241m0\u001b[39m)\u001b[38;5;241m.\u001b[39mfit(berlin_grouped_clustering)\n",
      "\u001b[0;31mNameError\u001b[0m: name 'berlin_grouped' is not defined"
     ]
    }
   ],
   "source": [
    "# set number of clusters\n",
    "kclusters = 5\n",
    "\n",
    "berlin_grouped_clustering = berlin_grouped.drop('neighborhood', 1)\n",
    "\n",
    "# run k-means clustering\n",
    "kmeans = KMeans(n_clusters=kclusters, random_state=0).fit(berlin_grouped_clustering)\n",
    "\n",
    "# check cluster labels generated for each row in the dataframe\n",
    "kmeans.labels_[0:10] "
   ]
  },
  {
   "cell_type": "code",
   "execution_count": null,
   "id": "fefbdaf0",
   "metadata": {},
   "outputs": [],
   "source": []
  },
  {
   "cell_type": "code",
   "execution_count": null,
   "id": "136acc3e",
   "metadata": {},
   "outputs": [],
   "source": []
  },
  {
   "cell_type": "code",
   "execution_count": null,
   "id": "441a479c",
   "metadata": {},
   "outputs": [],
   "source": []
  },
  {
   "cell_type": "code",
   "execution_count": null,
   "id": "78b919d4",
   "metadata": {},
   "outputs": [],
   "source": []
  },
  {
   "cell_type": "code",
   "execution_count": null,
   "id": "a2b896d5",
   "metadata": {},
   "outputs": [],
   "source": []
  },
  {
   "cell_type": "markdown",
   "id": "cfb52a33",
   "metadata": {},
   "source": [
    "### Cosine similarity\n",
    "to calculate user-user and item-item similarities"
   ]
  },
  {
   "cell_type": "code",
   "execution_count": null,
   "id": "bd264b80",
   "metadata": {},
   "outputs": [],
   "source": [
    "from sklearn.metrics.pairwise import cosine_similarity\n",
    "import numpy as np\n",
    "\n",
    "# Example vectors\n",
    "A = np.array([1, 2, 3])\n",
    "B = np.array([4, 5, 6])\n",
    "\n",
    "# Reshape the vectors into 2D arrays\n",
    "A = A.reshape(1, -1)\n",
    "B = B.reshape(1, -1)\n",
    "\n",
    "# Calculate cosine similarity\n",
    "cosine_similarity = cosine_similarity(A, B)\n",
    "\n",
    "print(cosine_similarity)\n"
   ]
  },
  {
   "cell_type": "code",
   "execution_count": null,
   "id": "7bc979c3",
   "metadata": {},
   "outputs": [],
   "source": []
  },
  {
   "cell_type": "code",
   "execution_count": null,
   "id": "9b383bad",
   "metadata": {},
   "outputs": [],
   "source": []
  },
  {
   "cell_type": "code",
   "execution_count": null,
   "id": "44bae464",
   "metadata": {},
   "outputs": [],
   "source": []
  },
  {
   "cell_type": "code",
   "execution_count": null,
   "id": "544f3420",
   "metadata": {},
   "outputs": [],
   "source": []
  },
  {
   "cell_type": "code",
   "execution_count": null,
   "id": "79e9c2fd",
   "metadata": {},
   "outputs": [],
   "source": []
  },
  {
   "cell_type": "code",
   "execution_count": null,
   "id": "432975a8",
   "metadata": {},
   "outputs": [],
   "source": []
  },
  {
   "cell_type": "code",
   "execution_count": null,
   "id": "a88c3406",
   "metadata": {},
   "outputs": [],
   "source": []
  },
  {
   "cell_type": "code",
   "execution_count": null,
   "id": "5db51621",
   "metadata": {},
   "outputs": [],
   "source": []
  },
  {
   "cell_type": "code",
   "execution_count": null,
   "id": "fd96ef27",
   "metadata": {},
   "outputs": [],
   "source": []
  },
  {
   "cell_type": "code",
   "execution_count": null,
   "id": "f24fe186",
   "metadata": {},
   "outputs": [],
   "source": []
  },
  {
   "cell_type": "code",
   "execution_count": null,
   "id": "b9903068",
   "metadata": {},
   "outputs": [],
   "source": [
    "## CONTINUE FROM HERE: factorization matrix, encoding"
   ]
  },
  {
   "cell_type": "markdown",
   "id": "f68bbff6",
   "metadata": {},
   "source": [
    "### To the Model"
   ]
  },
  {
   "cell_type": "code",
   "execution_count": null,
   "id": "54c6d6be",
   "metadata": {},
   "outputs": [],
   "source": [
    "# model_mock_df = pd.DataFrame(create_model_data(1500)).transpose()\n",
    "# # model_mock_df.head(5)\n",
    "# model_mock_df.shape"
   ]
  },
  {
   "cell_type": "code",
   "execution_count": null,
   "id": "ab16fe47",
   "metadata": {},
   "outputs": [],
   "source": [
    "# model_mock_df.info()"
   ]
  },
  {
   "cell_type": "code",
   "execution_count": null,
   "id": "88bb3b0c",
   "metadata": {},
   "outputs": [],
   "source": []
  },
  {
   "cell_type": "markdown",
   "id": "2fd341b1",
   "metadata": {},
   "source": [
    "### Creating csv files"
   ]
  },
  {
   "cell_type": "code",
   "execution_count": null,
   "id": "f29b14c6",
   "metadata": {},
   "outputs": [],
   "source": [
    "# user_mock_df.to_csv('data/user_mock_data.csv', index=False)"
   ]
  },
  {
   "cell_type": "code",
   "execution_count": null,
   "id": "25b5c1c6",
   "metadata": {},
   "outputs": [],
   "source": [
    "# item_mock_df.to_csv('data/item_mock_data.csv', index=False)"
   ]
  },
  {
   "cell_type": "code",
   "execution_count": null,
   "id": "96b21495",
   "metadata": {},
   "outputs": [],
   "source": [
    "# model_mock_df.to_csv('data/model_mock_data.csv', index=False)"
   ]
  },
  {
   "cell_type": "markdown",
   "id": "28334203",
   "metadata": {},
   "source": [
    "## References:\n",
    "- [Generate custom datasets using Python Faker](https://blogs.sap.com/2021/05/26/generate-custom-datasets-using-python-faker/)\n",
    "- [folium_polygon_rectangle_layers](https://www.youtube.com/watch?v=9E9FTJrOJ1E&t=752s)\n",
    "- [Faker](https://github.com/joke2k/faker/issues/1183)\n",
    "- [Generating Mock Data with Python! (NumPy, Pandas, & Datetime Libraries)](https://www.youtube.com/watch?v=VJBY2eVtf7o)"
   ]
  },
  {
   "cell_type": "code",
   "execution_count": null,
   "id": "d76c7ddd",
   "metadata": {},
   "outputs": [],
   "source": []
  },
  {
   "cell_type": "code",
   "execution_count": null,
   "id": "9230f3e3",
   "metadata": {},
   "outputs": [],
   "source": []
  }
 ],
 "metadata": {
  "kernelspec": {
   "display_name": "Python 3 (ipykernel)",
   "language": "python",
   "name": "python3"
  },
  "language_info": {
   "codemirror_mode": {
    "name": "ipython",
    "version": 3
   },
   "file_extension": ".py",
   "mimetype": "text/x-python",
   "name": "python",
   "nbconvert_exporter": "python",
   "pygments_lexer": "ipython3",
   "version": "3.10.4"
  }
 },
 "nbformat": 4,
 "nbformat_minor": 5
}
