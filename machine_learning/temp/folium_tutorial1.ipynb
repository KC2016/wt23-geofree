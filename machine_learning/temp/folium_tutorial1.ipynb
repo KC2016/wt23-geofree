{
 "cells": [
  {
   "cell_type": "code",
   "execution_count": 52,
   "id": "e6e47e8d",
   "metadata": {},
   "outputs": [],
   "source": [
    "import folium"
   ]
  },
  {
   "cell_type": "code",
   "execution_count": 53,
   "id": "aa77bb63",
   "metadata": {},
   "outputs": [],
   "source": [
    "mapObj = folium.Map(loocation=[52.520008,13.404954], zoom_start=5)\n",
    "# mapObj.save('output.html')"
   ]
  },
  {
   "cell_type": "code",
   "execution_count": 54,
   "id": "8fc02c8a",
   "metadata": {},
   "outputs": [
    {
     "data": {
      "text/plain": [
       "<folium.map.FeatureGroup at 0x7f942444f4c0>"
      ]
     },
     "execution_count": 54,
     "metadata": {},
     "output_type": "execute_result"
    }
   ],
   "source": [
    "shapesLayer = folium.FeatureGroup(name=\"shapes\")\n",
    "shapesLayer.add_to(mapObj)\n"
   ]
  },
  {
   "cell_type": "markdown",
   "id": "df522aec",
   "metadata": {},
   "source": [
    "## Ploting a rectangle"
   ]
  },
  {
   "cell_type": "code",
   "execution_count": 55,
   "id": "1859c5da",
   "metadata": {},
   "outputs": [],
   "source": [
    "# poly = Polygon([(52.645883, 13.395869), \n",
    "#                 (52.526568, 13.645808),\n",
    "#                 (52.381789, 13.405482),\n",
    "#                 (52.484773, 13.136317)])"
   ]
  },
  {
   "cell_type": "code",
   "execution_count": 56,
   "id": "386d2123",
   "metadata": {},
   "outputs": [],
   "source": [
    "# folium.Rectangle([(52.645883, 13.395869),(52.526568, 13.645808)], \n",
    "#                  fill=True, \n",
    "#                  weight=3, \n",
    "#                  fill_color='orange',\n",
    "#                  color='green',\n",
    "#                 fill_opacity=0.8).add_to(mapObj)\n",
    "# # should be the diagonal points\n",
    "# mapObj.save('output.html')"
   ]
  },
  {
   "cell_type": "code",
   "execution_count": 57,
   "id": "a244fd8e",
   "metadata": {},
   "outputs": [],
   "source": [
    "folium.Rectangle([(52.645883, 13.395869),(52.526568, 13.645808)], \n",
    "                 fill=True, \n",
    "                 weight=3, \n",
    "                 fill_color='orange',\n",
    "                 color='green',\n",
    "                fill_opacity=0.8).add_to(shapesLayer)\n",
    "\n",
    "\n",
    "# should be the diagonal points\n"
   ]
  },
  {
   "cell_type": "markdown",
   "id": "1712dae9",
   "metadata": {},
   "source": [
    "## Ploting a polyline"
   ]
  },
  {
   "cell_type": "code",
   "execution_count": 58,
   "id": "417c3157",
   "metadata": {},
   "outputs": [],
   "source": [
    "# folium.Polyline([(52.526568, 13.645808), (52.381789, 13.405482), (52.484773, 13.136317)]).add_to(mapObj)\n",
    "\n",
    "# mapObj.save('output.html')"
   ]
  },
  {
   "cell_type": "code",
   "execution_count": 59,
   "id": "bcb86bf6",
   "metadata": {},
   "outputs": [],
   "source": [
    "# https://stackoverflow.com/questions/60053573/how-to-use-polyline"
   ]
  },
  {
   "cell_type": "markdown",
   "id": "69b62d5d",
   "metadata": {},
   "source": [
    "### Draw a Polygon"
   ]
  },
  {
   "cell_type": "code",
   "execution_count": 60,
   "id": "02f32855",
   "metadata": {},
   "outputs": [],
   "source": [
    "# folium.Polygon([(52.645883, 13.395869), \n",
    "#                 (52.526568, 13.645808), \n",
    "#                 (52.381789, 13.405482), \n",
    "#                 (52.484773, 13.136317)]).add_to(mapObj)\n",
    "\n",
    "# mapObj.save('output.html')"
   ]
  },
  {
   "cell_type": "code",
   "execution_count": null,
   "id": "4ee5cd6f",
   "metadata": {},
   "outputs": [],
   "source": [
    "folium.Polygon([(52.645883, 13.395869), \n",
    "                (52.526568, 13.645808), \n",
    "                (52.381789, 13.405482), \n",
    "                (52.484773, 13.136317)]).add_to(shapesLayer)\n"
   ]
  },
  {
   "cell_type": "code",
   "execution_count": null,
   "id": "8eefcbfd",
   "metadata": {},
   "outputs": [],
   "source": [
    "folium.LayerControl().add_to(mapObj)\n"
   ]
  },
  {
   "cell_type": "code",
   "execution_count": null,
   "id": "ca196ba6",
   "metadata": {},
   "outputs": [],
   "source": [
    "mapObj.save('output.html')"
   ]
  }
 ],
 "metadata": {
  "kernelspec": {
   "display_name": "Python 3 (ipykernel)",
   "language": "python",
   "name": "python3"
  },
  "language_info": {
   "codemirror_mode": {
    "name": "ipython",
    "version": 3
   },
   "file_extension": ".py",
   "mimetype": "text/x-python",
   "name": "python",
   "nbconvert_exporter": "python",
   "pygments_lexer": "ipython3",
   "version": "3.10.4"
  }
 },
 "nbformat": 4,
 "nbformat_minor": 5
}
