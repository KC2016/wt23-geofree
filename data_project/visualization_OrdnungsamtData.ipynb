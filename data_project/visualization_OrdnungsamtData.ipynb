{
 "cells": [
  {
   "cell_type": "markdown",
   "id": "8ac37dd3",
   "metadata": {},
   "source": [
    "# Data Analysis and Visualization\n",
    "Open data from Ordnungsamt\n",
    "\n",
    "Author: Karina Condeixa"
   ]
  },
  {
   "cell_type": "markdown",
   "id": "08aa4002",
   "metadata": {},
   "source": [
    "------------\n",
    "### Content\n",
    "1. Data Visualization \n",
    "2. Data Analysis\n",
    "\n",
    "### Questions to understand the data\n",
    "\n",
    "What is the message pct per district? \n",
    "\n",
    "Which district has the most resolved complaints?\n",
    "\n",
    "Which district has the less resolved complaints?\n",
    "\n",
    "- Most of the complaints were from Neukölln, 80% of the solved complaints and 18%  of the solved ones. The numbers of occurrences in other districts are insignificant. \n",
    "\n",
    "What month has more occurrences?\n",
    "\n",
    "- September 2022 had a peak of occurences in the Done status.\n",
    "\n",
    "What years have more posts?\n",
    "\n",
    "- They have more information on 2023 (92% of the total) and few occurrences in 2022.\n",
    "\n",
    "--------------\n",
    "\n",
    "#### What the graphs show?\n",
    "\n",
    "**Frequency of values**\n",
    "\n",
    "A bargraph of occurrences per district and status shows the ercentage in progress and done by district.\n",
    "\n",
    "Neukölln was the predominant districts for this type of disturbance with 80% of the total occurrences done and 18.4% of the total occurrences in progress.\n",
    "\n",
    "**Timeseries: line graphs of Number of Month wise occurrences in the different status were plot.**\n",
    "\n",
    "A line graph shows occurrences for in progress and for done by dates.\n",
    "\n",
    "A massive peak of occurrences was shown in March, which can indicate a seasonality. However, many occurrences for after the day of the analysis were shown. So, graphs for 2022 and 2023 by month were plot in different graphs.\n",
    "\n",
    "A line graph occurrences per month shows peaks until March, but show occurrences in the rest of this year. It is an inconsistence of the dataset. \n",
    "\n",
    "Filtering the data by today, it was found that there are 153 occurrences in the 'erstellungsDatum'(creation data) column after the day of today. There are errors in data for this column.\n",
    "\n",
    "\n",
    "**Occurrences done and in progress for 2022 were plot in a line graph.**\n",
    "\n",
    "In progress occurrences where between 2 and 3 per month in the first trimester, got stable until August with an occurrence per month. \n",
    "\n",
    "Done ocurrences where between 1 and 2,  3 at most until August, it had a peak in September and decline to 5 in October.\n",
    "\n",
    "There are not occurrences in November and December.\n",
    "\n",
    "It's hard to say if it an inconsistence of the dataset or if it really happend.\n",
    "\n",
    "**Stacked bar graph of Ocurrences per year and status**\n",
    "\n",
    "This graph made more clear how higher was the number of occcurrences in 2023 over 2022.\n"
   ]
  },
  {
   "cell_type": "code",
   "execution_count": 2,
   "id": "d30b8fe0",
   "metadata": {},
   "outputs": [],
   "source": [
    "# import packages\n",
    "import pandas as pd\n",
    "import seaborn as sns\n",
    "import matplotlib.pyplot as plt\n",
    "import numpy as np\n",
    "# %matplotlib notebook\n",
    "# %matplotlib \n",
    "from datetime import datetime\n"
   ]
  },
  {
   "cell_type": "code",
   "execution_count": 3,
   "id": "34022932",
   "metadata": {},
   "outputs": [],
   "source": [
    "# set maximum number of rows\n",
    "\n",
    "pd.set_option('display.max_columns', 100)\n",
    "pd.set_option('display.max_rows', 20)"
   ]
  },
  {
   "cell_type": "code",
   "execution_count": 4,
   "id": "7d46b009",
   "metadata": {},
   "outputs": [
    {
     "data": {
      "text/plain": [
       "(5408, 7)"
      ]
     },
     "execution_count": 4,
     "metadata": {},
     "output_type": "execute_result"
    }
   ],
   "source": [
    "# import the data\n",
    "df_original = pd.read_csv('data/data_ordnungsamt.csv')\n",
    "df_original.shape"
   ]
  },
  {
   "cell_type": "code",
   "execution_count": 5,
   "id": "5f209e8f",
   "metadata": {},
   "outputs": [
    {
     "data": {
      "text/html": [
       "<div>\n",
       "<style scoped>\n",
       "    .dataframe tbody tr th:only-of-type {\n",
       "        vertical-align: middle;\n",
       "    }\n",
       "\n",
       "    .dataframe tbody tr th {\n",
       "        vertical-align: top;\n",
       "    }\n",
       "\n",
       "    .dataframe thead th {\n",
       "        text-align: right;\n",
       "    }\n",
       "</style>\n",
       "<table border=\"1\" class=\"dataframe\">\n",
       "  <thead>\n",
       "    <tr style=\"text-align: right;\">\n",
       "      <th></th>\n",
       "      <th>id</th>\n",
       "      <th>meldungsNummern</th>\n",
       "      <th>bezirk</th>\n",
       "      <th>betreff</th>\n",
       "      <th>erstellungsDatum</th>\n",
       "      <th>status</th>\n",
       "      <th>sachverhalt</th>\n",
       "    </tr>\n",
       "  </thead>\n",
       "  <tbody>\n",
       "    <tr>\n",
       "      <th>0</th>\n",
       "      <td>527563</td>\n",
       "      <td>['ljf29']</td>\n",
       "      <td>Friedrichshain-Kreuzberg</td>\n",
       "      <td>Sperrmüll abgelagert (Spiegel)</td>\n",
       "      <td>18.01.2017 - 15:01:09</td>\n",
       "      <td>In Bearbeitung</td>\n",
       "      <td>Spiegel</td>\n",
       "    </tr>\n",
       "    <tr>\n",
       "      <th>1</th>\n",
       "      <td>527575</td>\n",
       "      <td>['51cx6p']</td>\n",
       "      <td>Friedrichshain-Kreuzberg</td>\n",
       "      <td>Sperrmüll abgelagert (Holz-/Regalteile)</td>\n",
       "      <td>18.01.2017 - 15:05:54</td>\n",
       "      <td>In Bearbeitung</td>\n",
       "      <td>Holz-/Regalteile</td>\n",
       "    </tr>\n",
       "    <tr>\n",
       "      <th>2</th>\n",
       "      <td>622944</td>\n",
       "      <td>['vf943l']</td>\n",
       "      <td>Lichtenberg</td>\n",
       "      <td>Park- und Haltverbot nicht berücksichtigt</td>\n",
       "      <td>11.04.2017 - 14:31:38</td>\n",
       "      <td>In Bearbeitung</td>\n",
       "      <td>Pkw in geschützter Grünanlage aufgefahren</td>\n",
       "    </tr>\n",
       "    <tr>\n",
       "      <th>3</th>\n",
       "      <td>681533</td>\n",
       "      <td>['pkyi2p']</td>\n",
       "      <td>Lichtenberg</td>\n",
       "      <td>Parken auf Gehweg</td>\n",
       "      <td>25.06.2017 - 13:09:47</td>\n",
       "      <td>In Bearbeitung</td>\n",
       "      <td>NaN</td>\n",
       "    </tr>\n",
       "    <tr>\n",
       "      <th>4</th>\n",
       "      <td>788708</td>\n",
       "      <td>['9axrlt']</td>\n",
       "      <td>Lichtenberg</td>\n",
       "      <td>Abfall - Müllablagerung</td>\n",
       "      <td>27.10.2017 - 12:30:24</td>\n",
       "      <td>In Bearbeitung</td>\n",
       "      <td>Bauschutt</td>\n",
       "    </tr>\n",
       "    <tr>\n",
       "      <th>5</th>\n",
       "      <td>883168</td>\n",
       "      <td>['uaxhc1']</td>\n",
       "      <td>Reinickendorf</td>\n",
       "      <td>Gehweg/Radweg zugeparkt</td>\n",
       "      <td>23.02.2018 - 16:50:57</td>\n",
       "      <td>In Bearbeitung</td>\n",
       "      <td>NaN</td>\n",
       "    </tr>\n",
       "    <tr>\n",
       "      <th>6</th>\n",
       "      <td>885548</td>\n",
       "      <td>['fn5am9']</td>\n",
       "      <td>Lichtenberg</td>\n",
       "      <td>Park- und Haltverbot nicht berücksichtigt</td>\n",
       "      <td>27.02.2018 - 21:12:00</td>\n",
       "      <td>In Bearbeitung</td>\n",
       "      <td>Kfz steht in der kurve. Mit plane abgedeckt.</td>\n",
       "    </tr>\n",
       "    <tr>\n",
       "      <th>7</th>\n",
       "      <td>890996</td>\n",
       "      <td>['56ups1']</td>\n",
       "      <td>Reinickendorf</td>\n",
       "      <td>Parkraumbewirtschaftung - Anwohner-, Gästevign...</td>\n",
       "      <td>06.03.2018 - 22:12:36</td>\n",
       "      <td>In Bearbeitung</td>\n",
       "      <td>ca. 13.22 Uhr\\n\\nkeine Vignette keine Parksche...</td>\n",
       "    </tr>\n",
       "    <tr>\n",
       "      <th>8</th>\n",
       "      <td>950160</td>\n",
       "      <td>['ysxgxt']</td>\n",
       "      <td>Reinickendorf</td>\n",
       "      <td>Straßenaufsicht - Defekte Ampel</td>\n",
       "      <td>08.05.2018 - 16:30:29</td>\n",
       "      <td>In Bearbeitung</td>\n",
       "      <td>Rotlicht an Ampel K5 komplett erloschen. Ampel...</td>\n",
       "    </tr>\n",
       "    <tr>\n",
       "      <th>9</th>\n",
       "      <td>1018325</td>\n",
       "      <td>['vgibr5']</td>\n",
       "      <td>Spandau</td>\n",
       "      <td>Parkraumbewirtschaftung - Sonstiges</td>\n",
       "      <td>12.07.2018 - 21:45:50</td>\n",
       "      <td>In Bearbeitung</td>\n",
       "      <td>Seit vier Tagen parkt in falscher Fahrtrichtun...</td>\n",
       "    </tr>\n",
       "  </tbody>\n",
       "</table>\n",
       "</div>"
      ],
      "text/plain": [
       "        id meldungsNummern                    bezirk  \\\n",
       "0   527563       ['ljf29']  Friedrichshain-Kreuzberg   \n",
       "1   527575      ['51cx6p']  Friedrichshain-Kreuzberg   \n",
       "2   622944      ['vf943l']               Lichtenberg   \n",
       "3   681533      ['pkyi2p']               Lichtenberg   \n",
       "4   788708      ['9axrlt']               Lichtenberg   \n",
       "5   883168      ['uaxhc1']             Reinickendorf   \n",
       "6   885548      ['fn5am9']               Lichtenberg   \n",
       "7   890996      ['56ups1']             Reinickendorf   \n",
       "8   950160      ['ysxgxt']             Reinickendorf   \n",
       "9  1018325      ['vgibr5']                   Spandau   \n",
       "\n",
       "                                             betreff       erstellungsDatum  \\\n",
       "0                     Sperrmüll abgelagert (Spiegel)  18.01.2017 - 15:01:09   \n",
       "1            Sperrmüll abgelagert (Holz-/Regalteile)  18.01.2017 - 15:05:54   \n",
       "2          Park- und Haltverbot nicht berücksichtigt  11.04.2017 - 14:31:38   \n",
       "3                                  Parken auf Gehweg  25.06.2017 - 13:09:47   \n",
       "4                            Abfall - Müllablagerung  27.10.2017 - 12:30:24   \n",
       "5                            Gehweg/Radweg zugeparkt  23.02.2018 - 16:50:57   \n",
       "6          Park- und Haltverbot nicht berücksichtigt  27.02.2018 - 21:12:00   \n",
       "7  Parkraumbewirtschaftung - Anwohner-, Gästevign...  06.03.2018 - 22:12:36   \n",
       "8                    Straßenaufsicht - Defekte Ampel  08.05.2018 - 16:30:29   \n",
       "9                Parkraumbewirtschaftung - Sonstiges  12.07.2018 - 21:45:50   \n",
       "\n",
       "           status                                        sachverhalt  \n",
       "0  In Bearbeitung                                            Spiegel  \n",
       "1  In Bearbeitung                                   Holz-/Regalteile  \n",
       "2  In Bearbeitung          Pkw in geschützter Grünanlage aufgefahren  \n",
       "3  In Bearbeitung                                                NaN  \n",
       "4  In Bearbeitung                                          Bauschutt  \n",
       "5  In Bearbeitung                                                NaN  \n",
       "6  In Bearbeitung      Kfz steht in der kurve. Mit plane abgedeckt.   \n",
       "7  In Bearbeitung  ca. 13.22 Uhr\\n\\nkeine Vignette keine Parksche...  \n",
       "8  In Bearbeitung  Rotlicht an Ampel K5 komplett erloschen. Ampel...  \n",
       "9  In Bearbeitung  Seit vier Tagen parkt in falscher Fahrtrichtun...  "
      ]
     },
     "execution_count": 5,
     "metadata": {},
     "output_type": "execute_result"
    }
   ],
   "source": [
    "df_original.head(10)"
   ]
  },
  {
   "cell_type": "code",
   "execution_count": 6,
   "id": "157f0b23",
   "metadata": {},
   "outputs": [
    {
     "data": {
      "text/plain": [
       "Index(['id', 'meldungsNummern', 'bezirk', 'betreff', 'erstellungsDatum',\n",
       "       'status', 'sachverhalt'],\n",
       "      dtype='object')"
      ]
     },
     "execution_count": 6,
     "metadata": {},
     "output_type": "execute_result"
    }
   ],
   "source": [
    "df_original.columns"
   ]
  },
  {
   "cell_type": "code",
   "execution_count": 7,
   "id": "02b23c9e",
   "metadata": {},
   "outputs": [],
   "source": [
    "# check the statistics \n",
    "# df_original.describe()"
   ]
  },
  {
   "cell_type": "code",
   "execution_count": 8,
   "id": "2cbac917",
   "metadata": {},
   "outputs": [
    {
     "name": "stdout",
     "output_type": "stream",
     "text": [
      "id                   0\n",
      "meldungsNummern      0\n",
      "bezirk               0\n",
      "betreff              0\n",
      "erstellungsDatum     0\n",
      "status               0\n",
      "sachverhalt         20\n",
      "dtype: int64\n"
     ]
    }
   ],
   "source": [
    "print(df_original.isnull().sum())"
   ]
  },
  {
   "cell_type": "code",
   "execution_count": 9,
   "id": "fa800e5a",
   "metadata": {},
   "outputs": [
    {
     "data": {
      "text/plain": [
       "count              5388\n",
       "unique             4443\n",
       "top       Einkaufswagen\n",
       "freq                 54\n",
       "Name: sachverhalt, dtype: object"
      ]
     },
     "execution_count": 9,
     "metadata": {},
     "output_type": "execute_result"
    }
   ],
   "source": [
    "df_original.sachverhalt.describe()"
   ]
  },
  {
   "cell_type": "code",
   "execution_count": 10,
   "id": "62c4fc07",
   "metadata": {},
   "outputs": [
    {
     "data": {
      "text/html": [
       "<div>\n",
       "<style scoped>\n",
       "    .dataframe tbody tr th:only-of-type {\n",
       "        vertical-align: middle;\n",
       "    }\n",
       "\n",
       "    .dataframe tbody tr th {\n",
       "        vertical-align: top;\n",
       "    }\n",
       "\n",
       "    .dataframe thead th {\n",
       "        text-align: right;\n",
       "    }\n",
       "</style>\n",
       "<table border=\"1\" class=\"dataframe\">\n",
       "  <thead>\n",
       "    <tr style=\"text-align: right;\">\n",
       "      <th></th>\n",
       "      <th>id</th>\n",
       "      <th>meldungsNummern</th>\n",
       "      <th>bezirk</th>\n",
       "      <th>betreff</th>\n",
       "      <th>erstellungsDatum</th>\n",
       "      <th>status</th>\n",
       "      <th>sachverhalt</th>\n",
       "    </tr>\n",
       "  </thead>\n",
       "  <tbody>\n",
       "    <tr>\n",
       "      <th>0</th>\n",
       "      <td>527563</td>\n",
       "      <td>['ljf29']</td>\n",
       "      <td>Friedrichshain-Kreuzberg</td>\n",
       "      <td>Sperrmüll abgelagert (Spiegel)</td>\n",
       "      <td>18.01.2017 - 15:01:09</td>\n",
       "      <td>In Bearbeitung</td>\n",
       "      <td>Spiegel</td>\n",
       "    </tr>\n",
       "    <tr>\n",
       "      <th>1</th>\n",
       "      <td>527575</td>\n",
       "      <td>['51cx6p']</td>\n",
       "      <td>Friedrichshain-Kreuzberg</td>\n",
       "      <td>Sperrmüll abgelagert (Holz-/Regalteile)</td>\n",
       "      <td>18.01.2017 - 15:05:54</td>\n",
       "      <td>In Bearbeitung</td>\n",
       "      <td>Holz-/Regalteile</td>\n",
       "    </tr>\n",
       "    <tr>\n",
       "      <th>2</th>\n",
       "      <td>622944</td>\n",
       "      <td>['vf943l']</td>\n",
       "      <td>Lichtenberg</td>\n",
       "      <td>Park- und Haltverbot nicht berücksichtigt</td>\n",
       "      <td>11.04.2017 - 14:31:38</td>\n",
       "      <td>In Bearbeitung</td>\n",
       "      <td>Pkw in geschützter Grünanlage aufgefahren</td>\n",
       "    </tr>\n",
       "    <tr>\n",
       "      <th>3</th>\n",
       "      <td>681533</td>\n",
       "      <td>['pkyi2p']</td>\n",
       "      <td>Lichtenberg</td>\n",
       "      <td>Parken auf Gehweg</td>\n",
       "      <td>25.06.2017 - 13:09:47</td>\n",
       "      <td>In Bearbeitung</td>\n",
       "      <td>NaN</td>\n",
       "    </tr>\n",
       "    <tr>\n",
       "      <th>4</th>\n",
       "      <td>788708</td>\n",
       "      <td>['9axrlt']</td>\n",
       "      <td>Lichtenberg</td>\n",
       "      <td>Abfall - Müllablagerung</td>\n",
       "      <td>27.10.2017 - 12:30:24</td>\n",
       "      <td>In Bearbeitung</td>\n",
       "      <td>Bauschutt</td>\n",
       "    </tr>\n",
       "  </tbody>\n",
       "</table>\n",
       "</div>"
      ],
      "text/plain": [
       "       id meldungsNummern                    bezirk  \\\n",
       "0  527563       ['ljf29']  Friedrichshain-Kreuzberg   \n",
       "1  527575      ['51cx6p']  Friedrichshain-Kreuzberg   \n",
       "2  622944      ['vf943l']               Lichtenberg   \n",
       "3  681533      ['pkyi2p']               Lichtenberg   \n",
       "4  788708      ['9axrlt']               Lichtenberg   \n",
       "\n",
       "                                     betreff       erstellungsDatum  \\\n",
       "0             Sperrmüll abgelagert (Spiegel)  18.01.2017 - 15:01:09   \n",
       "1    Sperrmüll abgelagert (Holz-/Regalteile)  18.01.2017 - 15:05:54   \n",
       "2  Park- und Haltverbot nicht berücksichtigt  11.04.2017 - 14:31:38   \n",
       "3                          Parken auf Gehweg  25.06.2017 - 13:09:47   \n",
       "4                    Abfall - Müllablagerung  27.10.2017 - 12:30:24   \n",
       "\n",
       "           status                                sachverhalt  \n",
       "0  In Bearbeitung                                    Spiegel  \n",
       "1  In Bearbeitung                           Holz-/Regalteile  \n",
       "2  In Bearbeitung  Pkw in geschützter Grünanlage aufgefahren  \n",
       "3  In Bearbeitung                                        NaN  \n",
       "4  In Bearbeitung                                  Bauschutt  "
      ]
     },
     "execution_count": 10,
     "metadata": {},
     "output_type": "execute_result"
    }
   ],
   "source": [
    "df = df_original.copy()\n",
    "df.head()"
   ]
  },
  {
   "cell_type": "code",
   "execution_count": 11,
   "id": "360bfe94",
   "metadata": {},
   "outputs": [
    {
     "data": {
      "text/plain": [
       "1107"
      ]
     },
     "execution_count": 11,
     "metadata": {},
     "output_type": "execute_result"
    }
   ],
   "source": [
    "from datetime import date\n",
    "# date_2023_begin = date(2023, 1, 1)\n",
    "today = date.today()\n",
    "today = pd.to_datetime(today)\n",
    "\n",
    "df['erstellungsDatum'] =  pd.to_datetime(df['erstellungsDatum'])\n",
    "occcurrences_after_today = df[df['erstellungsDatum']>= today]\n",
    "len(occcurrences_after_today)\n"
   ]
  },
  {
   "cell_type": "markdown",
   "id": "094a6da1",
   "metadata": {},
   "source": [
    "### Data types"
   ]
  },
  {
   "cell_type": "code",
   "execution_count": 12,
   "id": "300a473a",
   "metadata": {},
   "outputs": [
    {
     "name": "stdout",
     "output_type": "stream",
     "text": [
      "<class 'pandas.core.frame.DataFrame'>\n",
      "RangeIndex: 5408 entries, 0 to 5407\n",
      "Data columns (total 7 columns):\n",
      " #   Column            Non-Null Count  Dtype         \n",
      "---  ------            --------------  -----         \n",
      " 0   id                5408 non-null   int64         \n",
      " 1   meldungsNummern   5408 non-null   object        \n",
      " 2   bezirk            5408 non-null   object        \n",
      " 3   betreff           5408 non-null   object        \n",
      " 4   erstellungsDatum  5408 non-null   datetime64[ns]\n",
      " 5   status            5408 non-null   object        \n",
      " 6   sachverhalt       5388 non-null   object        \n",
      "dtypes: datetime64[ns](1), int64(1), object(5)\n",
      "memory usage: 295.9+ KB\n"
     ]
    }
   ],
   "source": [
    "df.info()"
   ]
  },
  {
   "cell_type": "markdown",
   "id": "7f2bd1ed",
   "metadata": {},
   "source": [
    "### Transform id column in string"
   ]
  },
  {
   "cell_type": "code",
   "execution_count": 13,
   "id": "fe7bde4f",
   "metadata": {},
   "outputs": [],
   "source": [
    "df['id'] = df['id'].map(str)\n",
    "# df.info()"
   ]
  },
  {
   "cell_type": "code",
   "execution_count": 14,
   "id": "1e00c459",
   "metadata": {},
   "outputs": [],
   "source": [
    "# df['erstellungsDatum'] = pd.to_datetime(df['erstellungsDatum']) \n",
    "# df['erstellungsDatum']"
   ]
  },
  {
   "cell_type": "markdown",
   "id": "0750e903",
   "metadata": {},
   "source": [
    "### Removing other disturbances"
   ]
  },
  {
   "cell_type": "code",
   "execution_count": 15,
   "id": "007c229d",
   "metadata": {},
   "outputs": [
    {
     "data": {
      "text/plain": [
       "array(['Sperrmüll abgelagert (Spiegel)',\n",
       "       'Sperrmüll abgelagert (Holz-/Regalteile)',\n",
       "       'Park- und Haltverbot nicht berücksichtigt', 'Parken auf Gehweg',\n",
       "       'Abfall - Müllablagerung', 'Gehweg/Radweg zugeparkt',\n",
       "       'Parkraumbewirtschaftung - Anwohner-, Gästevignetten',\n",
       "       'Straßenaufsicht - Defekte Ampel',\n",
       "       'Parkraumbewirtschaftung - Sonstiges', 'Grünanlage/Park - Grillen',\n",
       "       'Abfall - Sperrmüll', 'Abfall - Bauabfälle, Bauschutt',\n",
       "       'Grünanlage/Park - Campieren, Zelten', 'Lärm - Gaststätte',\n",
       "       'Sondernutzung - Schankvorgärten (Tische und Stühle) KORI AND FAY',\n",
       "       'Abfall - Sonstiges',\n",
       "       'Parkraumbewirtschaftung - Ausnahme, Betriebsvignetten',\n",
       "       'Straßenaufsicht - Wildwuchs von Privatgelände', 'Campieren',\n",
       "       'Obdachlosenunterkunft',\n",
       "       'Straßenverkehrsrechtliche Anordnungen - Verkehrszeichen',\n",
       "       'Ladenöffnung - Sonn- und Feiertage',\n",
       "       'Sondernutzung - Abfallcontainer', 'Straßenaufsicht - Sonstiges',\n",
       "       'Baustellen - Sonstiges',\n",
       "       'Straßenaufsicht - Defekte Straßenbeleuchtung',\n",
       "       'Abfall - Bioabfälle',\n",
       "       'Straßenverkehrsrechtliche Anordnungen - Baustellen',\n",
       "       'Gewerbe/Gaststätten - Beschwerden', 'Betreff fehlt',\n",
       "       'Bauabfälle abgelagert', 'Kanister (unbekannte Stoffe) abgelagert',\n",
       "       'Grünanlage/Park - Beschädigung', 'Verkehr - Sonstiges',\n",
       "       'Sondernutzung - Altkleidercontainer', 'Sperrmüll abgelagert',\n",
       "       'Lärm - Gewerbe', 'Müllablagerung',\n",
       "       'Baumschutz - fehlender Baumschnitt, loser Ast',\n",
       "       'Abfall - Privatfläche Schrottfahrräder ',\n",
       "       'Grünanlage/Park - Müll, Verschmutzung',\n",
       "       'Straßenaufsicht - Radwegschäden',\n",
       "       'Gesundheitsschutz/Hygiene - Ungeziefer (z. B. Ratten)',\n",
       "       'Elektroschrott abgelagert', 'Abfall - aus Gewerbebetrieben',\n",
       "       'Abfall - Papierkörbe',\n",
       "       'Straßenaufsicht - Straßen- und Gehwegschäden',\n",
       "       'Baustellen - fehlende, mangelnde Absicherung',\n",
       "       'Abfall - Sonderabfälle', 'Spielplätze', 'Lärm',\n",
       "       'Abfall - Privatfläche', 'Abfall - Elektroschrott',\n",
       "       'Grünanlage/Park - KFZ, Auto', 'Privatfläche - Campieren - Müll',\n",
       "       'Hund - Beaufsichtigungspflicht', 'Rundschacht',\n",
       "       'Abfall - Autowrack', 'Poller', 'schieber steht hoch ',\n",
       "       'kaputtes Fahrrad ', 'Ratte kam aus der Hecke.',\n",
       "       'Abfall - Schrottfahrräder', 'Regeneinläufe, Gully',\n",
       "       'Sondernutzung - Herausstellen von Waren und Gegenständen',\n",
       "       'Bauaufsicht - Sonstiges', 'Rettungs und Brandschutzgefährdung',\n",
       "       'Schrott Roller ohne Kennzeichen im Durchgang zur Schwäbischen Str.',\n",
       "       'Straßenverkehrsrechtliche Anordnungen - Anfrage Schwerbehindertenparkplatz',\n",
       "       'Sondernutzung - Herausstellen von Werbetafeln',\n",
       "       'Baumschutz - Sonstiges', 'Anhänger (14 Tage)',\n",
       "       'Straßenaufsicht - Mangelnde Straßenreinigung',\n",
       "       'Gewerbe/Gaststätten - Sonstiges',\n",
       "       'Sondernutzung - Schankvorgärten (Tische und Stühle)',\n",
       "       'Bauaufsicht - Bauruine, Grundstücksabsicherung',\n",
       "       'Müll Steinhellenweg ',\n",
       "       'Straßenaufsicht - Verkehrszeichen (beschädigt, defekt, etc.)',\n",
       "       'Wasser auf der Straße', 'Verkehr',\n",
       "       'Straßenverkehrsrechtliche Anordnungen - Sonstiges',\n",
       "       'Grünanlage/Park - Sonstiges', 'Anhänger Sonstiges',\n",
       "       'Hindernisse auf Radweg', 'Hindernisse auf Radweg ', 'Wilder Müll',\n",
       "       'Sondernutzung - Plakatierung', 'unerlaubte bestuhlung',\n",
       "       'Fußgängerüberwege verstellt',\n",
       "       'Parkraumbewirtschaftung - Parkscheinautomat',\n",
       "       'Sondernutzung - Bauschuttcontainer', 'Toiletten ',\n",
       "       'Sonstiges - allgemeine Anfrage und Auskunft', 'Hund - ohne Leine',\n",
       "       'eigenmächtiges Absperren Baustelle',\n",
       "       'Zugang zum Markt Breslauer Platz', 'Plastikeinkaufstüten',\n",
       "       'Grünanlage/Park - unangeleinte Hunde',\n",
       "       'Straßenaufsicht - Gehölzschnitt an Bäumen, Büschen auf öffentlichem Straßenland',\n",
       "       'Rattenbefall und Müll', 'Kfz ohne Kennzeichen (außer Autowrack)',\n",
       "       'Verkehrsbehinderung allgemein', 'Motorroller/Kleinkraftrad',\n",
       "       'Sondernutzung - Sonstiges', 'Grünanlage/Park - Wildwuchs',\n",
       "       'Abfall - Motorrad Wrack an Baustelle', 'Gehweg ',\n",
       "       'Scooter Marke Piaggio, abgelaufenes Versicherungskennzeichen',\n",
       "       'Lärm - Verkehr', 'Gewerbe/Gaststätten - Anfragen',\n",
       "       'Naturschutzgebiet - Sonstiges',\n",
       "       'Fahrradentsorgung mit Bolzenschneider durch Ordnungsamt',\n",
       "       'Schankvorgärten, Herausstellen von Waren/ Gegenständen, Baumscheiben, Märkte u.a.',\n",
       "       'Kfz ohne gültiges Kennzeichen', 'Parkregelung',\n",
       "       'Abfall - Schrottfahrräder und Müll', 'Illegales Campen',\n",
       "       'Abfall - Bauabfälle, Bauschutt-Container und Material',\n",
       "       'Lärm durch Gaststätte', 'Mülltonnen Sperrmüll und Einkaufswagen ',\n",
       "       'Abgestelltes Fahrrad', 'Tierschutz - Wildtiere',\n",
       "       'Illegale Müllentsorgung', 'Abfall - Autoreifen ',\n",
       "       'Bank ist weg, auch vor der Metaner Apotheke', 'Lärm - Sonstiges',\n",
       "       'Verkehr - Hauptuntersuchung, TÜV', 'Fuß und Fahrradweg',\n",
       "       'Verkehr nicht zugelassendes Auto', 'Baumschutz - Anfragen',\n",
       "       'halteverbot', 'Baustellenberäumung', 'Abgestelltes Motorrad',\n",
       "       'Missbrauch von Laternenpfählen / Reklame',\n",
       "       'Radverkehr auf Gehweg ',\n",
       "       'Motoröl auf der Straße durch parkendes Auto',\n",
       "       'Sehr häufiges Hundegebell', 'Verkehr - Radfahren auf Gehwegen',\n",
       "       'Verteilerkasten ', 'Tische und Stühle auf Gehweg ',\n",
       "       'Gefahrenstelle durch Schaden des Belags des Radwegs',\n",
       "       'Camp von Drogenabhängigen',\n",
       "       'Spielstraße/Marktgelände Poller nicht eingesetzt ',\n",
       "       'Tierschutz - Sonstiges', 'Wildwuchs von Privatgelände',\n",
       "       'Stolperfalle', 'Gehweg senkt sich ab / Unterspülung?',\n",
       "       'Grünanlage/Park - Fahrradfahren (unerlaubt)', 'Hundegebell',\n",
       "       'Schäden auf dem Fahrradweg', 'Bvg', 'Kleinbus ',\n",
       "       'LKW (Firma LEX) Parken', 'Parken LKW über 7,5 t', 'Parken Busse ',\n",
       "       'Gehweg Steine locker', 'Verwaiste Baustelle ',\n",
       "       'illegale Ablagerung', 'Kfz  ohne Kennzeichen ',\n",
       "       'Autowrack abgelagert', 'Schrottfahrräder ', 'Friedhofsordnung',\n",
       "       'Nicht genehmigte Werbeplakate', 'Illegaler Sperrmüll', 'Müll',\n",
       "       'Abfall - Tierkadaver/tote Tiere', 'kaputte Glasscheibe',\n",
       "       'Parkraumbewirtschaftung - Parkgebühren',\n",
       "       'wanderndes absolutes Halterverbotsschild', 'Bioabfälle',\n",
       "       'Meldung vom 7.9.2022', 'Papierkörbe', 'Bootsanhänger mit Boot',\n",
       "       'Parkraumbewirtschaftung - Parkscheinautomaten',\n",
       "       'gefährliches Hindernis', 'Herrenloses Fahrrad', 'Fahrradwrack',\n",
       "       'Fahrrad ', 'Straßenaufsicht - Defekte Parkscheinautomaten',\n",
       "       'KFZ ohne Kennzeichnen', 'Schrottrad', 'Anhänger',\n",
       "       'Gesundheitsschutz/Hygiene - Sonstiges',\n",
       "       'Luftverschmutzung durch Verbrennung', 'Lärm - Veranstaltungen',\n",
       "       'Licht/Bauarbeiten', 'Werbekärtchen am Auto', 'Parken',\n",
       "       'Sperrmüll', 'Anhänger seht seit Wochen abgestellt ',\n",
       "       'Spielstraße',\n",
       "       'KFZ-Teile,die möglicherweise Betriebsstoffe enthalten (gefährliche Abfälle) abgelagert',\n",
       "       'Holzpalette', 'Abfall - Glas',\n",
       "       'Lärm - Haus- und Nachbarschaftslärm outdoor',\n",
       "       'widerrechtlich abgestellte Anhänger, Wohnwagen, Fahrräder und Zeitungswagen ',\n",
       "       'Flaschencontainer überfüllt ', 'Fahrradleiche ', 'Verkaufshänger',\n",
       "       'Parkverbot wird nie eingehalten und konsequent ignoriert',\n",
       "       'Wahlwerbung ordnungswidrig angebracht', 'Illegales Werbeschild?',\n",
       "       'Weihnachtsbäume',\n",
       "       'Weihnachtsbäume wurden bis jetzt nicht abgeholt ',\n",
       "       'Lärm - Haus- und Nachbarschaftslärm indoor',\n",
       "       'Abfall - Weihnachtsbäume', 'Brandreste', 'Unerlaubte Werbung',\n",
       "       'Behinderung auf dem Gehweg', 'Radfahrerinnen auf den Gehwegen',\n",
       "       'Ausnahme / Betriebsvignetten', 'Lärm - Fahrzeug/Motor',\n",
       "       'Baustellen Barken', 'KFZ mitAbgelaufener TÜV',\n",
       "       '13 Abfall - Schrottfahrräder', 'Parkverbot ', 'Taxistand ',\n",
       "       'Beschriftung mangelhaft Beschilderung', 'Parken auf der Kreuzung',\n",
       "       'Schrottroller', 'Fußgängergefahr ', 'Jugendschutz - Rauchen',\n",
       "       'Falschparkende Autos', 'Fahren auf Busspur',\n",
       "       'Parken in Feuerwehrzufahrt', 'Falschparker',\n",
       "       'Nichtraucherschutz - Sonstiges',\n",
       "       'Fässer (unbekannte Stoffe) abgelagert',\n",
       "       'Krankheitserregendes Taubennest über Balkon',\n",
       "       'Jugendschutz - Trinken von Alkohol in der Öffentlichkeit',\n",
       "       'Garageneinfahrt',\n",
       "       'Parkt auf den gehweg so das die Leute nicht durch kommen . Er parkt da immer ',\n",
       "       'Abgestellte Einkaufswagen', 'Roller auf Gehweg', 'e roller',\n",
       "       'Baumschutz - Parken auf Baumscheibe', 'Vandalismus',\n",
       "       'Jugendschutz - Drogen',\n",
       "       'Mögliche Blendgefahr durch private Aussenbeleuchtung',\n",
       "       'Fundsache: 1 Herrenfahrrad, 1 Damenfahrrad',\n",
       "       'Fußgängerüberweg ist zugestellt durch Fahrzeuge',\n",
       "       'Parkraumbewirtschaftung - Handy-, SMS-Parken',\n",
       "       'parkraumbewirtschaftung sonstiges',\n",
       "       'Poller am Ende der Sackgasse fehlt',\n",
       "       'Straßenschild mit Namen fehlt', 'Einkaufswägen', 'Fahrzeug ',\n",
       "       'Falschparker / Fußgängerübergang',\n",
       "       'Dauerhaft geparkte Anhänger und Wohnmobil ',\n",
       "       'Einkaufswagen auf dem Gehweg. ', 'parken', 'Toiletten, Container',\n",
       "       'Schutt-Container -', 'Falschparker ', 'Loch in der Fahrbahn ',\n",
       "       'Widerrechtliches parken',\n",
       "       'Anhänger mit Werbung seit mehr als 14 Tagen ', 'Taxihalte...',\n",
       "       'Parteiwerbung an privaten Gebäuden', 'Sonstiges',\n",
       "       'Pflanzenwuchs aud dem fussweg', 'Giftköder/Rattengift ',\n",
       "       'Blockieren Ladesäule ', 'Ganz Zeit Busspur blockiert ',\n",
       "       'Parkverbot', 'Hausmüll', 'Glatte Bürgersteige ',\n",
       "       'Halteverbot Zeichen 283', 'Naturschutzgebiet - Anfragen',\n",
       "       'Radweg räumen und streuen!', 'Fahrzeug blockiert Garagenausfahrt',\n",
       "       'Gelöste Dachziegel', 'Hauseingänge ist nicht gefegt und gestreut',\n",
       "       'Parken Fläche für die Feuerwehr ', 'Elektroroller',\n",
       "       'LKW - Parken', 'Drogenutensilien (z.B. Spritze) - Sonstiges',\n",
       "       'Ein-, Ausfahrt zugeparkt', 'Parken im absoluten Halteverbot ',\n",
       "       'Hund - Hundekot (Beseitigungspflicht)',\n",
       "       'Dauerbeleuchtung auf Balkon/Dachgeschoss ', 'BVG',\n",
       "       'entsorgtes Verpackungsmaterial', 'Wahlplakat unter 2,5m',\n",
       "       'Ruhestörung ', 'Halteverbot', 'steht falsch ',\n",
       "       'Widerrechtlich geparkt ', 'Winterdienst - Radwege',\n",
       "       'gefährliche Abfälle', 'Verkehr - Anhängerparken',\n",
       "       'mutwillige Müllkastenöffnung', 'Seit 2 Jahren angefasst dort',\n",
       "       'Wochenlang auf dem Radweg abgelegter Bauschutt', 'Baumschutz',\n",
       "       'Lärm - Straßenmusik',\n",
       "       'Verkehrsschilder die nicht abgeholt werden', 'Postfahrrad',\n",
       "       'Drogenutensilien (z.B. Spritze) - öffentliches Straßenland ',\n",
       "       'Verkehr; ruhender Verkehr', 'Parken bei abgesenkten Bordstein ',\n",
       "       'Geschwindigkeits-Überschreitung',\n",
       "       'Wilde Müllablagerungen, Eichbuschallee 40, 12437 Berlin. (ungefähre Angabe)',\n",
       "       'KfZ ohne TÜV', 'Hausmüll, Wandfarbe', 'Busspur blockiert ',\n",
       "       'Baucontainer', 'Abfall, Autoreifen', 'Parken auf dem Fahrradweg',\n",
       "       'Mülltonnen', 'Abfall - Unrat (Werbezettel)',\n",
       "       'parken in Lieferzone', 'Baufirma verstellt fußweg komplett ',\n",
       "       'Ferkehrsschild', 'Streusalz Eimer ', 'Abfall - Autowrack ?',\n",
       "       'kaputter Lime Scooter', 'gewerbelärm', 'Parken im Haltverbot',\n",
       "       'Gelber Sack', 'Gewerbe/Gaststätten - Geldspielgeräte/Glücksspiel',\n",
       "       'Zufahrt', 'veraltete Beschilderung', 'Schrottfahrräder',\n",
       "       'Parken im absoluten Halteverbot und auf dem Bürgersteig',\n",
       "       'Lärm - Baustelle', 'Lärm - Feuerwerk', 'taxishaltestelle',\n",
       "       'Gefahrenstelle', 'E-Skooter falsch abgestellt',\n",
       "       'Straßenschild beschädigt',\n",
       "       'Drogenutensilien (z.B. Spritze) - Grünanlage/Park',\n",
       "       'Profilierungsfahrten', 'falsch parken',\n",
       "       'gefährliche Abfälle-Gasflasche', 'Kleidung',\n",
       "       'Unfallgefahr durch ungesicherte Baustelle',\n",
       "       'Loose Gehweg Platten ', 'Lärm - Tierhaltung (z. B. Bellen)',\n",
       "       'schlagloch', 'Schlagloch ', 'Sandhaufen ', 'Poller fehlt ',\n",
       "       'Videoüberwachung ', 'Fahrzeug ohne Kennzeichen', 'Beschilderung',\n",
       "       'Fußgängerüberweg ', 'Laubsäge ', 'Straßenaufsicht - Baum fehlt',\n",
       "       'Einkaufswagen ', 'Verwechslung Flohmarkt Tramhaltestelle',\n",
       "       'Ladestation E-Fahrzeuge', 'Auto Seasonkennzeichen',\n",
       "       'Fahrbahnmarkierung ', 'Parken im Haltverbot mit Behinderung',\n",
       "       'Abgeklebtes Verkehrszeichen ',\n",
       "       'Langzeit abgestellte Wohnanhänger',\n",
       "       'Fahrradspur Belag auf Friedenauer Brücke', 'Gehweg blockiert ',\n",
       "       'Weihnachten', 'nächtliche ruhestörung lieferverkehr',\n",
       "       'Grosses Loch in der Fahrbahn ', 'Grosses Schlagloch ',\n",
       "       'Reperatur des Fahrzeugs auf der rechten seite'], dtype=object)"
      ]
     },
     "execution_count": 15,
     "metadata": {},
     "output_type": "execute_result"
    }
   ],
   "source": [
    "df.betreff.unique()"
   ]
  },
  {
   "cell_type": "code",
   "execution_count": 16,
   "id": "9a3b119c",
   "metadata": {},
   "outputs": [
    {
     "data": {
      "text/html": [
       "<div>\n",
       "<style scoped>\n",
       "    .dataframe tbody tr th:only-of-type {\n",
       "        vertical-align: middle;\n",
       "    }\n",
       "\n",
       "    .dataframe tbody tr th {\n",
       "        vertical-align: top;\n",
       "    }\n",
       "\n",
       "    .dataframe thead th {\n",
       "        text-align: right;\n",
       "    }\n",
       "</style>\n",
       "<table border=\"1\" class=\"dataframe\">\n",
       "  <thead>\n",
       "    <tr style=\"text-align: right;\">\n",
       "      <th></th>\n",
       "      <th>id</th>\n",
       "      <th>meldungsNummern</th>\n",
       "      <th>bezirk</th>\n",
       "      <th>betreff</th>\n",
       "      <th>erstellungsDatum</th>\n",
       "      <th>status</th>\n",
       "      <th>sachverhalt</th>\n",
       "    </tr>\n",
       "  </thead>\n",
       "  <tbody>\n",
       "    <tr>\n",
       "      <th>0</th>\n",
       "      <td>527563</td>\n",
       "      <td>['ljf29']</td>\n",
       "      <td>Friedrichshain-Kreuzberg</td>\n",
       "      <td>Sperrmüll abgelagert (Spiegel)</td>\n",
       "      <td>2017-01-18 15:01:09</td>\n",
       "      <td>In Bearbeitung</td>\n",
       "      <td>Spiegel</td>\n",
       "    </tr>\n",
       "    <tr>\n",
       "      <th>1</th>\n",
       "      <td>527575</td>\n",
       "      <td>['51cx6p']</td>\n",
       "      <td>Friedrichshain-Kreuzberg</td>\n",
       "      <td>Sperrmüll abgelagert (Holz-/Regalteile)</td>\n",
       "      <td>2017-01-18 15:05:54</td>\n",
       "      <td>In Bearbeitung</td>\n",
       "      <td>Holz-/Regalteile</td>\n",
       "    </tr>\n",
       "    <tr>\n",
       "      <th>59</th>\n",
       "      <td>1804983</td>\n",
       "      <td>['b6pfcx']</td>\n",
       "      <td>Neukölln</td>\n",
       "      <td>Sperrmüll abgelagert</td>\n",
       "      <td>2020-06-05 10:50:02</td>\n",
       "      <td>In Bearbeitung</td>\n",
       "      <td>Sperrmüll</td>\n",
       "    </tr>\n",
       "    <tr>\n",
       "      <th>69</th>\n",
       "      <td>1952905</td>\n",
       "      <td>['2a1t6p']</td>\n",
       "      <td>Neukölln</td>\n",
       "      <td>Sperrmüll abgelagert</td>\n",
       "      <td>2020-08-20 09:06:18</td>\n",
       "      <td>In Bearbeitung</td>\n",
       "      <td>Sperrmüll</td>\n",
       "    </tr>\n",
       "    <tr>\n",
       "      <th>82</th>\n",
       "      <td>2059167</td>\n",
       "      <td>['rw035t']</td>\n",
       "      <td>Neukölln</td>\n",
       "      <td>Sperrmüll abgelagert</td>\n",
       "      <td>2020-04-11 08:02:10</td>\n",
       "      <td>In Bearbeitung</td>\n",
       "      <td>Sehr geehrtes Team,\\n\\nauf der Gradestraße, zw...</td>\n",
       "    </tr>\n",
       "  </tbody>\n",
       "</table>\n",
       "</div>"
      ],
      "text/plain": [
       "         id meldungsNummern                    bezirk  \\\n",
       "0    527563       ['ljf29']  Friedrichshain-Kreuzberg   \n",
       "1    527575      ['51cx6p']  Friedrichshain-Kreuzberg   \n",
       "59  1804983      ['b6pfcx']                  Neukölln   \n",
       "69  1952905      ['2a1t6p']                  Neukölln   \n",
       "82  2059167      ['rw035t']                  Neukölln   \n",
       "\n",
       "                                    betreff    erstellungsDatum  \\\n",
       "0            Sperrmüll abgelagert (Spiegel) 2017-01-18 15:01:09   \n",
       "1   Sperrmüll abgelagert (Holz-/Regalteile) 2017-01-18 15:05:54   \n",
       "59                     Sperrmüll abgelagert 2020-06-05 10:50:02   \n",
       "69                     Sperrmüll abgelagert 2020-08-20 09:06:18   \n",
       "82                     Sperrmüll abgelagert 2020-04-11 08:02:10   \n",
       "\n",
       "            status                                        sachverhalt  \n",
       "0   In Bearbeitung                                            Spiegel  \n",
       "1   In Bearbeitung                                   Holz-/Regalteile  \n",
       "59  In Bearbeitung                                          Sperrmüll  \n",
       "69  In Bearbeitung                                          Sperrmüll  \n",
       "82  In Bearbeitung  Sehr geehrtes Team,\\n\\nauf der Gradestraße, zw...  "
      ]
     },
     "execution_count": 16,
     "metadata": {},
     "output_type": "execute_result"
    }
   ],
   "source": [
    "### Clean subject column keeping only \"Sperrmüll abgelagert\"\n",
    "\n",
    "# drops the columns that has not Sperrmüll abgelagert in the subject column   \n",
    "df_narrow = df[(df.betreff.str.startswith('Sperrmüll abgelagert'))]\n",
    "df_narrow.head()"
   ]
  },
  {
   "cell_type": "code",
   "execution_count": 17,
   "id": "d87ae6b0",
   "metadata": {},
   "outputs": [
    {
     "data": {
      "text/plain": [
       "array(['Sperrmüll abgelagert'], dtype=object)"
      ]
     },
     "execution_count": 17,
     "metadata": {},
     "output_type": "execute_result"
    }
   ],
   "source": [
    "df_narrow = df_narrow.replace('Sperrmüll abgelagert (Spiegel)', 'Sperrmüll abgelagert')\n",
    "df_narrow = df_narrow.replace('Sperrmüll abgelagert (Holz-/Regalteile)', 'Sperrmüll abgelagert')\n",
    "df_narrow.betreff.unique()"
   ]
  },
  {
   "cell_type": "markdown",
   "id": "50f5ca97",
   "metadata": {},
   "source": [
    "### Missing Values"
   ]
  },
  {
   "cell_type": "code",
   "execution_count": 18,
   "id": "ac830884",
   "metadata": {},
   "outputs": [
    {
     "name": "stdout",
     "output_type": "stream",
     "text": [
      "Missing values in sachverhalt column: 20\n"
     ]
    }
   ],
   "source": [
    "# Get counts of Nan values - df['sachverhalt'].isna().sum()\n",
    "print(\"Missing values in sachverhalt column: \" + str(df['sachverhalt'].isna().sum()))"
   ]
  },
  {
   "cell_type": "code",
   "execution_count": 19,
   "id": "44ade3b7",
   "metadata": {},
   "outputs": [
    {
     "data": {
      "text/plain": [
       "0.3698224852071006"
      ]
     },
     "execution_count": 19,
     "metadata": {},
     "output_type": "execute_result"
    }
   ],
   "source": [
    "# % pf missing values\n",
    "pct_missing = (20/5408) * 100\n",
    "pct_missing"
   ]
  },
  {
   "cell_type": "code",
   "execution_count": 20,
   "id": "5cd69b78",
   "metadata": {},
   "outputs": [
    {
     "name": "stdout",
     "output_type": "stream",
     "text": [
      "Missing values in sachverhalt column: 4\n"
     ]
    }
   ],
   "source": [
    "print(\"Missing values in sachverhalt column: \" + str(df_narrow['sachverhalt'].isna().sum()))"
   ]
  },
  {
   "cell_type": "code",
   "execution_count": 21,
   "id": "17fad7b2",
   "metadata": {},
   "outputs": [
    {
     "data": {
      "text/plain": [
       "(614, 7)"
      ]
     },
     "execution_count": 21,
     "metadata": {},
     "output_type": "execute_result"
    }
   ],
   "source": [
    "df_narrow.shape"
   ]
  },
  {
   "cell_type": "code",
   "execution_count": 22,
   "id": "a7366d1e",
   "metadata": {},
   "outputs": [
    {
     "data": {
      "text/plain": [
       "0.6514657980456027"
      ]
     },
     "execution_count": 22,
     "metadata": {},
     "output_type": "execute_result"
    }
   ],
   "source": [
    "# % pf missing values\n",
    "pct_missing = (4/614) * 100\n",
    "pct_missing"
   ]
  },
  {
   "cell_type": "markdown",
   "id": "1f5d328f",
   "metadata": {},
   "source": [
    "Since we the dataset has only 4 nulls (0,651%) in the 'Sachveralt'columns, the rows with null values with be droped. "
   ]
  },
  {
   "cell_type": "code",
   "execution_count": 23,
   "id": "790d0eba",
   "metadata": {},
   "outputs": [],
   "source": [
    "# drop rows with nulls\n",
    "df_narrow = df_narrow.dropna()"
   ]
  },
  {
   "cell_type": "code",
   "execution_count": 24,
   "id": "4b00585d",
   "metadata": {},
   "outputs": [
    {
     "data": {
      "text/plain": [
       "id                  0\n",
       "meldungsNummern     0\n",
       "bezirk              0\n",
       "betreff             0\n",
       "erstellungsDatum    0\n",
       "status              0\n",
       "sachverhalt         0\n",
       "dtype: int64"
      ]
     },
     "execution_count": 24,
     "metadata": {},
     "output_type": "execute_result"
    }
   ],
   "source": [
    "# check nulls\n",
    "df_narrow.isnull().sum()"
   ]
  },
  {
   "cell_type": "code",
   "execution_count": 25,
   "id": "c90f557d",
   "metadata": {},
   "outputs": [
    {
     "data": {
      "text/plain": [
       "(610, 7)"
      ]
     },
     "execution_count": 25,
     "metadata": {},
     "output_type": "execute_result"
    }
   ],
   "source": [
    "df_narrow.shape"
   ]
  },
  {
   "cell_type": "markdown",
   "id": "76a9ba51",
   "metadata": {},
   "source": [
    "### Remove extra spaces"
   ]
  },
  {
   "cell_type": "code",
   "execution_count": 26,
   "id": "2f8d40d6",
   "metadata": {},
   "outputs": [
    {
     "data": {
      "text/plain": [
       "0                                                 Spiegel\n",
       "1                                        Holz-/Regalteile\n",
       "59                                              Sperrmüll\n",
       "69                                              Sperrmüll\n",
       "82      Sehr geehrtes Team,\\n\\nauf der Gradestraße, zw...\n",
       "                              ...                        \n",
       "5388                                        1 Tischplatte\n",
       "5389                                     Kinderwagen etc.\n",
       "5393                                        1 Holzpalette\n",
       "5398                                            Holzmöbel\n",
       "5401                                      Alte Regalreste\n",
       "Name: sachverhalt, Length: 610, dtype: object"
      ]
     },
     "execution_count": 26,
     "metadata": {},
     "output_type": "execute_result"
    }
   ],
   "source": [
    "df_narrow.sachverhalt.str.strip()"
   ]
  },
  {
   "cell_type": "code",
   "execution_count": 27,
   "id": "2f0fd599",
   "metadata": {},
   "outputs": [
    {
     "data": {
      "text/html": [
       "<div>\n",
       "<style scoped>\n",
       "    .dataframe tbody tr th:only-of-type {\n",
       "        vertical-align: middle;\n",
       "    }\n",
       "\n",
       "    .dataframe tbody tr th {\n",
       "        vertical-align: top;\n",
       "    }\n",
       "\n",
       "    .dataframe thead th {\n",
       "        text-align: right;\n",
       "    }\n",
       "</style>\n",
       "<table border=\"1\" class=\"dataframe\">\n",
       "  <thead>\n",
       "    <tr style=\"text-align: right;\">\n",
       "      <th></th>\n",
       "      <th>id</th>\n",
       "      <th>meldungsNummern</th>\n",
       "      <th>bezirk</th>\n",
       "      <th>betreff</th>\n",
       "      <th>erstellungsDatum</th>\n",
       "      <th>status</th>\n",
       "      <th>sachverhalt</th>\n",
       "    </tr>\n",
       "  </thead>\n",
       "  <tbody>\n",
       "    <tr>\n",
       "      <th>0</th>\n",
       "      <td>527563</td>\n",
       "      <td>['ljf29']</td>\n",
       "      <td>Friedrichshain-Kreuzberg</td>\n",
       "      <td>Sperrmüll abgelagert</td>\n",
       "      <td>2017-01-18 15:01:09</td>\n",
       "      <td>In Bearbeitung</td>\n",
       "      <td>Spiegel</td>\n",
       "    </tr>\n",
       "    <tr>\n",
       "      <th>1</th>\n",
       "      <td>527575</td>\n",
       "      <td>['51cx6p']</td>\n",
       "      <td>Friedrichshain-Kreuzberg</td>\n",
       "      <td>Sperrmüll abgelagert</td>\n",
       "      <td>2017-01-18 15:05:54</td>\n",
       "      <td>In Bearbeitung</td>\n",
       "      <td>Holz-/Regalteile</td>\n",
       "    </tr>\n",
       "    <tr>\n",
       "      <th>59</th>\n",
       "      <td>1804983</td>\n",
       "      <td>['b6pfcx']</td>\n",
       "      <td>Neukölln</td>\n",
       "      <td>Sperrmüll abgelagert</td>\n",
       "      <td>2020-06-05 10:50:02</td>\n",
       "      <td>In Bearbeitung</td>\n",
       "      <td>Sperrmüll</td>\n",
       "    </tr>\n",
       "    <tr>\n",
       "      <th>69</th>\n",
       "      <td>1952905</td>\n",
       "      <td>['2a1t6p']</td>\n",
       "      <td>Neukölln</td>\n",
       "      <td>Sperrmüll abgelagert</td>\n",
       "      <td>2020-08-20 09:06:18</td>\n",
       "      <td>In Bearbeitung</td>\n",
       "      <td>Sperrmüll</td>\n",
       "    </tr>\n",
       "    <tr>\n",
       "      <th>82</th>\n",
       "      <td>2059167</td>\n",
       "      <td>['rw035t']</td>\n",
       "      <td>Neukölln</td>\n",
       "      <td>Sperrmüll abgelagert</td>\n",
       "      <td>2020-04-11 08:02:10</td>\n",
       "      <td>In Bearbeitung</td>\n",
       "      <td>Sehr geehrtes Team,\\n\\nauf der Gradestraße, zw...</td>\n",
       "    </tr>\n",
       "  </tbody>\n",
       "</table>\n",
       "</div>"
      ],
      "text/plain": [
       "         id meldungsNummern                    bezirk               betreff  \\\n",
       "0    527563       ['ljf29']  Friedrichshain-Kreuzberg  Sperrmüll abgelagert   \n",
       "1    527575      ['51cx6p']  Friedrichshain-Kreuzberg  Sperrmüll abgelagert   \n",
       "59  1804983      ['b6pfcx']                  Neukölln  Sperrmüll abgelagert   \n",
       "69  1952905      ['2a1t6p']                  Neukölln  Sperrmüll abgelagert   \n",
       "82  2059167      ['rw035t']                  Neukölln  Sperrmüll abgelagert   \n",
       "\n",
       "      erstellungsDatum          status  \\\n",
       "0  2017-01-18 15:01:09  In Bearbeitung   \n",
       "1  2017-01-18 15:05:54  In Bearbeitung   \n",
       "59 2020-06-05 10:50:02  In Bearbeitung   \n",
       "69 2020-08-20 09:06:18  In Bearbeitung   \n",
       "82 2020-04-11 08:02:10  In Bearbeitung   \n",
       "\n",
       "                                          sachverhalt  \n",
       "0                                             Spiegel  \n",
       "1                                    Holz-/Regalteile  \n",
       "59                                          Sperrmüll  \n",
       "69                                          Sperrmüll  \n",
       "82  Sehr geehrtes Team,\\n\\nauf der Gradestraße, zw...  "
      ]
     },
     "execution_count": 27,
     "metadata": {},
     "output_type": "execute_result"
    }
   ],
   "source": [
    "df_narrow.head()"
   ]
  },
  {
   "cell_type": "markdown",
   "id": "b868baf9",
   "metadata": {},
   "source": [
    "### Creating a weekday column"
   ]
  },
  {
   "cell_type": "code",
   "execution_count": 28,
   "id": "42c4067d",
   "metadata": {},
   "outputs": [
    {
     "data": {
      "text/html": [
       "<div>\n",
       "<style scoped>\n",
       "    .dataframe tbody tr th:only-of-type {\n",
       "        vertical-align: middle;\n",
       "    }\n",
       "\n",
       "    .dataframe tbody tr th {\n",
       "        vertical-align: top;\n",
       "    }\n",
       "\n",
       "    .dataframe thead th {\n",
       "        text-align: right;\n",
       "    }\n",
       "</style>\n",
       "<table border=\"1\" class=\"dataframe\">\n",
       "  <thead>\n",
       "    <tr style=\"text-align: right;\">\n",
       "      <th></th>\n",
       "      <th>id</th>\n",
       "      <th>meldungsNummern</th>\n",
       "      <th>bezirk</th>\n",
       "      <th>betreff</th>\n",
       "      <th>erstellungsDatum</th>\n",
       "      <th>status</th>\n",
       "      <th>sachverhalt</th>\n",
       "      <th>day_of_week</th>\n",
       "    </tr>\n",
       "  </thead>\n",
       "  <tbody>\n",
       "    <tr>\n",
       "      <th>0</th>\n",
       "      <td>527563</td>\n",
       "      <td>['ljf29']</td>\n",
       "      <td>Friedrichshain-Kreuzberg</td>\n",
       "      <td>Sperrmüll abgelagert</td>\n",
       "      <td>2017-01-18 15:01:09</td>\n",
       "      <td>In Bearbeitung</td>\n",
       "      <td>Spiegel</td>\n",
       "      <td>Wednesday</td>\n",
       "    </tr>\n",
       "    <tr>\n",
       "      <th>1</th>\n",
       "      <td>527575</td>\n",
       "      <td>['51cx6p']</td>\n",
       "      <td>Friedrichshain-Kreuzberg</td>\n",
       "      <td>Sperrmüll abgelagert</td>\n",
       "      <td>2017-01-18 15:05:54</td>\n",
       "      <td>In Bearbeitung</td>\n",
       "      <td>Holz-/Regalteile</td>\n",
       "      <td>Wednesday</td>\n",
       "    </tr>\n",
       "    <tr>\n",
       "      <th>59</th>\n",
       "      <td>1804983</td>\n",
       "      <td>['b6pfcx']</td>\n",
       "      <td>Neukölln</td>\n",
       "      <td>Sperrmüll abgelagert</td>\n",
       "      <td>2020-06-05 10:50:02</td>\n",
       "      <td>In Bearbeitung</td>\n",
       "      <td>Sperrmüll</td>\n",
       "      <td>Friday</td>\n",
       "    </tr>\n",
       "    <tr>\n",
       "      <th>69</th>\n",
       "      <td>1952905</td>\n",
       "      <td>['2a1t6p']</td>\n",
       "      <td>Neukölln</td>\n",
       "      <td>Sperrmüll abgelagert</td>\n",
       "      <td>2020-08-20 09:06:18</td>\n",
       "      <td>In Bearbeitung</td>\n",
       "      <td>Sperrmüll</td>\n",
       "      <td>Thursday</td>\n",
       "    </tr>\n",
       "    <tr>\n",
       "      <th>82</th>\n",
       "      <td>2059167</td>\n",
       "      <td>['rw035t']</td>\n",
       "      <td>Neukölln</td>\n",
       "      <td>Sperrmüll abgelagert</td>\n",
       "      <td>2020-04-11 08:02:10</td>\n",
       "      <td>In Bearbeitung</td>\n",
       "      <td>Sehr geehrtes Team,\\n\\nauf der Gradestraße, zw...</td>\n",
       "      <td>Saturday</td>\n",
       "    </tr>\n",
       "  </tbody>\n",
       "</table>\n",
       "</div>"
      ],
      "text/plain": [
       "         id meldungsNummern                    bezirk               betreff  \\\n",
       "0    527563       ['ljf29']  Friedrichshain-Kreuzberg  Sperrmüll abgelagert   \n",
       "1    527575      ['51cx6p']  Friedrichshain-Kreuzberg  Sperrmüll abgelagert   \n",
       "59  1804983      ['b6pfcx']                  Neukölln  Sperrmüll abgelagert   \n",
       "69  1952905      ['2a1t6p']                  Neukölln  Sperrmüll abgelagert   \n",
       "82  2059167      ['rw035t']                  Neukölln  Sperrmüll abgelagert   \n",
       "\n",
       "      erstellungsDatum          status  \\\n",
       "0  2017-01-18 15:01:09  In Bearbeitung   \n",
       "1  2017-01-18 15:05:54  In Bearbeitung   \n",
       "59 2020-06-05 10:50:02  In Bearbeitung   \n",
       "69 2020-08-20 09:06:18  In Bearbeitung   \n",
       "82 2020-04-11 08:02:10  In Bearbeitung   \n",
       "\n",
       "                                          sachverhalt day_of_week  \n",
       "0                                             Spiegel   Wednesday  \n",
       "1                                    Holz-/Regalteile   Wednesday  \n",
       "59                                          Sperrmüll      Friday  \n",
       "69                                          Sperrmüll    Thursday  \n",
       "82  Sehr geehrtes Team,\\n\\nauf der Gradestraße, zw...    Saturday  "
      ]
     },
     "execution_count": 28,
     "metadata": {},
     "output_type": "execute_result"
    }
   ],
   "source": [
    "df_narrow['erstellungsDatum'] = pd.to_datetime(df_narrow['erstellungsDatum'])\n",
    "df_narrow['day_of_week'] = df_narrow['erstellungsDatum'].dt.day_name()\n",
    "df_narrow.head()"
   ]
  },
  {
   "cell_type": "markdown",
   "id": "c2baf245",
   "metadata": {},
   "source": [
    "### Creating columns date and time"
   ]
  },
  {
   "cell_type": "code",
   "execution_count": 29,
   "id": "66139a47",
   "metadata": {},
   "outputs": [],
   "source": [
    "df_narrow['time'] = pd.to_datetime(df_narrow['erstellungsDatum']).dt.time\n",
    "\n",
    "df_narrow['date'] = pd.to_datetime(df_narrow['erstellungsDatum']).dt.date"
   ]
  },
  {
   "cell_type": "code",
   "execution_count": 30,
   "id": "37f243ad",
   "metadata": {},
   "outputs": [],
   "source": [
    "#Add a month column\n",
    "df_narrow['month'] = df_narrow['date'].apply(lambda x: x.strftime('%b'))"
   ]
  },
  {
   "cell_type": "code",
   "execution_count": 31,
   "id": "77276582",
   "metadata": {},
   "outputs": [
    {
     "data": {
      "text/html": [
       "<div>\n",
       "<style scoped>\n",
       "    .dataframe tbody tr th:only-of-type {\n",
       "        vertical-align: middle;\n",
       "    }\n",
       "\n",
       "    .dataframe tbody tr th {\n",
       "        vertical-align: top;\n",
       "    }\n",
       "\n",
       "    .dataframe thead th {\n",
       "        text-align: right;\n",
       "    }\n",
       "</style>\n",
       "<table border=\"1\" class=\"dataframe\">\n",
       "  <thead>\n",
       "    <tr style=\"text-align: right;\">\n",
       "      <th></th>\n",
       "      <th>id</th>\n",
       "      <th>meldungsNummern</th>\n",
       "      <th>bezirk</th>\n",
       "      <th>betreff</th>\n",
       "      <th>erstellungsDatum</th>\n",
       "      <th>status</th>\n",
       "      <th>sachverhalt</th>\n",
       "      <th>day_of_week</th>\n",
       "      <th>time</th>\n",
       "      <th>date</th>\n",
       "      <th>month</th>\n",
       "    </tr>\n",
       "  </thead>\n",
       "  <tbody>\n",
       "    <tr>\n",
       "      <th>0</th>\n",
       "      <td>527563</td>\n",
       "      <td>['ljf29']</td>\n",
       "      <td>Friedrichshain-Kreuzberg</td>\n",
       "      <td>Sperrmüll abgelagert</td>\n",
       "      <td>2017-01-18 15:01:09</td>\n",
       "      <td>In Bearbeitung</td>\n",
       "      <td>Spiegel</td>\n",
       "      <td>Wednesday</td>\n",
       "      <td>15:01:09</td>\n",
       "      <td>2017-01-18</td>\n",
       "      <td>Jan</td>\n",
       "    </tr>\n",
       "    <tr>\n",
       "      <th>1</th>\n",
       "      <td>527575</td>\n",
       "      <td>['51cx6p']</td>\n",
       "      <td>Friedrichshain-Kreuzberg</td>\n",
       "      <td>Sperrmüll abgelagert</td>\n",
       "      <td>2017-01-18 15:05:54</td>\n",
       "      <td>In Bearbeitung</td>\n",
       "      <td>Holz-/Regalteile</td>\n",
       "      <td>Wednesday</td>\n",
       "      <td>15:05:54</td>\n",
       "      <td>2017-01-18</td>\n",
       "      <td>Jan</td>\n",
       "    </tr>\n",
       "    <tr>\n",
       "      <th>59</th>\n",
       "      <td>1804983</td>\n",
       "      <td>['b6pfcx']</td>\n",
       "      <td>Neukölln</td>\n",
       "      <td>Sperrmüll abgelagert</td>\n",
       "      <td>2020-06-05 10:50:02</td>\n",
       "      <td>In Bearbeitung</td>\n",
       "      <td>Sperrmüll</td>\n",
       "      <td>Friday</td>\n",
       "      <td>10:50:02</td>\n",
       "      <td>2020-06-05</td>\n",
       "      <td>Jun</td>\n",
       "    </tr>\n",
       "    <tr>\n",
       "      <th>69</th>\n",
       "      <td>1952905</td>\n",
       "      <td>['2a1t6p']</td>\n",
       "      <td>Neukölln</td>\n",
       "      <td>Sperrmüll abgelagert</td>\n",
       "      <td>2020-08-20 09:06:18</td>\n",
       "      <td>In Bearbeitung</td>\n",
       "      <td>Sperrmüll</td>\n",
       "      <td>Thursday</td>\n",
       "      <td>09:06:18</td>\n",
       "      <td>2020-08-20</td>\n",
       "      <td>Aug</td>\n",
       "    </tr>\n",
       "    <tr>\n",
       "      <th>82</th>\n",
       "      <td>2059167</td>\n",
       "      <td>['rw035t']</td>\n",
       "      <td>Neukölln</td>\n",
       "      <td>Sperrmüll abgelagert</td>\n",
       "      <td>2020-04-11 08:02:10</td>\n",
       "      <td>In Bearbeitung</td>\n",
       "      <td>Sehr geehrtes Team,\\n\\nauf der Gradestraße, zw...</td>\n",
       "      <td>Saturday</td>\n",
       "      <td>08:02:10</td>\n",
       "      <td>2020-04-11</td>\n",
       "      <td>Apr</td>\n",
       "    </tr>\n",
       "  </tbody>\n",
       "</table>\n",
       "</div>"
      ],
      "text/plain": [
       "         id meldungsNummern                    bezirk               betreff  \\\n",
       "0    527563       ['ljf29']  Friedrichshain-Kreuzberg  Sperrmüll abgelagert   \n",
       "1    527575      ['51cx6p']  Friedrichshain-Kreuzberg  Sperrmüll abgelagert   \n",
       "59  1804983      ['b6pfcx']                  Neukölln  Sperrmüll abgelagert   \n",
       "69  1952905      ['2a1t6p']                  Neukölln  Sperrmüll abgelagert   \n",
       "82  2059167      ['rw035t']                  Neukölln  Sperrmüll abgelagert   \n",
       "\n",
       "      erstellungsDatum          status  \\\n",
       "0  2017-01-18 15:01:09  In Bearbeitung   \n",
       "1  2017-01-18 15:05:54  In Bearbeitung   \n",
       "59 2020-06-05 10:50:02  In Bearbeitung   \n",
       "69 2020-08-20 09:06:18  In Bearbeitung   \n",
       "82 2020-04-11 08:02:10  In Bearbeitung   \n",
       "\n",
       "                                          sachverhalt day_of_week      time  \\\n",
       "0                                             Spiegel   Wednesday  15:01:09   \n",
       "1                                    Holz-/Regalteile   Wednesday  15:05:54   \n",
       "59                                          Sperrmüll      Friday  10:50:02   \n",
       "69                                          Sperrmüll    Thursday  09:06:18   \n",
       "82  Sehr geehrtes Team,\\n\\nauf der Gradestraße, zw...    Saturday  08:02:10   \n",
       "\n",
       "          date month  \n",
       "0   2017-01-18   Jan  \n",
       "1   2017-01-18   Jan  \n",
       "59  2020-06-05   Jun  \n",
       "69  2020-08-20   Aug  \n",
       "82  2020-04-11   Apr  "
      ]
     },
     "execution_count": 31,
     "metadata": {},
     "output_type": "execute_result"
    }
   ],
   "source": [
    "df_narrow.head()"
   ]
  },
  {
   "cell_type": "code",
   "execution_count": 32,
   "id": "27cad96e",
   "metadata": {},
   "outputs": [
    {
     "data": {
      "text/plain": [
       "array(['Sperrmüll abgelagert'], dtype=object)"
      ]
     },
     "execution_count": 32,
     "metadata": {},
     "output_type": "execute_result"
    }
   ],
   "source": [
    "df_narrow.betreff.unique()"
   ]
  },
  {
   "cell_type": "markdown",
   "id": "94474d75",
   "metadata": {},
   "source": [
    "### Frequency of values"
   ]
  },
  {
   "cell_type": "code",
   "execution_count": 33,
   "id": "2458c8ba",
   "metadata": {},
   "outputs": [],
   "source": [
    "columns_list = ['id', 'meldungsNummern', 'bezirk', 'betreff', 'erstellungsDatum','status', 'sachverhalt']"
   ]
  },
  {
   "cell_type": "code",
   "execution_count": 34,
   "id": "34fbf7ec",
   "metadata": {},
   "outputs": [
    {
     "data": {
      "image/png": "[encoded data removed]",
      "text/plain": [
       "<Figure size 640x480 with 1 Axes>"
      ]
     },
     "metadata": {},
     "output_type": "display_data"
    }
   ],
   "source": [
    "# plot\n",
    "fig, ax = plt.subplots()\n",
    "ax = sns.countplot(x=\"bezirk\", hue=\"status\", data=df_narrow)\n",
    "ax.set(ylabel='Bar Count', title='Ocurrences per district and status')\n",
    "ax.legend(title='Status', loc='upper right', labels=['In Progress', 'Done'])\n",
    "\n",
    "# add annotations\n",
    "for c in ax.containers:\n",
    "    \n",
    "    # custom label calculates percent and add an empty string so 0 value bars don't have a number\n",
    "    labels = [f'{h/df_narrow.status.count()*100:0.1f}%' if (h := v.get_height()) > 0 else '' for v in c]\n",
    "    \n",
    "    ax.bar_label(c, labels=labels, label_type='edge')\n",
    "\n",
    "plt.show()"
   ]
  },
  {
   "cell_type": "code",
   "execution_count": 35,
   "id": "76a3f55d",
   "metadata": {},
   "outputs": [],
   "source": [
    "# df_plot = df.groupby(['status', 'bezirk']).size().reset_index().pivot(columns='status', index='bezirk', values=0)\n",
    "# df_plot.plot(kind='barh', stacked=True)\n",
    "\n",
    "# # ax.set(ylabel='Districts', xlabel='', title='Ocurrences per district and status')\n",
    "# # ax.legend(title='Status', loc='upper right', labels=['In Progress', 'Done'])\n",
    "\n",
    "# plt.show()"
   ]
  },
  {
   "cell_type": "code",
   "execution_count": 36,
   "id": "24eff833",
   "metadata": {},
   "outputs": [],
   "source": [
    "\n",
    "# df_plot = df_narrow.groupby(['status', 'bezirk']).size().reset_index().pivot(columns='status', index='bezirk', values=0)\n",
    "# df_plot.plot(kind='barh', stacked=True)\n",
    "\n",
    "# # ax.set(ylabel='Districts', xlabel='', title='Ocurrences per district and status')\n",
    "# # ax.legend(title='Status', loc='upper right', labels=['In Progress', 'Done'])\n",
    "\n",
    "# plt.show()"
   ]
  },
  {
   "cell_type": "markdown",
   "id": "0a3da669",
   "metadata": {},
   "source": [
    "### Timeseries"
   ]
  },
  {
   "cell_type": "code",
   "execution_count": 37,
   "id": "1a88f1bb",
   "metadata": {},
   "outputs": [],
   "source": [
    "in_progress = df_narrow[df_narrow['status'] == 'In Bearbeitung']\n",
    "done = df_narrow[df_narrow['status'] == 'Erledigt']"
   ]
  },
  {
   "cell_type": "code",
   "execution_count": 38,
   "id": "274f0c7a",
   "metadata": {},
   "outputs": [
    {
     "data": {
      "text/plain": [
       "<matplotlib.legend.Legend at 0x7f8c24050bb0>"
      ]
     },
     "execution_count": 38,
     "metadata": {},
     "output_type": "execute_result"
    },
    {
     "data": {
      "image/png": "[encoded data removed]",
      "text/plain": [
       "<Figure size 800x600 with 1 Axes>"
      ]
     },
     "metadata": {},
     "output_type": "display_data"
    }
   ],
   "source": [
    "# prepare and plot\n",
    "\n",
    "in_progress_df = pd.DataFrame(in_progress.groupby(['date'])['bezirk'].count()).reset_index()\n",
    "in_progress_df['date'] = pd.to_datetime(in_progress_df['date'])\n",
    "in_progress_date = in_progress_df['date']\n",
    "in_progress_value = in_progress_df['bezirk']\n",
    "in_progress_df\n",
    "\n",
    "\n",
    "done_df = pd.DataFrame(done.groupby(['date'])['bezirk'].count()).reset_index()\n",
    "done_df['date'] = pd.to_datetime(done_df['date'])\n",
    "done_date = done_df['date']\n",
    "done_value = done_df['bezirk']\n",
    "\n",
    "fig, ax = plt.subplots(figsize=(8, 6))\n",
    "ax.plot(in_progress_date, in_progress_value)\n",
    "ax.plot(done_date, done_value)\n",
    "\n",
    "ax.set_title('Occurrences by Date and Status')\n",
    "ax.set_ylabel('Number of occurrences')\n",
    "ax.legend(title='Status', loc='upper left', labels=['In Progress', 'Done'])"
   ]
  },
  {
   "cell_type": "markdown",
   "id": "d84c9678",
   "metadata": {},
   "source": [
    "### Only 2023"
   ]
  },
  {
   "cell_type": "code",
   "execution_count": 39,
   "id": "017cf3ce",
   "metadata": {},
   "outputs": [
    {
     "data": {
      "text/plain": [
       "<matplotlib.legend.Legend at 0x7f8c24280a90>"
      ]
     },
     "execution_count": 39,
     "metadata": {},
     "output_type": "execute_result"
    },
    {
     "data": {
      "image/png": "[encoded data removed]",
      "text/plain": [
       "<Figure size 800x600 with 1 Axes>"
      ]
     },
     "metadata": {},
     "output_type": "display_data"
    }
   ],
   "source": [
    "\n",
    "from datetime import date\n",
    "date_2023_begin = date(2023, 1, 1)\n",
    "\n",
    "\n",
    "in_progress_2023 =  in_progress[in_progress['date']>= date_2023_begin]\n",
    "# in_progress_2023\n",
    "\n",
    "done_2023 = done[done['date'] >= date_2023_begin]\n",
    "# done_2023\n",
    "\n",
    "\n",
    "# count occurrences per day\n",
    "count_inprogress_date = in_progress_2023.groupby(['status', 'date']).size().reset_index().pivot(columns='status', index='date', values=0)\n",
    "count_done_date = done_2023.groupby(['status', 'date']).size().reset_index().pivot(columns='status', index='date', values=0)\n",
    "\n",
    "\n",
    "\n",
    "in_progress_2023_df = pd.DataFrame(in_progress_2023.groupby(['date'])['bezirk'].count()).reset_index()\n",
    "in_progress_2023_df['date'] = pd.to_datetime(in_progress_2023_df['date'])\n",
    "in_progress_date_2023 = in_progress_2023_df['date']\n",
    "in_progress_value_2023 = in_progress_2023_df['bezirk']\n",
    "in_progress_df\n",
    "\n",
    "\n",
    "done_2023_df = pd.DataFrame(done_2023.groupby(['date'])['bezirk'].count()).reset_index()\n",
    "done_2023_df['date'] = pd.to_datetime(done_2023_df['date'])\n",
    "done_date_2023 = done_2023_df['date']\n",
    "done_value_2023 = done_2023_df['bezirk']\n",
    "\n",
    "fig, ax = plt.subplots(figsize=(8, 6))\n",
    "ax.plot(in_progress_date_2023, in_progress_value_2023)\n",
    "ax.plot(done_date_2023, done_value_2023)\n",
    "\n",
    "ax.set_title('Occurrences in 2023 by Date and Status')\n",
    "ax.set_ylabel('Number of occurrences')\n",
    "ax.legend(title='Status', loc='best', labels=['In Progress', 'Done'])"
   ]
  },
  {
   "cell_type": "code",
   "execution_count": 40,
   "id": "378f6739",
   "metadata": {},
   "outputs": [
    {
     "name": "stdout",
     "output_type": "stream",
     "text": [
      "Today is  2023-03-19 00:00:00\n",
      "Ocurrences after today:  153\n"
     ]
    }
   ],
   "source": [
    "## checking occcurrences after today\n",
    "today = date.today()\n",
    "today = pd.to_datetime(today)\n",
    "print('Today is ', today)\n",
    "print('Ocurrences after today: ',len(df_narrow[df_narrow['erstellungsDatum']>today]))"
   ]
  },
  {
   "cell_type": "markdown",
   "id": "2241b877",
   "metadata": {},
   "source": [
    "There are 153 occurrences in the 'erstellungsDatum'(creation data) column after the day of today.\n",
    "There are errors in data for this column."
   ]
  },
  {
   "cell_type": "code",
   "execution_count": 41,
   "id": "2d1426d0",
   "metadata": {},
   "outputs": [
    {
     "data": {
      "text/plain": [
       "(610, 11)"
      ]
     },
     "execution_count": 41,
     "metadata": {},
     "output_type": "execute_result"
    }
   ],
   "source": [
    "df_narrow.shape"
   ]
  },
  {
   "cell_type": "markdown",
   "id": "60de5df5",
   "metadata": {},
   "source": [
    "### Seasonality"
   ]
  },
  {
   "cell_type": "code",
   "execution_count": 42,
   "id": "cb954175",
   "metadata": {},
   "outputs": [
    {
     "data": {
      "image/png": "[encoded data removed]",
      "text/plain": [
       "<Figure size 640x480 with 1 Axes>"
      ]
     },
     "metadata": {},
     "output_type": "display_data"
    }
   ],
   "source": [
    "fig, ax = plt.subplots()\n",
    "\n",
    "in_progress.groupby(['month'])['bezirk'].count().plot(marker = '.')\n",
    "done.groupby(['month'])['bezirk'].count().plot(marker = '.')\n",
    "ax.set_xlabel('Month')\n",
    "ax.set_ylabel('Number of occurrences')\n",
    "ax.set_title('Number of Month wise occurrences')\n",
    "ax.set_xticks([1,2,3,4,5,6,7,8,9,10,11,12],['Jan','Feb','Mar','Apr','May','Jun','Jul','Aug','Sep','Oct','Nov','Dec'])\n",
    "ax.legend(title='Status', loc='upper right', labels=['In Progress', 'Done'])\n",
    "plt.show()"
   ]
  },
  {
   "cell_type": "markdown",
   "id": "495c48d6",
   "metadata": {},
   "source": [
    "### Only 2023"
   ]
  },
  {
   "cell_type": "code",
   "execution_count": 43,
   "id": "5afdc806",
   "metadata": {},
   "outputs": [
    {
     "data": {
      "image/png": "[encoded data removed]",
      "text/plain": [
       "<Figure size 640x480 with 1 Axes>"
      ]
     },
     "metadata": {},
     "output_type": "display_data"
    }
   ],
   "source": [
    "fig, ax = plt.subplots()\n",
    "\n",
    "in_progress_2023.groupby(['month'])['bezirk'].count().plot(marker = '.')\n",
    "done_2023.groupby(['month'])['bezirk'].count().plot(marker = '.')\n",
    "ax.set_xlabel('Month')\n",
    "ax.set_ylabel('Number of occurrences')\n",
    "ax.set_title('Number of Month wise occurrences in 2023')\n",
    "ax.set_xticks([1,2,3,4,5,6,7,8,9,10,11,12],['Jan','Feb','Mar','Apr','May','Jun','Jul','Aug','Sep','Oct','Nov','Dec'])\n",
    "ax.legend(title='Status', loc='upper right', labels=['In Progress', 'Done'])\n",
    "plt.show()"
   ]
  },
  {
   "cell_type": "markdown",
   "id": "a1b4024d",
   "metadata": {},
   "source": [
    "### Only 2022"
   ]
  },
  {
   "cell_type": "code",
   "execution_count": 44,
   "id": "97fbd2da",
   "metadata": {},
   "outputs": [],
   "source": [
    "in_progress_2022 =  in_progress[in_progress['date']< date_2023_begin]\n",
    "# in_progress_2022\n",
    "\n",
    "done_2022 = done[done['date'] < date_2023_begin]\n",
    "# done_2022"
   ]
  },
  {
   "cell_type": "code",
   "execution_count": 45,
   "id": "4d0b23ec",
   "metadata": {},
   "outputs": [
    {
     "data": {
      "image/png": "[encoded data removed]",
      "text/plain": [
       "<Figure size 640x480 with 1 Axes>"
      ]
     },
     "metadata": {},
     "output_type": "display_data"
    }
   ],
   "source": [
    "fig, ax = plt.subplots()\n",
    "\n",
    "in_progress_2022.groupby(['month'])['bezirk'].count().plot(marker = '.')\n",
    "done_2022.groupby(['month'])['bezirk'].count().plot(marker = '.')\n",
    "ax.set_xlabel('Month')\n",
    "ax.set_ylabel('Number of occurrences')\n",
    "ax.set_title('Number of Month wise occurrences in 2022')\n",
    "ax.set_xticks([1,2,3,4,5,6,7,8,9,10,11,12],['Jan','Feb','Mar','Apr','May','Jun','Jul','Aug','Sep','Oct','Nov','Dec'])\n",
    "ax.legend(title='Status', loc='upper left', labels=['In Progress', 'Done'])\n",
    "plt.show()"
   ]
  },
  {
   "cell_type": "markdown",
   "id": "fce6e6f2",
   "metadata": {},
   "source": [
    "### 2022 vs 2023"
   ]
  },
  {
   "cell_type": "code",
   "execution_count": 46,
   "id": "270080cd",
   "metadata": {},
   "outputs": [
    {
     "data": {
      "text/plain": [
       "5408"
      ]
     },
     "execution_count": 46,
     "metadata": {},
     "output_type": "execute_result"
    }
   ],
   "source": [
    "len(df)"
   ]
  },
  {
   "cell_type": "code",
   "execution_count": 47,
   "id": "5865b7dc",
   "metadata": {},
   "outputs": [
    {
     "data": {
      "text/plain": [
       "610"
      ]
     },
     "execution_count": 47,
     "metadata": {},
     "output_type": "execute_result"
    }
   ],
   "source": [
    "len(in_progress_2022)+ len(done_2022)+len(in_progress_2023)+ len(done_2023)"
   ]
  },
  {
   "cell_type": "code",
   "execution_count": 48,
   "id": "b71cd9e4",
   "metadata": {},
   "outputs": [
    {
     "data": {
      "text/plain": [
       "15"
      ]
     },
     "execution_count": 48,
     "metadata": {},
     "output_type": "execute_result"
    }
   ],
   "source": [
    "len(in_progress_2022)"
   ]
  },
  {
   "cell_type": "code",
   "execution_count": 49,
   "id": "e8d58f00",
   "metadata": {},
   "outputs": [
    {
     "data": {
      "text/plain": [
       "32"
      ]
     },
     "execution_count": 49,
     "metadata": {},
     "output_type": "execute_result"
    }
   ],
   "source": [
    "len(done_2022)"
   ]
  },
  {
   "cell_type": "code",
   "execution_count": 50,
   "id": "49b49622",
   "metadata": {},
   "outputs": [
    {
     "data": {
      "text/plain": [
       "100"
      ]
     },
     "execution_count": 50,
     "metadata": {},
     "output_type": "execute_result"
    }
   ],
   "source": [
    "len(in_progress_2023)"
   ]
  },
  {
   "cell_type": "code",
   "execution_count": 51,
   "id": "a20c9cdf",
   "metadata": {},
   "outputs": [
    {
     "data": {
      "text/plain": [
       "463"
      ]
     },
     "execution_count": 51,
     "metadata": {},
     "output_type": "execute_result"
    }
   ],
   "source": [
    "len(done_2023)"
   ]
  },
  {
   "cell_type": "code",
   "execution_count": 52,
   "id": "8d47f037",
   "metadata": {},
   "outputs": [],
   "source": [
    "len_total_2022 = len(in_progress_2022)+ len(done_2022)"
   ]
  },
  {
   "cell_type": "code",
   "execution_count": 53,
   "id": "b49c58fe",
   "metadata": {},
   "outputs": [],
   "source": [
    "len_total_2023 = len(in_progress_2023)+ len(done_2023)"
   ]
  },
  {
   "cell_type": "code",
   "execution_count": 54,
   "id": "e1070b2b",
   "metadata": {},
   "outputs": [],
   "source": [
    "pct_2023 = len_total_2023/(len_total_2023 + len_total_2022)"
   ]
  },
  {
   "cell_type": "code",
   "execution_count": 55,
   "id": "2d479b35",
   "metadata": {},
   "outputs": [
    {
     "data": {
      "text/html": [
       "<div>\n",
       "<style scoped>\n",
       "    .dataframe tbody tr th:only-of-type {\n",
       "        vertical-align: middle;\n",
       "    }\n",
       "\n",
       "    .dataframe tbody tr th {\n",
       "        vertical-align: top;\n",
       "    }\n",
       "\n",
       "    .dataframe thead th {\n",
       "        text-align: right;\n",
       "    }\n",
       "</style>\n",
       "<table border=\"1\" class=\"dataframe\">\n",
       "  <thead>\n",
       "    <tr style=\"text-align: right;\">\n",
       "      <th></th>\n",
       "      <th>id</th>\n",
       "      <th>meldungsNummern</th>\n",
       "      <th>bezirk</th>\n",
       "      <th>betreff</th>\n",
       "      <th>erstellungsDatum</th>\n",
       "      <th>status</th>\n",
       "      <th>sachverhalt</th>\n",
       "      <th>day_of_week</th>\n",
       "      <th>time</th>\n",
       "      <th>date</th>\n",
       "      <th>month</th>\n",
       "      <th>year</th>\n",
       "    </tr>\n",
       "  </thead>\n",
       "  <tbody>\n",
       "    <tr>\n",
       "      <th>0</th>\n",
       "      <td>527563</td>\n",
       "      <td>['ljf29']</td>\n",
       "      <td>Friedrichshain-Kreuzberg</td>\n",
       "      <td>Sperrmüll abgelagert</td>\n",
       "      <td>2017-01-18 15:01:09</td>\n",
       "      <td>In Bearbeitung</td>\n",
       "      <td>Spiegel</td>\n",
       "      <td>Wednesday</td>\n",
       "      <td>15:01:09</td>\n",
       "      <td>2017-01-18</td>\n",
       "      <td>Jan</td>\n",
       "      <td>2017</td>\n",
       "    </tr>\n",
       "    <tr>\n",
       "      <th>1</th>\n",
       "      <td>527575</td>\n",
       "      <td>['51cx6p']</td>\n",
       "      <td>Friedrichshain-Kreuzberg</td>\n",
       "      <td>Sperrmüll abgelagert</td>\n",
       "      <td>2017-01-18 15:05:54</td>\n",
       "      <td>In Bearbeitung</td>\n",
       "      <td>Holz-/Regalteile</td>\n",
       "      <td>Wednesday</td>\n",
       "      <td>15:05:54</td>\n",
       "      <td>2017-01-18</td>\n",
       "      <td>Jan</td>\n",
       "      <td>2017</td>\n",
       "    </tr>\n",
       "    <tr>\n",
       "      <th>59</th>\n",
       "      <td>1804983</td>\n",
       "      <td>['b6pfcx']</td>\n",
       "      <td>Neukölln</td>\n",
       "      <td>Sperrmüll abgelagert</td>\n",
       "      <td>2020-06-05 10:50:02</td>\n",
       "      <td>In Bearbeitung</td>\n",
       "      <td>Sperrmüll</td>\n",
       "      <td>Friday</td>\n",
       "      <td>10:50:02</td>\n",
       "      <td>2020-06-05</td>\n",
       "      <td>Jun</td>\n",
       "      <td>2020</td>\n",
       "    </tr>\n",
       "    <tr>\n",
       "      <th>69</th>\n",
       "      <td>1952905</td>\n",
       "      <td>['2a1t6p']</td>\n",
       "      <td>Neukölln</td>\n",
       "      <td>Sperrmüll abgelagert</td>\n",
       "      <td>2020-08-20 09:06:18</td>\n",
       "      <td>In Bearbeitung</td>\n",
       "      <td>Sperrmüll</td>\n",
       "      <td>Thursday</td>\n",
       "      <td>09:06:18</td>\n",
       "      <td>2020-08-20</td>\n",
       "      <td>Aug</td>\n",
       "      <td>2020</td>\n",
       "    </tr>\n",
       "    <tr>\n",
       "      <th>82</th>\n",
       "      <td>2059167</td>\n",
       "      <td>['rw035t']</td>\n",
       "      <td>Neukölln</td>\n",
       "      <td>Sperrmüll abgelagert</td>\n",
       "      <td>2020-04-11 08:02:10</td>\n",
       "      <td>In Bearbeitung</td>\n",
       "      <td>Sehr geehrtes Team,\\n\\nauf der Gradestraße, zw...</td>\n",
       "      <td>Saturday</td>\n",
       "      <td>08:02:10</td>\n",
       "      <td>2020-04-11</td>\n",
       "      <td>Apr</td>\n",
       "      <td>2020</td>\n",
       "    </tr>\n",
       "  </tbody>\n",
       "</table>\n",
       "</div>"
      ],
      "text/plain": [
       "         id meldungsNummern                    bezirk               betreff  \\\n",
       "0    527563       ['ljf29']  Friedrichshain-Kreuzberg  Sperrmüll abgelagert   \n",
       "1    527575      ['51cx6p']  Friedrichshain-Kreuzberg  Sperrmüll abgelagert   \n",
       "59  1804983      ['b6pfcx']                  Neukölln  Sperrmüll abgelagert   \n",
       "69  1952905      ['2a1t6p']                  Neukölln  Sperrmüll abgelagert   \n",
       "82  2059167      ['rw035t']                  Neukölln  Sperrmüll abgelagert   \n",
       "\n",
       "      erstellungsDatum          status  \\\n",
       "0  2017-01-18 15:01:09  In Bearbeitung   \n",
       "1  2017-01-18 15:05:54  In Bearbeitung   \n",
       "59 2020-06-05 10:50:02  In Bearbeitung   \n",
       "69 2020-08-20 09:06:18  In Bearbeitung   \n",
       "82 2020-04-11 08:02:10  In Bearbeitung   \n",
       "\n",
       "                                          sachverhalt day_of_week      time  \\\n",
       "0                                             Spiegel   Wednesday  15:01:09   \n",
       "1                                    Holz-/Regalteile   Wednesday  15:05:54   \n",
       "59                                          Sperrmüll      Friday  10:50:02   \n",
       "69                                          Sperrmüll    Thursday  09:06:18   \n",
       "82  Sehr geehrtes Team,\\n\\nauf der Gradestraße, zw...    Saturday  08:02:10   \n",
       "\n",
       "          date month  year  \n",
       "0   2017-01-18   Jan  2017  \n",
       "1   2017-01-18   Jan  2017  \n",
       "59  2020-06-05   Jun  2020  \n",
       "69  2020-08-20   Aug  2020  \n",
       "82  2020-04-11   Apr  2020  "
      ]
     },
     "execution_count": 55,
     "metadata": {},
     "output_type": "execute_result"
    }
   ],
   "source": [
    "df_narrow['year'] = pd.DatetimeIndex(df_narrow['erstellungsDatum']).year\n",
    "df_narrow.head()"
   ]
  },
  {
   "cell_type": "code",
   "execution_count": 56,
   "id": "81683db7",
   "metadata": {},
   "outputs": [
    {
     "data": {
      "image/png": "[encoded data removed]",
      "text/plain": [
       "<Figure size 640x480 with 1 Axes>"
      ]
     },
     "metadata": {},
     "output_type": "display_data"
    }
   ],
   "source": [
    "df_plot = df_narrow.groupby(['status', 'year']).size().reset_index().pivot(columns='status', index='year', values=0)\n",
    "ax = df_plot.plot(kind='barh', stacked=True)\n",
    "\n",
    "plt.title(\"Ocurrences per year and status\")\n",
    "plt.ylabel(\"Years\")\n",
    "plt.legend(title='Status', labels = ['Done', 'In progress'],loc='best')\n",
    "\n",
    "plt.show()"
   ]
  },
  {
   "cell_type": "code",
   "execution_count": 61,
   "id": "0b2b976c",
   "metadata": {},
   "outputs": [],
   "source": [
    "# Checking if the done accurrences have more than 1 meldungsNummern and if these numbers are repeated in different collumns\n",
    "\n",
    "\n",
    "# df_plot = df_narrow.groupby(['meldungsNummern', 'status']).size().reset_index().pivot(columns='meldungsNummern', index='status', values=0)\n",
    "# df_plot\n",
    "\n",
    "# df_narrow.groupby(by=['meldungsNummern', 'status'])\\\n",
    "#     .sum()\\\n",
    "#     .fillna(0)\\\n",
    "#     .style.format('{:.2f}').background_gradient(axis=0)\n",
    "\n"
   ]
  },
  {
   "cell_type": "code",
   "execution_count": 62,
   "id": "ba60a731",
   "metadata": {},
   "outputs": [
    {
     "data": {
      "text/html": [
       "<div>\n",
       "<style scoped>\n",
       "    .dataframe tbody tr th:only-of-type {\n",
       "        vertical-align: middle;\n",
       "    }\n",
       "\n",
       "    .dataframe tbody tr th {\n",
       "        vertical-align: top;\n",
       "    }\n",
       "\n",
       "    .dataframe thead th {\n",
       "        text-align: right;\n",
       "    }\n",
       "</style>\n",
       "<table border=\"1\" class=\"dataframe\">\n",
       "  <thead>\n",
       "    <tr style=\"text-align: right;\">\n",
       "      <th></th>\n",
       "      <th>id</th>\n",
       "      <th>meldungsNummern</th>\n",
       "      <th>bezirk</th>\n",
       "      <th>betreff</th>\n",
       "      <th>erstellungsDatum</th>\n",
       "      <th>status</th>\n",
       "      <th>sachverhalt</th>\n",
       "    </tr>\n",
       "  </thead>\n",
       "  <tbody>\n",
       "    <tr>\n",
       "      <th>3525</th>\n",
       "      <td>4291206</td>\n",
       "      <td>['at76dd', 'bk7wn5', 'cyx9mp', 'k3zw8x', 'psl9...</td>\n",
       "      <td>Neukölln</td>\n",
       "      <td>Sperrmüll abgelagert</td>\n",
       "      <td>2023-12-02 10:42:36</td>\n",
       "      <td>Erledigt</td>\n",
       "      <td>Bretter</td>\n",
       "    </tr>\n",
       "  </tbody>\n",
       "</table>\n",
       "</div>"
      ],
      "text/plain": [
       "           id                                    meldungsNummern    bezirk  \\\n",
       "3525  4291206  ['at76dd', 'bk7wn5', 'cyx9mp', 'k3zw8x', 'psl9...  Neukölln   \n",
       "\n",
       "                   betreff    erstellungsDatum    status sachverhalt  \n",
       "3525  Sperrmüll abgelagert 2023-12-02 10:42:36  Erledigt     Bretter  "
      ]
     },
     "execution_count": 62,
     "metadata": {},
     "output_type": "execute_result"
    }
   ],
   "source": [
    "# len(df[df['meldungsNummern'].str.contains('3i0d8h')])\n",
    "# df[df['meldungsNummern'].str.contains('3i0d8h')]\n",
    "\n",
    "df[df['meldungsNummern'].str.contains('cyx9mp')]"
   ]
  },
  {
   "cell_type": "markdown",
   "id": "2ecb4f23",
   "metadata": {},
   "source": [
    "The numbers are uniques, it is not clear what they mean."
   ]
  },
  {
   "cell_type": "markdown",
   "id": "fbef5b65",
   "metadata": {},
   "source": [
    "References\n",
    "- [Time series with Matplotlib](https://www.python-graph-gallery.com/basic-time-series-with-matplotlib)"
   ]
  }
 ],
 "metadata": {
  "kernelspec": {
   "display_name": "Python 3 (ipykernel)",
   "language": "python",
   "name": "python3"
  },
  "language_info": {
   "codemirror_mode": {
    "name": "ipython",
    "version": 3
   },
   "file_extension": ".py",
   "mimetype": "text/x-python",
   "name": "python",
   "nbconvert_exporter": "python",
   "pygments_lexer": "ipython3",
   "version": "3.10.4"
  }
 },
 "nbformat": 4,
 "nbformat_minor": 5
}
