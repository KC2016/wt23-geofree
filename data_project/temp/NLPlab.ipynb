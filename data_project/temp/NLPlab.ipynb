{
 "cells": [
  {
   "cell_type": "code",
   "execution_count": 1,
   "id": "1d2301d5",
   "metadata": {},
   "outputs": [],
   "source": [
    "import pandas as pd\n",
    "from textblob import TextBlob"
   ]
  },
  {
   "cell_type": "code",
   "execution_count": 3,
   "id": "da8084b9",
   "metadata": {},
   "outputs": [],
   "source": [
    "# path = 'datasets/Comments on the survey-2.csv'\n",
    "# df = pd.read_csv(path)\n",
    "\n",
    "\n",
    "xls = pd.ExcelFile('datasets/Comments on the survey-2.xlsx')\n",
    "df1= pd.read_excel(xls, 'Open Comments')"
   ]
  },
  {
   "cell_type": "code",
   "execution_count": 5,
   "id": "0fe9954f",
   "metadata": {},
   "outputs": [],
   "source": [
    "# df1.head() # find many NaN"
   ]
  },
  {
   "cell_type": "code",
   "execution_count": 6,
   "id": "5a7713e5",
   "metadata": {},
   "outputs": [],
   "source": [
    "df1=df1[['Open Comments', 'Decisions', 'Actions']]"
   ]
  },
  {
   "cell_type": "code",
   "execution_count": 8,
   "id": "65405332",
   "metadata": {},
   "outputs": [
    {
     "data": {
      "text/html": [
       "<div>\n",
       "<style scoped>\n",
       "    .dataframe tbody tr th:only-of-type {\n",
       "        vertical-align: middle;\n",
       "    }\n",
       "\n",
       "    .dataframe tbody tr th {\n",
       "        vertical-align: top;\n",
       "    }\n",
       "\n",
       "    .dataframe thead th {\n",
       "        text-align: right;\n",
       "    }\n",
       "</style>\n",
       "<table border=\"1\" class=\"dataframe\">\n",
       "  <thead>\n",
       "    <tr style=\"text-align: right;\">\n",
       "      <th></th>\n",
       "      <th>Open Comments</th>\n",
       "      <th>Decisions</th>\n",
       "      <th>Actions</th>\n",
       "    </tr>\n",
       "  </thead>\n",
       "  <tbody>\n",
       "    <tr>\n",
       "      <th>0</th>\n",
       "      <td>Create a photo sheet that gives visual example...</td>\n",
       "      <td>Lower priority</td>\n",
       "      <td>Make this</td>\n",
       "    </tr>\n",
       "    <tr>\n",
       "      <th>1</th>\n",
       "      <td>Acceptable and unacceptable walking on roads a...</td>\n",
       "      <td>Easy fix.</td>\n",
       "      <td>Done</td>\n",
       "    </tr>\n",
       "    <tr>\n",
       "      <th>2</th>\n",
       "      <td>Accessibility grade – Remove – with the except...</td>\n",
       "      <td>Check</td>\n",
       "      <td>Done</td>\n",
       "    </tr>\n",
       "    <tr>\n",
       "      <th>3</th>\n",
       "      <td>Climbing over fences and walls  - similar to a...</td>\n",
       "      <td>Easy fix</td>\n",
       "      <td>Done</td>\n",
       "    </tr>\n",
       "    <tr>\n",
       "      <th>4</th>\n",
       "      <td>Describe the route - a  maximum word limit of ...</td>\n",
       "      <td>Easy fix.</td>\n",
       "      <td>Done</td>\n",
       "    </tr>\n",
       "    <tr>\n",
       "      <th>5</th>\n",
       "      <td>Dog friendly route  - probably needs an explan...</td>\n",
       "      <td>Easy fix.</td>\n",
       "      <td>Done</td>\n",
       "    </tr>\n",
       "    <tr>\n",
       "      <th>6</th>\n",
       "      <td>Gates -  there are lots of different types of ...</td>\n",
       "      <td>Hard</td>\n",
       "      <td>Delayed</td>\n",
       "    </tr>\n",
       "    <tr>\n",
       "      <th>7</th>\n",
       "      <td>High likehood of horses &amp; cattle  -  is livest...</td>\n",
       "      <td>Easy fix</td>\n",
       "      <td>Done</td>\n",
       "    </tr>\n",
       "    <tr>\n",
       "      <th>8</th>\n",
       "      <td>In Scotland  you can walk along the edge of a ...</td>\n",
       "      <td>Easy fix</td>\n",
       "      <td>NaN</td>\n",
       "    </tr>\n",
       "    <tr>\n",
       "      <th>9</th>\n",
       "      <td>Number of obstacles - Steps  - is total number...</td>\n",
       "      <td>Noted</td>\n",
       "      <td>Delayed</td>\n",
       "    </tr>\n",
       "    <tr>\n",
       "      <th>10</th>\n",
       "      <td>Obstacles and features  - Do you want to inclu...</td>\n",
       "      <td>Easy fix</td>\n",
       "      <td>Done</td>\n",
       "    </tr>\n",
       "    <tr>\n",
       "      <th>11</th>\n",
       "      <td>Path Surface grade – to avoid confusion with t...</td>\n",
       "      <td>Easy fix</td>\n",
       "      <td>Done</td>\n",
       "    </tr>\n",
       "    <tr>\n",
       "      <th>12</th>\n",
       "      <td>Right of access unknown  -  this isn’t applica...</td>\n",
       "      <td>Noted</td>\n",
       "      <td>Noted</td>\n",
       "    </tr>\n",
       "    <tr>\n",
       "      <th>13</th>\n",
       "      <td>Sections of  long grass or crops  - should you...</td>\n",
       "      <td>Easy fix</td>\n",
       "      <td>Addressed</td>\n",
       "    </tr>\n",
       "    <tr>\n",
       "      <th>14</th>\n",
       "      <td>What’s the narrowest part of the path? – sugge...</td>\n",
       "      <td>Easy fix</td>\n",
       "      <td>Done</td>\n",
       "    </tr>\n",
       "    <tr>\n",
       "      <th>15</th>\n",
       "      <td>What about an app for keeping tally of things ...</td>\n",
       "      <td>Lower priority</td>\n",
       "      <td>NaN</td>\n",
       "    </tr>\n",
       "    <tr>\n",
       "      <th>16</th>\n",
       "      <td>Contact off-road mobility scooter people to se...</td>\n",
       "      <td>Action</td>\n",
       "      <td>For next version</td>\n",
       "    </tr>\n",
       "    <tr>\n",
       "      <th>17</th>\n",
       "      <td>Ask a visually impaired walking group for thei...</td>\n",
       "      <td>Action</td>\n",
       "      <td>For next version</td>\n",
       "    </tr>\n",
       "    <tr>\n",
       "      <th>18</th>\n",
       "      <td>Can you make the seasonability of the survey c...</td>\n",
       "      <td>Easy fix</td>\n",
       "      <td>Done</td>\n",
       "    </tr>\n",
       "    <tr>\n",
       "      <th>19</th>\n",
       "      <td>Accessability grade - Is waymarking along the ...</td>\n",
       "      <td>Easy fix</td>\n",
       "      <td>Done</td>\n",
       "    </tr>\n",
       "  </tbody>\n",
       "</table>\n",
       "</div>"
      ],
      "text/plain": [
       "                                        Open Comments       Decisions  \\\n",
       "0   Create a photo sheet that gives visual example...  Lower priority   \n",
       "1   Acceptable and unacceptable walking on roads a...       Easy fix.   \n",
       "2   Accessibility grade – Remove – with the except...           Check   \n",
       "3   Climbing over fences and walls  - similar to a...        Easy fix   \n",
       "4   Describe the route - a  maximum word limit of ...       Easy fix.   \n",
       "5   Dog friendly route  - probably needs an explan...       Easy fix.   \n",
       "6   Gates -  there are lots of different types of ...            Hard   \n",
       "7   High likehood of horses & cattle  -  is livest...        Easy fix   \n",
       "8   In Scotland  you can walk along the edge of a ...        Easy fix   \n",
       "9   Number of obstacles - Steps  - is total number...           Noted   \n",
       "10  Obstacles and features  - Do you want to inclu...        Easy fix   \n",
       "11  Path Surface grade – to avoid confusion with t...        Easy fix   \n",
       "12  Right of access unknown  -  this isn’t applica...           Noted   \n",
       "13  Sections of  long grass or crops  - should you...        Easy fix   \n",
       "14  What’s the narrowest part of the path? – sugge...        Easy fix   \n",
       "15  What about an app for keeping tally of things ...  Lower priority   \n",
       "16  Contact off-road mobility scooter people to se...          Action   \n",
       "17  Ask a visually impaired walking group for thei...          Action   \n",
       "18  Can you make the seasonability of the survey c...        Easy fix   \n",
       "19  Accessability grade - Is waymarking along the ...        Easy fix   \n",
       "\n",
       "             Actions  \n",
       "0          Make this  \n",
       "1               Done  \n",
       "2               Done  \n",
       "3               Done  \n",
       "4               Done  \n",
       "5               Done  \n",
       "6            Delayed  \n",
       "7               Done  \n",
       "8                NaN  \n",
       "9            Delayed  \n",
       "10              Done  \n",
       "11              Done  \n",
       "12             Noted  \n",
       "13         Addressed  \n",
       "14              Done  \n",
       "15               NaN  \n",
       "16  For next version  \n",
       "17  For next version  \n",
       "18              Done  \n",
       "19              Done  "
      ]
     },
     "execution_count": 8,
     "metadata": {},
     "output_type": "execute_result"
    }
   ],
   "source": [
    "df1.head(20)"
   ]
  },
  {
   "cell_type": "code",
   "execution_count": 9,
   "id": "25c495fd",
   "metadata": {},
   "outputs": [],
   "source": [
    "comment = TextBlob(df1.at[5, 'Open Comments'])"
   ]
  },
  {
   "cell_type": "code",
   "execution_count": 10,
   "id": "36f8446c",
   "metadata": {},
   "outputs": [
    {
     "data": {
      "text/plain": [
       "Sentiment(polarity=0.375, subjectivity=0.5)"
      ]
     },
     "execution_count": 10,
     "metadata": {},
     "output_type": "execute_result"
    }
   ],
   "source": [
    "comment.sentiment"
   ]
  },
  {
   "cell_type": "code",
   "execution_count": 11,
   "id": "b266a5df",
   "metadata": {},
   "outputs": [],
   "source": [
    "comment = TextBlob(df1.at[4, 'Open Comments'])"
   ]
  },
  {
   "cell_type": "code",
   "execution_count": 12,
   "id": "8e28810c",
   "metadata": {},
   "outputs": [
    {
     "data": {
      "text/plain": [
       "Sentiment(polarity=0.0, subjectivity=0.5)"
      ]
     },
     "execution_count": 12,
     "metadata": {},
     "output_type": "execute_result"
    }
   ],
   "source": [
    "comment.sentiment"
   ]
  },
  {
   "cell_type": "code",
   "execution_count": 14,
   "id": "a1f65f42",
   "metadata": {},
   "outputs": [
    {
     "data": {
      "text/plain": [
       "Sentiment(polarity=0.6000000000000001, subjectivity=0.9)"
      ]
     },
     "execution_count": 14,
     "metadata": {},
     "output_type": "execute_result"
    }
   ],
   "source": [
    "comment = TextBlob('this is amazing')\n",
    "comment.sentiment"
   ]
  },
  {
   "cell_type": "code",
   "execution_count": 15,
   "id": "96ff719c",
   "metadata": {},
   "outputs": [],
   "source": [
    "def sentiment(text):\n",
    "    try:\n",
    "        return TextBlob(text).sentiment\n",
    "    except:\n",
    "        return None"
   ]
  },
  {
   "cell_type": "code",
   "execution_count": 18,
   "id": "ffd42fab",
   "metadata": {},
   "outputs": [],
   "source": [
    "df1['polarity']= df1['Open Comments']. apply(sentiment).apply(lambda x:x[0])"
   ]
  },
  {
   "cell_type": "code",
   "execution_count": 19,
   "id": "91e77666",
   "metadata": {},
   "outputs": [
    {
     "data": {
      "text/html": [
       "<div>\n",
       "<style scoped>\n",
       "    .dataframe tbody tr th:only-of-type {\n",
       "        vertical-align: middle;\n",
       "    }\n",
       "\n",
       "    .dataframe tbody tr th {\n",
       "        vertical-align: top;\n",
       "    }\n",
       "\n",
       "    .dataframe thead th {\n",
       "        text-align: right;\n",
       "    }\n",
       "</style>\n",
       "<table border=\"1\" class=\"dataframe\">\n",
       "  <thead>\n",
       "    <tr style=\"text-align: right;\">\n",
       "      <th></th>\n",
       "      <th>Open Comments</th>\n",
       "      <th>Decisions</th>\n",
       "      <th>Actions</th>\n",
       "      <th>polarity</th>\n",
       "    </tr>\n",
       "  </thead>\n",
       "  <tbody>\n",
       "    <tr>\n",
       "      <th>0</th>\n",
       "      <td>Create a photo sheet that gives visual example...</td>\n",
       "      <td>Lower priority</td>\n",
       "      <td>Make this</td>\n",
       "      <td>0.000000</td>\n",
       "    </tr>\n",
       "    <tr>\n",
       "      <th>1</th>\n",
       "      <td>Acceptable and unacceptable walking on roads a...</td>\n",
       "      <td>Easy fix.</td>\n",
       "      <td>Done</td>\n",
       "      <td>-0.150000</td>\n",
       "    </tr>\n",
       "    <tr>\n",
       "      <th>2</th>\n",
       "      <td>Accessibility grade – Remove – with the except...</td>\n",
       "      <td>Check</td>\n",
       "      <td>Done</td>\n",
       "      <td>0.075000</td>\n",
       "    </tr>\n",
       "    <tr>\n",
       "      <th>3</th>\n",
       "      <td>Climbing over fences and walls  - similar to a...</td>\n",
       "      <td>Easy fix</td>\n",
       "      <td>Done</td>\n",
       "      <td>0.166667</td>\n",
       "    </tr>\n",
       "    <tr>\n",
       "      <th>4</th>\n",
       "      <td>Describe the route - a  maximum word limit of ...</td>\n",
       "      <td>Easy fix.</td>\n",
       "      <td>Done</td>\n",
       "      <td>0.000000</td>\n",
       "    </tr>\n",
       "  </tbody>\n",
       "</table>\n",
       "</div>"
      ],
      "text/plain": [
       "                                       Open Comments       Decisions  \\\n",
       "0  Create a photo sheet that gives visual example...  Lower priority   \n",
       "1  Acceptable and unacceptable walking on roads a...       Easy fix.   \n",
       "2  Accessibility grade – Remove – with the except...           Check   \n",
       "3  Climbing over fences and walls  - similar to a...        Easy fix   \n",
       "4  Describe the route - a  maximum word limit of ...       Easy fix.   \n",
       "\n",
       "     Actions  polarity  \n",
       "0  Make this  0.000000  \n",
       "1       Done -0.150000  \n",
       "2       Done  0.075000  \n",
       "3       Done  0.166667  \n",
       "4       Done  0.000000  "
      ]
     },
     "execution_count": 19,
     "metadata": {},
     "output_type": "execute_result"
    }
   ],
   "source": [
    "df1.head()"
   ]
  },
  {
   "cell_type": "code",
   "execution_count": 20,
   "id": "40be1d9e",
   "metadata": {},
   "outputs": [],
   "source": [
    "df1['subjectivity']= df1['Open Comments']. apply(sentiment).apply(lambda x:x[1])\n"
   ]
  },
  {
   "cell_type": "code",
   "execution_count": 21,
   "id": "ded9c070",
   "metadata": {},
   "outputs": [
    {
     "data": {
      "text/html": [
       "<div>\n",
       "<style scoped>\n",
       "    .dataframe tbody tr th:only-of-type {\n",
       "        vertical-align: middle;\n",
       "    }\n",
       "\n",
       "    .dataframe tbody tr th {\n",
       "        vertical-align: top;\n",
       "    }\n",
       "\n",
       "    .dataframe thead th {\n",
       "        text-align: right;\n",
       "    }\n",
       "</style>\n",
       "<table border=\"1\" class=\"dataframe\">\n",
       "  <thead>\n",
       "    <tr style=\"text-align: right;\">\n",
       "      <th></th>\n",
       "      <th>Open Comments</th>\n",
       "      <th>Decisions</th>\n",
       "      <th>Actions</th>\n",
       "      <th>polarity</th>\n",
       "      <th>subjectivity</th>\n",
       "    </tr>\n",
       "  </thead>\n",
       "  <tbody>\n",
       "    <tr>\n",
       "      <th>0</th>\n",
       "      <td>Create a photo sheet that gives visual example...</td>\n",
       "      <td>Lower priority</td>\n",
       "      <td>Make this</td>\n",
       "      <td>0.000000</td>\n",
       "      <td>0.300000</td>\n",
       "    </tr>\n",
       "    <tr>\n",
       "      <th>1</th>\n",
       "      <td>Acceptable and unacceptable walking on roads a...</td>\n",
       "      <td>Easy fix.</td>\n",
       "      <td>Done</td>\n",
       "      <td>-0.150000</td>\n",
       "      <td>0.600000</td>\n",
       "    </tr>\n",
       "    <tr>\n",
       "      <th>2</th>\n",
       "      <td>Accessibility grade – Remove – with the except...</td>\n",
       "      <td>Check</td>\n",
       "      <td>Done</td>\n",
       "      <td>0.075000</td>\n",
       "      <td>0.366667</td>\n",
       "    </tr>\n",
       "    <tr>\n",
       "      <th>3</th>\n",
       "      <td>Climbing over fences and walls  - similar to a...</td>\n",
       "      <td>Easy fix</td>\n",
       "      <td>Done</td>\n",
       "      <td>0.166667</td>\n",
       "      <td>0.333333</td>\n",
       "    </tr>\n",
       "    <tr>\n",
       "      <th>4</th>\n",
       "      <td>Describe the route - a  maximum word limit of ...</td>\n",
       "      <td>Easy fix.</td>\n",
       "      <td>Done</td>\n",
       "      <td>0.000000</td>\n",
       "      <td>0.500000</td>\n",
       "    </tr>\n",
       "  </tbody>\n",
       "</table>\n",
       "</div>"
      ],
      "text/plain": [
       "                                       Open Comments       Decisions  \\\n",
       "0  Create a photo sheet that gives visual example...  Lower priority   \n",
       "1  Acceptable and unacceptable walking on roads a...       Easy fix.   \n",
       "2  Accessibility grade – Remove – with the except...           Check   \n",
       "3  Climbing over fences and walls  - similar to a...        Easy fix   \n",
       "4  Describe the route - a  maximum word limit of ...       Easy fix.   \n",
       "\n",
       "     Actions  polarity  subjectivity  \n",
       "0  Make this  0.000000      0.300000  \n",
       "1       Done -0.150000      0.600000  \n",
       "2       Done  0.075000      0.366667  \n",
       "3       Done  0.166667      0.333333  \n",
       "4       Done  0.000000      0.500000  "
      ]
     },
     "execution_count": 21,
     "metadata": {},
     "output_type": "execute_result"
    }
   ],
   "source": [
    "df1.head()"
   ]
  },
  {
   "cell_type": "code",
   "execution_count": null,
   "id": "344b62e3",
   "metadata": {},
   "outputs": [],
   "source": []
  },
  {
   "cell_type": "code",
   "execution_count": null,
   "id": "cc9c377d",
   "metadata": {},
   "outputs": [],
   "source": []
  }
 ],
 "metadata": {
  "kernelspec": {
   "display_name": "Python 3",
   "language": "python",
   "name": "python3"
  },
  "language_info": {
   "codemirror_mode": {
    "name": "ipython",
    "version": 3
   },
   "file_extension": ".py",
   "mimetype": "text/x-python",
   "name": "python",
   "nbconvert_exporter": "python",
   "pygments_lexer": "ipython3",
   "version": "3.8.8"
  },
  "toc": {
   "base_numbering": 1,
   "nav_menu": {},
   "number_sections": true,
   "sideBar": true,
   "skip_h1_title": false,
   "title_cell": "Table of Contents",
   "title_sidebar": "Contents",
   "toc_cell": false,
   "toc_position": {},
   "toc_section_display": true,
   "toc_window_display": false
  }
 },
 "nbformat": 4,
 "nbformat_minor": 5
}
