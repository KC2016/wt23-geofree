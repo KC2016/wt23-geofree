{
 "cells": [
  {
   "cell_type": "code",
   "execution_count": 7,
   "id": "b2d085e9",
   "metadata": {},
   "outputs": [
    {
     "name": "stdout",
     "output_type": "stream",
     "text": [
      "/Users/kcondeixa/repositories/wt23-geofree/venv/bin/python\r\n"
     ]
    }
   ],
   "source": [
    "!which python\n"
   ]
  },
  {
   "cell_type": "code",
   "execution_count": 12,
   "id": "b5b56951",
   "metadata": {},
   "outputs": [
    {
     "name": "stdout",
     "output_type": "stream",
     "text": [
      "Requirement already satisfied: translators in /Users/kcondeixa/repositories/wt23-geofree/venv/lib/python3.8/site-packages (5.5.6)\n",
      "Requirement already satisfied: requests>=2.28.1 in /Users/kcondeixa/repositories/wt23-geofree/venv/lib/python3.8/site-packages (from translators) (2.28.2)\n",
      "Requirement already satisfied: PyExecJS>=1.5.1 in /Users/kcondeixa/repositories/wt23-geofree/venv/lib/python3.8/site-packages (from translators) (1.5.1)\n",
      "Requirement already satisfied: cryptography>=38.0.1 in /Users/kcondeixa/repositories/wt23-geofree/venv/lib/python3.8/site-packages (from translators) (39.0.1)\n",
      "Requirement already satisfied: lxml>=4.9.1 in /Users/kcondeixa/repositories/wt23-geofree/venv/lib/python3.8/site-packages (from translators) (4.9.2)\n",
      "Requirement already satisfied: pathos>=0.2.9 in /Users/kcondeixa/repositories/wt23-geofree/venv/lib/python3.8/site-packages (from translators) (0.3.0)\n",
      "Requirement already satisfied: cffi>=1.12 in /Users/kcondeixa/repositories/wt23-geofree/venv/lib/python3.8/site-packages (from cryptography>=38.0.1->translators) (1.15.1)\n",
      "Requirement already satisfied: dill>=0.3.6 in /Users/kcondeixa/repositories/wt23-geofree/venv/lib/python3.8/site-packages (from pathos>=0.2.9->translators) (0.3.6)\n",
      "Requirement already satisfied: ppft>=1.7.6.6 in /Users/kcondeixa/repositories/wt23-geofree/venv/lib/python3.8/site-packages (from pathos>=0.2.9->translators) (1.7.6.6)\n",
      "Requirement already satisfied: multiprocess>=0.70.14 in /Users/kcondeixa/repositories/wt23-geofree/venv/lib/python3.8/site-packages (from pathos>=0.2.9->translators) (0.70.14)\n",
      "Requirement already satisfied: pox>=0.3.2 in /Users/kcondeixa/repositories/wt23-geofree/venv/lib/python3.8/site-packages (from pathos>=0.2.9->translators) (0.3.2)\n",
      "Requirement already satisfied: six>=1.10.0 in /Users/kcondeixa/repositories/wt23-geofree/venv/lib/python3.8/site-packages (from PyExecJS>=1.5.1->translators) (1.16.0)\n",
      "Requirement already satisfied: charset-normalizer<4,>=2 in /Users/kcondeixa/repositories/wt23-geofree/venv/lib/python3.8/site-packages (from requests>=2.28.1->translators) (3.0.1)\n",
      "Requirement already satisfied: certifi>=2017.4.17 in /Users/kcondeixa/repositories/wt23-geofree/venv/lib/python3.8/site-packages (from requests>=2.28.1->translators) (2022.12.7)\n",
      "Requirement already satisfied: idna<4,>=2.5 in /Users/kcondeixa/repositories/wt23-geofree/venv/lib/python3.8/site-packages (from requests>=2.28.1->translators) (3.4)\n",
      "Requirement already satisfied: urllib3<1.27,>=1.21.1 in /Users/kcondeixa/repositories/wt23-geofree/venv/lib/python3.8/site-packages (from requests>=2.28.1->translators) (1.26.14)\n",
      "Requirement already satisfied: pycparser in /Users/kcondeixa/repositories/wt23-geofree/venv/lib/python3.8/site-packages (from cffi>=1.12->cryptography>=38.0.1->translators) (2.21)\n"
     ]
    }
   ],
   "source": [
    "!pip3 install translators"
   ]
  },
  {
   "cell_type": "code",
   "execution_count": 15,
   "id": "6ed4afee",
   "metadata": {},
   "outputs": [
    {
     "ename": "ModuleNotFoundError",
     "evalue": "No module named 'googletrans'",
     "output_type": "error",
     "traceback": [
      "\u001b[0;31m---------------------------------------------------------------------------\u001b[0m",
      "\u001b[0;31mModuleNotFoundError\u001b[0m                       Traceback (most recent call last)",
      "\u001b[0;32m<ipython-input-15-c76bcb7d023a>\u001b[0m in \u001b[0;36m<module>\u001b[0;34m\u001b[0m\n\u001b[0;32m----> 1\u001b[0;31m \u001b[0;32mfrom\u001b[0m \u001b[0mgoogletrans\u001b[0m \u001b[0;32mimport\u001b[0m \u001b[0mTranslator\u001b[0m\u001b[0;34m\u001b[0m\u001b[0;34m\u001b[0m\u001b[0m\n\u001b[0m",
      "\u001b[0;31mModuleNotFoundError\u001b[0m: No module named 'googletrans'"
     ]
    }
   ],
   "source": [
    "from googletrans import Translator"
   ]
  },
  {
   "cell_type": "code",
   "execution_count": 1,
   "id": "02864eed",
   "metadata": {},
   "outputs": [
    {
     "ename": "ModuleNotFoundError",
     "evalue": "No module named 'translators'",
     "output_type": "error",
     "traceback": [
      "\u001b[0;31m---------------------------------------------------------------------------\u001b[0m",
      "\u001b[0;31mModuleNotFoundError\u001b[0m                       Traceback (most recent call last)",
      "\u001b[0;32m<ipython-input-1-8aac5810baaa>\u001b[0m in \u001b[0;36m<module>\u001b[0;34m\u001b[0m\n\u001b[0;32m----> 1\u001b[0;31m \u001b[0;32mimport\u001b[0m \u001b[0mtranslators\u001b[0m\u001b[0;34m\u001b[0m\u001b[0;34m\u001b[0m\u001b[0m\n\u001b[0m",
      "\u001b[0;31mModuleNotFoundError\u001b[0m: No module named 'translators'"
     ]
    }
   ],
   "source": [
    "import translators "
   ]
  },
  {
   "cell_type": "code",
   "execution_count": 2,
   "id": "b2e2525f",
   "metadata": {},
   "outputs": [
    {
     "ename": "NameError",
     "evalue": "name 'ts' is not defined",
     "output_type": "error",
     "traceback": [
      "\u001b[0;31m---------------------------------------------------------------------------\u001b[0m",
      "\u001b[0;31mNameError\u001b[0m                                 Traceback (most recent call last)",
      "\u001b[0;32m<ipython-input-2-a3546ed258fa>\u001b[0m in \u001b[0;36m<module>\u001b[0;34m\u001b[0m\n\u001b[0;32m----> 1\u001b[0;31m \u001b[0mts\u001b[0m\u001b[0;34m.\u001b[0m\u001b[0mgoogle\u001b[0m\u001b[0;34m(\u001b[0m\u001b[0;34m)\u001b[0m\u001b[0;34m\u001b[0m\u001b[0;34m\u001b[0m\u001b[0m\n\u001b[0m\u001b[1;32m      2\u001b[0m \u001b[0mts\u001b[0m\u001b[0;34m.\u001b[0m\u001b[0mdeepl\u001b[0m\u001b[0;34m(\u001b[0m\u001b[0;34m)\u001b[0m\u001b[0;34m\u001b[0m\u001b[0;34m\u001b[0m\u001b[0m\n\u001b[1;32m      3\u001b[0m \u001b[0mts\u001b[0m\u001b[0;34m.\u001b[0m\u001b[0mbaidu\u001b[0m\u001b[0;34m(\u001b[0m\u001b[0;34m)\u001b[0m\u001b[0;34m\u001b[0m\u001b[0;34m\u001b[0m\u001b[0m\n",
      "\u001b[0;31mNameError\u001b[0m: name 'ts' is not defined"
     ]
    }
   ],
   "source": [
    "ts.google()\n",
    "ts.deepl()\n",
    "ts.baidu()"
   ]
  },
  {
   "cell_type": "code",
   "execution_count": 6,
   "id": "da63c021",
   "metadata": {},
   "outputs": [
    {
     "ename": "NameError",
     "evalue": "name 'ts' is not defined",
     "output_type": "error",
     "traceback": [
      "\u001b[0;31m---------------------------------------------------------------------------\u001b[0m",
      "\u001b[0;31mNameError\u001b[0m                                 Traceback (most recent call last)",
      "\u001b[0;32m<ipython-input-6-d084819d3e87>\u001b[0m in \u001b[0;36m<module>\u001b[0;34m\u001b[0m\n\u001b[0;32m----> 1\u001b[0;31m \u001b[0mres\u001b[0m \u001b[0;34m=\u001b[0m \u001b[0mts\u001b[0m\u001b[0;34m.\u001b[0m\u001b[0mdeepl\u001b[0m\u001b[0;34m(\u001b[0m\u001b[0;34m\"Welcome to our tutorial!\"\u001b[0m\u001b[0;34m,\u001b[0m \u001b[0mto_language\u001b[0m\u001b[0;34m=\u001b[0m\u001b[0;34m'fr'\u001b[0m\u001b[0;34m)\u001b[0m\u001b[0;34m\u001b[0m\u001b[0;34m\u001b[0m\u001b[0m\n\u001b[0m\u001b[1;32m      2\u001b[0m \u001b[0mprint\u001b[0m\u001b[0;34m(\u001b[0m\u001b[0mres\u001b[0m\u001b[0;34m)\u001b[0m\u001b[0;34m\u001b[0m\u001b[0;34m\u001b[0m\u001b[0m\n",
      "\u001b[0;31mNameError\u001b[0m: name 'ts' is not defined"
     ]
    }
   ],
   "source": [
    "res = ts.deepl(\"Welcome to our tutorial!\", to_language='fr')\n",
    "print(res)"
   ]
  },
  {
   "cell_type": "code",
   "execution_count": null,
   "id": "35bb3254",
   "metadata": {},
   "outputs": [],
   "source": []
  },
  {
   "cell_type": "code",
   "execution_count": null,
   "id": "d9e28b98",
   "metadata": {},
   "outputs": [],
   "source": []
  },
  {
   "cell_type": "code",
   "execution_count": null,
   "id": "5423abbd",
   "metadata": {},
   "outputs": [],
   "source": []
  },
  {
   "cell_type": "code",
   "execution_count": null,
   "id": "c3c6919d",
   "metadata": {},
   "outputs": [],
   "source": []
  }
 ],
 "metadata": {
  "kernelspec": {
   "display_name": "Python 3",
   "language": "python",
   "name": "python3"
  },
  "language_info": {
   "codemirror_mode": {
    "name": "ipython",
    "version": 3
   },
   "file_extension": ".py",
   "mimetype": "text/x-python",
   "name": "python",
   "nbconvert_exporter": "python",
   "pygments_lexer": "ipython3",
   "version": "3.8.5"
  }
 },
 "nbformat": 4,
 "nbformat_minor": 5
}
