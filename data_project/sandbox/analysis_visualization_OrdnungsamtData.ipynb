{
 "cells": [
  {
   "cell_type": "markdown",
   "id": "8ac37dd3",
   "metadata": {},
   "source": [
    "# Data Analysis and Visualization\n",
    "Data from Ordnungsamt"
   ]
  },
  {
   "cell_type": "markdown",
   "id": "08aa4002",
   "metadata": {},
   "source": [
    "### Content\n",
    "1. Data Visualization \n",
    "2. Data Analysis\n",
    "\n",
    "### Questions to understand the data\n",
    "- What is the message pct per district?\n",
    "- Which district has the most resolved complaints?\n",
    "- Which district has the most resolved complaints?\n",
    "- Which district has complaints resolved the fastest?\n",
    "- what are the 6 repeated messages?\n",
    "- What day of the week has the most posts?\n",
    "- What time have more posts?\n",
    "\n",
    "--------------------------------\n",
    "- What is the mean of solved issues about bulky waste per distict?\n",
    "\n"
   ]
  },
  {
   "cell_type": "raw",
   "id": "cd0016be",
   "metadata": {},
   "source": []
  },
  {
   "cell_type": "code",
   "execution_count": null,
   "id": "7fb90d5a",
   "metadata": {},
   "outputs": [],
   "source": []
  },
  {
   "cell_type": "markdown",
   "id": "0abdb576",
   "metadata": {},
   "source": [
    "### Hypothesis\n",
    "\n",
    "- A new item doesn’t stay on streets more than one day\n",
    "-  Are Kreusberg and Neukölln the neighbourhood were more items are thrown away?\n",
    "- Most of the items thrown away are in bad condition (probably not possible to find)\n",
    "- Most of the items are throws away early in the morning, during weekends.\n",
    "\n",
    "\n",
    "TODO: everything. For now, it only have examples"
   ]
  },
  {
   "cell_type": "code",
   "execution_count": 1,
   "id": "d30b8fe0",
   "metadata": {},
   "outputs": [],
   "source": [
    "# import packages\n",
    "import pandas as pd\n",
    "import seaborn as sns\n",
    "import matplotlib.pyplot as plt\n",
    "import numpy as np\n",
    "# %matplotlib notebook\n",
    "# %matplotlib "
   ]
  },
  {
   "cell_type": "code",
   "execution_count": 2,
   "id": "34022932",
   "metadata": {},
   "outputs": [],
   "source": [
    "# set maximum number of rows\n",
    "pd.set_option('display.max_rows', 20)"
   ]
  },
  {
   "cell_type": "code",
   "execution_count": 3,
   "id": "7d46b009",
   "metadata": {},
   "outputs": [
    {
     "data": {
      "text/plain": [
       "(5408, 7)"
      ]
     },
     "execution_count": 3,
     "metadata": {},
     "output_type": "execute_result"
    }
   ],
   "source": [
    "# import the data\n",
    "df_original = pd.read_csv('data/data_ordnungsamt.csv')\n",
    "df_original.shape"
   ]
  },
  {
   "cell_type": "code",
   "execution_count": 4,
   "id": "5f209e8f",
   "metadata": {},
   "outputs": [
    {
     "data": {
      "text/html": [
       "<div>\n",
       "<style scoped>\n",
       "    .dataframe tbody tr th:only-of-type {\n",
       "        vertical-align: middle;\n",
       "    }\n",
       "\n",
       "    .dataframe tbody tr th {\n",
       "        vertical-align: top;\n",
       "    }\n",
       "\n",
       "    .dataframe thead th {\n",
       "        text-align: right;\n",
       "    }\n",
       "</style>\n",
       "<table border=\"1\" class=\"dataframe\">\n",
       "  <thead>\n",
       "    <tr style=\"text-align: right;\">\n",
       "      <th></th>\n",
       "      <th>id</th>\n",
       "      <th>meldungsNummern</th>\n",
       "      <th>bezirk</th>\n",
       "      <th>betreff</th>\n",
       "      <th>erstellungsDatum</th>\n",
       "      <th>status</th>\n",
       "      <th>sachverhalt</th>\n",
       "    </tr>\n",
       "  </thead>\n",
       "  <tbody>\n",
       "    <tr>\n",
       "      <th>0</th>\n",
       "      <td>527563</td>\n",
       "      <td>['ljf29']</td>\n",
       "      <td>Friedrichshain-Kreuzberg</td>\n",
       "      <td>Sperrmüll abgelagert (Spiegel)</td>\n",
       "      <td>18.01.2017 - 15:01:09</td>\n",
       "      <td>In Bearbeitung</td>\n",
       "      <td>Spiegel</td>\n",
       "    </tr>\n",
       "    <tr>\n",
       "      <th>1</th>\n",
       "      <td>527575</td>\n",
       "      <td>['51cx6p']</td>\n",
       "      <td>Friedrichshain-Kreuzberg</td>\n",
       "      <td>Sperrmüll abgelagert (Holz-/Regalteile)</td>\n",
       "      <td>18.01.2017 - 15:05:54</td>\n",
       "      <td>In Bearbeitung</td>\n",
       "      <td>Holz-/Regalteile</td>\n",
       "    </tr>\n",
       "    <tr>\n",
       "      <th>2</th>\n",
       "      <td>622944</td>\n",
       "      <td>['vf943l']</td>\n",
       "      <td>Lichtenberg</td>\n",
       "      <td>Park- und Haltverbot nicht berücksichtigt</td>\n",
       "      <td>11.04.2017 - 14:31:38</td>\n",
       "      <td>In Bearbeitung</td>\n",
       "      <td>Pkw in geschützter Grünanlage aufgefahren</td>\n",
       "    </tr>\n",
       "    <tr>\n",
       "      <th>3</th>\n",
       "      <td>681533</td>\n",
       "      <td>['pkyi2p']</td>\n",
       "      <td>Lichtenberg</td>\n",
       "      <td>Parken auf Gehweg</td>\n",
       "      <td>25.06.2017 - 13:09:47</td>\n",
       "      <td>In Bearbeitung</td>\n",
       "      <td>NaN</td>\n",
       "    </tr>\n",
       "    <tr>\n",
       "      <th>4</th>\n",
       "      <td>788708</td>\n",
       "      <td>['9axrlt']</td>\n",
       "      <td>Lichtenberg</td>\n",
       "      <td>Abfall - Müllablagerung</td>\n",
       "      <td>27.10.2017 - 12:30:24</td>\n",
       "      <td>In Bearbeitung</td>\n",
       "      <td>Bauschutt</td>\n",
       "    </tr>\n",
       "    <tr>\n",
       "      <th>5</th>\n",
       "      <td>883168</td>\n",
       "      <td>['uaxhc1']</td>\n",
       "      <td>Reinickendorf</td>\n",
       "      <td>Gehweg/Radweg zugeparkt</td>\n",
       "      <td>23.02.2018 - 16:50:57</td>\n",
       "      <td>In Bearbeitung</td>\n",
       "      <td>NaN</td>\n",
       "    </tr>\n",
       "    <tr>\n",
       "      <th>6</th>\n",
       "      <td>885548</td>\n",
       "      <td>['fn5am9']</td>\n",
       "      <td>Lichtenberg</td>\n",
       "      <td>Park- und Haltverbot nicht berücksichtigt</td>\n",
       "      <td>27.02.2018 - 21:12:00</td>\n",
       "      <td>In Bearbeitung</td>\n",
       "      <td>Kfz steht in der kurve. Mit plane abgedeckt.</td>\n",
       "    </tr>\n",
       "    <tr>\n",
       "      <th>7</th>\n",
       "      <td>890996</td>\n",
       "      <td>['56ups1']</td>\n",
       "      <td>Reinickendorf</td>\n",
       "      <td>Parkraumbewirtschaftung - Anwohner-, Gästevign...</td>\n",
       "      <td>06.03.2018 - 22:12:36</td>\n",
       "      <td>In Bearbeitung</td>\n",
       "      <td>ca. 13.22 Uhr\\n\\nkeine Vignette keine Parksche...</td>\n",
       "    </tr>\n",
       "    <tr>\n",
       "      <th>8</th>\n",
       "      <td>950160</td>\n",
       "      <td>['ysxgxt']</td>\n",
       "      <td>Reinickendorf</td>\n",
       "      <td>Straßenaufsicht - Defekte Ampel</td>\n",
       "      <td>08.05.2018 - 16:30:29</td>\n",
       "      <td>In Bearbeitung</td>\n",
       "      <td>Rotlicht an Ampel K5 komplett erloschen. Ampel...</td>\n",
       "    </tr>\n",
       "    <tr>\n",
       "      <th>9</th>\n",
       "      <td>1018325</td>\n",
       "      <td>['vgibr5']</td>\n",
       "      <td>Spandau</td>\n",
       "      <td>Parkraumbewirtschaftung - Sonstiges</td>\n",
       "      <td>12.07.2018 - 21:45:50</td>\n",
       "      <td>In Bearbeitung</td>\n",
       "      <td>Seit vier Tagen parkt in falscher Fahrtrichtun...</td>\n",
       "    </tr>\n",
       "  </tbody>\n",
       "</table>\n",
       "</div>"
      ],
      "text/plain": [
       "        id meldungsNummern                    bezirk  \\\n",
       "0   527563       ['ljf29']  Friedrichshain-Kreuzberg   \n",
       "1   527575      ['51cx6p']  Friedrichshain-Kreuzberg   \n",
       "2   622944      ['vf943l']               Lichtenberg   \n",
       "3   681533      ['pkyi2p']               Lichtenberg   \n",
       "4   788708      ['9axrlt']               Lichtenberg   \n",
       "5   883168      ['uaxhc1']             Reinickendorf   \n",
       "6   885548      ['fn5am9']               Lichtenberg   \n",
       "7   890996      ['56ups1']             Reinickendorf   \n",
       "8   950160      ['ysxgxt']             Reinickendorf   \n",
       "9  1018325      ['vgibr5']                   Spandau   \n",
       "\n",
       "                                             betreff       erstellungsDatum  \\\n",
       "0                     Sperrmüll abgelagert (Spiegel)  18.01.2017 - 15:01:09   \n",
       "1            Sperrmüll abgelagert (Holz-/Regalteile)  18.01.2017 - 15:05:54   \n",
       "2          Park- und Haltverbot nicht berücksichtigt  11.04.2017 - 14:31:38   \n",
       "3                                  Parken auf Gehweg  25.06.2017 - 13:09:47   \n",
       "4                            Abfall - Müllablagerung  27.10.2017 - 12:30:24   \n",
       "5                            Gehweg/Radweg zugeparkt  23.02.2018 - 16:50:57   \n",
       "6          Park- und Haltverbot nicht berücksichtigt  27.02.2018 - 21:12:00   \n",
       "7  Parkraumbewirtschaftung - Anwohner-, Gästevign...  06.03.2018 - 22:12:36   \n",
       "8                    Straßenaufsicht - Defekte Ampel  08.05.2018 - 16:30:29   \n",
       "9                Parkraumbewirtschaftung - Sonstiges  12.07.2018 - 21:45:50   \n",
       "\n",
       "           status                                        sachverhalt  \n",
       "0  In Bearbeitung                                            Spiegel  \n",
       "1  In Bearbeitung                                   Holz-/Regalteile  \n",
       "2  In Bearbeitung          Pkw in geschützter Grünanlage aufgefahren  \n",
       "3  In Bearbeitung                                                NaN  \n",
       "4  In Bearbeitung                                          Bauschutt  \n",
       "5  In Bearbeitung                                                NaN  \n",
       "6  In Bearbeitung      Kfz steht in der kurve. Mit plane abgedeckt.   \n",
       "7  In Bearbeitung  ca. 13.22 Uhr\\n\\nkeine Vignette keine Parksche...  \n",
       "8  In Bearbeitung  Rotlicht an Ampel K5 komplett erloschen. Ampel...  \n",
       "9  In Bearbeitung  Seit vier Tagen parkt in falscher Fahrtrichtun...  "
      ]
     },
     "execution_count": 4,
     "metadata": {},
     "output_type": "execute_result"
    }
   ],
   "source": [
    "df_original.head(10)"
   ]
  },
  {
   "cell_type": "code",
   "execution_count": 5,
   "id": "157f0b23",
   "metadata": {},
   "outputs": [
    {
     "data": {
      "text/plain": [
       "Index(['id', 'meldungsNummern', 'bezirk', 'betreff', 'erstellungsDatum',\n",
       "       'status', 'sachverhalt'],\n",
       "      dtype='object')"
      ]
     },
     "execution_count": 5,
     "metadata": {},
     "output_type": "execute_result"
    }
   ],
   "source": [
    "df_original.columns"
   ]
  },
  {
   "cell_type": "code",
   "execution_count": 6,
   "id": "02b23c9e",
   "metadata": {},
   "outputs": [],
   "source": [
    "# check the statistics \n",
    "# df_original.describe()"
   ]
  },
  {
   "cell_type": "code",
   "execution_count": 7,
   "id": "2cbac917",
   "metadata": {},
   "outputs": [
    {
     "name": "stdout",
     "output_type": "stream",
     "text": [
      "id                   0\n",
      "meldungsNummern      0\n",
      "bezirk               0\n",
      "betreff              0\n",
      "erstellungsDatum     0\n",
      "status               0\n",
      "sachverhalt         20\n",
      "dtype: int64\n"
     ]
    }
   ],
   "source": [
    "print(df_original.isnull().sum())"
   ]
  },
  {
   "cell_type": "code",
   "execution_count": 8,
   "id": "fa800e5a",
   "metadata": {},
   "outputs": [
    {
     "data": {
      "text/plain": [
       "count              5388\n",
       "unique             4443\n",
       "top       Einkaufswagen\n",
       "freq                 54\n",
       "Name: sachverhalt, dtype: object"
      ]
     },
     "execution_count": 8,
     "metadata": {},
     "output_type": "execute_result"
    }
   ],
   "source": [
    "df_original.sachverhalt.describe()"
   ]
  },
  {
   "cell_type": "code",
   "execution_count": 9,
   "id": "62c4fc07",
   "metadata": {},
   "outputs": [
    {
     "data": {
      "text/html": [
       "<div>\n",
       "<style scoped>\n",
       "    .dataframe tbody tr th:only-of-type {\n",
       "        vertical-align: middle;\n",
       "    }\n",
       "\n",
       "    .dataframe tbody tr th {\n",
       "        vertical-align: top;\n",
       "    }\n",
       "\n",
       "    .dataframe thead th {\n",
       "        text-align: right;\n",
       "    }\n",
       "</style>\n",
       "<table border=\"1\" class=\"dataframe\">\n",
       "  <thead>\n",
       "    <tr style=\"text-align: right;\">\n",
       "      <th></th>\n",
       "      <th>id</th>\n",
       "      <th>meldungsNummern</th>\n",
       "      <th>bezirk</th>\n",
       "      <th>betreff</th>\n",
       "      <th>erstellungsDatum</th>\n",
       "      <th>status</th>\n",
       "      <th>sachverhalt</th>\n",
       "    </tr>\n",
       "  </thead>\n",
       "  <tbody>\n",
       "    <tr>\n",
       "      <th>0</th>\n",
       "      <td>527563</td>\n",
       "      <td>['ljf29']</td>\n",
       "      <td>Friedrichshain-Kreuzberg</td>\n",
       "      <td>Sperrmüll abgelagert (Spiegel)</td>\n",
       "      <td>18.01.2017 - 15:01:09</td>\n",
       "      <td>In Bearbeitung</td>\n",
       "      <td>Spiegel</td>\n",
       "    </tr>\n",
       "    <tr>\n",
       "      <th>1</th>\n",
       "      <td>527575</td>\n",
       "      <td>['51cx6p']</td>\n",
       "      <td>Friedrichshain-Kreuzberg</td>\n",
       "      <td>Sperrmüll abgelagert (Holz-/Regalteile)</td>\n",
       "      <td>18.01.2017 - 15:05:54</td>\n",
       "      <td>In Bearbeitung</td>\n",
       "      <td>Holz-/Regalteile</td>\n",
       "    </tr>\n",
       "    <tr>\n",
       "      <th>2</th>\n",
       "      <td>622944</td>\n",
       "      <td>['vf943l']</td>\n",
       "      <td>Lichtenberg</td>\n",
       "      <td>Park- und Haltverbot nicht berücksichtigt</td>\n",
       "      <td>11.04.2017 - 14:31:38</td>\n",
       "      <td>In Bearbeitung</td>\n",
       "      <td>Pkw in geschützter Grünanlage aufgefahren</td>\n",
       "    </tr>\n",
       "    <tr>\n",
       "      <th>3</th>\n",
       "      <td>681533</td>\n",
       "      <td>['pkyi2p']</td>\n",
       "      <td>Lichtenberg</td>\n",
       "      <td>Parken auf Gehweg</td>\n",
       "      <td>25.06.2017 - 13:09:47</td>\n",
       "      <td>In Bearbeitung</td>\n",
       "      <td>NaN</td>\n",
       "    </tr>\n",
       "    <tr>\n",
       "      <th>4</th>\n",
       "      <td>788708</td>\n",
       "      <td>['9axrlt']</td>\n",
       "      <td>Lichtenberg</td>\n",
       "      <td>Abfall - Müllablagerung</td>\n",
       "      <td>27.10.2017 - 12:30:24</td>\n",
       "      <td>In Bearbeitung</td>\n",
       "      <td>Bauschutt</td>\n",
       "    </tr>\n",
       "    <tr>\n",
       "      <th>...</th>\n",
       "      <td>...</td>\n",
       "      <td>...</td>\n",
       "      <td>...</td>\n",
       "      <td>...</td>\n",
       "      <td>...</td>\n",
       "      <td>...</td>\n",
       "      <td>...</td>\n",
       "    </tr>\n",
       "    <tr>\n",
       "      <th>5403</th>\n",
       "      <td>4332959</td>\n",
       "      <td>['h1j475']</td>\n",
       "      <td>Friedrichshain-Kreuzberg</td>\n",
       "      <td>Abfall - Müllablagerung</td>\n",
       "      <td>27.02.2023 - 18:15:00</td>\n",
       "      <td>Erledigt</td>\n",
       "      <td>Jede Menge Altkleider die seit Wochen nass und...</td>\n",
       "    </tr>\n",
       "    <tr>\n",
       "      <th>5404</th>\n",
       "      <td>4332991</td>\n",
       "      <td>['451zwh']</td>\n",
       "      <td>Friedrichshain-Kreuzberg</td>\n",
       "      <td>Abfall - Sperrmüll</td>\n",
       "      <td>27.02.2023 - 19:18:26</td>\n",
       "      <td>Erledigt</td>\n",
       "      <td>BSR: 2 Sessel #27022023</td>\n",
       "    </tr>\n",
       "    <tr>\n",
       "      <th>5405</th>\n",
       "      <td>4332976</td>\n",
       "      <td>['lmcf0h']</td>\n",
       "      <td>Friedrichshain-Kreuzberg</td>\n",
       "      <td>Abfall - Sonstiges</td>\n",
       "      <td>27.02.2023 - 19:32:33</td>\n",
       "      <td>Erledigt</td>\n",
       "      <td>Ein Zelt nebst einigen Klamotten, Hausrat. etc...</td>\n",
       "    </tr>\n",
       "    <tr>\n",
       "      <th>5406</th>\n",
       "      <td>4332954</td>\n",
       "      <td>['rq3hfl']</td>\n",
       "      <td>Friedrichshain-Kreuzberg</td>\n",
       "      <td>Abfall - Müllablagerung</td>\n",
       "      <td>27.02.2023 - 19:46:26</td>\n",
       "      <td>Erledigt</td>\n",
       "      <td>Glasmüll und Plastikmüll neben Glascontainern</td>\n",
       "    </tr>\n",
       "    <tr>\n",
       "      <th>5407</th>\n",
       "      <td>4333329</td>\n",
       "      <td>['gkoav5']</td>\n",
       "      <td>Lichtenberg</td>\n",
       "      <td>Abfall - Elektroschrott</td>\n",
       "      <td>28.02.2023 - 08:36:47</td>\n",
       "      <td>In Bearbeitung</td>\n",
       "      <td>Zwei Flachbildfernseher</td>\n",
       "    </tr>\n",
       "  </tbody>\n",
       "</table>\n",
       "<p>5408 rows × 7 columns</p>\n",
       "</div>"
      ],
      "text/plain": [
       "           id meldungsNummern                    bezirk  \\\n",
       "0      527563       ['ljf29']  Friedrichshain-Kreuzberg   \n",
       "1      527575      ['51cx6p']  Friedrichshain-Kreuzberg   \n",
       "2      622944      ['vf943l']               Lichtenberg   \n",
       "3      681533      ['pkyi2p']               Lichtenberg   \n",
       "4      788708      ['9axrlt']               Lichtenberg   \n",
       "...       ...             ...                       ...   \n",
       "5403  4332959      ['h1j475']  Friedrichshain-Kreuzberg   \n",
       "5404  4332991      ['451zwh']  Friedrichshain-Kreuzberg   \n",
       "5405  4332976      ['lmcf0h']  Friedrichshain-Kreuzberg   \n",
       "5406  4332954      ['rq3hfl']  Friedrichshain-Kreuzberg   \n",
       "5407  4333329      ['gkoav5']               Lichtenberg   \n",
       "\n",
       "                                        betreff       erstellungsDatum  \\\n",
       "0                Sperrmüll abgelagert (Spiegel)  18.01.2017 - 15:01:09   \n",
       "1       Sperrmüll abgelagert (Holz-/Regalteile)  18.01.2017 - 15:05:54   \n",
       "2     Park- und Haltverbot nicht berücksichtigt  11.04.2017 - 14:31:38   \n",
       "3                             Parken auf Gehweg  25.06.2017 - 13:09:47   \n",
       "4                       Abfall - Müllablagerung  27.10.2017 - 12:30:24   \n",
       "...                                         ...                    ...   \n",
       "5403                    Abfall - Müllablagerung  27.02.2023 - 18:15:00   \n",
       "5404                         Abfall - Sperrmüll  27.02.2023 - 19:18:26   \n",
       "5405                         Abfall - Sonstiges  27.02.2023 - 19:32:33   \n",
       "5406                    Abfall - Müllablagerung  27.02.2023 - 19:46:26   \n",
       "5407                    Abfall - Elektroschrott  28.02.2023 - 08:36:47   \n",
       "\n",
       "              status                                        sachverhalt  \n",
       "0     In Bearbeitung                                            Spiegel  \n",
       "1     In Bearbeitung                                   Holz-/Regalteile  \n",
       "2     In Bearbeitung          Pkw in geschützter Grünanlage aufgefahren  \n",
       "3     In Bearbeitung                                                NaN  \n",
       "4     In Bearbeitung                                          Bauschutt  \n",
       "...              ...                                                ...  \n",
       "5403        Erledigt  Jede Menge Altkleider die seit Wochen nass und...  \n",
       "5404        Erledigt                            BSR: 2 Sessel #27022023  \n",
       "5405        Erledigt  Ein Zelt nebst einigen Klamotten, Hausrat. etc...  \n",
       "5406        Erledigt      Glasmüll und Plastikmüll neben Glascontainern  \n",
       "5407  In Bearbeitung                            Zwei Flachbildfernseher  \n",
       "\n",
       "[5408 rows x 7 columns]"
      ]
     },
     "execution_count": 9,
     "metadata": {},
     "output_type": "execute_result"
    }
   ],
   "source": [
    "df = df_original.copy()\n",
    "df"
   ]
  },
  {
   "cell_type": "markdown",
   "id": "094a6da1",
   "metadata": {},
   "source": [
    "### Data types"
   ]
  },
  {
   "cell_type": "code",
   "execution_count": 10,
   "id": "300a473a",
   "metadata": {},
   "outputs": [
    {
     "name": "stdout",
     "output_type": "stream",
     "text": [
      "<class 'pandas.core.frame.DataFrame'>\n",
      "RangeIndex: 5408 entries, 0 to 5407\n",
      "Data columns (total 7 columns):\n",
      " #   Column            Non-Null Count  Dtype \n",
      "---  ------            --------------  ----- \n",
      " 0   id                5408 non-null   int64 \n",
      " 1   meldungsNummern   5408 non-null   object\n",
      " 2   bezirk            5408 non-null   object\n",
      " 3   betreff           5408 non-null   object\n",
      " 4   erstellungsDatum  5408 non-null   object\n",
      " 5   status            5408 non-null   object\n",
      " 6   sachverhalt       5388 non-null   object\n",
      "dtypes: int64(1), object(6)\n",
      "memory usage: 295.9+ KB\n"
     ]
    }
   ],
   "source": [
    "df.info()"
   ]
  },
  {
   "cell_type": "markdown",
   "id": "6c6d9ae4",
   "metadata": {},
   "source": [
    "### Transform id column in string"
   ]
  },
  {
   "cell_type": "code",
   "execution_count": 11,
   "id": "51919d19",
   "metadata": {},
   "outputs": [],
   "source": [
    "df['id'] = df['id'].map(str)\n",
    "# df.info()"
   ]
  },
  {
   "cell_type": "code",
   "execution_count": null,
   "id": "c297e186",
   "metadata": {},
   "outputs": [],
   "source": []
  },
  {
   "cell_type": "code",
   "execution_count": 12,
   "id": "1e00c459",
   "metadata": {},
   "outputs": [],
   "source": [
    "# df['erstellungsDatum'] = pd.to_datetime(df['erstellungsDatum']) \n",
    "# df['erstellungsDatum']"
   ]
  },
  {
   "cell_type": "markdown",
   "id": "563e94cf",
   "metadata": {},
   "source": [
    "### Removing other disturbances"
   ]
  },
  {
   "cell_type": "code",
   "execution_count": 13,
   "id": "dddfb877",
   "metadata": {},
   "outputs": [
    {
     "data": {
      "text/plain": [
       "array(['Sperrmüll abgelagert (Spiegel)',\n",
       "       'Sperrmüll abgelagert (Holz-/Regalteile)',\n",
       "       'Park- und Haltverbot nicht berücksichtigt', 'Parken auf Gehweg',\n",
       "       'Abfall - Müllablagerung', 'Gehweg/Radweg zugeparkt',\n",
       "       'Parkraumbewirtschaftung - Anwohner-, Gästevignetten',\n",
       "       'Straßenaufsicht - Defekte Ampel',\n",
       "       'Parkraumbewirtschaftung - Sonstiges', 'Grünanlage/Park - Grillen',\n",
       "       'Abfall - Sperrmüll', 'Abfall - Bauabfälle, Bauschutt',\n",
       "       'Grünanlage/Park - Campieren, Zelten', 'Lärm - Gaststätte',\n",
       "       'Sondernutzung - Schankvorgärten (Tische und Stühle) KORI AND FAY',\n",
       "       'Abfall - Sonstiges',\n",
       "       'Parkraumbewirtschaftung - Ausnahme, Betriebsvignetten',\n",
       "       'Straßenaufsicht - Wildwuchs von Privatgelände', 'Campieren',\n",
       "       'Obdachlosenunterkunft',\n",
       "       'Straßenverkehrsrechtliche Anordnungen - Verkehrszeichen',\n",
       "       'Ladenöffnung - Sonn- und Feiertage',\n",
       "       'Sondernutzung - Abfallcontainer', 'Straßenaufsicht - Sonstiges',\n",
       "       'Baustellen - Sonstiges',\n",
       "       'Straßenaufsicht - Defekte Straßenbeleuchtung',\n",
       "       'Abfall - Bioabfälle',\n",
       "       'Straßenverkehrsrechtliche Anordnungen - Baustellen',\n",
       "       'Gewerbe/Gaststätten - Beschwerden', 'Betreff fehlt',\n",
       "       'Bauabfälle abgelagert', 'Kanister (unbekannte Stoffe) abgelagert',\n",
       "       'Grünanlage/Park - Beschädigung', 'Verkehr - Sonstiges',\n",
       "       'Sondernutzung - Altkleidercontainer', 'Sperrmüll abgelagert',\n",
       "       'Lärm - Gewerbe', 'Müllablagerung',\n",
       "       'Baumschutz - fehlender Baumschnitt, loser Ast',\n",
       "       'Abfall - Privatfläche Schrottfahrräder ',\n",
       "       'Grünanlage/Park - Müll, Verschmutzung',\n",
       "       'Straßenaufsicht - Radwegschäden',\n",
       "       'Gesundheitsschutz/Hygiene - Ungeziefer (z. B. Ratten)',\n",
       "       'Elektroschrott abgelagert', 'Abfall - aus Gewerbebetrieben',\n",
       "       'Abfall - Papierkörbe',\n",
       "       'Straßenaufsicht - Straßen- und Gehwegschäden',\n",
       "       'Baustellen - fehlende, mangelnde Absicherung',\n",
       "       'Abfall - Sonderabfälle', 'Spielplätze', 'Lärm',\n",
       "       'Abfall - Privatfläche', 'Abfall - Elektroschrott',\n",
       "       'Grünanlage/Park - KFZ, Auto', 'Privatfläche - Campieren - Müll',\n",
       "       'Hund - Beaufsichtigungspflicht', 'Rundschacht',\n",
       "       'Abfall - Autowrack', 'Poller', 'schieber steht hoch ',\n",
       "       'kaputtes Fahrrad ', 'Ratte kam aus der Hecke.',\n",
       "       'Abfall - Schrottfahrräder', 'Regeneinläufe, Gully',\n",
       "       'Sondernutzung - Herausstellen von Waren und Gegenständen',\n",
       "       'Bauaufsicht - Sonstiges', 'Rettungs und Brandschutzgefährdung',\n",
       "       'Schrott Roller ohne Kennzeichen im Durchgang zur Schwäbischen Str.',\n",
       "       'Straßenverkehrsrechtliche Anordnungen - Anfrage Schwerbehindertenparkplatz',\n",
       "       'Sondernutzung - Herausstellen von Werbetafeln',\n",
       "       'Baumschutz - Sonstiges', 'Anhänger (14 Tage)',\n",
       "       'Straßenaufsicht - Mangelnde Straßenreinigung',\n",
       "       'Gewerbe/Gaststätten - Sonstiges',\n",
       "       'Sondernutzung - Schankvorgärten (Tische und Stühle)',\n",
       "       'Bauaufsicht - Bauruine, Grundstücksabsicherung',\n",
       "       'Müll Steinhellenweg ',\n",
       "       'Straßenaufsicht - Verkehrszeichen (beschädigt, defekt, etc.)',\n",
       "       'Wasser auf der Straße', 'Verkehr',\n",
       "       'Straßenverkehrsrechtliche Anordnungen - Sonstiges',\n",
       "       'Grünanlage/Park - Sonstiges', 'Anhänger Sonstiges',\n",
       "       'Hindernisse auf Radweg', 'Hindernisse auf Radweg ', 'Wilder Müll',\n",
       "       'Sondernutzung - Plakatierung', 'unerlaubte bestuhlung',\n",
       "       'Fußgängerüberwege verstellt',\n",
       "       'Parkraumbewirtschaftung - Parkscheinautomat',\n",
       "       'Sondernutzung - Bauschuttcontainer', 'Toiletten ',\n",
       "       'Sonstiges - allgemeine Anfrage und Auskunft', 'Hund - ohne Leine',\n",
       "       'eigenmächtiges Absperren Baustelle',\n",
       "       'Zugang zum Markt Breslauer Platz', 'Plastikeinkaufstüten',\n",
       "       'Grünanlage/Park - unangeleinte Hunde',\n",
       "       'Straßenaufsicht - Gehölzschnitt an Bäumen, Büschen auf öffentlichem Straßenland',\n",
       "       'Rattenbefall und Müll', 'Kfz ohne Kennzeichen (außer Autowrack)',\n",
       "       'Verkehrsbehinderung allgemein', 'Motorroller/Kleinkraftrad',\n",
       "       'Sondernutzung - Sonstiges', 'Grünanlage/Park - Wildwuchs',\n",
       "       'Abfall - Motorrad Wrack an Baustelle', 'Gehweg ',\n",
       "       'Scooter Marke Piaggio, abgelaufenes Versicherungskennzeichen',\n",
       "       'Lärm - Verkehr', 'Gewerbe/Gaststätten - Anfragen',\n",
       "       'Naturschutzgebiet - Sonstiges',\n",
       "       'Fahrradentsorgung mit Bolzenschneider durch Ordnungsamt',\n",
       "       'Schankvorgärten, Herausstellen von Waren/ Gegenständen, Baumscheiben, Märkte u.a.',\n",
       "       'Kfz ohne gültiges Kennzeichen', 'Parkregelung',\n",
       "       'Abfall - Schrottfahrräder und Müll', 'Illegales Campen',\n",
       "       'Abfall - Bauabfälle, Bauschutt-Container und Material',\n",
       "       'Lärm durch Gaststätte', 'Mülltonnen Sperrmüll und Einkaufswagen ',\n",
       "       'Abgestelltes Fahrrad', 'Tierschutz - Wildtiere',\n",
       "       'Illegale Müllentsorgung', 'Abfall - Autoreifen ',\n",
       "       'Bank ist weg, auch vor der Metaner Apotheke', 'Lärm - Sonstiges',\n",
       "       'Verkehr - Hauptuntersuchung, TÜV', 'Fuß und Fahrradweg',\n",
       "       'Verkehr nicht zugelassendes Auto', 'Baumschutz - Anfragen',\n",
       "       'halteverbot', 'Baustellenberäumung', 'Abgestelltes Motorrad',\n",
       "       'Missbrauch von Laternenpfählen / Reklame',\n",
       "       'Radverkehr auf Gehweg ',\n",
       "       'Motoröl auf der Straße durch parkendes Auto',\n",
       "       'Sehr häufiges Hundegebell', 'Verkehr - Radfahren auf Gehwegen',\n",
       "       'Verteilerkasten ', 'Tische und Stühle auf Gehweg ',\n",
       "       'Gefahrenstelle durch Schaden des Belags des Radwegs',\n",
       "       'Camp von Drogenabhängigen',\n",
       "       'Spielstraße/Marktgelände Poller nicht eingesetzt ',\n",
       "       'Tierschutz - Sonstiges', 'Wildwuchs von Privatgelände',\n",
       "       'Stolperfalle', 'Gehweg senkt sich ab / Unterspülung?',\n",
       "       'Grünanlage/Park - Fahrradfahren (unerlaubt)', 'Hundegebell',\n",
       "       'Schäden auf dem Fahrradweg', 'Bvg', 'Kleinbus ',\n",
       "       'LKW (Firma LEX) Parken', 'Parken LKW über 7,5 t', 'Parken Busse ',\n",
       "       'Gehweg Steine locker', 'Verwaiste Baustelle ',\n",
       "       'illegale Ablagerung', 'Kfz  ohne Kennzeichen ',\n",
       "       'Autowrack abgelagert', 'Schrottfahrräder ', 'Friedhofsordnung',\n",
       "       'Nicht genehmigte Werbeplakate', 'Illegaler Sperrmüll', 'Müll',\n",
       "       'Abfall - Tierkadaver/tote Tiere', 'kaputte Glasscheibe',\n",
       "       'Parkraumbewirtschaftung - Parkgebühren',\n",
       "       'wanderndes absolutes Halterverbotsschild', 'Bioabfälle',\n",
       "       'Meldung vom 7.9.2022', 'Papierkörbe', 'Bootsanhänger mit Boot',\n",
       "       'Parkraumbewirtschaftung - Parkscheinautomaten',\n",
       "       'gefährliches Hindernis', 'Herrenloses Fahrrad', 'Fahrradwrack',\n",
       "       'Fahrrad ', 'Straßenaufsicht - Defekte Parkscheinautomaten',\n",
       "       'KFZ ohne Kennzeichnen', 'Schrottrad', 'Anhänger',\n",
       "       'Gesundheitsschutz/Hygiene - Sonstiges',\n",
       "       'Luftverschmutzung durch Verbrennung', 'Lärm - Veranstaltungen',\n",
       "       'Licht/Bauarbeiten', 'Werbekärtchen am Auto', 'Parken',\n",
       "       'Sperrmüll', 'Anhänger seht seit Wochen abgestellt ',\n",
       "       'Spielstraße',\n",
       "       'KFZ-Teile,die möglicherweise Betriebsstoffe enthalten (gefährliche Abfälle) abgelagert',\n",
       "       'Holzpalette', 'Abfall - Glas',\n",
       "       'Lärm - Haus- und Nachbarschaftslärm outdoor',\n",
       "       'widerrechtlich abgestellte Anhänger, Wohnwagen, Fahrräder und Zeitungswagen ',\n",
       "       'Flaschencontainer überfüllt ', 'Fahrradleiche ', 'Verkaufshänger',\n",
       "       'Parkverbot wird nie eingehalten und konsequent ignoriert',\n",
       "       'Wahlwerbung ordnungswidrig angebracht', 'Illegales Werbeschild?',\n",
       "       'Weihnachtsbäume',\n",
       "       'Weihnachtsbäume wurden bis jetzt nicht abgeholt ',\n",
       "       'Lärm - Haus- und Nachbarschaftslärm indoor',\n",
       "       'Abfall - Weihnachtsbäume', 'Brandreste', 'Unerlaubte Werbung',\n",
       "       'Behinderung auf dem Gehweg', 'Radfahrerinnen auf den Gehwegen',\n",
       "       'Ausnahme / Betriebsvignetten', 'Lärm - Fahrzeug/Motor',\n",
       "       'Baustellen Barken', 'KFZ mitAbgelaufener TÜV',\n",
       "       '13 Abfall - Schrottfahrräder', 'Parkverbot ', 'Taxistand ',\n",
       "       'Beschriftung mangelhaft Beschilderung', 'Parken auf der Kreuzung',\n",
       "       'Schrottroller', 'Fußgängergefahr ', 'Jugendschutz - Rauchen',\n",
       "       'Falschparkende Autos', 'Fahren auf Busspur',\n",
       "       'Parken in Feuerwehrzufahrt', 'Falschparker',\n",
       "       'Nichtraucherschutz - Sonstiges',\n",
       "       'Fässer (unbekannte Stoffe) abgelagert',\n",
       "       'Krankheitserregendes Taubennest über Balkon',\n",
       "       'Jugendschutz - Trinken von Alkohol in der Öffentlichkeit',\n",
       "       'Garageneinfahrt',\n",
       "       'Parkt auf den gehweg so das die Leute nicht durch kommen . Er parkt da immer ',\n",
       "       'Abgestellte Einkaufswagen', 'Roller auf Gehweg', 'e roller',\n",
       "       'Baumschutz - Parken auf Baumscheibe', 'Vandalismus',\n",
       "       'Jugendschutz - Drogen',\n",
       "       'Mögliche Blendgefahr durch private Aussenbeleuchtung',\n",
       "       'Fundsache: 1 Herrenfahrrad, 1 Damenfahrrad',\n",
       "       'Fußgängerüberweg ist zugestellt durch Fahrzeuge',\n",
       "       'Parkraumbewirtschaftung - Handy-, SMS-Parken',\n",
       "       'parkraumbewirtschaftung sonstiges',\n",
       "       'Poller am Ende der Sackgasse fehlt',\n",
       "       'Straßenschild mit Namen fehlt', 'Einkaufswägen', 'Fahrzeug ',\n",
       "       'Falschparker / Fußgängerübergang',\n",
       "       'Dauerhaft geparkte Anhänger und Wohnmobil ',\n",
       "       'Einkaufswagen auf dem Gehweg. ', 'parken', 'Toiletten, Container',\n",
       "       'Schutt-Container -', 'Falschparker ', 'Loch in der Fahrbahn ',\n",
       "       'Widerrechtliches parken',\n",
       "       'Anhänger mit Werbung seit mehr als 14 Tagen ', 'Taxihalte...',\n",
       "       'Parteiwerbung an privaten Gebäuden', 'Sonstiges',\n",
       "       'Pflanzenwuchs aud dem fussweg', 'Giftköder/Rattengift ',\n",
       "       'Blockieren Ladesäule ', 'Ganz Zeit Busspur blockiert ',\n",
       "       'Parkverbot', 'Hausmüll', 'Glatte Bürgersteige ',\n",
       "       'Halteverbot Zeichen 283', 'Naturschutzgebiet - Anfragen',\n",
       "       'Radweg räumen und streuen!', 'Fahrzeug blockiert Garagenausfahrt',\n",
       "       'Gelöste Dachziegel', 'Hauseingänge ist nicht gefegt und gestreut',\n",
       "       'Parken Fläche für die Feuerwehr ', 'Elektroroller',\n",
       "       'LKW - Parken', 'Drogenutensilien (z.B. Spritze) - Sonstiges',\n",
       "       'Ein-, Ausfahrt zugeparkt', 'Parken im absoluten Halteverbot ',\n",
       "       'Hund - Hundekot (Beseitigungspflicht)',\n",
       "       'Dauerbeleuchtung auf Balkon/Dachgeschoss ', 'BVG',\n",
       "       'entsorgtes Verpackungsmaterial', 'Wahlplakat unter 2,5m',\n",
       "       'Ruhestörung ', 'Halteverbot', 'steht falsch ',\n",
       "       'Widerrechtlich geparkt ', 'Winterdienst - Radwege',\n",
       "       'gefährliche Abfälle', 'Verkehr - Anhängerparken',\n",
       "       'mutwillige Müllkastenöffnung', 'Seit 2 Jahren angefasst dort',\n",
       "       'Wochenlang auf dem Radweg abgelegter Bauschutt', 'Baumschutz',\n",
       "       'Lärm - Straßenmusik',\n",
       "       'Verkehrsschilder die nicht abgeholt werden', 'Postfahrrad',\n",
       "       'Drogenutensilien (z.B. Spritze) - öffentliches Straßenland ',\n",
       "       'Verkehr; ruhender Verkehr', 'Parken bei abgesenkten Bordstein ',\n",
       "       'Geschwindigkeits-Überschreitung',\n",
       "       'Wilde Müllablagerungen, Eichbuschallee 40, 12437 Berlin. (ungefähre Angabe)',\n",
       "       'KfZ ohne TÜV', 'Hausmüll, Wandfarbe', 'Busspur blockiert ',\n",
       "       'Baucontainer', 'Abfall, Autoreifen', 'Parken auf dem Fahrradweg',\n",
       "       'Mülltonnen', 'Abfall - Unrat (Werbezettel)',\n",
       "       'parken in Lieferzone', 'Baufirma verstellt fußweg komplett ',\n",
       "       'Ferkehrsschild', 'Streusalz Eimer ', 'Abfall - Autowrack ?',\n",
       "       'kaputter Lime Scooter', 'gewerbelärm', 'Parken im Haltverbot',\n",
       "       'Gelber Sack', 'Gewerbe/Gaststätten - Geldspielgeräte/Glücksspiel',\n",
       "       'Zufahrt', 'veraltete Beschilderung', 'Schrottfahrräder',\n",
       "       'Parken im absoluten Halteverbot und auf dem Bürgersteig',\n",
       "       'Lärm - Baustelle', 'Lärm - Feuerwerk', 'taxishaltestelle',\n",
       "       'Gefahrenstelle', 'E-Skooter falsch abgestellt',\n",
       "       'Straßenschild beschädigt',\n",
       "       'Drogenutensilien (z.B. Spritze) - Grünanlage/Park',\n",
       "       'Profilierungsfahrten', 'falsch parken',\n",
       "       'gefährliche Abfälle-Gasflasche', 'Kleidung',\n",
       "       'Unfallgefahr durch ungesicherte Baustelle',\n",
       "       'Loose Gehweg Platten ', 'Lärm - Tierhaltung (z. B. Bellen)',\n",
       "       'schlagloch', 'Schlagloch ', 'Sandhaufen ', 'Poller fehlt ',\n",
       "       'Videoüberwachung ', 'Fahrzeug ohne Kennzeichen', 'Beschilderung',\n",
       "       'Fußgängerüberweg ', 'Laubsäge ', 'Straßenaufsicht - Baum fehlt',\n",
       "       'Einkaufswagen ', 'Verwechslung Flohmarkt Tramhaltestelle',\n",
       "       'Ladestation E-Fahrzeuge', 'Auto Seasonkennzeichen',\n",
       "       'Fahrbahnmarkierung ', 'Parken im Haltverbot mit Behinderung',\n",
       "       'Abgeklebtes Verkehrszeichen ',\n",
       "       'Langzeit abgestellte Wohnanhänger',\n",
       "       'Fahrradspur Belag auf Friedenauer Brücke', 'Gehweg blockiert ',\n",
       "       'Weihnachten', 'nächtliche ruhestörung lieferverkehr',\n",
       "       'Grosses Loch in der Fahrbahn ', 'Grosses Schlagloch ',\n",
       "       'Reperatur des Fahrzeugs auf der rechten seite'], dtype=object)"
      ]
     },
     "execution_count": 13,
     "metadata": {},
     "output_type": "execute_result"
    }
   ],
   "source": [
    "df.betreff.unique()"
   ]
  },
  {
   "cell_type": "code",
   "execution_count": 14,
   "id": "1020445c",
   "metadata": {},
   "outputs": [
    {
     "data": {
      "text/html": [
       "<div>\n",
       "<style scoped>\n",
       "    .dataframe tbody tr th:only-of-type {\n",
       "        vertical-align: middle;\n",
       "    }\n",
       "\n",
       "    .dataframe tbody tr th {\n",
       "        vertical-align: top;\n",
       "    }\n",
       "\n",
       "    .dataframe thead th {\n",
       "        text-align: right;\n",
       "    }\n",
       "</style>\n",
       "<table border=\"1\" class=\"dataframe\">\n",
       "  <thead>\n",
       "    <tr style=\"text-align: right;\">\n",
       "      <th></th>\n",
       "      <th>id</th>\n",
       "      <th>meldungsNummern</th>\n",
       "      <th>bezirk</th>\n",
       "      <th>betreff</th>\n",
       "      <th>erstellungsDatum</th>\n",
       "      <th>status</th>\n",
       "      <th>sachverhalt</th>\n",
       "    </tr>\n",
       "  </thead>\n",
       "  <tbody>\n",
       "    <tr>\n",
       "      <th>0</th>\n",
       "      <td>527563</td>\n",
       "      <td>['ljf29']</td>\n",
       "      <td>Friedrichshain-Kreuzberg</td>\n",
       "      <td>Sperrmüll abgelagert (Spiegel)</td>\n",
       "      <td>18.01.2017 - 15:01:09</td>\n",
       "      <td>In Bearbeitung</td>\n",
       "      <td>Spiegel</td>\n",
       "    </tr>\n",
       "    <tr>\n",
       "      <th>1</th>\n",
       "      <td>527575</td>\n",
       "      <td>['51cx6p']</td>\n",
       "      <td>Friedrichshain-Kreuzberg</td>\n",
       "      <td>Sperrmüll abgelagert (Holz-/Regalteile)</td>\n",
       "      <td>18.01.2017 - 15:05:54</td>\n",
       "      <td>In Bearbeitung</td>\n",
       "      <td>Holz-/Regalteile</td>\n",
       "    </tr>\n",
       "    <tr>\n",
       "      <th>59</th>\n",
       "      <td>1804983</td>\n",
       "      <td>['b6pfcx']</td>\n",
       "      <td>Neukölln</td>\n",
       "      <td>Sperrmüll abgelagert</td>\n",
       "      <td>06.05.2020 - 10:50:02</td>\n",
       "      <td>In Bearbeitung</td>\n",
       "      <td>Sperrmüll</td>\n",
       "    </tr>\n",
       "    <tr>\n",
       "      <th>69</th>\n",
       "      <td>1952905</td>\n",
       "      <td>['2a1t6p']</td>\n",
       "      <td>Neukölln</td>\n",
       "      <td>Sperrmüll abgelagert</td>\n",
       "      <td>20.08.2020 - 09:06:18</td>\n",
       "      <td>In Bearbeitung</td>\n",
       "      <td>Sperrmüll</td>\n",
       "    </tr>\n",
       "    <tr>\n",
       "      <th>82</th>\n",
       "      <td>2059167</td>\n",
       "      <td>['rw035t']</td>\n",
       "      <td>Neukölln</td>\n",
       "      <td>Sperrmüll abgelagert</td>\n",
       "      <td>04.11.2020 - 08:02:10</td>\n",
       "      <td>In Bearbeitung</td>\n",
       "      <td>Sehr geehrtes Team,\\n\\nauf der Gradestraße, zw...</td>\n",
       "    </tr>\n",
       "    <tr>\n",
       "      <th>...</th>\n",
       "      <td>...</td>\n",
       "      <td>...</td>\n",
       "      <td>...</td>\n",
       "      <td>...</td>\n",
       "      <td>...</td>\n",
       "      <td>...</td>\n",
       "      <td>...</td>\n",
       "    </tr>\n",
       "    <tr>\n",
       "      <th>1356</th>\n",
       "      <td>4181338</td>\n",
       "      <td>['7u0we9', 'dmhc01', 'f7z37l', 'k8bgn5', 'o45r...</td>\n",
       "      <td>Neukölln</td>\n",
       "      <td>Sperrmüll abgelagert</td>\n",
       "      <td>04.01.2023 - 09:25:08</td>\n",
       "      <td>Erledigt</td>\n",
       "      <td>Sperrmüll</td>\n",
       "    </tr>\n",
       "    <tr>\n",
       "      <th>1359</th>\n",
       "      <td>4182872</td>\n",
       "      <td>['m840zl', 'ys6gox']</td>\n",
       "      <td>Neukölln</td>\n",
       "      <td>Sperrmüll abgelagert</td>\n",
       "      <td>04.01.2023 - 09:52:16</td>\n",
       "      <td>In Bearbeitung</td>\n",
       "      <td>Müll, Sperrmüll</td>\n",
       "    </tr>\n",
       "    <tr>\n",
       "      <th>1365</th>\n",
       "      <td>4183230</td>\n",
       "      <td>['vkg8ap']</td>\n",
       "      <td>Neukölln</td>\n",
       "      <td>Sperrmüll abgelagert</td>\n",
       "      <td>04.01.2023 - 19:58:48</td>\n",
       "      <td>In Bearbeitung</td>\n",
       "      <td>Unter Fußgängerbrücke und an der Auffahrt zur ...</td>\n",
       "    </tr>\n",
       "    <tr>\n",
       "      <th>1386</th>\n",
       "      <td>4186726</td>\n",
       "      <td>['5hfl6p']</td>\n",
       "      <td>Neukölln</td>\n",
       "      <td>Sperrmüll abgelagert</td>\n",
       "      <td>06.01.2023 - 10:55:48</td>\n",
       "      <td>Erledigt</td>\n",
       "      <td>Holzbretter.</td>\n",
       "    </tr>\n",
       "    <tr>\n",
       "      <th>1426</th>\n",
       "      <td>4195632</td>\n",
       "      <td>['x7bz4w']</td>\n",
       "      <td>Neukölln</td>\n",
       "      <td>Sperrmüll abgelagert</td>\n",
       "      <td>09.01.2023 - 16:41:56</td>\n",
       "      <td>Erledigt</td>\n",
       "      <td>NaN</td>\n",
       "    </tr>\n",
       "  </tbody>\n",
       "</table>\n",
       "<p>55 rows × 7 columns</p>\n",
       "</div>"
      ],
      "text/plain": [
       "           id                                    meldungsNummern  \\\n",
       "0      527563                                          ['ljf29']   \n",
       "1      527575                                         ['51cx6p']   \n",
       "59    1804983                                         ['b6pfcx']   \n",
       "69    1952905                                         ['2a1t6p']   \n",
       "82    2059167                                         ['rw035t']   \n",
       "...       ...                                                ...   \n",
       "1356  4181338  ['7u0we9', 'dmhc01', 'f7z37l', 'k8bgn5', 'o45r...   \n",
       "1359  4182872                               ['m840zl', 'ys6gox']   \n",
       "1365  4183230                                         ['vkg8ap']   \n",
       "1386  4186726                                         ['5hfl6p']   \n",
       "1426  4195632                                         ['x7bz4w']   \n",
       "\n",
       "                        bezirk                                  betreff  \\\n",
       "0     Friedrichshain-Kreuzberg           Sperrmüll abgelagert (Spiegel)   \n",
       "1     Friedrichshain-Kreuzberg  Sperrmüll abgelagert (Holz-/Regalteile)   \n",
       "59                    Neukölln                     Sperrmüll abgelagert   \n",
       "69                    Neukölln                     Sperrmüll abgelagert   \n",
       "82                    Neukölln                     Sperrmüll abgelagert   \n",
       "...                        ...                                      ...   \n",
       "1356                  Neukölln                     Sperrmüll abgelagert   \n",
       "1359                  Neukölln                     Sperrmüll abgelagert   \n",
       "1365                  Neukölln                     Sperrmüll abgelagert   \n",
       "1386                  Neukölln                     Sperrmüll abgelagert   \n",
       "1426                  Neukölln                     Sperrmüll abgelagert   \n",
       "\n",
       "           erstellungsDatum          status  \\\n",
       "0     18.01.2017 - 15:01:09  In Bearbeitung   \n",
       "1     18.01.2017 - 15:05:54  In Bearbeitung   \n",
       "59    06.05.2020 - 10:50:02  In Bearbeitung   \n",
       "69    20.08.2020 - 09:06:18  In Bearbeitung   \n",
       "82    04.11.2020 - 08:02:10  In Bearbeitung   \n",
       "...                     ...             ...   \n",
       "1356  04.01.2023 - 09:25:08        Erledigt   \n",
       "1359  04.01.2023 - 09:52:16  In Bearbeitung   \n",
       "1365  04.01.2023 - 19:58:48  In Bearbeitung   \n",
       "1386  06.01.2023 - 10:55:48        Erledigt   \n",
       "1426  09.01.2023 - 16:41:56        Erledigt   \n",
       "\n",
       "                                            sachverhalt  \n",
       "0                                               Spiegel  \n",
       "1                                      Holz-/Regalteile  \n",
       "59                                            Sperrmüll  \n",
       "69                                            Sperrmüll  \n",
       "82    Sehr geehrtes Team,\\n\\nauf der Gradestraße, zw...  \n",
       "...                                                 ...  \n",
       "1356                                          Sperrmüll  \n",
       "1359                                    Müll, Sperrmüll  \n",
       "1365  Unter Fußgängerbrücke und an der Auffahrt zur ...  \n",
       "1386                                       Holzbretter.  \n",
       "1426                                                NaN  \n",
       "\n",
       "[55 rows x 7 columns]"
      ]
     },
     "execution_count": 14,
     "metadata": {},
     "output_type": "execute_result"
    }
   ],
   "source": [
    "### Clean subject column keeping only \"Sperrmüll abgelagert\"\n",
    "\n",
    "# drops the columns that has not Sperrmüll abgelagert in the subject column   \n",
    "df_narrow = df[(df.betreff.str.startswith('Sperrmüll abgelagert'))]\n",
    "df_narrow.head(55)"
   ]
  },
  {
   "cell_type": "code",
   "execution_count": 15,
   "id": "d7edc18f",
   "metadata": {},
   "outputs": [
    {
     "data": {
      "text/plain": [
       "array(['Sperrmüll abgelagert'], dtype=object)"
      ]
     },
     "execution_count": 15,
     "metadata": {},
     "output_type": "execute_result"
    }
   ],
   "source": [
    "df_narrow = df_narrow.replace('Sperrmüll abgelagert (Spiegel)', 'Sperrmüll abgelagert')\n",
    "df_narrow = df_narrow.replace('Sperrmüll abgelagert (Holz-/Regalteile)', 'Sperrmüll abgelagert')\n",
    "df_narrow.betreff.unique()\n"
   ]
  },
  {
   "cell_type": "code",
   "execution_count": null,
   "id": "242f0187",
   "metadata": {},
   "outputs": [],
   "source": []
  },
  {
   "cell_type": "markdown",
   "id": "50f5ca97",
   "metadata": {},
   "source": [
    "### Missing Values"
   ]
  },
  {
   "cell_type": "code",
   "execution_count": 16,
   "id": "ac830884",
   "metadata": {},
   "outputs": [
    {
     "name": "stdout",
     "output_type": "stream",
     "text": [
      "Missing values in sachverhalt column: 20\n"
     ]
    }
   ],
   "source": [
    "# Get counts of Nan values - df['sachverhalt'].isna().sum()\n",
    "print(\"Missing values in sachverhalt column: \" + str(df['sachverhalt'].isna().sum()))\n",
    " "
   ]
  },
  {
   "cell_type": "code",
   "execution_count": 17,
   "id": "44ade3b7",
   "metadata": {},
   "outputs": [
    {
     "data": {
      "text/plain": [
       "0.3698224852071006"
      ]
     },
     "execution_count": 17,
     "metadata": {},
     "output_type": "execute_result"
    }
   ],
   "source": [
    "# % pf missing values\n",
    "pct_missing = (20/5408) * 100\n",
    "pct_missing"
   ]
  },
  {
   "cell_type": "code",
   "execution_count": 18,
   "id": "6fdef424",
   "metadata": {},
   "outputs": [
    {
     "name": "stdout",
     "output_type": "stream",
     "text": [
      "Missing values in sachverhalt column: 4\n"
     ]
    }
   ],
   "source": [
    "print(\"Missing values in sachverhalt column: \" + str(df_narrow['sachverhalt'].isna().sum()))"
   ]
  },
  {
   "cell_type": "code",
   "execution_count": 19,
   "id": "826d959c",
   "metadata": {},
   "outputs": [
    {
     "data": {
      "text/plain": [
       "(614, 7)"
      ]
     },
     "execution_count": 19,
     "metadata": {},
     "output_type": "execute_result"
    }
   ],
   "source": [
    "df_narrow.shape"
   ]
  },
  {
   "cell_type": "code",
   "execution_count": 20,
   "id": "b286502a",
   "metadata": {},
   "outputs": [
    {
     "data": {
      "text/plain": [
       "0.6514657980456027"
      ]
     },
     "execution_count": 20,
     "metadata": {},
     "output_type": "execute_result"
    }
   ],
   "source": [
    "# % pf missing values\n",
    "pct_missing = (4/614) * 100\n",
    "pct_missing"
   ]
  },
  {
   "cell_type": "markdown",
   "id": "1f5d328f",
   "metadata": {},
   "source": [
    "Since we the dataset has only 4 nulls (0,651%) in the 'Sachveralt'columns, the rows with null values with be droped. "
   ]
  },
  {
   "cell_type": "code",
   "execution_count": 21,
   "id": "790d0eba",
   "metadata": {},
   "outputs": [],
   "source": [
    "# drop rows with nulls\n",
    "df_narrow = df_narrow.dropna()"
   ]
  },
  {
   "cell_type": "code",
   "execution_count": 22,
   "id": "4b00585d",
   "metadata": {},
   "outputs": [
    {
     "data": {
      "text/plain": [
       "id                  0\n",
       "meldungsNummern     0\n",
       "bezirk              0\n",
       "betreff             0\n",
       "erstellungsDatum    0\n",
       "status              0\n",
       "sachverhalt         0\n",
       "dtype: int64"
      ]
     },
     "execution_count": 22,
     "metadata": {},
     "output_type": "execute_result"
    }
   ],
   "source": [
    "# check nulls\n",
    "df_narrow.isnull().sum()"
   ]
  },
  {
   "cell_type": "code",
   "execution_count": 23,
   "id": "c90f557d",
   "metadata": {},
   "outputs": [
    {
     "data": {
      "text/plain": [
       "(610, 7)"
      ]
     },
     "execution_count": 23,
     "metadata": {},
     "output_type": "execute_result"
    }
   ],
   "source": [
    "df_narrow.shape"
   ]
  },
  {
   "cell_type": "markdown",
   "id": "76a9ba51",
   "metadata": {},
   "source": [
    "### Remove extra spaces"
   ]
  },
  {
   "cell_type": "code",
   "execution_count": 24,
   "id": "2f8d40d6",
   "metadata": {},
   "outputs": [
    {
     "data": {
      "text/plain": [
       "0                                                 Spiegel\n",
       "1                                        Holz-/Regalteile\n",
       "59                                              Sperrmüll\n",
       "69                                              Sperrmüll\n",
       "82      Sehr geehrtes Team,\\n\\nauf der Gradestraße, zw...\n",
       "                              ...                        \n",
       "5388                                        1 Tischplatte\n",
       "5389                                     Kinderwagen etc.\n",
       "5393                                        1 Holzpalette\n",
       "5398                                            Holzmöbel\n",
       "5401                                      Alte Regalreste\n",
       "Name: sachverhalt, Length: 610, dtype: object"
      ]
     },
     "execution_count": 24,
     "metadata": {},
     "output_type": "execute_result"
    }
   ],
   "source": [
    "df_narrow.sachverhalt.str.strip()"
   ]
  },
  {
   "cell_type": "code",
   "execution_count": 25,
   "id": "2f0fd599",
   "metadata": {},
   "outputs": [
    {
     "data": {
      "text/html": [
       "<div>\n",
       "<style scoped>\n",
       "    .dataframe tbody tr th:only-of-type {\n",
       "        vertical-align: middle;\n",
       "    }\n",
       "\n",
       "    .dataframe tbody tr th {\n",
       "        vertical-align: top;\n",
       "    }\n",
       "\n",
       "    .dataframe thead th {\n",
       "        text-align: right;\n",
       "    }\n",
       "</style>\n",
       "<table border=\"1\" class=\"dataframe\">\n",
       "  <thead>\n",
       "    <tr style=\"text-align: right;\">\n",
       "      <th></th>\n",
       "      <th>id</th>\n",
       "      <th>meldungsNummern</th>\n",
       "      <th>bezirk</th>\n",
       "      <th>betreff</th>\n",
       "      <th>erstellungsDatum</th>\n",
       "      <th>status</th>\n",
       "      <th>sachverhalt</th>\n",
       "    </tr>\n",
       "  </thead>\n",
       "  <tbody>\n",
       "    <tr>\n",
       "      <th>0</th>\n",
       "      <td>527563</td>\n",
       "      <td>['ljf29']</td>\n",
       "      <td>Friedrichshain-Kreuzberg</td>\n",
       "      <td>Sperrmüll abgelagert</td>\n",
       "      <td>18.01.2017 - 15:01:09</td>\n",
       "      <td>In Bearbeitung</td>\n",
       "      <td>Spiegel</td>\n",
       "    </tr>\n",
       "    <tr>\n",
       "      <th>1</th>\n",
       "      <td>527575</td>\n",
       "      <td>['51cx6p']</td>\n",
       "      <td>Friedrichshain-Kreuzberg</td>\n",
       "      <td>Sperrmüll abgelagert</td>\n",
       "      <td>18.01.2017 - 15:05:54</td>\n",
       "      <td>In Bearbeitung</td>\n",
       "      <td>Holz-/Regalteile</td>\n",
       "    </tr>\n",
       "    <tr>\n",
       "      <th>59</th>\n",
       "      <td>1804983</td>\n",
       "      <td>['b6pfcx']</td>\n",
       "      <td>Neukölln</td>\n",
       "      <td>Sperrmüll abgelagert</td>\n",
       "      <td>06.05.2020 - 10:50:02</td>\n",
       "      <td>In Bearbeitung</td>\n",
       "      <td>Sperrmüll</td>\n",
       "    </tr>\n",
       "    <tr>\n",
       "      <th>69</th>\n",
       "      <td>1952905</td>\n",
       "      <td>['2a1t6p']</td>\n",
       "      <td>Neukölln</td>\n",
       "      <td>Sperrmüll abgelagert</td>\n",
       "      <td>20.08.2020 - 09:06:18</td>\n",
       "      <td>In Bearbeitung</td>\n",
       "      <td>Sperrmüll</td>\n",
       "    </tr>\n",
       "    <tr>\n",
       "      <th>82</th>\n",
       "      <td>2059167</td>\n",
       "      <td>['rw035t']</td>\n",
       "      <td>Neukölln</td>\n",
       "      <td>Sperrmüll abgelagert</td>\n",
       "      <td>04.11.2020 - 08:02:10</td>\n",
       "      <td>In Bearbeitung</td>\n",
       "      <td>Sehr geehrtes Team,\\n\\nauf der Gradestraße, zw...</td>\n",
       "    </tr>\n",
       "  </tbody>\n",
       "</table>\n",
       "</div>"
      ],
      "text/plain": [
       "         id meldungsNummern                    bezirk               betreff  \\\n",
       "0    527563       ['ljf29']  Friedrichshain-Kreuzberg  Sperrmüll abgelagert   \n",
       "1    527575      ['51cx6p']  Friedrichshain-Kreuzberg  Sperrmüll abgelagert   \n",
       "59  1804983      ['b6pfcx']                  Neukölln  Sperrmüll abgelagert   \n",
       "69  1952905      ['2a1t6p']                  Neukölln  Sperrmüll abgelagert   \n",
       "82  2059167      ['rw035t']                  Neukölln  Sperrmüll abgelagert   \n",
       "\n",
       "         erstellungsDatum          status  \\\n",
       "0   18.01.2017 - 15:01:09  In Bearbeitung   \n",
       "1   18.01.2017 - 15:05:54  In Bearbeitung   \n",
       "59  06.05.2020 - 10:50:02  In Bearbeitung   \n",
       "69  20.08.2020 - 09:06:18  In Bearbeitung   \n",
       "82  04.11.2020 - 08:02:10  In Bearbeitung   \n",
       "\n",
       "                                          sachverhalt  \n",
       "0                                             Spiegel  \n",
       "1                                    Holz-/Regalteile  \n",
       "59                                          Sperrmüll  \n",
       "69                                          Sperrmüll  \n",
       "82  Sehr geehrtes Team,\\n\\nauf der Gradestraße, zw...  "
      ]
     },
     "execution_count": 25,
     "metadata": {},
     "output_type": "execute_result"
    }
   ],
   "source": [
    "df_narrow.head()"
   ]
  },
  {
   "cell_type": "markdown",
   "id": "842fa3a9",
   "metadata": {},
   "source": [
    "### Creating a weekday column"
   ]
  },
  {
   "cell_type": "code",
   "execution_count": 26,
   "id": "d496b197",
   "metadata": {},
   "outputs": [
    {
     "data": {
      "text/html": [
       "<div>\n",
       "<style scoped>\n",
       "    .dataframe tbody tr th:only-of-type {\n",
       "        vertical-align: middle;\n",
       "    }\n",
       "\n",
       "    .dataframe tbody tr th {\n",
       "        vertical-align: top;\n",
       "    }\n",
       "\n",
       "    .dataframe thead th {\n",
       "        text-align: right;\n",
       "    }\n",
       "</style>\n",
       "<table border=\"1\" class=\"dataframe\">\n",
       "  <thead>\n",
       "    <tr style=\"text-align: right;\">\n",
       "      <th></th>\n",
       "      <th>id</th>\n",
       "      <th>meldungsNummern</th>\n",
       "      <th>bezirk</th>\n",
       "      <th>betreff</th>\n",
       "      <th>erstellungsDatum</th>\n",
       "      <th>status</th>\n",
       "      <th>sachverhalt</th>\n",
       "      <th>day_of_week</th>\n",
       "    </tr>\n",
       "  </thead>\n",
       "  <tbody>\n",
       "    <tr>\n",
       "      <th>0</th>\n",
       "      <td>527563</td>\n",
       "      <td>['ljf29']</td>\n",
       "      <td>Friedrichshain-Kreuzberg</td>\n",
       "      <td>Sperrmüll abgelagert</td>\n",
       "      <td>2017-01-18 15:01:09</td>\n",
       "      <td>In Bearbeitung</td>\n",
       "      <td>Spiegel</td>\n",
       "      <td>Wednesday</td>\n",
       "    </tr>\n",
       "    <tr>\n",
       "      <th>1</th>\n",
       "      <td>527575</td>\n",
       "      <td>['51cx6p']</td>\n",
       "      <td>Friedrichshain-Kreuzberg</td>\n",
       "      <td>Sperrmüll abgelagert</td>\n",
       "      <td>2017-01-18 15:05:54</td>\n",
       "      <td>In Bearbeitung</td>\n",
       "      <td>Holz-/Regalteile</td>\n",
       "      <td>Wednesday</td>\n",
       "    </tr>\n",
       "    <tr>\n",
       "      <th>59</th>\n",
       "      <td>1804983</td>\n",
       "      <td>['b6pfcx']</td>\n",
       "      <td>Neukölln</td>\n",
       "      <td>Sperrmüll abgelagert</td>\n",
       "      <td>2020-06-05 10:50:02</td>\n",
       "      <td>In Bearbeitung</td>\n",
       "      <td>Sperrmüll</td>\n",
       "      <td>Friday</td>\n",
       "    </tr>\n",
       "    <tr>\n",
       "      <th>69</th>\n",
       "      <td>1952905</td>\n",
       "      <td>['2a1t6p']</td>\n",
       "      <td>Neukölln</td>\n",
       "      <td>Sperrmüll abgelagert</td>\n",
       "      <td>2020-08-20 09:06:18</td>\n",
       "      <td>In Bearbeitung</td>\n",
       "      <td>Sperrmüll</td>\n",
       "      <td>Thursday</td>\n",
       "    </tr>\n",
       "    <tr>\n",
       "      <th>82</th>\n",
       "      <td>2059167</td>\n",
       "      <td>['rw035t']</td>\n",
       "      <td>Neukölln</td>\n",
       "      <td>Sperrmüll abgelagert</td>\n",
       "      <td>2020-04-11 08:02:10</td>\n",
       "      <td>In Bearbeitung</td>\n",
       "      <td>Sehr geehrtes Team,\\n\\nauf der Gradestraße, zw...</td>\n",
       "      <td>Saturday</td>\n",
       "    </tr>\n",
       "  </tbody>\n",
       "</table>\n",
       "</div>"
      ],
      "text/plain": [
       "         id meldungsNummern                    bezirk               betreff  \\\n",
       "0    527563       ['ljf29']  Friedrichshain-Kreuzberg  Sperrmüll abgelagert   \n",
       "1    527575      ['51cx6p']  Friedrichshain-Kreuzberg  Sperrmüll abgelagert   \n",
       "59  1804983      ['b6pfcx']                  Neukölln  Sperrmüll abgelagert   \n",
       "69  1952905      ['2a1t6p']                  Neukölln  Sperrmüll abgelagert   \n",
       "82  2059167      ['rw035t']                  Neukölln  Sperrmüll abgelagert   \n",
       "\n",
       "      erstellungsDatum          status  \\\n",
       "0  2017-01-18 15:01:09  In Bearbeitung   \n",
       "1  2017-01-18 15:05:54  In Bearbeitung   \n",
       "59 2020-06-05 10:50:02  In Bearbeitung   \n",
       "69 2020-08-20 09:06:18  In Bearbeitung   \n",
       "82 2020-04-11 08:02:10  In Bearbeitung   \n",
       "\n",
       "                                          sachverhalt day_of_week  \n",
       "0                                             Spiegel   Wednesday  \n",
       "1                                    Holz-/Regalteile   Wednesday  \n",
       "59                                          Sperrmüll      Friday  \n",
       "69                                          Sperrmüll    Thursday  \n",
       "82  Sehr geehrtes Team,\\n\\nauf der Gradestraße, zw...    Saturday  "
      ]
     },
     "execution_count": 26,
     "metadata": {},
     "output_type": "execute_result"
    }
   ],
   "source": [
    "\n",
    "df_narrow['erstellungsDatum'] = pd.to_datetime(df['erstellungsDatum'])\n",
    "df_narrow['day_of_week'] = df_narrow['erstellungsDatum'].dt.day_name()\n",
    "df_narrow.head()"
   ]
  },
  {
   "cell_type": "markdown",
   "id": "201708d0",
   "metadata": {},
   "source": [
    "### Creating columns date and time"
   ]
  },
  {
   "cell_type": "code",
   "execution_count": 27,
   "id": "9305c5a8",
   "metadata": {},
   "outputs": [],
   "source": [
    "df_narrow['time'] = pd.to_datetime(df_narrow['erstellungsDatum']).dt.time\n",
    "\n",
    "df_narrow['date'] = pd.to_datetime(df_narrow['erstellungsDatum']).dt.date\n"
   ]
  },
  {
   "cell_type": "code",
   "execution_count": 81,
   "id": "d1fc3ce9",
   "metadata": {},
   "outputs": [],
   "source": [
    "#Add a month column\n",
    "df_narrow['month'] = df_narrow['date'].apply(lambda x: x.strftime('%b'))"
   ]
  },
  {
   "cell_type": "code",
   "execution_count": 28,
   "id": "b27ef5eb",
   "metadata": {},
   "outputs": [
    {
     "data": {
      "text/html": [
       "<div>\n",
       "<style scoped>\n",
       "    .dataframe tbody tr th:only-of-type {\n",
       "        vertical-align: middle;\n",
       "    }\n",
       "\n",
       "    .dataframe tbody tr th {\n",
       "        vertical-align: top;\n",
       "    }\n",
       "\n",
       "    .dataframe thead th {\n",
       "        text-align: right;\n",
       "    }\n",
       "</style>\n",
       "<table border=\"1\" class=\"dataframe\">\n",
       "  <thead>\n",
       "    <tr style=\"text-align: right;\">\n",
       "      <th></th>\n",
       "      <th>id</th>\n",
       "      <th>meldungsNummern</th>\n",
       "      <th>bezirk</th>\n",
       "      <th>betreff</th>\n",
       "      <th>erstellungsDatum</th>\n",
       "      <th>status</th>\n",
       "      <th>sachverhalt</th>\n",
       "      <th>day_of_week</th>\n",
       "      <th>time</th>\n",
       "      <th>date</th>\n",
       "    </tr>\n",
       "  </thead>\n",
       "  <tbody>\n",
       "    <tr>\n",
       "      <th>0</th>\n",
       "      <td>527563</td>\n",
       "      <td>['ljf29']</td>\n",
       "      <td>Friedrichshain-Kreuzberg</td>\n",
       "      <td>Sperrmüll abgelagert</td>\n",
       "      <td>2017-01-18 15:01:09</td>\n",
       "      <td>In Bearbeitung</td>\n",
       "      <td>Spiegel</td>\n",
       "      <td>Wednesday</td>\n",
       "      <td>15:01:09</td>\n",
       "      <td>2017-01-18</td>\n",
       "    </tr>\n",
       "    <tr>\n",
       "      <th>1</th>\n",
       "      <td>527575</td>\n",
       "      <td>['51cx6p']</td>\n",
       "      <td>Friedrichshain-Kreuzberg</td>\n",
       "      <td>Sperrmüll abgelagert</td>\n",
       "      <td>2017-01-18 15:05:54</td>\n",
       "      <td>In Bearbeitung</td>\n",
       "      <td>Holz-/Regalteile</td>\n",
       "      <td>Wednesday</td>\n",
       "      <td>15:05:54</td>\n",
       "      <td>2017-01-18</td>\n",
       "    </tr>\n",
       "    <tr>\n",
       "      <th>59</th>\n",
       "      <td>1804983</td>\n",
       "      <td>['b6pfcx']</td>\n",
       "      <td>Neukölln</td>\n",
       "      <td>Sperrmüll abgelagert</td>\n",
       "      <td>2020-06-05 10:50:02</td>\n",
       "      <td>In Bearbeitung</td>\n",
       "      <td>Sperrmüll</td>\n",
       "      <td>Friday</td>\n",
       "      <td>10:50:02</td>\n",
       "      <td>2020-06-05</td>\n",
       "    </tr>\n",
       "    <tr>\n",
       "      <th>69</th>\n",
       "      <td>1952905</td>\n",
       "      <td>['2a1t6p']</td>\n",
       "      <td>Neukölln</td>\n",
       "      <td>Sperrmüll abgelagert</td>\n",
       "      <td>2020-08-20 09:06:18</td>\n",
       "      <td>In Bearbeitung</td>\n",
       "      <td>Sperrmüll</td>\n",
       "      <td>Thursday</td>\n",
       "      <td>09:06:18</td>\n",
       "      <td>2020-08-20</td>\n",
       "    </tr>\n",
       "    <tr>\n",
       "      <th>82</th>\n",
       "      <td>2059167</td>\n",
       "      <td>['rw035t']</td>\n",
       "      <td>Neukölln</td>\n",
       "      <td>Sperrmüll abgelagert</td>\n",
       "      <td>2020-04-11 08:02:10</td>\n",
       "      <td>In Bearbeitung</td>\n",
       "      <td>Sehr geehrtes Team,\\n\\nauf der Gradestraße, zw...</td>\n",
       "      <td>Saturday</td>\n",
       "      <td>08:02:10</td>\n",
       "      <td>2020-04-11</td>\n",
       "    </tr>\n",
       "  </tbody>\n",
       "</table>\n",
       "</div>"
      ],
      "text/plain": [
       "         id meldungsNummern                    bezirk               betreff  \\\n",
       "0    527563       ['ljf29']  Friedrichshain-Kreuzberg  Sperrmüll abgelagert   \n",
       "1    527575      ['51cx6p']  Friedrichshain-Kreuzberg  Sperrmüll abgelagert   \n",
       "59  1804983      ['b6pfcx']                  Neukölln  Sperrmüll abgelagert   \n",
       "69  1952905      ['2a1t6p']                  Neukölln  Sperrmüll abgelagert   \n",
       "82  2059167      ['rw035t']                  Neukölln  Sperrmüll abgelagert   \n",
       "\n",
       "      erstellungsDatum          status  \\\n",
       "0  2017-01-18 15:01:09  In Bearbeitung   \n",
       "1  2017-01-18 15:05:54  In Bearbeitung   \n",
       "59 2020-06-05 10:50:02  In Bearbeitung   \n",
       "69 2020-08-20 09:06:18  In Bearbeitung   \n",
       "82 2020-04-11 08:02:10  In Bearbeitung   \n",
       "\n",
       "                                          sachverhalt day_of_week      time  \\\n",
       "0                                             Spiegel   Wednesday  15:01:09   \n",
       "1                                    Holz-/Regalteile   Wednesday  15:05:54   \n",
       "59                                          Sperrmüll      Friday  10:50:02   \n",
       "69                                          Sperrmüll    Thursday  09:06:18   \n",
       "82  Sehr geehrtes Team,\\n\\nauf der Gradestraße, zw...    Saturday  08:02:10   \n",
       "\n",
       "          date  \n",
       "0   2017-01-18  \n",
       "1   2017-01-18  \n",
       "59  2020-06-05  \n",
       "69  2020-08-20  \n",
       "82  2020-04-11  "
      ]
     },
     "execution_count": 28,
     "metadata": {},
     "output_type": "execute_result"
    }
   ],
   "source": [
    "df_narrow.head()"
   ]
  },
  {
   "cell_type": "markdown",
   "id": "94474d75",
   "metadata": {},
   "source": [
    "### Frequency of values"
   ]
  },
  {
   "cell_type": "code",
   "execution_count": 29,
   "id": "2458c8ba",
   "metadata": {},
   "outputs": [],
   "source": [
    "columns_list = ['id', 'meldungsNummern', 'bezirk', 'betreff', 'erstellungsDatum',\n",
    "       'status', 'sachverhalt']"
   ]
  },
  {
   "cell_type": "code",
   "execution_count": 91,
   "id": "2c3b48bd",
   "metadata": {},
   "outputs": [
    {
     "data": {
      "image/png": "[encoded data removed]",
      "text/plain": [
       "<Figure size 640x480 with 1 Axes>"
      ]
     },
     "metadata": {},
     "output_type": "display_data"
    }
   ],
   "source": [
    "# plot\n",
    "fig, ax = plt.subplots()\n",
    "ax = sns.countplot(x=\"bezirk\", hue=\"status\", data=df_narrow)\n",
    "ax.set(ylabel='Bar Count', title='Ocurrences per district and status')\n",
    "ax.legend(title='Status', loc='upper right', labels=['In Progress', 'Done'])\n",
    "\n",
    "# add annotations\n",
    "for c in ax.containers:\n",
    "    \n",
    "    # custom label calculates percent and add an empty string so 0 value bars don't have a number\n",
    "    labels = [f'{h/df_narrow.status.count()*100:0.1f}%' if (h := v.get_height()) > 0 else '' for v in c]\n",
    "    \n",
    "    ax.bar_label(c, labels=labels, label_type='edge')\n",
    "\n",
    "plt.show()"
   ]
  },
  {
   "cell_type": "markdown",
   "id": "d8b9be56",
   "metadata": {},
   "source": [
    "### Timeseries"
   ]
  },
  {
   "cell_type": "code",
   "execution_count": 92,
   "id": "4a5a4d09",
   "metadata": {},
   "outputs": [],
   "source": [
    "in_progress = df_narrow[df_narrow['status'] == 'In Bearbeitung']\n",
    "done = df_narrow[df_narrow['status'] == 'Erledigt']"
   ]
  },
  {
   "cell_type": "code",
   "execution_count": 93,
   "id": "92af70fb",
   "metadata": {},
   "outputs": [
    {
     "data": {
      "text/plain": [
       "<matplotlib.legend.Legend at 0x7fd71610e770>"
      ]
     },
     "execution_count": 93,
     "metadata": {},
     "output_type": "execute_result"
    },
    {
     "data": {
      "image/png": "[encoded data removed]",
      "text/plain": [
       "<Figure size 800x600 with 1 Axes>"
      ]
     },
     "metadata": {},
     "output_type": "display_data"
    }
   ],
   "source": [
    "# prepare and plot\n",
    "\n",
    "in_progress_df = pd.DataFrame(in_progress.groupby(['date'])['bezirk'].count()).reset_index()\n",
    "in_progress_df['date'] = pd.to_datetime(in_progress_df['date'])\n",
    "in_progress_date = in_progress_df['date']\n",
    "in_progress_value = in_progress_df['bezirk']\n",
    "# in_progress_df\n",
    "\n",
    "\n",
    "done_df = pd.DataFrame(done.groupby(['date'])['bezirk'].count()).reset_index()\n",
    "done_df['date'] = pd.to_datetime(done_df['date'])\n",
    "done_date = done_df['date']\n",
    "done_value = done_df['bezirk']\n",
    "\n",
    "fig, ax = plt.subplots(figsize=(8, 6))\n",
    "ax.plot(in_progress_date, in_progress_value)\n",
    "ax.plot(done_date, done_value)\n",
    "\n",
    "ax.set_title('Occurrences by Date and Status')\n",
    "ax.set_ylabel('Number of occurrences')\n",
    "ax.legend(title='Status', loc='upper left', labels=['In Progress', 'Done'])"
   ]
  },
  {
   "cell_type": "code",
   "execution_count": 96,
   "id": "ffa371ef",
   "metadata": {},
   "outputs": [
    {
     "data": {
      "image/png": "[encoded data removed]",
      "text/plain": [
       "<Figure size 640x480 with 1 Axes>"
      ]
     },
     "metadata": {},
     "output_type": "display_data"
    }
   ],
   "source": [
    "fig, ax = plt.subplots()\n",
    "\n",
    "in_progress.groupby(['month'])['bezirk'].count().plot(marker = '.')\n",
    "done.groupby(['month'])['bezirk'].count().plot(marker = '.')\n",
    "ax.set_xlabel('Month')\n",
    "ax.set_ylabel('Number of occurrences')\n",
    "ax.set_title('Cummulative Month wise occurrences')\n",
    "ax.set_xticks([1,2,3,4,5,6,7,8,9,10,11,12],['Jan','Feb','Mar','Apr','May','Jun','Jul','Aug','Sep','Oct','Nov','Dec'])\n",
    "ax.legend(title='Status', loc='upper right', labels=['In Progress', 'Done'])\n",
    "plt.show()"
   ]
  },
  {
   "cell_type": "code",
   "execution_count": null,
   "id": "0e941f20",
   "metadata": {},
   "outputs": [],
   "source": []
  },
  {
   "cell_type": "code",
   "execution_count": null,
   "id": "ed2b93d8",
   "metadata": {},
   "outputs": [],
   "source": []
  },
  {
   "cell_type": "code",
   "execution_count": null,
   "id": "b9dccd2c",
   "metadata": {},
   "outputs": [],
   "source": [
    "print(\"Unique Value Count:\")\n",
    "cols = df.columns.tolist()\n",
    "for col in cols:\n",
    "  print(col + \" = \" + str(len(df[col].unique())))"
   ]
  },
  {
   "cell_type": "code",
   "execution_count": null,
   "id": "189d4530",
   "metadata": {},
   "outputs": [],
   "source": []
  },
  {
   "cell_type": "markdown",
   "id": "e38e3d4c",
   "metadata": {},
   "source": []
  },
  {
   "cell_type": "code",
   "execution_count": null,
   "id": "1cff9bec",
   "metadata": {},
   "outputs": [],
   "source": []
  },
  {
   "cell_type": "code",
   "execution_count": null,
   "id": "1ffee520",
   "metadata": {},
   "outputs": [],
   "source": []
  },
  {
   "cell_type": "code",
   "execution_count": null,
   "id": "9498a9f3",
   "metadata": {},
   "outputs": [],
   "source": [
    "\n",
    "# # Summarising the matching points of interest per each route\n",
    "# to_plot = df.groupby(by='betreff').agg({'meldungsNummern':'count'}).reset_index().sort_values(by='erstellungsDatum', ascending=False)\n",
    "# barplot = df.plot.bar(\n",
    "#     x='bezirk', \n",
    "#     xlabel = 'routes', \n",
    "#     ylabel = '# of points of interest', \n",
    "#     title='Sum of matched points of interest per route', \n",
    "#     use_index=False,\n",
    "#     figsize=(20,8)\n",
    "#     )\n",
    "# # print('The median amount of points of interest per route in our joined dataframe is:', gdf_poiperroute['poi_lat_lgt'].median())"
   ]
  },
  {
   "cell_type": "code",
   "execution_count": null,
   "id": "72991e7e",
   "metadata": {},
   "outputs": [],
   "source": []
  },
  {
   "cell_type": "code",
   "execution_count": null,
   "id": "5e3fc4e0",
   "metadata": {},
   "outputs": [],
   "source": [
    "# df['NU_IDADE'].value_counts(normalize=True)"
   ]
  },
  {
   "cell_type": "code",
   "execution_count": null,
   "id": "a08bccc0",
   "metadata": {},
   "outputs": [],
   "source": [
    "vxdfFG"
   ]
  },
  {
   "cell_type": "code",
   "execution_count": null,
   "id": "011d793f",
   "metadata": {},
   "outputs": [],
   "source": []
  },
  {
   "cell_type": "code",
   "execution_count": null,
   "id": "3f8d8dc8",
   "metadata": {},
   "outputs": [],
   "source": []
  },
  {
   "cell_type": "code",
   "execution_count": null,
   "id": "fa55d9b3",
   "metadata": {},
   "outputs": [],
   "source": []
  },
  {
   "cell_type": "code",
   "execution_count": null,
   "id": "96e3754d",
   "metadata": {},
   "outputs": [],
   "source": []
  },
  {
   "cell_type": "code",
   "execution_count": null,
   "id": "1cafd864",
   "metadata": {},
   "outputs": [],
   "source": [
    "# check the distribution\n",
    "df['column'].hist()\n",
    "df['column'].hist(bins=20, figsize=(10,8))"
   ]
  },
  {
   "cell_type": "code",
   "execution_count": null,
   "id": "fb9b0e3c",
   "metadata": {},
   "outputs": [],
   "source": [
    "\n",
    "df['column'].value_counts()"
   ]
  },
  {
   "cell_type": "code",
   "execution_count": null,
   "id": "156ef45b",
   "metadata": {},
   "outputs": [],
   "source": []
  },
  {
   "cell_type": "code",
   "execution_count": null,
   "id": "10c3979f",
   "metadata": {},
   "outputs": [],
   "source": []
  },
  {
   "cell_type": "code",
   "execution_count": null,
   "id": "4d520426",
   "metadata": {},
   "outputs": [],
   "source": []
  },
  {
   "cell_type": "code",
   "execution_count": null,
   "id": "da818dcf",
   "metadata": {},
   "outputs": [],
   "source": [
    "# comparando todas as variaveis\n",
    "sns.pairplot(dados_sem_notas_zero[provas])\n",
    "\n",
    "dados_sem_notas_zero = dados.query('NU_NOTA_TOTAL != 0')\n",
    "dados_estado_rj = dados_sem_notas_zero.query(\"SG_UF_RESIDENCIA == 'RJ'\")\n",
    "sns.pairplot(dados_estado_rj[provas])"
   ]
  },
  {
   "cell_type": "code",
   "execution_count": null,
   "id": "39a7f151",
   "metadata": {},
   "outputs": [],
   "source": [
    "# fazer histograma de treineiros e não-treineiros.\n",
    "\n",
    "# frequency (having boolean)\n",
    "Using Pandas\n",
    "ax = dados['IN_TREINEIRO'].value_counts().plot(kind='bar', figsize=(6,4), width=.35, color=['gray', 'orange']) \n",
    "degrees = 0 \n",
    "\n",
    "ax.set_title(\"Frequência de treineiros\", fontname='Arial', fontsize=25, y=1.01)\n",
    "ax.set_ylabel(\"Frequência\", fontname=\"Arial\", fontsize=20)\n",
    "plt.gca().xaxis.set_major_formatter(EngFormatter())\n",
    "plt.gca().yaxis.set_major_formatter(EngFormatter()) \n",
    "for tick in ax.xaxis.get_major_ticks():\n",
    "    tick.label.set_fontsize(15) \n",
    "for tick in ax.yaxis.get_major_ticks():\n",
    "    tick.label.set_fontsize(15)\n",
    "\n",
    "plt.xticks(rotation=degrees)\n",
    "ax.set_xticklabels( ('não treineiros', 'treineiros') )"
   ]
  },
  {
   "cell_type": "code",
   "execution_count": null,
   "id": "212c7cd6",
   "metadata": {},
   "outputs": [],
   "source": [
    "# descobrir de quais Estados sao os inscritos com 13 anos.\n",
    "dados.query('NU_IDADE == 13')['SG_UF_RESIDENCIA']"
   ]
  },
  {
   "cell_type": "code",
   "execution_count": null,
   "id": "82e162f8",
   "metadata": {},
   "outputs": [],
   "source": [
    "# colocar títulos no histograma.\n",
    "ax = dados['NU_NOTA_REDACAO'].hist(bins=20) \n",
    "ax.set_title('Notas de Redação', fontname='Arial', fontsize=15, y=1.01)\n",
    "ax.set_xlabel('notas')\n",
    "ax.set_ylabel('count')\n",
    "\n",
    "# import pylab as pl\n",
    "# using pylab\n",
    "axes = dados['NU_NOTA_REDACAO'].hist(bins=20, figsize=(6,4))\n",
    "pl.suptitle(\"Nota da Redação - pylab\")"
   ]
  },
  {
   "cell_type": "code",
   "execution_count": null,
   "id": "c04de559",
   "metadata": {},
   "outputs": [],
   "source": [
    "dados['NU_NOTA_REDACAO'].mean()\n",
    "dados['NU_NOTA_REDACAO'].std()\n",
    "provas = ['NU_NOTA_CN', 'NU_NOTA_CH', 'NU_NOTA_MT', 'NU_NOTA_LC', 'NU_NOTA_REDACAO']\n",
    "dados[provas].describe()"
   ]
  },
  {
   "cell_type": "code",
   "execution_count": null,
   "id": "3a07b9c8",
   "metadata": {},
   "outputs": [],
   "source": [
    "# ax = dados[provas].plot.box(grid = True, figsize = (8,6))\n",
    "# ax.set_title('Notas nas diferentes áreas', fontname='Arial', fontsize=15, y=1.01)\n",
    "# ax.set_ylabel('count')\n",
    "\n",
    "\n",
    "# explorando os dados por  visualizacao using boxplot\n",
    "ax = boxplot = dados[provas].plot.box(grid = False, figsize=(10,5),layout=(3,3))\n",
    "ax.set_title('Notas nas diferentes áreas', fontname='Arial', fontsize=15, y=1.01)\n",
    "ax.set_ylabel('count')"
   ]
  },
  {
   "cell_type": "code",
   "execution_count": null,
   "id": "225cdc9f",
   "metadata": {},
   "outputs": [],
   "source": [
    "# explorando os dados por  visualizacao using histogram\n",
    "ax = dados[provas].hist(grid=False,figsize=(10,8),layout=(3,3))\n",
    "plt.show()"
   ]
  },
  {
   "cell_type": "code",
   "execution_count": null,
   "id": "9305a628",
   "metadata": {},
   "outputs": [],
   "source": [
    "Interpretation:\n",
    "    - Distributions: \n",
    "    - Outliers\n",
    "    - Correlations (take care with causality)"
   ]
  },
  {
   "cell_type": "code",
   "execution_count": null,
   "id": "642506ff",
   "metadata": {},
   "outputs": [],
   "source": [
    "# removendo dados que nao quero analizar\n",
    "dados_escolhidos1 = dados.drop(['NU_INSCRICAO', 'NU_ANO'])\n",
    "                                \n",
    "dados_escolhidos1.columns.values"
   ]
  },
  {
   "cell_type": "code",
   "execution_count": null,
   "id": "7d2b4b0c",
   "metadata": {},
   "outputs": [],
   "source": [
    "# definindo variaveis para explorar\n",
    "exploracao1 = ['NU_NOTA_CN', 'NU_NOTA_CH', 'NU_NOTA_MT', 'NU_NOTA_LC', 'NU_NOTA_REDACAO']\n",
    "\n",
    "# checando correlacoes entre os tipos de escola com as notas nas diferentes áreas\n",
    "corr = dados[exploracao1].corr()\n",
    "corr.style.background_gradient(cmap='coolwarm')\n",
    " "
   ]
  },
  {
   "cell_type": "code",
   "execution_count": null,
   "id": "bb0ef3e5",
   "metadata": {},
   "outputs": [],
   "source": [
    "# checando correlacoes com grafico heatmap (3 niveis de dificuldade)\n",
    "sns.heatmap(correlacao, cmap='Blues', center=0, annot=True)\n",
    "\n",
    "import numpy as np\n",
    "df_provas = dados[provas]\n",
    "matrix = np.triu(df_provas.corr())\n",
    "sns.heatmap(df_provas.corr(), cmap='viridis', annot=True, mask=matrix\n",
    "            \n",
    "corr_rj = dados_estado_rj[provas].corr()\n",
    "matrix = np.triu(np.ones_like(corr_rj, dtype=bool))\n",
    "sns.heatmap(corr_rj, cmap='viridis', annot=True, mask=matrix)"
   ]
  },
  {
   "cell_type": "code",
   "execution_count": null,
   "id": "53c9f027",
   "metadata": {},
   "outputs": [],
   "source": []
  },
  {
   "cell_type": "code",
   "execution_count": null,
   "id": "d2678cf6",
   "metadata": {},
   "outputs": [],
   "source": [
    "# Pct of the values de uma coluna\n",
    "status_redacao = pd.Series(dados_escolhidos2['TP_STATUS_REDACAO'])\n",
    "status_redacao.value_counts(normalize=True)"
   ]
  },
  {
   "cell_type": "code",
   "execution_count": null,
   "id": "f9bb8b7c",
   "metadata": {},
   "outputs": [],
   "source": [
    "print('''Tipos de escolas:\n",
    "1-desconhecida\n",
    "2-publica\n",
    "3-privada''')\n",
    "\n",
    "labels = ['desconhecida', 'publica','privada']\n",
    "x = sns.stripplot(data = dados_escolhidos2, x = 'TP_ESCOLA', y = 'NU_NOTA_REDACAO',\n",
    "           jitter = 0.35 , alpha =  1/3);\n",
    "plt.title('Tipo de escola vs. notas de redação', fontsize=14, y=1.015)\n"
   ]
  },
  {
   "cell_type": "code",
   "execution_count": null,
   "id": "e6b3746e",
   "metadata": {},
   "outputs": [],
   "source": [
    "# visualizacao de violino\n",
    "# Desafio06: explorar a documentacao e visualizações com matplotlib ou pandas e gerar novas visualizações\n",
    "base_color = sns.color_palette()[0]\n",
    "sns.violinplot(data = dados_escolhidos2, x = 'TP_SEXO', y = 'NU_NOTA_REDACAO', color=base_color)\n",
    "plt.title('Tipo de Sexo vs. Notas de Redacao')"
   ]
  },
  {
   "cell_type": "code",
   "execution_count": null,
   "id": "2e33d1b4",
   "metadata": {},
   "outputs": [],
   "source": [
    "# Plotar as médias, medianas e moda nas notas de LC e MT (matiplotlib linha vertical)\n",
    "\n",
    "plt.figure(figsize=(16,10))\n",
    "sns.histplot(dados_sem_notas_zero, x = 'NU_NOTA_TOTAL')\n",
    "plt.axvline(dados_sem_notas_zero['NU_NOTA_TOTAL'].mean(), color='k', linestyle='dashed', linewidth=1)\n",
    "plt.axvline(dados_sem_notas_zero['NU_NOTA_TOTAL'].median(), color='g', linestyle='dashed', linewidth=1)\n",
    "plt.axvline(dados_sem_notas_zero['NU_NOTA_TOTAL'].mode()[0], color='r', linestyle='dashed', linewidth=1)"
   ]
  },
  {
   "cell_type": "code",
   "execution_count": null,
   "id": "f9a3b6d3",
   "metadata": {},
   "outputs": [],
   "source": [
    "# Filtrar as notas por seu estado ou sua cidade e refazer as análises, verificando se são semelhantes ao geral.\n",
    "dados_sem_notas_zero = dados.query('NU_NOTA_TOTAL != 0')\n",
    "dados_estado_rj = dados_sem_notas_zero.query(\"SG_UF_RESIDENCIA == 'RJ'\")\n",
    "sns.pairplot(dados_estado_rj[provas])"
   ]
  },
  {
   "cell_type": "code",
   "execution_count": null,
   "id": "a2fb0853",
   "metadata": {},
   "outputs": [],
   "source": []
  },
  {
   "cell_type": "code",
   "execution_count": null,
   "id": "639ebf57",
   "metadata": {},
   "outputs": [],
   "source": [
    "\n",
    "#Since its too much data to visualize and understand, lets bucket the age as below\n",
    "#feature engineering FTW!\n",
    "def bucket_age(age):\n",
    "  if age < 15:\n",
    "    return \"<15\"\n",
    "  if age >= 15 and age < 30:\n",
    "    return \"15-30\"\n",
    "  if age >=30 and age < 45:\n",
    "    return \"30-45\"\n",
    "  if age>=45 and age < 60:\n",
    "    return \"45-60\"\n",
    "  return \">60\"\n",
    "\n",
    "df['AgeBucket'] = df['Age'].apply(bucket_age)\n",
    "\n",
    "#Visualize this with a pie chart\n",
    "pie = df['AgeBucket'].value_counts().plot(kind=\"pie\",title='AgeBucket Distribution',legend=True,autopct='%1.1f%%')"
   ]
  },
  {
   "cell_type": "code",
   "execution_count": null,
   "id": "5b65f946",
   "metadata": {},
   "outputs": [],
   "source": [
    "#What is the survival rate among these classes?\n",
    "df.groupby(['Pclass','Survived']).size().unstack().plot(kind='bar',stacked=True,title=\"Survival Distribution among Pclasses\")\n",
    "ax = plt.show()"
   ]
  },
  {
   "cell_type": "code",
   "execution_count": null,
   "id": "e3473d6c",
   "metadata": {},
   "outputs": [],
   "source": []
  },
  {
   "cell_type": "code",
   "execution_count": null,
   "id": "c8fd4f94",
   "metadata": {},
   "outputs": [],
   "source": [
    "\n",
    "plt.figure(figsize=(16,8))\n",
    "crime_df.groupby(['MONTH'])['INCIDENT_NUMBER'].count().plot(marker = 'o')\n",
    "plt.xlabel('Month')\n",
    "plt.ylabel('Number of Crimes')\n",
    "plt.title('Cummulative Month wise Crimes in Boston')\n",
    "plt.xticks([1,2,3,4,5,6,7,8,9,10,11,12],['Jan','Feb','Mar','Apr','May','Jun','Jul','Aug','Sep','Oct','Nov','Dec'])\n",
    "plt.show()"
   ]
  },
  {
   "cell_type": "code",
   "execution_count": null,
   "id": "93f7cf98",
   "metadata": {},
   "outputs": [],
   "source": []
  },
  {
   "cell_type": "code",
   "execution_count": null,
   "id": "82f8acbf",
   "metadata": {},
   "outputs": [],
   "source": [
    "crime_df.groupby(['MONTH','DAY_OF_WEEK']).size().unstack()"
   ]
  },
  {
   "cell_type": "code",
   "execution_count": null,
   "id": "27f9c964",
   "metadata": {},
   "outputs": [],
   "source": [
    "crime_line = crime_df.groupby(['MONTH','DAY_OF_WEEK']).size().unstack"
   ]
  },
  {
   "cell_type": "code",
   "execution_count": null,
   "id": "8cfed666",
   "metadata": {},
   "outputs": [],
   "source": []
  },
  {
   "cell_type": "markdown",
   "id": "d1a53210",
   "metadata": {},
   "source": [
    "References\n",
    "- [Time series with Matplotlib](https://www.python-graph-gallery.com/basic-time-series-with-matplotlib)"
   ]
  },
  {
   "cell_type": "code",
   "execution_count": null,
   "id": "eb425a0a",
   "metadata": {},
   "outputs": [],
   "source": []
  }
 ],
 "metadata": {
  "kernelspec": {
   "display_name": "Python 3 (ipykernel)",
   "language": "python",
   "name": "python3"
  },
  "language_info": {
   "codemirror_mode": {
    "name": "ipython",
    "version": 3
   },
   "file_extension": ".py",
   "mimetype": "text/x-python",
   "name": "python",
   "nbconvert_exporter": "python",
   "pygments_lexer": "ipython3",
   "version": "3.10.4"
  }
 },
 "nbformat": 4,
 "nbformat_minor": 5
}
