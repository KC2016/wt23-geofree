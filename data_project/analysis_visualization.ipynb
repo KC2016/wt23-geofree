{
 "cells": [
  {
   "attachments": {},
   "cell_type": "markdown",
   "id": "8ac37dd3",
   "metadata": {},
   "source": [
    "# Data Visualization\n",
    "Data from Ordnungsamt"
   ]
  },
  {
   "attachments": {},
   "cell_type": "markdown",
   "id": "08aa4002",
   "metadata": {},
   "source": [
    "### Content\n",
    "1. Data Visualization \n",
    "2. Data Analysis"
   ]
  },
  {
   "cell_type": "markdown",
   "id": "0abdb576",
   "metadata": {},
   "source": [
    "### Hypothesis\n",
    "\n",
    "- A new item doesn’t stay on streets more than one day\n",
    "-  Are Kreusberg and Neukölln the neighbourhood were more items are thrown away?\n",
    "- Most of the items thrown away are in bad condition (probably not possible to find)\n",
    "- Most of the items are throws away early in the morning, during weekends."
   ]
  },
  {
   "cell_type": "code",
   "execution_count": null,
   "id": "7d46b009",
   "metadata": {},
   "outputs": [],
   "source": []
  }
 ],
 "metadata": {
  "kernelspec": {
   "display_name": "Python 3 (ipykernel)",
   "language": "python",
   "name": "python3"
  },
  "language_info": {
   "codemirror_mode": {
    "name": "ipython",
    "version": 3
   },
   "file_extension": ".py",
   "mimetype": "text/x-python",
   "name": "python",
   "nbconvert_exporter": "python",
   "pygments_lexer": "ipython3",
   "version": "3.10.4"
  }
 },
 "nbformat": 4,
 "nbformat_minor": 5
}
